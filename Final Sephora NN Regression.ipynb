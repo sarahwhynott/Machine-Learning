{
 "cells": [
  {
   "cell_type": "markdown",
   "id": "1fdd44f9",
   "metadata": {
    "id": "1XanzuBrtjqV"
   },
   "source": [
    "## <font color=purple>Import needed modules</font>"
   ]
  },
  {
   "cell_type": "code",
   "execution_count": 1,
   "id": "614aada6",
   "metadata": {
    "id": "c5I27jXvtjqW"
   },
   "outputs": [],
   "source": [
    "!pip install tensorflow -q     \n",
    "!pip install -q -U keras-tuner "
   ]
  },
  {
   "cell_type": "code",
   "execution_count": 2,
   "id": "7931c202",
   "metadata": {
    "id": "IKU9CW35tjqa"
   },
   "outputs": [],
   "source": [
    "#general libraries needed\n",
    "import pandas as pd\n",
    "import matplotlib.pyplot as plt\n",
    "import numpy as np\n",
    "\n",
    "#TensorFlow requirements\n",
    "import tensorflow as tf\n",
    "from tensorflow import keras\n",
    "import keras_tuner as kt\n",
    "\n",
    "#scikit learn imports\n",
    "from sklearn.impute import SimpleImputer\n",
    "from sklearn.preprocessing import OneHotEncoder, StandardScaler, MinMaxScaler\n",
    "from sklearn.compose import ColumnTransformer\n",
    "from sklearn.pipeline import Pipeline\n",
    "from sklearn.metrics import mean_squared_error, mean_absolute_error\n",
    "from sklearn.model_selection import train_test_split"
   ]
  },
  {
   "cell_type": "markdown",
   "id": "b0882a37",
   "metadata": {
    "id": "T3-sjRPRtjqd"
   },
   "source": [
    "## <font color=purple>Function Definitions"
   ]
  },
  {
   "cell_type": "code",
   "execution_count": 3,
   "id": "f883861f",
   "metadata": {
    "id": "XXQIs4J_tjqe"
   },
   "outputs": [],
   "source": [
    "#function to verify the existence of a file in the current working directory and download it if not\n",
    "import os,urllib, urllib.request, sys, tarfile\n",
    "def downloadDataResource(file, sourcePath, compressed=None):\n",
    "    if not os.path.isfile(file):\n",
    "        try:\n",
    "            urllib.request.urlretrieve(sourcePath+(compressed if compressed else file),(compressed if compressed else file))\n",
    "            print(\"Downloaded\", (compressed if compressed else file) )\n",
    "            if compressed:\n",
    "                ucomp = tarfile.open(compressed)\n",
    "                ucomp.extractall()\n",
    "                ucomp.close()\n",
    "                print(\"File uncompressed.\")\n",
    "        except:\n",
    "            print(\"ERROR: File\", (compressed if compressed else file), \"not found. Data source missing.\")\n",
    "    else:\n",
    "        print(\"Data resource\", file, \"already downloaded.\")"
   ]
  },
  {
   "cell_type": "code",
   "execution_count": 4,
   "id": "483cc9c4",
   "metadata": {
    "id": "gvgLw3cwtjqg"
   },
   "outputs": [],
   "source": [
    "#function provided that plots the learning curve for neural networks\n",
    "def nn_plot_learning_curve( history ):\n",
    "    pd.DataFrame(history.history).plot(figsize=(8, 5))\n",
    "    plt.grid(True)\n",
    "    ymin, ymax = [], []\n",
    "    for x in history.history.keys():\n",
    "        ymax.append( max(history.history[x]))\n",
    "        ymin.append( min(history.history[x]))\n",
    "    plt.gca().set_ylim(min(ymin)*.95, max(ymax)*1.05)\n",
    "    plt.xlabel(\"EPOCHS\")\n",
    "    plt.show()"
   ]
  },
  {
   "cell_type": "markdown",
   "id": "f8ec3b90",
   "metadata": {
    "id": "15mhwrFVtjqh"
   },
   "source": [
    "## <font color=purple>Source Data"
   ]
  },
  {
   "cell_type": "code",
   "execution_count": 5,
   "id": "ffec54e3",
   "metadata": {},
   "outputs": [
    {
     "name": "stdout",
     "output_type": "stream",
     "text": [
      "Data resource sephora_website_dataset.csv already downloaded.\n",
      "Data resource product_info.csv already downloaded.\n"
     ]
    }
   ],
   "source": [
    "#download data files if not currently downloaded into the current working directory\n",
    "path = \"https://raw.githubusercontent.com/sarahwhynott/Machine-Learning/main/\"\n",
    "filename = \"sephora_website_dataset.csv\"\n",
    "\n",
    "\n",
    "path2 = \"https://raw.githubusercontent.com/sarahwhynott/Machine-Learning/main/\"\n",
    "filename2 = \"product_info.csv\"\n",
    "\n",
    "\n",
    "downloadDataResource(filename, path)\n",
    "downloadDataResource(filename2, path2)"
   ]
  },
  {
   "cell_type": "code",
   "execution_count": 6,
   "id": "43701c03",
   "metadata": {},
   "outputs": [],
   "source": [
    "#create a dataframe with the data from the CSV file\n",
    "df = pd.read_csv(filename)\n",
    "df2 = pd.read_csv(filename2)"
   ]
  },
  {
   "cell_type": "markdown",
   "id": "b7c263f1",
   "metadata": {},
   "source": [
    "## <font color=purple>Source Data"
   ]
  },
  {
   "cell_type": "code",
   "execution_count": 7,
   "id": "3f0eb38e",
   "metadata": {},
   "outputs": [
    {
     "name": "stdout",
     "output_type": "stream",
     "text": [
      "Data resource sephora_website_dataset.csv already downloaded.\n",
      "Data resource product_info.csv already downloaded.\n"
     ]
    }
   ],
   "source": [
    "#download data files if not currently downloaded into the current working directory\n",
    "path = \"https://raw.githubusercontent.com/sarahwhynott/Machine-Learning/main/\"\n",
    "filename = \"sephora_website_dataset.csv\"\n",
    "\n",
    "\n",
    "path2 = \"https://raw.githubusercontent.com/sarahwhynott/Machine-Learning/main/\"\n",
    "filename2 = \"product_info.csv\"\n",
    "\n",
    "\n",
    "downloadDataResource(filename, path)\n",
    "downloadDataResource(filename2, path2)"
   ]
  },
  {
   "cell_type": "code",
   "execution_count": 8,
   "id": "c542dbd2",
   "metadata": {},
   "outputs": [],
   "source": [
    "#create a dataframe with the data from the CSV file\n",
    "df = pd.read_csv(filename)\n",
    "df2 = pd.read_csv(filename2)"
   ]
  },
  {
   "cell_type": "code",
   "execution_count": null,
   "id": "a1710782",
   "metadata": {},
   "outputs": [],
   "source": []
  },
  {
   "cell_type": "markdown",
   "id": "aae0dc47",
   "metadata": {},
   "source": [
    "## <font color=purple>Transform Data"
   ]
  },
  {
   "cell_type": "code",
   "execution_count": 9,
   "id": "0b5ee6cd",
   "metadata": {
    "scrolled": true
   },
   "outputs": [
    {
     "name": "stdout",
     "output_type": "stream",
     "text": [
      "<class 'pandas.core.frame.DataFrame'>\n",
      "RangeIndex: 9168 entries, 0 to 9167\n",
      "Data columns (total 21 columns):\n",
      " #   Column                  Non-Null Count  Dtype  \n",
      "---  ------                  --------------  -----  \n",
      " 0   id                      9168 non-null   int64  \n",
      " 1   brand                   9168 non-null   object \n",
      " 2   category                9168 non-null   object \n",
      " 3   name                    9168 non-null   object \n",
      " 4   size                    9168 non-null   object \n",
      " 5   rating                  9168 non-null   float64\n",
      " 6   number_of_reviews       9168 non-null   int64  \n",
      " 7   love                    9168 non-null   int64  \n",
      " 8   price                   9168 non-null   float64\n",
      " 9   value_price             9168 non-null   float64\n",
      " 10  URL                     9168 non-null   object \n",
      " 11  MarketingFlags          9168 non-null   bool   \n",
      " 12  MarketingFlags_content  9168 non-null   object \n",
      " 13  options                 9168 non-null   object \n",
      " 14  details                 9168 non-null   object \n",
      " 15  how_to_use              9168 non-null   object \n",
      " 16  ingredients             9168 non-null   object \n",
      " 17  online_only             9168 non-null   int64  \n",
      " 18  exclusive               9168 non-null   int64  \n",
      " 19  limited_edition         9168 non-null   int64  \n",
      " 20  limited_time_offer      9168 non-null   int64  \n",
      "dtypes: bool(1), float64(3), int64(7), object(10)\n",
      "memory usage: 1.4+ MB\n"
     ]
    }
   ],
   "source": [
    "df.info()"
   ]
  },
  {
   "cell_type": "code",
   "execution_count": 10,
   "id": "0527d4e9",
   "metadata": {},
   "outputs": [
    {
     "name": "stdout",
     "output_type": "stream",
     "text": [
      "<class 'pandas.core.frame.DataFrame'>\n",
      "RangeIndex: 8494 entries, 0 to 8493\n",
      "Data columns (total 27 columns):\n",
      " #   Column              Non-Null Count  Dtype  \n",
      "---  ------              --------------  -----  \n",
      " 0   product_id          8494 non-null   object \n",
      " 1   product_name        8494 non-null   object \n",
      " 2   brand_id            8494 non-null   int64  \n",
      " 3   brand_name          8494 non-null   object \n",
      " 4   loves_count         8494 non-null   int64  \n",
      " 5   rating              8216 non-null   float64\n",
      " 6   reviews             8216 non-null   float64\n",
      " 7   size                6863 non-null   object \n",
      " 8   variation_type      7050 non-null   object \n",
      " 9   variation_value     6896 non-null   object \n",
      " 10  variation_desc      1250 non-null   object \n",
      " 11  ingredients         7549 non-null   object \n",
      " 12  price_usd           8494 non-null   float64\n",
      " 13  value_price_usd     451 non-null    float64\n",
      " 14  sale_price_usd      270 non-null    float64\n",
      " 15  limited_edition     8494 non-null   int64  \n",
      " 16  new                 8494 non-null   int64  \n",
      " 17  online_only         8494 non-null   int64  \n",
      " 18  out_of_stock        8494 non-null   int64  \n",
      " 19  sephora_exclusive   8494 non-null   int64  \n",
      " 20  highlights          6287 non-null   object \n",
      " 21  primary_category    8494 non-null   object \n",
      " 22  secondary_category  8486 non-null   object \n",
      " 23  tertiary_category   7504 non-null   object \n",
      " 24  child_count         8494 non-null   int64  \n",
      " 25  child_max_price     2754 non-null   float64\n",
      " 26  child_min_price     2754 non-null   float64\n",
      "dtypes: float64(7), int64(8), object(12)\n",
      "memory usage: 1.7+ MB\n"
     ]
    }
   ],
   "source": [
    "df2.info()"
   ]
  },
  {
   "cell_type": "code",
   "execution_count": 11,
   "id": "246cbe70",
   "metadata": {},
   "outputs": [],
   "source": [
    "df2.rename(columns = {'product_name':'name'}, inplace = True)\n",
    "#df2.rename(columns = {'rating':'2023ratings'}, inplace = True)"
   ]
  },
  {
   "cell_type": "code",
   "execution_count": 12,
   "id": "0a21f81f",
   "metadata": {},
   "outputs": [],
   "source": [
    "df = pd.merge(df,df2[['name',\"secondary_category\"]],on='name', how='left')"
   ]
  },
  {
   "cell_type": "code",
   "execution_count": 13,
   "id": "b1418b08",
   "metadata": {
    "scrolled": true
   },
   "outputs": [
    {
     "data": {
      "text/plain": [
       "Mini     665\n",
       "&        629\n",
       "Cream    530\n",
       "Set      464\n",
       "Lip      404\n",
       "Mask     402\n",
       "de       400\n",
       "Eau      400\n",
       "Brush    393\n",
       "Oil      387\n",
       "Name: name, dtype: int64"
      ]
     },
     "execution_count": 13,
     "metadata": {},
     "output_type": "execute_result"
    }
   ],
   "source": [
    "df.name.str.split().explode().value_counts().head(10)"
   ]
  },
  {
   "cell_type": "code",
   "execution_count": 14,
   "id": "92593bb2",
   "metadata": {},
   "outputs": [],
   "source": [
    "df[\"mini\"] = [1 if \"Mini\" in x else 0 for x in df[\"name\"]]\n",
    "df[\"cream\"] = [1 if \"Cream\" in x else 0 for x in df[\"name\"]]\n",
    "df[\"set\"] = [1 if \"Set\" in x else 0 for x in df[\"name\"]]\n",
    "df[\"mask\"] = [1 if \"Mask\" in x else 0 for x in df[\"name\"]]\n",
    "df[\"eau\"] = [1 if \"Eau\" in x else 0 for x in df[\"name\"]]\n",
    "df[\"lip\"] = [1 if \"Lip\" in x else 0 for x in df[\"name\"]]\n",
    "df[\"brush\"] = [1 if \"Brush\" in x else 0 for x in df[\"name\"]]\n",
    "df[\"oil\"] = [1 if \"Oil\" in x else 0 for x in df[\"name\"]]"
   ]
  },
  {
   "cell_type": "code",
   "execution_count": 15,
   "id": "7bd65a7e",
   "metadata": {
    "scrolled": true
   },
   "outputs": [
    {
     "data": {
      "text/plain": [
       "Extract-         17337\n",
       "the              17179\n",
       "that             14600\n",
       "of               14080\n",
       "and              13214\n",
       "Oil-             12294\n",
       "Sodium           11416\n",
       "(Ci              11147\n",
       "-                10386\n",
       "to               10238\n",
       "Glycol-           7869\n",
       "Acid-             7759\n",
       "Seed              7295\n",
       "or                7005\n",
       "are               6973\n",
       "is                6933\n",
       "methacrylate-     6591\n",
       "Ci                5710\n",
       "be                5522\n",
       "products          5429\n",
       "Name: ingredients, dtype: int64"
      ]
     },
     "execution_count": 15,
     "metadata": {},
     "output_type": "execute_result"
    }
   ],
   "source": [
    "df.ingredients.str.split().explode().value_counts().head(20)"
   ]
  },
  {
   "cell_type": "code",
   "execution_count": 16,
   "id": "af8af279",
   "metadata": {},
   "outputs": [],
   "source": [
    "df[\"extract\"] = [1 if \"Extract-\" in x else 0 for x in df[\"ingredients\"]]\n",
    "df[\"oil\"] = [1 if \"Oil- \" in x else 0 for x in df[\"ingredients\"]]\n",
    "df[\"sodium\"] = [1 if \"Sodium\" in x else 0 for x in df[\"ingredients\"]]\n",
    "df[\"glycol\"] = [1 if \"Glycol-\" in x else 0 for x in df[\"ingredients\"]]\n",
    "df[\"acid\"] = [1 if \"Acid-\" in x else 0 for x in df[\"ingredients\"]]\n",
    "df[\"seed\"] = [1 if \"Seed\" in x else 0 for x in df[\"ingredients\"]]\n",
    "df[\"metha\"] = [1 if \"methacrylate- \" in x else 0 for x in df[\"ingredients\"]]"
   ]
  },
  {
   "cell_type": "code",
   "execution_count": 17,
   "id": "b4ef8e4e",
   "metadata": {},
   "outputs": [],
   "source": [
    "toPredict = df.loc[(df['name'] == 'Green Clean Makeup Removing Cleansing Balm') \n",
    "                   | (df['name'] == 'Glowscreen Sunscreen SPF 40')\n",
    "                  | (df['name'] == 'Wisteria & Lavender Cologne')]"
   ]
  },
  {
   "cell_type": "code",
   "execution_count": 18,
   "id": "bca971a5",
   "metadata": {},
   "outputs": [],
   "source": [
    "df = df[df.name != 'Green Clean Makeup Removing Cleansing Balm']\n",
    "df = df[df.name != 'Glowscreen Sunscreen SPF 40']\n",
    "df = df[df.name != 'Wisteria & Lavender Cologne']"
   ]
  },
  {
   "cell_type": "code",
   "execution_count": 19,
   "id": "d78bcdd5",
   "metadata": {},
   "outputs": [],
   "source": [
    "df = df.drop(columns = [\"id\",\"name\",\"size\",\"category\",\"secondary_category\",\"brand\",\"value_price\",\"URL\",\"MarketingFlags\",\"MarketingFlags_content\",\"options\",\"details\",\"how_to_use\",\"ingredients\"])"
   ]
  },
  {
   "cell_type": "code",
   "execution_count": 20,
   "id": "3b9cf992",
   "metadata": {},
   "outputs": [],
   "source": [
    "toPredict=toPredict.drop(columns=[\"id\",\"name\",\"size\",\"category\",\"secondary_category\",\"brand\",\"value_price\",\"URL\",\"MarketingFlags\",\"MarketingFlags_content\",\"options\",\"details\",\"how_to_use\",\"ingredients\"])"
   ]
  },
  {
   "cell_type": "code",
   "execution_count": 21,
   "id": "9819db5b",
   "metadata": {},
   "outputs": [
    {
     "name": "stdout",
     "output_type": "stream",
     "text": [
      "<class 'pandas.core.frame.DataFrame'>\n",
      "Int64Index: 9229 entries, 0 to 9231\n",
      "Data columns (total 22 columns):\n",
      " #   Column              Non-Null Count  Dtype  \n",
      "---  ------              --------------  -----  \n",
      " 0   rating              9229 non-null   float64\n",
      " 1   number_of_reviews   9229 non-null   int64  \n",
      " 2   love                9229 non-null   int64  \n",
      " 3   price               9229 non-null   float64\n",
      " 4   online_only         9229 non-null   int64  \n",
      " 5   exclusive           9229 non-null   int64  \n",
      " 6   limited_edition     9229 non-null   int64  \n",
      " 7   limited_time_offer  9229 non-null   int64  \n",
      " 8   mini                9229 non-null   int64  \n",
      " 9   cream               9229 non-null   int64  \n",
      " 10  set                 9229 non-null   int64  \n",
      " 11  mask                9229 non-null   int64  \n",
      " 12  eau                 9229 non-null   int64  \n",
      " 13  lip                 9229 non-null   int64  \n",
      " 14  brush               9229 non-null   int64  \n",
      " 15  oil                 9229 non-null   int64  \n",
      " 16  extract             9229 non-null   int64  \n",
      " 17  sodium              9229 non-null   int64  \n",
      " 18  glycol              9229 non-null   int64  \n",
      " 19  acid                9229 non-null   int64  \n",
      " 20  seed                9229 non-null   int64  \n",
      " 21  metha               9229 non-null   int64  \n",
      "dtypes: float64(2), int64(20)\n",
      "memory usage: 1.6 MB\n"
     ]
    }
   ],
   "source": [
    "df.info()"
   ]
  },
  {
   "cell_type": "code",
   "execution_count": 22,
   "id": "b50fbe1d",
   "metadata": {},
   "outputs": [
    {
     "data": {
      "text/html": [
       "<div>\n",
       "<style scoped>\n",
       "    .dataframe tbody tr th:only-of-type {\n",
       "        vertical-align: middle;\n",
       "    }\n",
       "\n",
       "    .dataframe tbody tr th {\n",
       "        vertical-align: top;\n",
       "    }\n",
       "\n",
       "    .dataframe thead th {\n",
       "        text-align: right;\n",
       "    }\n",
       "</style>\n",
       "<table border=\"1\" class=\"dataframe\">\n",
       "  <thead>\n",
       "    <tr style=\"text-align: right;\">\n",
       "      <th></th>\n",
       "      <th>rating</th>\n",
       "      <th>number_of_reviews</th>\n",
       "      <th>love</th>\n",
       "      <th>price</th>\n",
       "      <th>online_only</th>\n",
       "      <th>exclusive</th>\n",
       "      <th>limited_edition</th>\n",
       "      <th>limited_time_offer</th>\n",
       "      <th>mini</th>\n",
       "      <th>cream</th>\n",
       "      <th>...</th>\n",
       "      <th>eau</th>\n",
       "      <th>lip</th>\n",
       "      <th>brush</th>\n",
       "      <th>oil</th>\n",
       "      <th>extract</th>\n",
       "      <th>sodium</th>\n",
       "      <th>glycol</th>\n",
       "      <th>acid</th>\n",
       "      <th>seed</th>\n",
       "      <th>metha</th>\n",
       "    </tr>\n",
       "  </thead>\n",
       "  <tbody>\n",
       "    <tr>\n",
       "      <th>0</th>\n",
       "      <td>4.0</td>\n",
       "      <td>4</td>\n",
       "      <td>3002</td>\n",
       "      <td>66.0</td>\n",
       "      <td>1</td>\n",
       "      <td>0</td>\n",
       "      <td>0</td>\n",
       "      <td>0</td>\n",
       "      <td>0</td>\n",
       "      <td>0</td>\n",
       "      <td>...</td>\n",
       "      <td>0</td>\n",
       "      <td>0</td>\n",
       "      <td>0</td>\n",
       "      <td>0</td>\n",
       "      <td>0</td>\n",
       "      <td>0</td>\n",
       "      <td>0</td>\n",
       "      <td>0</td>\n",
       "      <td>0</td>\n",
       "      <td>0</td>\n",
       "    </tr>\n",
       "    <tr>\n",
       "      <th>1</th>\n",
       "      <td>4.5</td>\n",
       "      <td>76</td>\n",
       "      <td>2700</td>\n",
       "      <td>66.0</td>\n",
       "      <td>1</td>\n",
       "      <td>0</td>\n",
       "      <td>0</td>\n",
       "      <td>0</td>\n",
       "      <td>0</td>\n",
       "      <td>0</td>\n",
       "      <td>...</td>\n",
       "      <td>0</td>\n",
       "      <td>0</td>\n",
       "      <td>0</td>\n",
       "      <td>0</td>\n",
       "      <td>0</td>\n",
       "      <td>0</td>\n",
       "      <td>0</td>\n",
       "      <td>0</td>\n",
       "      <td>0</td>\n",
       "      <td>0</td>\n",
       "    </tr>\n",
       "    <tr>\n",
       "      <th>2</th>\n",
       "      <td>4.5</td>\n",
       "      <td>26</td>\n",
       "      <td>2600</td>\n",
       "      <td>180.0</td>\n",
       "      <td>1</td>\n",
       "      <td>0</td>\n",
       "      <td>0</td>\n",
       "      <td>0</td>\n",
       "      <td>0</td>\n",
       "      <td>0</td>\n",
       "      <td>...</td>\n",
       "      <td>0</td>\n",
       "      <td>0</td>\n",
       "      <td>0</td>\n",
       "      <td>0</td>\n",
       "      <td>0</td>\n",
       "      <td>0</td>\n",
       "      <td>0</td>\n",
       "      <td>0</td>\n",
       "      <td>0</td>\n",
       "      <td>0</td>\n",
       "    </tr>\n",
       "    <tr>\n",
       "      <th>3</th>\n",
       "      <td>4.5</td>\n",
       "      <td>23</td>\n",
       "      <td>2900</td>\n",
       "      <td>120.0</td>\n",
       "      <td>1</td>\n",
       "      <td>0</td>\n",
       "      <td>0</td>\n",
       "      <td>0</td>\n",
       "      <td>0</td>\n",
       "      <td>0</td>\n",
       "      <td>...</td>\n",
       "      <td>0</td>\n",
       "      <td>0</td>\n",
       "      <td>0</td>\n",
       "      <td>0</td>\n",
       "      <td>0</td>\n",
       "      <td>0</td>\n",
       "      <td>0</td>\n",
       "      <td>0</td>\n",
       "      <td>0</td>\n",
       "      <td>0</td>\n",
       "    </tr>\n",
       "    <tr>\n",
       "      <th>4</th>\n",
       "      <td>3.5</td>\n",
       "      <td>2</td>\n",
       "      <td>943</td>\n",
       "      <td>72.0</td>\n",
       "      <td>1</td>\n",
       "      <td>0</td>\n",
       "      <td>0</td>\n",
       "      <td>0</td>\n",
       "      <td>1</td>\n",
       "      <td>0</td>\n",
       "      <td>...</td>\n",
       "      <td>0</td>\n",
       "      <td>0</td>\n",
       "      <td>0</td>\n",
       "      <td>0</td>\n",
       "      <td>1</td>\n",
       "      <td>0</td>\n",
       "      <td>0</td>\n",
       "      <td>0</td>\n",
       "      <td>0</td>\n",
       "      <td>0</td>\n",
       "    </tr>\n",
       "  </tbody>\n",
       "</table>\n",
       "<p>5 rows × 22 columns</p>\n",
       "</div>"
      ],
      "text/plain": [
       "   rating  number_of_reviews  love  price  online_only  exclusive  \\\n",
       "0     4.0                  4  3002   66.0            1          0   \n",
       "1     4.5                 76  2700   66.0            1          0   \n",
       "2     4.5                 26  2600  180.0            1          0   \n",
       "3     4.5                 23  2900  120.0            1          0   \n",
       "4     3.5                  2   943   72.0            1          0   \n",
       "\n",
       "   limited_edition  limited_time_offer  mini  cream  ...  eau  lip  brush  \\\n",
       "0                0                   0     0      0  ...    0    0      0   \n",
       "1                0                   0     0      0  ...    0    0      0   \n",
       "2                0                   0     0      0  ...    0    0      0   \n",
       "3                0                   0     0      0  ...    0    0      0   \n",
       "4                0                   0     1      0  ...    0    0      0   \n",
       "\n",
       "   oil  extract  sodium  glycol  acid  seed  metha  \n",
       "0    0        0       0       0     0     0      0  \n",
       "1    0        0       0       0     0     0      0  \n",
       "2    0        0       0       0     0     0      0  \n",
       "3    0        0       0       0     0     0      0  \n",
       "4    0        1       0       0     0     0      0  \n",
       "\n",
       "[5 rows x 22 columns]"
      ]
     },
     "execution_count": 22,
     "metadata": {},
     "output_type": "execute_result"
    }
   ],
   "source": [
    "df.head()"
   ]
  },
  {
   "cell_type": "markdown",
   "id": "c2bbdecc",
   "metadata": {
    "id": "r8he63Xctjrj",
    "tags": []
   },
   "source": [
    "## <font color=purple>Neural Network - Regression"
   ]
  },
  {
   "cell_type": "markdown",
   "id": "679835b9",
   "metadata": {
    "id": "Dg8hkafstjrk"
   },
   "source": [
    "### Split data set"
   ]
  },
  {
   "cell_type": "code",
   "execution_count": 23,
   "id": "5dc06492",
   "metadata": {
    "colab": {
     "base_uri": "https://localhost:8080/"
    },
    "id": "AOjzER0htjrk",
    "outputId": "44def3a2-f085-4506-cc15-82c760337985"
   },
   "outputs": [
    {
     "data": {
      "text/plain": [
       "((7383, 21), (7383,), (1846, 21), (1846,))"
      ]
     },
     "execution_count": 23,
     "metadata": {},
     "output_type": "execute_result"
    }
   ],
   "source": [
    "X_train, X_test, y_train, y_test = train_test_split(\n",
    "    df.drop(columns=['price']), \n",
    "    df.price, \n",
    "    test_size=.2, \n",
    "    random_state=32\n",
    ")\n",
    "\n",
    "X_train.shape, y_train.shape, X_test.shape, y_test.shape"
   ]
  },
  {
   "cell_type": "markdown",
   "id": "44c111ce",
   "metadata": {},
   "source": [
    "### Prepare Data"
   ]
  },
  {
   "cell_type": "code",
   "execution_count": 24,
   "id": "82be6f37",
   "metadata": {},
   "outputs": [],
   "source": [
    "cat_attribs = []#[\"category\",\"secondary_category\"]\n",
    "\n",
    "#set the numerical attributes\n",
    "num_attribs = list( X_train.drop(cat_attribs,axis=1) )\n",
    "\n",
    "num_pipeline = Pipeline( [\n",
    " ('imputer', SimpleImputer(strategy=\"median\")), #because no missing values, not used\n",
    " ('std_scaler', StandardScaler()),   \n",
    "])\n",
    "\n",
    "#define the column transformation process for the data set\n",
    "full_pipeline = ColumnTransformer( [\n",
    "    ('num', num_pipeline, num_attribs),\n",
    "    ('cat', OneHotEncoder(sparse = False), cat_attribs)      #because no categorical attributes, not used \n",
    "])"
   ]
  },
  {
   "cell_type": "code",
   "execution_count": 25,
   "id": "b55358b4",
   "metadata": {},
   "outputs": [
    {
     "data": {
      "text/plain": [
       "ColumnTransformer(transformers=[('num',\n",
       "                                 Pipeline(steps=[('imputer',\n",
       "                                                  SimpleImputer(strategy='median')),\n",
       "                                                 ('std_scaler',\n",
       "                                                  StandardScaler())]),\n",
       "                                 ['rating', 'number_of_reviews', 'love',\n",
       "                                  'online_only', 'exclusive', 'limited_edition',\n",
       "                                  'limited_time_offer', 'mini', 'cream', 'set',\n",
       "                                  'mask', 'eau', 'lip', 'brush', 'oil',\n",
       "                                  'extract', 'sodium', 'glycol', 'acid', 'seed',\n",
       "                                  'metha']),\n",
       "                                ('cat', OneHotEncoder(sparse=False), [])])"
      ]
     },
     "execution_count": 25,
     "metadata": {},
     "output_type": "execute_result"
    }
   ],
   "source": [
    "#diagram pipeline process (NOTE this only works because of the import and set statement at the top)\n",
    "full_pipeline"
   ]
  },
  {
   "cell_type": "code",
   "execution_count": 26,
   "id": "ceeb37a1",
   "metadata": {},
   "outputs": [
    {
     "data": {
      "text/plain": [
       "ColumnTransformer(transformers=[('num',\n",
       "                                 Pipeline(steps=[('imputer',\n",
       "                                                  SimpleImputer(strategy='median')),\n",
       "                                                 ('std_scaler',\n",
       "                                                  StandardScaler())]),\n",
       "                                 ['rating', 'number_of_reviews', 'love',\n",
       "                                  'online_only', 'exclusive', 'limited_edition',\n",
       "                                  'limited_time_offer', 'mini', 'cream', 'set',\n",
       "                                  'mask', 'eau', 'lip', 'brush', 'oil',\n",
       "                                  'extract', 'sodium', 'glycol', 'acid', 'seed',\n",
       "                                  'metha']),\n",
       "                                ('cat', OneHotEncoder(sparse=False), [])])"
      ]
     },
     "execution_count": 26,
     "metadata": {},
     "output_type": "execute_result"
    }
   ],
   "source": [
    "full_pipeline.fit(df)"
   ]
  },
  {
   "cell_type": "markdown",
   "id": "7b7cba92",
   "metadata": {
    "id": "8jhUKO4itjrl"
   },
   "source": [
    "### Prepare the data"
   ]
  },
  {
   "cell_type": "code",
   "execution_count": 27,
   "id": "926caba0",
   "metadata": {
    "colab": {
     "base_uri": "https://localhost:8080/"
    },
    "id": "5BhChVjctjrm",
    "outputId": "ee490840-369e-41ad-c12b-698f340c004e"
   },
   "outputs": [
    {
     "data": {
      "text/plain": [
       "((7383, 21), (1846, 21))"
      ]
     },
     "execution_count": 27,
     "metadata": {},
     "output_type": "execute_result"
    }
   ],
   "source": [
    "#create an array of prepared data based on the training data set and the Pipeline process defined above\n",
    "X_train = full_pipeline.fit_transform( X_train)\n",
    "X_test = full_pipeline.transform(X_test )\n",
    "\n",
    "X_train.shape, X_test.shape"
   ]
  },
  {
   "cell_type": "code",
   "execution_count": 28,
   "id": "89abf913",
   "metadata": {
    "id": "c-wJbYoqtjrm"
   },
   "outputs": [],
   "source": [
    "#scale the Y data\n",
    "yscaler = MinMaxScaler()\n",
    "y_train = yscaler.fit_transform(np.array(y_train).reshape(-1,1))\n",
    "y_test = yscaler.transform(np.array(y_test).reshape(-1,1))"
   ]
  },
  {
   "cell_type": "markdown",
   "id": "d6eeef83",
   "metadata": {
    "id": "mmp8vjVqtjrn"
   },
   "source": [
    "### Create a Baseline Prediction"
   ]
  },
  {
   "cell_type": "code",
   "execution_count": 29,
   "id": "9a2f731a",
   "metadata": {
    "colab": {
     "base_uri": "https://localhost:8080/"
    },
    "id": "UJhFBH__tjro",
    "outputId": "dd6b3b6c-066a-4158-e0e2-ec095d96fa4a"
   },
   "outputs": [
    {
     "name": "stdout",
     "output_type": "stream",
     "text": [
      "Naive ERROR: $52\n"
     ]
    }
   ],
   "source": [
    "#predcition is based on last observed value\n",
    "baseline_prediction = yscaler.inverse_transform( y_test.mean().reshape(-1,1)) \n",
    "\n",
    "#populate an array with the baseline prediction value\n",
    "predictions = np.full(shape=y_test.shape[0], fill_value = baseline_prediction)\n",
    "\n",
    "#unscale predicted values\n",
    "actual= yscaler.inverse_transform( y_test )\n",
    "\n",
    "#calculate the root mean square error between the prediction and the actual\n",
    "naive = mean_squared_error(predictions, actual, squared=False)\n",
    "print( 'Naive ERROR: ${:,.0f}'.format(naive) )"
   ]
  },
  {
   "cell_type": "markdown",
   "id": "6ca549d2",
   "metadata": {
    "id": "ppKc6E6Mtjro",
    "tags": []
   },
   "source": [
    "### Build the Neural Network, Compile & Train"
   ]
  },
  {
   "cell_type": "code",
   "execution_count": 30,
   "id": "2f3b0e24",
   "metadata": {
    "id": "7cwIkOT7tjrq",
    "tags": []
   },
   "outputs": [],
   "source": [
    "#starting by setting random seeds and restarting keras blackend session\n",
    "np.random.seed(42)\n",
    "tf.random.set_seed(42)\n",
    "\n",
    "#resets the Keras global state - helps avoid clutter from old models and layers, especially when memory is limited\n",
    "keras.backend.clear_session()"
   ]
  },
  {
   "cell_type": "code",
   "execution_count": 31,
   "id": "202c75b7",
   "metadata": {
    "id": "rSfAyK0qtjrq"
   },
   "outputs": [],
   "source": [
    "#the same steps above can be built and saved in a single command with the same results \n",
    "model = keras.models.Sequential([\n",
    "    keras.layers.Flatten(),\n",
    "    keras.layers.Dense(6, activation=\"relu\"),\n",
    "    keras.layers.Dense(4, activation=\"relu\"),\n",
    "    keras.layers.Dense(1)\n",
    "])"
   ]
  },
  {
   "cell_type": "code",
   "execution_count": 32,
   "id": "1069603b",
   "metadata": {
    "id": "Gk18NAowtjrr"
   },
   "outputs": [],
   "source": [
    "#After model is created, it needs to be compiled - this requires setting\n",
    "#the loss function to mean_squared_error\n",
    "model.compile(loss=\"mean_squared_error\",\n",
    "              optimizer=keras.optimizers.SGD(learning_rate=.01),\n",
    "              metrics=[\"RootMeanSquaredError\"]\n",
    "             )"
   ]
  },
  {
   "cell_type": "code",
   "execution_count": 33,
   "id": "3986d2c5",
   "metadata": {
    "colab": {
     "base_uri": "https://localhost:8080/"
    },
    "id": "61BUtcRmtjrs",
    "outputId": "b5329fda-3920-43f1-dee4-51f66e8efc5d",
    "scrolled": true,
    "tags": []
   },
   "outputs": [
    {
     "name": "stdout",
     "output_type": "stream",
     "text": [
      "Epoch 1/500\n",
      "185/185 [==============================] - 2s 5ms/step - loss: 0.0724 - root_mean_squared_error: 0.2691 - val_loss: 0.0291 - val_root_mean_squared_error: 0.1705\n",
      "Epoch 2/500\n",
      "185/185 [==============================] - 1s 3ms/step - loss: 0.0222 - root_mean_squared_error: 0.1490 - val_loss: 0.0191 - val_root_mean_squared_error: 0.1381\n",
      "Epoch 3/500\n",
      "185/185 [==============================] - 0s 3ms/step - loss: 0.0161 - root_mean_squared_error: 0.1267 - val_loss: 0.0158 - val_root_mean_squared_error: 0.1257\n",
      "Epoch 4/500\n",
      "185/185 [==============================] - 0s 2ms/step - loss: 0.0136 - root_mean_squared_error: 0.1165 - val_loss: 0.0142 - val_root_mean_squared_error: 0.1190\n",
      "Epoch 5/500\n",
      "185/185 [==============================] - 0s 2ms/step - loss: 0.0122 - root_mean_squared_error: 0.1104 - val_loss: 0.0132 - val_root_mean_squared_error: 0.1149\n",
      "Epoch 6/500\n",
      "185/185 [==============================] - 0s 3ms/step - loss: 0.0113 - root_mean_squared_error: 0.1064 - val_loss: 0.0126 - val_root_mean_squared_error: 0.1120\n",
      "Epoch 7/500\n",
      "185/185 [==============================] - 0s 3ms/step - loss: 0.0107 - root_mean_squared_error: 0.1035 - val_loss: 0.0121 - val_root_mean_squared_error: 0.1099\n",
      "Epoch 8/500\n",
      "185/185 [==============================] - 0s 3ms/step - loss: 0.0103 - root_mean_squared_error: 0.1014 - val_loss: 0.0117 - val_root_mean_squared_error: 0.1081\n",
      "Epoch 9/500\n",
      "185/185 [==============================] - 0s 3ms/step - loss: 0.0099 - root_mean_squared_error: 0.0997 - val_loss: 0.0114 - val_root_mean_squared_error: 0.1068\n",
      "Epoch 10/500\n",
      "185/185 [==============================] - 0s 3ms/step - loss: 0.0097 - root_mean_squared_error: 0.0983 - val_loss: 0.0112 - val_root_mean_squared_error: 0.1056\n",
      "Epoch 11/500\n",
      "185/185 [==============================] - 0s 3ms/step - loss: 0.0095 - root_mean_squared_error: 0.0973 - val_loss: 0.0110 - val_root_mean_squared_error: 0.1047\n",
      "Epoch 12/500\n",
      "185/185 [==============================] - 0s 3ms/step - loss: 0.0093 - root_mean_squared_error: 0.0964 - val_loss: 0.0108 - val_root_mean_squared_error: 0.1039\n",
      "Epoch 13/500\n",
      "185/185 [==============================] - 0s 3ms/step - loss: 0.0091 - root_mean_squared_error: 0.0956 - val_loss: 0.0107 - val_root_mean_squared_error: 0.1033\n",
      "Epoch 14/500\n",
      "185/185 [==============================] - 0s 3ms/step - loss: 0.0090 - root_mean_squared_error: 0.0950 - val_loss: 0.0106 - val_root_mean_squared_error: 0.1028\n",
      "Epoch 15/500\n",
      "185/185 [==============================] - 1s 3ms/step - loss: 0.0089 - root_mean_squared_error: 0.0944 - val_loss: 0.0105 - val_root_mean_squared_error: 0.1023\n",
      "Epoch 16/500\n",
      "185/185 [==============================] - 1s 3ms/step - loss: 0.0088 - root_mean_squared_error: 0.0940 - val_loss: 0.0104 - val_root_mean_squared_error: 0.1019\n",
      "Epoch 17/500\n",
      "185/185 [==============================] - 0s 3ms/step - loss: 0.0088 - root_mean_squared_error: 0.0936 - val_loss: 0.0103 - val_root_mean_squared_error: 0.1015\n",
      "Epoch 18/500\n",
      "185/185 [==============================] - 0s 3ms/step - loss: 0.0087 - root_mean_squared_error: 0.0933 - val_loss: 0.0102 - val_root_mean_squared_error: 0.1012\n",
      "Epoch 19/500\n",
      "185/185 [==============================] - 0s 3ms/step - loss: 0.0086 - root_mean_squared_error: 0.0930 - val_loss: 0.0102 - val_root_mean_squared_error: 0.1010\n",
      "Epoch 20/500\n",
      "185/185 [==============================] - 0s 3ms/step - loss: 0.0086 - root_mean_squared_error: 0.0927 - val_loss: 0.0102 - val_root_mean_squared_error: 0.1008\n",
      "Epoch 21/500\n",
      "185/185 [==============================] - 0s 3ms/step - loss: 0.0086 - root_mean_squared_error: 0.0925 - val_loss: 0.0101 - val_root_mean_squared_error: 0.1006\n",
      "Epoch 22/500\n",
      "185/185 [==============================] - 1s 3ms/step - loss: 0.0085 - root_mean_squared_error: 0.0923 - val_loss: 0.0101 - val_root_mean_squared_error: 0.1004\n",
      "Epoch 23/500\n",
      "185/185 [==============================] - 0s 3ms/step - loss: 0.0085 - root_mean_squared_error: 0.0921 - val_loss: 0.0100 - val_root_mean_squared_error: 0.1002\n",
      "Epoch 24/500\n",
      "185/185 [==============================] - 0s 2ms/step - loss: 0.0085 - root_mean_squared_error: 0.0919 - val_loss: 0.0100 - val_root_mean_squared_error: 0.1001\n",
      "Epoch 25/500\n",
      "185/185 [==============================] - 0s 3ms/step - loss: 0.0084 - root_mean_squared_error: 0.0918 - val_loss: 0.0100 - val_root_mean_squared_error: 0.0999\n",
      "Epoch 26/500\n",
      "185/185 [==============================] - 1s 3ms/step - loss: 0.0084 - root_mean_squared_error: 0.0916 - val_loss: 0.0100 - val_root_mean_squared_error: 0.0999\n",
      "Epoch 27/500\n",
      "185/185 [==============================] - 0s 3ms/step - loss: 0.0084 - root_mean_squared_error: 0.0915 - val_loss: 0.0100 - val_root_mean_squared_error: 0.0998\n",
      "Epoch 28/500\n",
      "185/185 [==============================] - 1s 3ms/step - loss: 0.0084 - root_mean_squared_error: 0.0914 - val_loss: 0.0099 - val_root_mean_squared_error: 0.0997\n",
      "Epoch 29/500\n",
      "185/185 [==============================] - 0s 3ms/step - loss: 0.0083 - root_mean_squared_error: 0.0913 - val_loss: 0.0099 - val_root_mean_squared_error: 0.0995\n",
      "Epoch 30/500\n",
      "185/185 [==============================] - 0s 3ms/step - loss: 0.0083 - root_mean_squared_error: 0.0912 - val_loss: 0.0099 - val_root_mean_squared_error: 0.0994\n",
      "Epoch 31/500\n",
      "185/185 [==============================] - 0s 3ms/step - loss: 0.0083 - root_mean_squared_error: 0.0911 - val_loss: 0.0099 - val_root_mean_squared_error: 0.0994\n",
      "Epoch 32/500\n",
      "185/185 [==============================] - 0s 2ms/step - loss: 0.0083 - root_mean_squared_error: 0.0910 - val_loss: 0.0098 - val_root_mean_squared_error: 0.0992\n",
      "Epoch 33/500\n",
      "185/185 [==============================] - 0s 3ms/step - loss: 0.0083 - root_mean_squared_error: 0.0910 - val_loss: 0.0098 - val_root_mean_squared_error: 0.0992\n",
      "Epoch 34/500\n",
      "185/185 [==============================] - 1s 3ms/step - loss: 0.0083 - root_mean_squared_error: 0.0909 - val_loss: 0.0098 - val_root_mean_squared_error: 0.0991\n",
      "Epoch 35/500\n",
      "185/185 [==============================] - 0s 3ms/step - loss: 0.0082 - root_mean_squared_error: 0.0908 - val_loss: 0.0098 - val_root_mean_squared_error: 0.0990\n",
      "Epoch 36/500\n",
      "185/185 [==============================] - 0s 2ms/step - loss: 0.0082 - root_mean_squared_error: 0.0907 - val_loss: 0.0098 - val_root_mean_squared_error: 0.0989\n",
      "Epoch 37/500\n",
      "185/185 [==============================] - 1s 3ms/step - loss: 0.0082 - root_mean_squared_error: 0.0907 - val_loss: 0.0098 - val_root_mean_squared_error: 0.0989\n",
      "Epoch 38/500\n",
      "185/185 [==============================] - 0s 3ms/step - loss: 0.0082 - root_mean_squared_error: 0.0906 - val_loss: 0.0098 - val_root_mean_squared_error: 0.0989\n",
      "Epoch 39/500\n",
      "185/185 [==============================] - 0s 3ms/step - loss: 0.0082 - root_mean_squared_error: 0.0906 - val_loss: 0.0098 - val_root_mean_squared_error: 0.0988\n",
      "Epoch 40/500\n",
      "185/185 [==============================] - 1s 3ms/step - loss: 0.0082 - root_mean_squared_error: 0.0905 - val_loss: 0.0098 - val_root_mean_squared_error: 0.0988\n",
      "Epoch 41/500\n",
      "185/185 [==============================] - 1s 3ms/step - loss: 0.0082 - root_mean_squared_error: 0.0905 - val_loss: 0.0097 - val_root_mean_squared_error: 0.0987\n",
      "Epoch 42/500\n",
      "185/185 [==============================] - 1s 3ms/step - loss: 0.0082 - root_mean_squared_error: 0.0904 - val_loss: 0.0097 - val_root_mean_squared_error: 0.0986\n",
      "Epoch 43/500\n",
      "185/185 [==============================] - 0s 2ms/step - loss: 0.0082 - root_mean_squared_error: 0.0904 - val_loss: 0.0097 - val_root_mean_squared_error: 0.0986\n",
      "Epoch 44/500\n",
      "185/185 [==============================] - 0s 2ms/step - loss: 0.0082 - root_mean_squared_error: 0.0903 - val_loss: 0.0097 - val_root_mean_squared_error: 0.0985\n",
      "Epoch 45/500\n",
      "185/185 [==============================] - 0s 3ms/step - loss: 0.0082 - root_mean_squared_error: 0.0903 - val_loss: 0.0097 - val_root_mean_squared_error: 0.0985\n",
      "Epoch 46/500\n",
      "185/185 [==============================] - 0s 3ms/step - loss: 0.0082 - root_mean_squared_error: 0.0903 - val_loss: 0.0097 - val_root_mean_squared_error: 0.0985\n",
      "Epoch 47/500\n",
      "185/185 [==============================] - 0s 3ms/step - loss: 0.0081 - root_mean_squared_error: 0.0902 - val_loss: 0.0097 - val_root_mean_squared_error: 0.0984\n",
      "Epoch 48/500\n",
      "185/185 [==============================] - 1s 3ms/step - loss: 0.0081 - root_mean_squared_error: 0.0902 - val_loss: 0.0097 - val_root_mean_squared_error: 0.0984\n",
      "Epoch 49/500\n",
      "185/185 [==============================] - 1s 3ms/step - loss: 0.0081 - root_mean_squared_error: 0.0902 - val_loss: 0.0097 - val_root_mean_squared_error: 0.0985\n",
      "Epoch 50/500\n",
      "185/185 [==============================] - 0s 3ms/step - loss: 0.0081 - root_mean_squared_error: 0.0902 - val_loss: 0.0097 - val_root_mean_squared_error: 0.0984\n",
      "Epoch 51/500\n",
      "185/185 [==============================] - 0s 3ms/step - loss: 0.0081 - root_mean_squared_error: 0.0901 - val_loss: 0.0097 - val_root_mean_squared_error: 0.0983\n",
      "Epoch 52/500\n",
      "185/185 [==============================] - 1s 3ms/step - loss: 0.0081 - root_mean_squared_error: 0.0901 - val_loss: 0.0097 - val_root_mean_squared_error: 0.0983\n",
      "Epoch 53/500\n",
      "185/185 [==============================] - 0s 3ms/step - loss: 0.0081 - root_mean_squared_error: 0.0901 - val_loss: 0.0097 - val_root_mean_squared_error: 0.0983\n",
      "Epoch 54/500\n",
      "185/185 [==============================] - 0s 3ms/step - loss: 0.0081 - root_mean_squared_error: 0.0901 - val_loss: 0.0097 - val_root_mean_squared_error: 0.0982\n",
      "Epoch 55/500\n",
      "185/185 [==============================] - 0s 3ms/step - loss: 0.0081 - root_mean_squared_error: 0.0901 - val_loss: 0.0096 - val_root_mean_squared_error: 0.0982\n",
      "Epoch 56/500\n",
      "185/185 [==============================] - 0s 3ms/step - loss: 0.0081 - root_mean_squared_error: 0.0900 - val_loss: 0.0096 - val_root_mean_squared_error: 0.0982\n",
      "Epoch 57/500\n",
      "185/185 [==============================] - 1s 3ms/step - loss: 0.0081 - root_mean_squared_error: 0.0900 - val_loss: 0.0096 - val_root_mean_squared_error: 0.0982\n",
      "Epoch 58/500\n",
      "185/185 [==============================] - 0s 3ms/step - loss: 0.0081 - root_mean_squared_error: 0.0900 - val_loss: 0.0096 - val_root_mean_squared_error: 0.0982\n",
      "Epoch 59/500\n",
      "185/185 [==============================] - 1s 3ms/step - loss: 0.0081 - root_mean_squared_error: 0.0900 - val_loss: 0.0096 - val_root_mean_squared_error: 0.0981\n",
      "Epoch 60/500\n",
      "185/185 [==============================] - 1s 3ms/step - loss: 0.0081 - root_mean_squared_error: 0.0900 - val_loss: 0.0096 - val_root_mean_squared_error: 0.0981\n",
      "Epoch 61/500\n",
      "185/185 [==============================] - 0s 3ms/step - loss: 0.0081 - root_mean_squared_error: 0.0900 - val_loss: 0.0096 - val_root_mean_squared_error: 0.0981\n",
      "Epoch 62/500\n",
      "185/185 [==============================] - 0s 2ms/step - loss: 0.0081 - root_mean_squared_error: 0.0899 - val_loss: 0.0096 - val_root_mean_squared_error: 0.0982\n",
      "Epoch 63/500\n",
      "185/185 [==============================] - 0s 3ms/step - loss: 0.0081 - root_mean_squared_error: 0.0899 - val_loss: 0.0096 - val_root_mean_squared_error: 0.0981\n",
      "Epoch 64/500\n",
      "185/185 [==============================] - 0s 2ms/step - loss: 0.0081 - root_mean_squared_error: 0.0899 - val_loss: 0.0096 - val_root_mean_squared_error: 0.0981\n",
      "Epoch 65/500\n",
      "185/185 [==============================] - 0s 3ms/step - loss: 0.0081 - root_mean_squared_error: 0.0899 - val_loss: 0.0096 - val_root_mean_squared_error: 0.0980\n",
      "Epoch 66/500\n",
      "185/185 [==============================] - 0s 3ms/step - loss: 0.0081 - root_mean_squared_error: 0.0899 - val_loss: 0.0096 - val_root_mean_squared_error: 0.0980\n",
      "Epoch 67/500\n",
      "185/185 [==============================] - 0s 3ms/step - loss: 0.0081 - root_mean_squared_error: 0.0899 - val_loss: 0.0096 - val_root_mean_squared_error: 0.0980\n",
      "Epoch 68/500\n",
      "185/185 [==============================] - 0s 2ms/step - loss: 0.0081 - root_mean_squared_error: 0.0899 - val_loss: 0.0096 - val_root_mean_squared_error: 0.0980\n",
      "Epoch 69/500\n",
      "185/185 [==============================] - 0s 3ms/step - loss: 0.0081 - root_mean_squared_error: 0.0899 - val_loss: 0.0096 - val_root_mean_squared_error: 0.0980\n",
      "Epoch 70/500\n",
      "185/185 [==============================] - 1s 3ms/step - loss: 0.0081 - root_mean_squared_error: 0.0899 - val_loss: 0.0096 - val_root_mean_squared_error: 0.0980\n"
     ]
    }
   ],
   "source": [
    "#fit the model and capture the details of the fit to a variable called history\n",
    "#note that validation data is dynamically allocated at 20% of the training data\n",
    "early_stopping = keras.callbacks.EarlyStopping('val_loss', patience=3)\n",
    "history = model.fit(X_train, \n",
    "                    y_train, \n",
    "                    epochs=500, \n",
    "                    validation_split=.2,\n",
    "                    callbacks=[early_stopping]\n",
    "                   )"
   ]
  },
  {
   "cell_type": "markdown",
   "id": "1b7668ea",
   "metadata": {
    "id": "WGABk0fqtjrt"
   },
   "source": [
    "### Evaluate Performance"
   ]
  },
  {
   "cell_type": "code",
   "execution_count": 34,
   "id": "06d3c464",
   "metadata": {
    "colab": {
     "base_uri": "https://localhost:8080/",
     "height": 334
    },
    "id": "6eDKVlk4tjru",
    "outputId": "558b15c7-a2ce-41b3-e601-37ff7f4202c9"
   },
   "outputs": [
    {
     "data": {
      "image/png": "[encoded data removed]",
      "text/plain": [
       "<Figure size 576x360 with 1 Axes>"
      ]
     },
     "metadata": {
      "needs_background": "light"
     },
     "output_type": "display_data"
    }
   ],
   "source": [
    "#plot the loss learning curve\n",
    "nn_plot_learning_curve(history)"
   ]
  },
  {
   "cell_type": "code",
   "execution_count": 35,
   "id": "bfc35ced",
   "metadata": {
    "colab": {
     "base_uri": "https://localhost:8080/"
    },
    "id": "aEoegnv5tjru",
    "outputId": "fcf94ad1-a16b-495f-944e-7c0cab8c206e"
   },
   "outputs": [
    {
     "name": "stdout",
     "output_type": "stream",
     "text": [
      "231/231 [==============================] - 0s 2ms/step - loss: 0.0084 - root_mean_squared_error: 0.0915\n",
      "Training RMSE: 0.0915\n"
     ]
    }
   ],
   "source": [
    "#evaluate model loss metric on the training set\n",
    "mse, rmse = model.evaluate(X_train, y_train)\n",
    "print( \"Training RMSE: {:,.4f}\".format(rmse) )"
   ]
  },
  {
   "cell_type": "code",
   "execution_count": 36,
   "id": "374d60cf",
   "metadata": {
    "colab": {
     "base_uri": "https://localhost:8080/"
    },
    "id": "OeYpaN87tjrv",
    "outputId": "3c3c3c8d-8ba3-4f43-84c7-fec094de8f21"
   },
   "outputs": [
    {
     "name": "stdout",
     "output_type": "stream",
     "text": [
      "58/58 [==============================] - 0s 2ms/step - loss: 0.0106 - root_mean_squared_error: 0.1032\n",
      "Test RMSE: 0.1032\n"
     ]
    }
   ],
   "source": [
    "#evaluate model loss metric on the Test set\n",
    "mse, rmse = model.evaluate(X_test, y_test)\n",
    "print( \"Test RMSE: {:,.4f}\".format(rmse) )"
   ]
  },
  {
   "cell_type": "code",
   "execution_count": 37,
   "id": "767590a7",
   "metadata": {
    "colab": {
     "base_uri": "https://localhost:8080/"
    },
    "id": "IAgAN-WBtjrw",
    "outputId": "97a61520-bae6-47b8-fa42-d6467c0fcc6d"
   },
   "outputs": [
    {
     "name": "stdout",
     "output_type": "stream",
     "text": [
      "231/231 [==============================] - 1s 2ms/step\n",
      "RMSE: $45.49\n"
     ]
    }
   ],
   "source": [
    "#predict the Training data set based on SCALED values\n",
    "y_pred = model.predict(X_train)\n",
    "\n",
    "#scale predicted and actuals\n",
    "pred = yscaler.inverse_transform( y_pred )\n",
    "actual = yscaler.inverse_transform(y_train)\n",
    "\n",
    "#calculate the Root Mean Squared Error using the scaled values\n",
    "rmse = mean_squared_error(pred,actual,squared=False)\n",
    "print('RMSE: ${:,.2f}'.format( rmse ) )"
   ]
  },
  {
   "cell_type": "code",
   "execution_count": 38,
   "id": "750da061",
   "metadata": {
    "colab": {
     "base_uri": "https://localhost:8080/"
    },
    "id": "JlscR9Detjrx",
    "outputId": "27aa6be1-3f02-4b50-a94a-7377aa39a6e5"
   },
   "outputs": [
    {
     "name": "stdout",
     "output_type": "stream",
     "text": [
      "58/58 [==============================] - 0s 1ms/step\n",
      "RMSE: $51.29\n"
     ]
    }
   ],
   "source": [
    "#predict the test data set based on SCALED values\n",
    "y_pred = model.predict(X_test)\n",
    "\n",
    "#scale predicted and actuals\n",
    "pred = yscaler.inverse_transform( y_pred )\n",
    "actual = yscaler.inverse_transform(y_test)\n",
    "\n",
    "#calculate the Root Mean Squared Error using the scaled values\n",
    "rmse = mean_squared_error(pred,actual,squared=False)\n",
    "print('RMSE: ${:,.2f}'.format( rmse ) )"
   ]
  },
  {
   "cell_type": "code",
   "execution_count": 39,
   "id": "b7b13da4",
   "metadata": {
    "colab": {
     "base_uri": "https://localhost:8080/"
    },
    "id": "tSAMVb1Dtjry",
    "outputId": "96211eaa-9d6f-4bad-ab68-e38a1fe3ecff"
   },
   "outputs": [
    {
     "name": "stdout",
     "output_type": "stream",
     "text": [
      "Actual $        14 --- Prediction $        48\n",
      "Actual $        54 --- Prediction $        48\n",
      "Actual $        44 --- Prediction $        48\n",
      "Actual $        28 --- Prediction $        48\n",
      "Actual $        40 --- Prediction $        48\n"
     ]
    }
   ],
   "source": [
    "#print the first 5 test cases\n",
    "for x in range(5):\n",
    "    print( \"Actual ${:10,.0f} --- Prediction ${:10,.0f}\".format( float(actual[x]), float(pred[x]) ) )"
   ]
  },
  {
   "cell_type": "markdown",
   "id": "69980e8d",
   "metadata": {
    "id": "f8zc1QYyR1YK",
    "tags": []
   },
   "source": [
    "## <font color=purple>Hyperparameter Tuning - Regression Model"
   ]
  },
  {
   "cell_type": "code",
   "execution_count": 40,
   "id": "7b103854",
   "metadata": {
    "id": "APp9ZqmAR1YK"
   },
   "outputs": [],
   "source": [
    "#reset Keras backend\n",
    "keras.backend.clear_session()\n",
    "\n",
    "#set the random seed value for this example\n",
    "np.random.seed(42)\n",
    "tf.random.set_seed(42)"
   ]
  },
  {
   "cell_type": "markdown",
   "id": "999c98d2",
   "metadata": {
    "id": "parlzfySwGgM"
   },
   "source": [
    "### Define Regression Model & Design Options (layers & hyperparameters)"
   ]
  },
  {
   "cell_type": "code",
   "execution_count": 41,
   "id": "93968f97",
   "metadata": {
    "id": "zdaoIyXHtjr1"
   },
   "outputs": [],
   "source": [
    "def reg_model_builder(hp):\n",
    "    \n",
    "    #select an optimizer and learning rate\n",
    "    hp_learning_rate = hp.Choice('learning_rate', values=[.01,.001,.0001])\n",
    "    optimizer = hp.Choice(\"optimizer\", values=[\"adam\",\"sgd\"]) \n",
    "    if optimizer == \"sgd\":\n",
    "        optimizer = tf.keras.optimizers.SGD(learning_rate=hp_learning_rate)\n",
    "    else:\n",
    "        optimizer = tf.keras.optimizers.Adam(learning_rate=hp_learning_rate)\n",
    "\n",
    "    #choose the number of neurons (i.e. the number of units)\n",
    "    hp_units = hp.Int('units', min_value=16, max_value=256, step=12)\n",
    "    \n",
    "    #choose the number of layers\n",
    "    n_hidden = hp.Int(\"n_hidden\", min_value=1, max_value=4, default=2)\n",
    "        \n",
    "    #build the model\n",
    "    model = keras.Sequential()\n",
    "    \n",
    "    #first layer\n",
    "    model.add(keras.layers.Flatten())\n",
    "\n",
    "    #hidden layers\n",
    "    for _ in range(n_hidden):\n",
    "        model.add(keras.layers.Dense(units=hp_units, activation='relu'))\n",
    "\n",
    "    #last layer\n",
    "    model.add(keras.layers.Dense(1))\n",
    "\n",
    "    #compile the model\n",
    "    model.compile(optimizer=optimizer,\n",
    "                  loss=\"mean_squared_error\", \n",
    "                  metrics=[\"RootMeanSquaredError\"])\n",
    "  \n",
    "    return model"
   ]
  },
  {
   "cell_type": "markdown",
   "id": "bf77b1e8",
   "metadata": {
    "id": "XhAG1YjyN1qn"
   },
   "source": [
    "### Create a Hyperband Tuning Object"
   ]
  },
  {
   "cell_type": "code",
   "execution_count": 42,
   "id": "1cb97085",
   "metadata": {
    "id": "3VD6jRBrtjr4"
   },
   "outputs": [],
   "source": [
    "tuner = kt.Hyperband(reg_model_builder,\n",
    "                     objective='val_loss',\n",
    "                     max_epochs=20,                   #increase for more trials (but will take longer)\n",
    "                     overwrite=True,                  #change to False and model will continue to learn from previous runs\n",
    "                     hyperband_iterations=2,\n",
    "                     seed=42,\n",
    "                     project_name=\"Games_Regression\"  #a local directory with this name will be created (houses log files)\n",
    "                     )\n"
   ]
  },
  {
   "cell_type": "code",
   "execution_count": 43,
   "id": "60909c37",
   "metadata": {
    "colab": {
     "base_uri": "https://localhost:8080/"
    },
    "id": "F8xySMvZ4Pu_",
    "outputId": "27da5f9d-51c1-4849-bf3b-d759bce33761"
   },
   "outputs": [
    {
     "name": "stdout",
     "output_type": "stream",
     "text": [
      "Trial 60 Complete [00h 00m 07s]\n",
      "val_loss: 0.009717666544020176\n",
      "\n",
      "Best val_loss So Far: 0.007506956811994314\n",
      "Total elapsed time: 00h 04m 07s\n",
      "INFO:tensorflow:Oracle triggered exit\n"
     ]
    }
   ],
   "source": [
    "# Search for the best performing models\n",
    "early_stopping = keras.callbacks.EarlyStopping('val_loss', patience=3)\n",
    "tuner.search(X_train, y_train, \n",
    "             epochs=500, \n",
    "             validation_split=0.2, \n",
    "             callbacks=[early_stopping]\n",
    "             )"
   ]
  },
  {
   "cell_type": "code",
   "execution_count": 44,
   "id": "b15fd570",
   "metadata": {
    "colab": {
     "base_uri": "https://localhost:8080/"
    },
    "id": "LBpiVfJhtjr6",
    "outputId": "33e6b39a-a271-45fc-abe2-0444efebdb9b"
   },
   "outputs": [
    {
     "data": {
      "text/plain": [
       "{'learning_rate': 0.001,\n",
       " 'optimizer': 'adam',\n",
       " 'units': 244,\n",
       " 'n_hidden': 3,\n",
       " 'tuner/epochs': 20,\n",
       " 'tuner/initial_epoch': 0,\n",
       " 'tuner/bracket': 0,\n",
       " 'tuner/round': 0}"
      ]
     },
     "execution_count": 44,
     "metadata": {},
     "output_type": "execute_result"
    }
   ],
   "source": [
    "# Get the optimal hyperparameters\n",
    "best_params=tuner.get_best_hyperparameters(num_trials=1)[0]\n",
    "best_params.values"
   ]
  },
  {
   "cell_type": "code",
   "execution_count": 45,
   "id": "43d7df2a",
   "metadata": {
    "id": "X6mqta0otjr7"
   },
   "outputs": [],
   "source": [
    "#build the best model based on these parameters\n",
    "best_model = reg_model_builder(best_params)\n"
   ]
  },
  {
   "cell_type": "code",
   "execution_count": 46,
   "id": "9390a0f9",
   "metadata": {
    "colab": {
     "base_uri": "https://localhost:8080/"
    },
    "id": "zTVShmy1tjr7",
    "outputId": "550c2fb5-5e25-46f2-c4ae-05d2b6878e9e"
   },
   "outputs": [
    {
     "name": "stdout",
     "output_type": "stream",
     "text": [
      "Epoch 1/500\n",
      "185/185 [==============================] - 1s 2ms/step - loss: 0.0315 - root_mean_squared_error: 0.1775 - val_loss: 0.0085 - val_root_mean_squared_error: 0.0922\n",
      "Epoch 2/500\n",
      "185/185 [==============================] - 0s 2ms/step - loss: 0.0312 - root_mean_squared_error: 0.1766 - val_loss: 0.0084 - val_root_mean_squared_error: 0.0917\n",
      "Epoch 3/500\n",
      "185/185 [==============================] - 0s 2ms/step - loss: 0.0105 - root_mean_squared_error: 0.1027 - val_loss: 0.0080 - val_root_mean_squared_error: 0.0895\n",
      "Epoch 4/500\n",
      "185/185 [==============================] - 0s 2ms/step - loss: 0.0066 - root_mean_squared_error: 0.0813 - val_loss: 0.0078 - val_root_mean_squared_error: 0.0881\n",
      "Epoch 5/500\n",
      "185/185 [==============================] - 0s 2ms/step - loss: 0.0064 - root_mean_squared_error: 0.0799 - val_loss: 0.0080 - val_root_mean_squared_error: 0.0894\n",
      "Epoch 6/500\n",
      "185/185 [==============================] - 0s 2ms/step - loss: 0.0063 - root_mean_squared_error: 0.0791 - val_loss: 0.0078 - val_root_mean_squared_error: 0.0881\n",
      "Epoch 7/500\n",
      "185/185 [==============================] - 0s 2ms/step - loss: 0.0062 - root_mean_squared_error: 0.0788 - val_loss: 0.0076 - val_root_mean_squared_error: 0.0871\n",
      "Epoch 8/500\n",
      "185/185 [==============================] - 0s 2ms/step - loss: 0.0062 - root_mean_squared_error: 0.0785 - val_loss: 0.0076 - val_root_mean_squared_error: 0.0873\n",
      "Epoch 9/500\n",
      "185/185 [==============================] - 0s 2ms/step - loss: 0.0061 - root_mean_squared_error: 0.0784 - val_loss: 0.0078 - val_root_mean_squared_error: 0.0883\n",
      "Epoch 10/500\n",
      "185/185 [==============================] - 0s 2ms/step - loss: 0.0061 - root_mean_squared_error: 0.0780 - val_loss: 0.0077 - val_root_mean_squared_error: 0.0878\n"
     ]
    }
   ],
   "source": [
    "#fit the data to the best model & its parameters\n",
    "early_stopping = keras.callbacks.EarlyStopping('val_loss', patience=3)\n",
    "history=best_model.fit(X_train, y_train, \n",
    "             epochs=500, \n",
    "             validation_split=0.2, \n",
    "             callbacks=[early_stopping]\n",
    "             )"
   ]
  },
  {
   "cell_type": "code",
   "execution_count": 47,
   "id": "76df03ad",
   "metadata": {
    "colab": {
     "base_uri": "https://localhost:8080/"
    },
    "id": "qDD5qJ5moA1-",
    "outputId": "37061534-fafc-465e-9571-9fc612049352"
   },
   "outputs": [
    {
     "name": "stdout",
     "output_type": "stream",
     "text": [
      "Model: \"sequential_1\"\n",
      "_________________________________________________________________\n",
      " Layer (type)                Output Shape              Param #   \n",
      "=================================================================\n",
      " flatten_1 (Flatten)         (None, 21)                0         \n",
      "                                                                 \n",
      " dense_4 (Dense)             (None, 244)               5368      \n",
      "                                                                 \n",
      " dense_5 (Dense)             (None, 244)               59780     \n",
      "                                                                 \n",
      " dense_6 (Dense)             (None, 244)               59780     \n",
      "                                                                 \n",
      " dense_7 (Dense)             (None, 1)                 245       \n",
      "                                                                 \n",
      "=================================================================\n",
      "Total params: 125,173\n",
      "Trainable params: 125,173\n",
      "Non-trainable params: 0\n",
      "_________________________________________________________________\n"
     ]
    }
   ],
   "source": [
    "#review the model \n",
    "best_model.summary()"
   ]
  },
  {
   "cell_type": "code",
   "execution_count": 48,
   "id": "1eaf21e1",
   "metadata": {
    "colab": {
     "base_uri": "https://localhost:8080/",
     "height": 334
    },
    "id": "MB359G0Jtjr9",
    "outputId": "49c2eac5-3a70-4c0f-ddbe-597247b8104f"
   },
   "outputs": [
    {
     "data": {
      "image/png": "[encoded data removed]",
      "text/plain": [
       "<Figure size 576x360 with 1 Axes>"
      ]
     },
     "metadata": {
      "needs_background": "light"
     },
     "output_type": "display_data"
    }
   ],
   "source": [
    "#plot the model's learning curve\n",
    "nn_plot_learning_curve(history)"
   ]
  },
  {
   "cell_type": "markdown",
   "id": "e7a29502",
   "metadata": {
    "id": "QubUFWByR1YL"
   },
   "source": [
    "### Evaluate the Optimal Model"
   ]
  },
  {
   "cell_type": "code",
   "execution_count": 49,
   "id": "bcf9e026",
   "metadata": {
    "colab": {
     "base_uri": "https://localhost:8080/"
    },
    "id": "8XJK3f1bhwZq",
    "outputId": "b7588831-45b7-43f7-9b3d-288b7a303767"
   },
   "outputs": [
    {
     "name": "stdout",
     "output_type": "stream",
     "text": [
      "231/231 [==============================] - 0s 1ms/step - loss: 0.0061 - root_mean_squared_error: 0.0782\n",
      "Training RMSE: 0.0782\n"
     ]
    }
   ],
   "source": [
    "#evaluate Training Data\n",
    "mse, rmse = best_model.evaluate(X_train, y_train)\n",
    "print( \"Training RMSE: {:,.4f}\".format(rmse) )"
   ]
  },
  {
   "cell_type": "code",
   "execution_count": 50,
   "id": "8e2151cc",
   "metadata": {
    "colab": {
     "base_uri": "https://localhost:8080/"
    },
    "id": "pydUrhF9R1YL",
    "outputId": "745fce1b-34dd-4199-d323-17450704f774"
   },
   "outputs": [
    {
     "name": "stdout",
     "output_type": "stream",
     "text": [
      "58/58 [==============================] - 0s 1ms/step - loss: 0.0095 - root_mean_squared_error: 0.0975\n",
      "Test RMSE: 0.0975\n"
     ]
    }
   ],
   "source": [
    "#evaluate Test Data\n",
    "mse, rmse = best_model.evaluate(X_test, y_test)\n",
    "print( \"Test RMSE: {:,.4f}\".format(rmse) )"
   ]
  },
  {
   "cell_type": "code",
   "execution_count": 51,
   "id": "21d8cde4",
   "metadata": {
    "colab": {
     "base_uri": "https://localhost:8080/"
    },
    "id": "XlkkJua4tjsD",
    "outputId": "d670436c-0efa-4412-8e63-290ccc99443c"
   },
   "outputs": [
    {
     "name": "stdout",
     "output_type": "stream",
     "text": [
      "231/231 [==============================] - 0s 890us/step\n",
      "Training RMSE: $38.89\n"
     ]
    }
   ],
   "source": [
    "#predict the Training data set based on SCALED values\n",
    "y_pred = best_model.predict(X_train)\n",
    "\n",
    "#scale predicted and actuals\n",
    "pred = yscaler.inverse_transform( y_pred )\n",
    "actual = yscaler.inverse_transform(y_train)\n",
    "\n",
    "#calculate the Root Mean Squared Error using the scaled values\n",
    "rmse = mean_squared_error(pred,actual,squared=False)\n",
    "print('Training RMSE: ${:,.2f}'.format( rmse ) )"
   ]
  },
  {
   "cell_type": "code",
   "execution_count": 52,
   "id": "951d982c",
   "metadata": {
    "colab": {
     "base_uri": "https://localhost:8080/"
    },
    "id": "Z2cqjUoKtjsE",
    "outputId": "fd103754-b89d-4a75-d3c3-6890c28ca4ca"
   },
   "outputs": [
    {
     "name": "stdout",
     "output_type": "stream",
     "text": [
      "58/58 [==============================] - 0s 932us/step\n",
      "Test RMSE: $48.43\n"
     ]
    }
   ],
   "source": [
    "#predict the test data set based on SCALED values\n",
    "y_pred = best_model.predict(X_test)\n",
    "\n",
    "#scale predicted and actuals\n",
    "pred = yscaler.inverse_transform( y_pred )\n",
    "actual = yscaler.inverse_transform(y_test)\n",
    "\n",
    "#calculate the Root Mean Squared Error using the scaled values\n",
    "rmse = mean_squared_error(pred,actual,squared=False)\n",
    "print('Test RMSE: ${:,.2f}'.format( rmse ) )"
   ]
  },
  {
   "cell_type": "code",
   "execution_count": 53,
   "id": "c6257875",
   "metadata": {
    "colab": {
     "base_uri": "https://localhost:8080/"
    },
    "id": "j3qle-pQtjsE",
    "outputId": "74e6878d-05e7-4127-a0e3-e4f57576b509"
   },
   "outputs": [
    {
     "name": "stdout",
     "output_type": "stream",
     "text": [
      "Actual $        14 --- Prediction $        24\n",
      "Actual $        54 --- Prediction $        50\n",
      "Actual $        44 --- Prediction $        49\n",
      "Actual $        28 --- Prediction $        57\n",
      "Actual $        40 --- Prediction $        52\n"
     ]
    }
   ],
   "source": [
    "#print using format\n",
    "for x in range(5):\n",
    "    print( \"Actual ${:10,.0f} --- Prediction ${:10,.0f}\".format( float(actual[x]), float(pred[x]) ) )"
   ]
  },
  {
   "cell_type": "markdown",
   "id": "a98690cd",
   "metadata": {},
   "source": [
    "# Predictions"
   ]
  },
  {
   "cell_type": "code",
   "execution_count": null,
   "id": "e454509a",
   "metadata": {},
   "outputs": [],
   "source": []
  },
  {
   "cell_type": "code",
   "execution_count": 56,
   "id": "de3a3427",
   "metadata": {},
   "outputs": [
    {
     "name": "stdout",
     "output_type": "stream",
     "text": [
      "1/1 [==============================] - 0s 20ms/step\n"
     ]
    },
    {
     "data": {
      "text/plain": [
       "array([[39.651253],\n",
       "       [37.742413],\n",
       "       [42.727856]], dtype=float32)"
      ]
     },
     "execution_count": 56,
     "metadata": {},
     "output_type": "execute_result"
    }
   ],
   "source": [
    "X_prepared=full_pipeline.transform(toPredict)\n",
    "pred=best_model.predict(X_prepared)\n",
    "pred = yscaler.inverse_transform(pred )\n",
    "pred"
   ]
  },
  {
   "cell_type": "code",
   "execution_count": null,
   "id": "f4d5e3f5",
   "metadata": {},
   "outputs": [],
   "source": []
  }
 ],
 "metadata": {
  "kernelspec": {
   "display_name": "Python 3 (ipykernel)",
   "language": "python",
   "name": "python3"
  },
  "language_info": {
   "codemirror_mode": {
    "name": "ipython",
    "version": 3
   },
   "file_extension": ".py",
   "mimetype": "text/x-python",
   "name": "python",
   "nbconvert_exporter": "python",
   "pygments_lexer": "ipython3",
   "version": "3.9.12"
  }
 },
 "nbformat": 4,
 "nbformat_minor": 5
}
