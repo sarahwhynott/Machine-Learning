{
 "cells": [
  {
   "cell_type": "markdown",
   "id": "f2c77a80",
   "metadata": {
    "id": "Y8TPeGchey4x"
   },
   "source": [
    "## <font color=purple>Import needed modules</font>"
   ]
  },
  {
   "cell_type": "code",
   "execution_count": 1,
   "id": "916edb42",
   "metadata": {
    "id": "D6HKPBE3ey4z"
   },
   "outputs": [],
   "source": [
    "#general libraries always needed\n",
    "import pandas as pd\n",
    "import numpy as np\n",
    "import math\n",
    "\n",
    "#plotting required modules\n",
    "import matplotlib as mpl\n",
    "import matplotlib.pyplot as plt\n",
    "from matplotlib import cm\n",
    "from matplotlib.ticker import FixedLocator, FixedFormatter\n",
    "\n",
    "#sklearn clustering / unsupervised learning modules\n",
    "from sklearn.mixture import GaussianMixture, BayesianGaussianMixture\n",
    "from sklearn.cluster import DBSCAN, KMeans\n",
    "from sklearn.metrics import silhouette_score, silhouette_samples\n",
    "from sklearn.manifold import TSNE\n",
    "from sklearn.neighbors import NearestNeighbors\n",
    "\n",
    "#sklearn modules for preprocessing and transformation\n",
    "from sklearn.impute import SimpleImputer\n",
    "from sklearn.preprocessing import OrdinalEncoder, OneHotEncoder, StandardScaler\n",
    "from sklearn.compose import ColumnTransformer\n",
    "from sklearn.pipeline import Pipeline"
   ]
  },
  {
   "cell_type": "markdown",
   "id": "229acbf2",
   "metadata": {
    "id": "96f8aGEgey41"
   },
   "source": [
    "## <font color=purple>Function Definitions</font>"
   ]
  },
  {
   "cell_type": "code",
   "execution_count": 2,
   "id": "785aa3ee",
   "metadata": {
    "id": "LkQgjo2cey42"
   },
   "outputs": [],
   "source": [
    "#function to create an Avg. Distance to Nearest Neighbor plt\n",
    "def nn_avg_distance(X):\n",
    "    plt.figure(figsize=(10,5))\n",
    "    nn = NearestNeighbors(n_neighbors=15).fit(X)\n",
    "    distances, idx = nn.kneighbors(X)\n",
    "    distances = np.sort(distances, axis=0)\n",
    "    distances = distances[:,1]\n",
    "    plt.plot(distances)\n",
    "    plt.xlabel(\"Instances\", fontsize=14)\n",
    "    plt.ylabel(\"Distances\", fontsize=14)\n",
    "    plt.title(\"Average Distance to Nearest Neighbor\")\n",
    "    plt.show()"
   ]
  },
  {
   "cell_type": "code",
   "execution_count": 3,
   "id": "e6eb6841",
   "metadata": {},
   "outputs": [],
   "source": [
    "#function to create a silhouette diagram\n",
    "#requires the model, the independent value (i.e. X) used to fit the model, and a list of k values to plot\n",
    "\n",
    "def inertia_silhouette_plot( X, k_values): \n",
    "\n",
    "    #iterate through different k values and collect inertia values and silhouette scores\n",
    "    kmeans_per_k = [KMeans(n_clusters=k, random_state=42).fit(X)\n",
    "                for k in range(1, max(k_values)+1)]\n",
    "    inertias = [model.inertia_ for model in kmeans_per_k]\n",
    "    silhouette_scores = [silhouette_score(X, model.labels_)\n",
    "                     for model in kmeans_per_k[1:]]    \n",
    "    \n",
    "    #print the silhouette scores and k values\n",
    "    plt.plot(inertias)\n",
    "    plt.ylabel(\"Inertia\", fontsize=14)\n",
    "    plt.xlabel(\"k Value\", fontsize=14)\n",
    "    plt.show()\n",
    "    print(\"-\"*80)\n",
    "    #create the plot's figure\n",
    "    plt.figure(figsize=(10, len(k_values)*3))\n",
    "\n",
    "    ct = 0 #temp counter variable\n",
    "\n",
    "    #build a subplot for each value of k\n",
    "    for k in k_values:\n",
    "    \n",
    "        #create the subplot\n",
    "        ct +=1\n",
    "        plt.subplot(math.ceil(len(k_values)/2), 2, ct)\n",
    "    \n",
    "        #get the predictions and silhouette value\n",
    "        y_pred = kmeans_per_k[k - 1].labels_\n",
    "        silhouette_coefficients = silhouette_samples(X, y_pred)\n",
    "\n",
    "        #create the bars for each cluster\n",
    "        padding = len(X) // 30\n",
    "        pos = padding\n",
    "        ticks = []\n",
    "        for i in range(k):\n",
    "            coeffs = silhouette_coefficients[y_pred == i]\n",
    "            coeffs.sort()\n",
    "\n",
    "            color = mpl.cm.Spectral(i / k)\n",
    "            plt.fill_betweenx(np.arange(pos, pos + len(coeffs)), 0, coeffs,\n",
    "                          facecolor=color, edgecolor=color, alpha=0.7)\n",
    "            ticks.append(pos + len(coeffs) // 2)\n",
    "            pos += len(coeffs) + padding\n",
    "\n",
    "        plt.gca().yaxis.set_major_locator(FixedLocator(ticks))\n",
    "        plt.gca().yaxis.set_major_formatter(FixedFormatter(range(k)))\n",
    "\n",
    "       #plot the silhouette line\n",
    "        plt.axvline(x=silhouette_scores[k - 2], color=\"red\", linestyle=\"--\")\n",
    "        \n",
    "        #chart title\n",
    "        plt.title(\"k={} --- {:.2}\".format(k, silhouette_scores[k - 2]), fontsize=16)\n",
    " \n",
    "        #add a y label for each row and an x axis label for the last 2 graphs\n",
    "        if ct%2 == 1:\n",
    "            plt.ylabel(\"Cluster\")\n",
    "        if ct == len(k_values) or ct==len(k_values)-1:\n",
    "            #plt.gca().set_xticks([-0.1, 0, 0.2, 0.4, 0.6, 0.8, 1])\n",
    "            plt.xlabel(\"Silhouette Coefficient\")\n",
    "                \n",
    "    #plot\n",
    "    plt.show()"
   ]
  },
  {
   "cell_type": "code",
   "execution_count": 4,
   "id": "dbb52046",
   "metadata": {
    "id": "spd02056ey47"
   },
   "outputs": [],
   "source": [
    "#function to create a 2 dimmensional representation of data using tSNE\n",
    "#needs the independent data as well as Y label data OR prediction\n",
    "def tsne_plot(X, y):\n",
    "    X_tsne = TSNE(learning_rate=1000, perplexity=25, init=\"random\").fit_transform(X)\n",
    "    plt.figure(1, facecolor='white', figsize=(10, 12))\n",
    "    a=plt.scatter(\n",
    "        X_tsne[(y!=-1), 0],\n",
    "        X_tsne[(y!=-1), 1],\n",
    "        s=100,\n",
    "        alpha=0.90,\n",
    "        c=y[y!=-1],\n",
    "        cmap=cm.Paired\n",
    "    )\n",
    "    plt.legend(handles=a.legend_elements()[0],labels=a.legend_elements()[1])\n",
    "    #plt.scatter(\n",
    "        #X_tsne[(y==-1), 0],\n",
    "        #X_tsne[(y==-1), 1],\n",
    "        #s=100,\n",
    "        #alpha=0.05\n",
    "    #)\n",
    "    plt.title('T-SNE Plot')\n",
    "    plt.show()"
   ]
  },
  {
   "cell_type": "code",
   "execution_count": 5,
   "id": "8d28a15d",
   "metadata": {
    "id": "bS_85bIeey48"
   },
   "outputs": [],
   "source": [
    "#function to verify the existence of a file in the current working directory and download it if not\n",
    "import os,urllib, urllib.request, sys, tarfile\n",
    "def downloadDataResource(file,sourcePath,compressed=None):\n",
    "    if not os.path.isfile(file):\n",
    "        try:\n",
    "            urllib.request.urlretrieve(sourcePath+(compressed if compressed else file),(compressed if compressed else file))\n",
    "            print(\"Downloaded\", (compressed if compressed else file) )\n",
    "            if compressed:\n",
    "                ucomp = tarfile.open(compressed)\n",
    "                ucomp.extractall()\n",
    "                ucomp.close()\n",
    "                print(\"File uncompressed.\")\n",
    "        except:\n",
    "            print(\"ERROR: File\", (compressed if compressed else file), \"not found. Data source missing.\")\n",
    "    else:\n",
    "        print(\"Data resource\", file, \"already downloaded.\")## <font color=blue>Source data</font>"
   ]
  },
  {
   "cell_type": "markdown",
   "id": "3dec9a0c",
   "metadata": {
    "id": "6PUG1vW_ey4-"
   },
   "source": [
    "## <font color=purple>Source Data</font>"
   ]
  },
  {
   "cell_type": "code",
   "execution_count": 6,
   "id": "ffec54e3",
   "metadata": {},
   "outputs": [
    {
     "name": "stdout",
     "output_type": "stream",
     "text": [
      "Data resource sephora_website_dataset.csv already downloaded.\n",
      "Data resource product_info.csv already downloaded.\n"
     ]
    }
   ],
   "source": [
    "#download data files if not currently downloaded into the current working directory\n",
    "path = \"https://raw.githubusercontent.com/sarahwhynott/Machine-Learning/main/\"\n",
    "filename = \"sephora_website_dataset.csv\"\n",
    "\n",
    "\n",
    "path2 = \"https://raw.githubusercontent.com/sarahwhynott/Machine-Learning/main/\"\n",
    "filename2 = \"product_info.csv\"\n",
    "\n",
    "\n",
    "downloadDataResource(filename, path)\n",
    "downloadDataResource(filename2, path2)"
   ]
  },
  {
   "cell_type": "code",
   "execution_count": 7,
   "id": "43701c03",
   "metadata": {},
   "outputs": [],
   "source": [
    "#create a dataframe with the data from the CSV file\n",
    "df = pd.read_csv(filename)\n",
    "df2 = pd.read_csv(filename2)"
   ]
  },
  {
   "cell_type": "markdown",
   "id": "aae0dc47",
   "metadata": {},
   "source": [
    "## <font color=purple>Transform Data"
   ]
  },
  {
   "cell_type": "code",
   "execution_count": 8,
   "id": "0b5ee6cd",
   "metadata": {
    "scrolled": true
   },
   "outputs": [
    {
     "name": "stdout",
     "output_type": "stream",
     "text": [
      "<class 'pandas.core.frame.DataFrame'>\n",
      "RangeIndex: 9168 entries, 0 to 9167\n",
      "Data columns (total 21 columns):\n",
      " #   Column                  Non-Null Count  Dtype  \n",
      "---  ------                  --------------  -----  \n",
      " 0   id                      9168 non-null   int64  \n",
      " 1   brand                   9168 non-null   object \n",
      " 2   category                9168 non-null   object \n",
      " 3   name                    9168 non-null   object \n",
      " 4   size                    9168 non-null   object \n",
      " 5   rating                  9168 non-null   float64\n",
      " 6   number_of_reviews       9168 non-null   int64  \n",
      " 7   love                    9168 non-null   int64  \n",
      " 8   price                   9168 non-null   float64\n",
      " 9   value_price             9168 non-null   float64\n",
      " 10  URL                     9168 non-null   object \n",
      " 11  MarketingFlags          9168 non-null   bool   \n",
      " 12  MarketingFlags_content  9168 non-null   object \n",
      " 13  options                 9168 non-null   object \n",
      " 14  details                 9168 non-null   object \n",
      " 15  how_to_use              9168 non-null   object \n",
      " 16  ingredients             9168 non-null   object \n",
      " 17  online_only             9168 non-null   int64  \n",
      " 18  exclusive               9168 non-null   int64  \n",
      " 19  limited_edition         9168 non-null   int64  \n",
      " 20  limited_time_offer      9168 non-null   int64  \n",
      "dtypes: bool(1), float64(3), int64(7), object(10)\n",
      "memory usage: 1.4+ MB\n"
     ]
    }
   ],
   "source": [
    "df.info()"
   ]
  },
  {
   "cell_type": "code",
   "execution_count": 9,
   "id": "112e29a7",
   "metadata": {},
   "outputs": [
    {
     "name": "stdout",
     "output_type": "stream",
     "text": [
      "<class 'pandas.core.frame.DataFrame'>\n",
      "RangeIndex: 8494 entries, 0 to 8493\n",
      "Data columns (total 27 columns):\n",
      " #   Column              Non-Null Count  Dtype  \n",
      "---  ------              --------------  -----  \n",
      " 0   product_id          8494 non-null   object \n",
      " 1   product_name        8494 non-null   object \n",
      " 2   brand_id            8494 non-null   int64  \n",
      " 3   brand_name          8494 non-null   object \n",
      " 4   loves_count         8494 non-null   int64  \n",
      " 5   rating              8216 non-null   float64\n",
      " 6   reviews             8216 non-null   float64\n",
      " 7   size                6863 non-null   object \n",
      " 8   variation_type      7050 non-null   object \n",
      " 9   variation_value     6896 non-null   object \n",
      " 10  variation_desc      1250 non-null   object \n",
      " 11  ingredients         7549 non-null   object \n",
      " 12  price_usd           8494 non-null   float64\n",
      " 13  value_price_usd     451 non-null    float64\n",
      " 14  sale_price_usd      270 non-null    float64\n",
      " 15  limited_edition     8494 non-null   int64  \n",
      " 16  new                 8494 non-null   int64  \n",
      " 17  online_only         8494 non-null   int64  \n",
      " 18  out_of_stock        8494 non-null   int64  \n",
      " 19  sephora_exclusive   8494 non-null   int64  \n",
      " 20  highlights          6287 non-null   object \n",
      " 21  primary_category    8494 non-null   object \n",
      " 22  secondary_category  8486 non-null   object \n",
      " 23  tertiary_category   7504 non-null   object \n",
      " 24  child_count         8494 non-null   int64  \n",
      " 25  child_max_price     2754 non-null   float64\n",
      " 26  child_min_price     2754 non-null   float64\n",
      "dtypes: float64(7), int64(8), object(12)\n",
      "memory usage: 1.7+ MB\n"
     ]
    }
   ],
   "source": [
    "df2.info()"
   ]
  },
  {
   "cell_type": "code",
   "execution_count": 10,
   "id": "61f43cee",
   "metadata": {},
   "outputs": [],
   "source": [
    "df2.rename(columns = {'product_name':'name'}, inplace = True)\n",
    "#df2.rename(columns = {'rating':'2023ratings'}, inplace = True)"
   ]
  },
  {
   "cell_type": "code",
   "execution_count": 11,
   "id": "a76af3bf",
   "metadata": {},
   "outputs": [],
   "source": [
    "df[\"cat_rating\"] = [\"1.0\" if x == 1.0 else \"1.5\" if x == 1.5 else \"2.0\" if x == 2.0 else \"2.5\" if x == 2.5 else \"3.0\" if x == 3.0 else \"3.5\" if x == 3.5 else \"4.0\" if x == 4.0 else \"4.5\" if x == 4.5 else \"5\" for x in df[\"rating\"]]"
   ]
  },
  {
   "cell_type": "code",
   "execution_count": 12,
   "id": "97771fec",
   "metadata": {},
   "outputs": [],
   "source": [
    "df = pd.merge(df,df2[['name',\"secondary_category\"]],on='name', how='left')"
   ]
  },
  {
   "cell_type": "code",
   "execution_count": 13,
   "id": "5ad19df2",
   "metadata": {},
   "outputs": [
    {
     "name": "stdout",
     "output_type": "stream",
     "text": [
      "<class 'pandas.core.frame.DataFrame'>\n",
      "Int64Index: 9232 entries, 0 to 9231\n",
      "Data columns (total 23 columns):\n",
      " #   Column                  Non-Null Count  Dtype  \n",
      "---  ------                  --------------  -----  \n",
      " 0   id                      9232 non-null   int64  \n",
      " 1   brand                   9232 non-null   object \n",
      " 2   category                9232 non-null   object \n",
      " 3   name                    9232 non-null   object \n",
      " 4   size                    9232 non-null   object \n",
      " 5   rating                  9232 non-null   float64\n",
      " 6   number_of_reviews       9232 non-null   int64  \n",
      " 7   love                    9232 non-null   int64  \n",
      " 8   price                   9232 non-null   float64\n",
      " 9   value_price             9232 non-null   float64\n",
      " 10  URL                     9232 non-null   object \n",
      " 11  MarketingFlags          9232 non-null   bool   \n",
      " 12  MarketingFlags_content  9232 non-null   object \n",
      " 13  options                 9232 non-null   object \n",
      " 14  details                 9232 non-null   object \n",
      " 15  how_to_use              9232 non-null   object \n",
      " 16  ingredients             9232 non-null   object \n",
      " 17  online_only             9232 non-null   int64  \n",
      " 18  exclusive               9232 non-null   int64  \n",
      " 19  limited_edition         9232 non-null   int64  \n",
      " 20  limited_time_offer      9232 non-null   int64  \n",
      " 21  cat_rating              9232 non-null   object \n",
      " 22  secondary_category      2468 non-null   object \n",
      "dtypes: bool(1), float64(3), int64(7), object(12)\n",
      "memory usage: 1.6+ MB\n"
     ]
    }
   ],
   "source": [
    "df.info()"
   ]
  },
  {
   "cell_type": "code",
   "execution_count": 14,
   "id": "d3266563",
   "metadata": {},
   "outputs": [
    {
     "data": {
      "text/html": [
       "<div>\n",
       "<style scoped>\n",
       "    .dataframe tbody tr th:only-of-type {\n",
       "        vertical-align: middle;\n",
       "    }\n",
       "\n",
       "    .dataframe tbody tr th {\n",
       "        vertical-align: top;\n",
       "    }\n",
       "\n",
       "    .dataframe thead th {\n",
       "        text-align: right;\n",
       "    }\n",
       "</style>\n",
       "<table border=\"1\" class=\"dataframe\">\n",
       "  <thead>\n",
       "    <tr style=\"text-align: right;\">\n",
       "      <th></th>\n",
       "      <th>id</th>\n",
       "      <th>brand</th>\n",
       "      <th>category</th>\n",
       "      <th>name</th>\n",
       "      <th>size</th>\n",
       "      <th>rating</th>\n",
       "      <th>number_of_reviews</th>\n",
       "      <th>love</th>\n",
       "      <th>price</th>\n",
       "      <th>value_price</th>\n",
       "      <th>...</th>\n",
       "      <th>options</th>\n",
       "      <th>details</th>\n",
       "      <th>how_to_use</th>\n",
       "      <th>ingredients</th>\n",
       "      <th>online_only</th>\n",
       "      <th>exclusive</th>\n",
       "      <th>limited_edition</th>\n",
       "      <th>limited_time_offer</th>\n",
       "      <th>cat_rating</th>\n",
       "      <th>secondary_category</th>\n",
       "    </tr>\n",
       "  </thead>\n",
       "  <tbody>\n",
       "    <tr>\n",
       "      <th>0</th>\n",
       "      <td>2218774</td>\n",
       "      <td>Acqua Di Parma</td>\n",
       "      <td>Fragrance</td>\n",
       "      <td>Blu Mediterraneo MINIATURE Set</td>\n",
       "      <td>5 x 0.16oz/5mL</td>\n",
       "      <td>4.0</td>\n",
       "      <td>4</td>\n",
       "      <td>3002</td>\n",
       "      <td>66.0</td>\n",
       "      <td>75.0</td>\n",
       "      <td>...</td>\n",
       "      <td>no options</td>\n",
       "      <td>This enchanting set comes in a specially handc...</td>\n",
       "      <td>Suggested Usage:-Fragrance is intensified by t...</td>\n",
       "      <td>Arancia di Capri Eau de Toilette: Alcohol Dena...</td>\n",
       "      <td>1</td>\n",
       "      <td>0</td>\n",
       "      <td>0</td>\n",
       "      <td>0</td>\n",
       "      <td>4.0</td>\n",
       "      <td>NaN</td>\n",
       "    </tr>\n",
       "    <tr>\n",
       "      <th>1</th>\n",
       "      <td>2044816</td>\n",
       "      <td>Acqua Di Parma</td>\n",
       "      <td>Cologne</td>\n",
       "      <td>Colonia</td>\n",
       "      <td>0.7 oz/ 20 mL</td>\n",
       "      <td>4.5</td>\n",
       "      <td>76</td>\n",
       "      <td>2700</td>\n",
       "      <td>66.0</td>\n",
       "      <td>66.0</td>\n",
       "      <td>...</td>\n",
       "      <td>- 0.7 oz/ 20 mL  Spray  - 1.7 oz/ 50 mL Eau d...</td>\n",
       "      <td>An elegant timeless scent filled with a fresh-...</td>\n",
       "      <td>no instructions</td>\n",
       "      <td>unknown</td>\n",
       "      <td>1</td>\n",
       "      <td>0</td>\n",
       "      <td>0</td>\n",
       "      <td>0</td>\n",
       "      <td>4.5</td>\n",
       "      <td>Men</td>\n",
       "    </tr>\n",
       "    <tr>\n",
       "      <th>2</th>\n",
       "      <td>1417567</td>\n",
       "      <td>Acqua Di Parma</td>\n",
       "      <td>Perfume</td>\n",
       "      <td>Arancia di Capri</td>\n",
       "      <td>5 oz/ 148 mL</td>\n",
       "      <td>4.5</td>\n",
       "      <td>26</td>\n",
       "      <td>2600</td>\n",
       "      <td>180.0</td>\n",
       "      <td>180.0</td>\n",
       "      <td>...</td>\n",
       "      <td>- 1oz/30mL Eau de Toilette  - 2.5 oz/ 74 mL E...</td>\n",
       "      <td>Fragrance Family: Fresh Scent Type: Fresh Citr...</td>\n",
       "      <td>no instructions</td>\n",
       "      <td>Alcohol Denat.- Water- Fragrance- Limonene- Li...</td>\n",
       "      <td>1</td>\n",
       "      <td>0</td>\n",
       "      <td>0</td>\n",
       "      <td>0</td>\n",
       "      <td>4.5</td>\n",
       "      <td>Women</td>\n",
       "    </tr>\n",
       "    <tr>\n",
       "      <th>3</th>\n",
       "      <td>1417617</td>\n",
       "      <td>Acqua Di Parma</td>\n",
       "      <td>Perfume</td>\n",
       "      <td>Mirto di Panarea</td>\n",
       "      <td>2.5 oz/ 74 mL</td>\n",
       "      <td>4.5</td>\n",
       "      <td>23</td>\n",
       "      <td>2900</td>\n",
       "      <td>120.0</td>\n",
       "      <td>120.0</td>\n",
       "      <td>...</td>\n",
       "      <td>- 1 oz/ 30 mL Eau de Toilette Spray - 2.5 oz/...</td>\n",
       "      <td>Panarea near Sicily is an an island suspended ...</td>\n",
       "      <td>no instructions</td>\n",
       "      <td>unknown</td>\n",
       "      <td>1</td>\n",
       "      <td>0</td>\n",
       "      <td>0</td>\n",
       "      <td>0</td>\n",
       "      <td>4.5</td>\n",
       "      <td>Women</td>\n",
       "    </tr>\n",
       "    <tr>\n",
       "      <th>4</th>\n",
       "      <td>2218766</td>\n",
       "      <td>Acqua Di Parma</td>\n",
       "      <td>Fragrance</td>\n",
       "      <td>Colonia Miniature Set</td>\n",
       "      <td>5 x 0.16oz/5mL</td>\n",
       "      <td>3.5</td>\n",
       "      <td>2</td>\n",
       "      <td>943</td>\n",
       "      <td>72.0</td>\n",
       "      <td>80.0</td>\n",
       "      <td>...</td>\n",
       "      <td>no options</td>\n",
       "      <td>The Colonia Miniature Set comes in an iconic A...</td>\n",
       "      <td>Suggested Usage:-Fragrance is intensified by t...</td>\n",
       "      <td>Colonia: Alcohol Denat.- Water- Fragrance- Lim...</td>\n",
       "      <td>1</td>\n",
       "      <td>0</td>\n",
       "      <td>0</td>\n",
       "      <td>0</td>\n",
       "      <td>3.5</td>\n",
       "      <td>NaN</td>\n",
       "    </tr>\n",
       "  </tbody>\n",
       "</table>\n",
       "<p>5 rows × 23 columns</p>\n",
       "</div>"
      ],
      "text/plain": [
       "        id           brand   category                            name  \\\n",
       "0  2218774  Acqua Di Parma  Fragrance  Blu Mediterraneo MINIATURE Set   \n",
       "1  2044816  Acqua Di Parma    Cologne                         Colonia   \n",
       "2  1417567  Acqua Di Parma    Perfume                Arancia di Capri   \n",
       "3  1417617  Acqua Di Parma    Perfume                Mirto di Panarea   \n",
       "4  2218766  Acqua Di Parma  Fragrance           Colonia Miniature Set   \n",
       "\n",
       "             size  rating  number_of_reviews  love  price  value_price  ...  \\\n",
       "0  5 x 0.16oz/5mL     4.0                  4  3002   66.0         75.0  ...   \n",
       "1   0.7 oz/ 20 mL     4.5                 76  2700   66.0         66.0  ...   \n",
       "2    5 oz/ 148 mL     4.5                 26  2600  180.0        180.0  ...   \n",
       "3   2.5 oz/ 74 mL     4.5                 23  2900  120.0        120.0  ...   \n",
       "4  5 x 0.16oz/5mL     3.5                  2   943   72.0         80.0  ...   \n",
       "\n",
       "                                             options  \\\n",
       "0                                         no options   \n",
       "1   - 0.7 oz/ 20 mL  Spray  - 1.7 oz/ 50 mL Eau d...   \n",
       "2   - 1oz/30mL Eau de Toilette  - 2.5 oz/ 74 mL E...   \n",
       "3   - 1 oz/ 30 mL Eau de Toilette Spray - 2.5 oz/...   \n",
       "4                                         no options   \n",
       "\n",
       "                                             details  \\\n",
       "0  This enchanting set comes in a specially handc...   \n",
       "1  An elegant timeless scent filled with a fresh-...   \n",
       "2  Fragrance Family: Fresh Scent Type: Fresh Citr...   \n",
       "3  Panarea near Sicily is an an island suspended ...   \n",
       "4  The Colonia Miniature Set comes in an iconic A...   \n",
       "\n",
       "                                          how_to_use  \\\n",
       "0  Suggested Usage:-Fragrance is intensified by t...   \n",
       "1                                    no instructions   \n",
       "2                                    no instructions   \n",
       "3                                    no instructions   \n",
       "4  Suggested Usage:-Fragrance is intensified by t...   \n",
       "\n",
       "                                         ingredients online_only exclusive  \\\n",
       "0  Arancia di Capri Eau de Toilette: Alcohol Dena...           1         0   \n",
       "1                                            unknown           1         0   \n",
       "2  Alcohol Denat.- Water- Fragrance- Limonene- Li...           1         0   \n",
       "3                                            unknown           1         0   \n",
       "4  Colonia: Alcohol Denat.- Water- Fragrance- Lim...           1         0   \n",
       "\n",
       "  limited_edition  limited_time_offer  cat_rating  secondary_category  \n",
       "0               0                   0         4.0                 NaN  \n",
       "1               0                   0         4.5                 Men  \n",
       "2               0                   0         4.5               Women  \n",
       "3               0                   0         4.5               Women  \n",
       "4               0                   0         3.5                 NaN  \n",
       "\n",
       "[5 rows x 23 columns]"
      ]
     },
     "execution_count": 14,
     "metadata": {},
     "output_type": "execute_result"
    }
   ],
   "source": [
    "df.head()"
   ]
  },
  {
   "cell_type": "code",
   "execution_count": 15,
   "id": "b1418b08",
   "metadata": {},
   "outputs": [
    {
     "data": {
      "text/plain": [
       "Mini     665\n",
       "&        629\n",
       "Cream    530\n",
       "Set      464\n",
       "Lip      404\n",
       "Mask     402\n",
       "de       400\n",
       "Eau      400\n",
       "Brush    393\n",
       "Oil      387\n",
       "Name: name, dtype: int64"
      ]
     },
     "execution_count": 15,
     "metadata": {},
     "output_type": "execute_result"
    }
   ],
   "source": [
    "df.name.str.split().explode().value_counts().head(10)"
   ]
  },
  {
   "cell_type": "code",
   "execution_count": 16,
   "id": "92593bb2",
   "metadata": {},
   "outputs": [],
   "source": [
    "df[\"mini\"] = [1 if \"Mini\" in x else 0 for x in df[\"name\"]]\n",
    "df[\"cream\"] = [1 if \"Cream\" in x else 0 for x in df[\"name\"]]\n",
    "df[\"set\"] = [1 if \"Set\" in x else 0 for x in df[\"name\"]]\n",
    "df[\"mask\"] = [1 if \"Mask\" in x else 0 for x in df[\"name\"]]\n",
    "df[\"eau\"] = [1 if \"Eau\" in x else 0 for x in df[\"name\"]]\n",
    "df[\"lip\"] = [1 if \"Lip\" in x else 0 for x in df[\"name\"]]\n",
    "df[\"brush\"] = [1 if \"Brush\" in x else 0 for x in df[\"name\"]]\n",
    "df[\"oil\"] = [1 if \"Oil\" in x else 0 for x in df[\"name\"]]"
   ]
  },
  {
   "cell_type": "code",
   "execution_count": 17,
   "id": "7bd65a7e",
   "metadata": {
    "scrolled": true
   },
   "outputs": [
    {
     "data": {
      "text/plain": [
       "Extract-         17337\n",
       "the              17179\n",
       "that             14600\n",
       "of               14080\n",
       "and              13214\n",
       "Oil-             12294\n",
       "Sodium           11416\n",
       "(Ci              11147\n",
       "-                10386\n",
       "to               10238\n",
       "Glycol-           7869\n",
       "Acid-             7759\n",
       "Seed              7295\n",
       "or                7005\n",
       "are               6973\n",
       "is                6933\n",
       "methacrylate-     6591\n",
       "Ci                5710\n",
       "be                5522\n",
       "products          5429\n",
       "Name: ingredients, dtype: int64"
      ]
     },
     "execution_count": 17,
     "metadata": {},
     "output_type": "execute_result"
    }
   ],
   "source": [
    "df.ingredients.str.split().explode().value_counts().head(20)"
   ]
  },
  {
   "cell_type": "code",
   "execution_count": 18,
   "id": "af8af279",
   "metadata": {},
   "outputs": [],
   "source": [
    "df[\"extract\"] = [1 if \"Extract-\" in x else 0 for x in df[\"name\"]]\n",
    "df[\"oil\"] = [1 if \"Oil- \" in x else 0 for x in df[\"name\"]]\n",
    "df[\"sodium\"] = [1 if \"Sodium\" in x else 0 for x in df[\"name\"]]\n",
    "df[\"glycol\"] = [1 if \"Glycol-\" in x else 0 for x in df[\"name\"]]\n",
    "df[\"acid\"] = [1 if \"Acid-\" in x else 0 for x in df[\"name\"]]\n",
    "df[\"seed\"] = [1 if \"Seed\" in x else 0 for x in df[\"name\"]]\n",
    "df[\"metha\"] = [1 if \"methacrylate- \" in x else 0 for x in df[\"name\"]]"
   ]
  },
  {
   "cell_type": "code",
   "execution_count": 19,
   "id": "3a0ac1f8",
   "metadata": {},
   "outputs": [],
   "source": [
    "df = df.drop(columns = [\"id\",\"rating\",\"name\",\"size\",\"value_price\",\"URL\",\"MarketingFlags\",\"MarketingFlags_content\",\"options\",\"details\",\"how_to_use\",\"ingredients\"])"
   ]
  },
  {
   "cell_type": "code",
   "execution_count": 20,
   "id": "74877de9",
   "metadata": {},
   "outputs": [
    {
     "name": "stdout",
     "output_type": "stream",
     "text": [
      "<class 'pandas.core.frame.DataFrame'>\n",
      "Int64Index: 9232 entries, 0 to 9231\n",
      "Data columns (total 25 columns):\n",
      " #   Column              Non-Null Count  Dtype  \n",
      "---  ------              --------------  -----  \n",
      " 0   brand               9232 non-null   object \n",
      " 1   category            9232 non-null   object \n",
      " 2   number_of_reviews   9232 non-null   int64  \n",
      " 3   love                9232 non-null   int64  \n",
      " 4   price               9232 non-null   float64\n",
      " 5   online_only         9232 non-null   int64  \n",
      " 6   exclusive           9232 non-null   int64  \n",
      " 7   limited_edition     9232 non-null   int64  \n",
      " 8   limited_time_offer  9232 non-null   int64  \n",
      " 9   cat_rating          9232 non-null   object \n",
      " 10  secondary_category  2468 non-null   object \n",
      " 11  mini                9232 non-null   int64  \n",
      " 12  cream               9232 non-null   int64  \n",
      " 13  set                 9232 non-null   int64  \n",
      " 14  mask                9232 non-null   int64  \n",
      " 15  eau                 9232 non-null   int64  \n",
      " 16  lip                 9232 non-null   int64  \n",
      " 17  brush               9232 non-null   int64  \n",
      " 18  oil                 9232 non-null   int64  \n",
      " 19  extract             9232 non-null   int64  \n",
      " 20  sodium              9232 non-null   int64  \n",
      " 21  glycol              9232 non-null   int64  \n",
      " 22  acid                9232 non-null   int64  \n",
      " 23  seed                9232 non-null   int64  \n",
      " 24  metha               9232 non-null   int64  \n",
      "dtypes: float64(1), int64(20), object(4)\n",
      "memory usage: 1.8+ MB\n"
     ]
    }
   ],
   "source": [
    "df.info()"
   ]
  },
  {
   "cell_type": "code",
   "execution_count": 21,
   "id": "b801c60e",
   "metadata": {},
   "outputs": [],
   "source": [
    "#df.secondary_category.fillna(\"Unknown\")"
   ]
  },
  {
   "cell_type": "code",
   "execution_count": 22,
   "id": "82be6f37",
   "metadata": {},
   "outputs": [],
   "source": [
    "cat_attribs = [\"brand\", \"category\",\"secondary_category\"]\n",
    "\n",
    "#set the numerical attributes\n",
    "num_attribs = list(df.drop(cat_attribs,axis=1) )\n",
    "\n",
    "num_pipeline = Pipeline( [\n",
    " ('imputer', SimpleImputer(strategy=\"median\")), #because no missing values, not used\n",
    " ('std_scaler', StandardScaler()),   \n",
    "])\n",
    "\n",
    "#define the column transformation process for the data set\n",
    "full_pipeline = ColumnTransformer( [\n",
    "    ('num', num_pipeline, num_attribs),\n",
    "    ('cat', OneHotEncoder(sparse = False), cat_attribs)      #because no categorical attributes, not used \n",
    "])"
   ]
  },
  {
   "cell_type": "markdown",
   "id": "e5be3490",
   "metadata": {
    "id": "P1lnBsyuey5H"
   },
   "source": [
    "### Create X data set"
   ]
  },
  {
   "cell_type": "code",
   "execution_count": 23,
   "id": "ccb92264",
   "metadata": {
    "colab": {
     "base_uri": "https://localhost:8080/"
    },
    "id": "AXQ5qHrWey5I",
    "outputId": "92948288-1798-4ed9-88c0-d2f2e800f2c6"
   },
   "outputs": [
    {
     "data": {
      "text/plain": [
       "(9232, 530)"
      ]
     },
     "execution_count": 23,
     "metadata": {},
     "output_type": "execute_result"
    }
   ],
   "source": [
    "X = full_pipeline.fit_transform( df )\n",
    "X.shape"
   ]
  },
  {
   "cell_type": "markdown",
   "id": "7c0f7903",
   "metadata": {
    "id": "pl9ErVFgey5I"
   },
   "source": [
    "## <font color=purple>K-Means"
   ]
  },
  {
   "cell_type": "markdown",
   "id": "69a91125",
   "metadata": {
    "id": "mPxvsHHhey5L"
   },
   "source": [
    "To determine an ideal <i>k</i> value, need to look where there is low inertia (mean square error between each instance & centroid) and a high (close to 1) silhouette coefficient (proximity to cluster boundries)"
   ]
  },
  {
   "cell_type": "code",
   "execution_count": 24,
   "id": "b294c915",
   "metadata": {
    "colab": {
     "base_uri": "https://localhost:8080/",
     "height": 1000
    },
    "id": "gRc2ZM8Zey5M",
    "outputId": "6dd6953b-fdaf-4a7d-d5e8-7fb042dca5db"
   },
   "outputs": [
    {
     "data": {
      "image/png": "[encoded data removed]",
      "text/plain": [
       "<Figure size 432x288 with 1 Axes>"
      ]
     },
     "metadata": {
      "needs_background": "light"
     },
     "output_type": "display_data"
    },
    {
     "name": "stdout",
     "output_type": "stream",
     "text": [
      "--------------------------------------------------------------------------------\n"
     ]
    },
    {
     "data": {
      "image/png": "[encoded data removed]",
      "text/plain": [
       "<Figure size 720x1296 with 6 Axes>"
      ]
     },
     "metadata": {
      "needs_background": "light"
     },
     "output_type": "display_data"
    }
   ],
   "source": [
    "#use this function to evaluate your X data across different k values\n",
    "#NOTE: this function can take a little time especially if your k value list has numbers > 20\n",
    "inertia_silhouette_plot(X, [13, 14, 15, 16, 17, 18])"
   ]
  },
  {
   "cell_type": "code",
   "execution_count": 25,
   "id": "fd23b449",
   "metadata": {
    "colab": {
     "base_uri": "https://localhost:8080/"
    },
    "id": "XRS40ijVey5N",
    "outputId": "0626eace-5261-4dfe-da78-71ab23cf098a"
   },
   "outputs": [],
   "source": [
    "k = 14\n",
    "\n",
    "#create the model\n",
    "kmeans = KMeans(n_clusters=k, random_state=42)\n",
    "\n",
    "#fit the model and predict y values (i.e. cluster value)\n",
    "y_pred = kmeans.fit_predict(X)"
   ]
  },
  {
   "cell_type": "code",
   "execution_count": 26,
   "id": "5defd02b",
   "metadata": {
    "colab": {
     "base_uri": "https://localhost:8080/",
     "height": 265
    },
    "id": "_8OOrq-Ley5Q",
    "outputId": "9f1aa28a-df4c-4afb-f94c-1ba5e66b00f7"
   },
   "outputs": [
    {
     "data": {
      "image/png": "[encoded data removed]",
      "text/plain": [
       "<Figure size 432x288 with 1 Axes>"
      ]
     },
     "metadata": {
      "needs_background": "light"
     },
     "output_type": "display_data"
    }
   ],
   "source": [
    "#plot the number of instances in each of the created clusters\n",
    "plt.hist(y_pred, bins=range(k+1), align='left')\n",
    "plt.show()"
   ]
  },
  {
   "cell_type": "code",
   "execution_count": 27,
   "id": "e1ea0861",
   "metadata": {
    "id": "dqh6CtRQey5R"
   },
   "outputs": [],
   "source": [
    "#save the predictions of each instance to a column called KMeans\n",
    "df[ \"KMeans\"] = y_pred"
   ]
  },
  {
   "cell_type": "code",
   "execution_count": 29,
   "id": "b5e4756f",
   "metadata": {
    "colab": {
     "base_uri": "https://localhost:8080/",
     "height": 567
    },
    "id": "P4uMbapKey5S",
    "outputId": "31bb9ede-ac43-47cf-9ba3-925230115422"
   },
   "outputs": [
    {
     "data": {
      "image/png": "[encoded data removed]",
      "text/plain": [
       "<Figure size 720x864 with 1 Axes>"
      ]
     },
     "metadata": {},
     "output_type": "display_data"
    }
   ],
   "source": [
    "#plot Kmeans results on a 2-dimensional tSNE of the same data set\n",
    "tsne_plot(X, df.KMeans)"
   ]
  },
  {
   "cell_type": "code",
   "execution_count": 30,
   "id": "29f9d3c6",
   "metadata": {},
   "outputs": [
    {
     "data": {
      "text/plain": [
       "Face Masks                   213\n",
       "Hair Masks                    60\n",
       "Sheet Masks                   44\n",
       "Eye Masks                     15\n",
       "Mini Size                     11\n",
       "Lip Balms & Treatments         9\n",
       "Hair                           5\n",
       "Hand Cream & Foot Cream        5\n",
       "Skincare                       4\n",
       "Color Care                     4\n",
       "Value & Gift Sets              4\n",
       "Lip Balm & Treatment           4\n",
       "Face Wash & Cleansers          3\n",
       "no category                    3\n",
       "Night Creams                   3\n",
       "Eye Creams & Treatments        2\n",
       "Blemish & Acne Treatments      2\n",
       "Moisturizers                   2\n",
       "Spa Tools                      1\n",
       "Face Serums                    1\n",
       "Scalp & Hair Treatments        1\n",
       "Exfoliators                    1\n",
       "Anti-Aging                     1\n",
       "Body Lotions & Body Oils       1\n",
       "Face Wash                      1\n",
       "Shampoo                        1\n",
       "Moisturizer & Treatments       1\n",
       "Name: category, dtype: int64"
      ]
     },
     "execution_count": 30,
     "metadata": {},
     "output_type": "execute_result"
    }
   ],
   "source": [
    "df[y_pred==11].category.value_counts()\n",
    "#no dominant category type"
   ]
  },
  {
   "cell_type": "code",
   "execution_count": 44,
   "id": "964f8bd3",
   "metadata": {},
   "outputs": [],
   "source": [
    "cluster=df[y_pred==11]"
   ]
  },
  {
   "cell_type": "code",
   "execution_count": 45,
   "id": "28c9644e",
   "metadata": {},
   "outputs": [
    {
     "data": {
      "text/plain": [
       "4.5    195\n",
       "4.0    122\n",
       "3.5     34\n",
       "5       31\n",
       "3.0     15\n",
       "2.0      3\n",
       "1.5      1\n",
       "2.5      1\n",
       "Name: cat_rating, dtype: int64"
      ]
     },
     "execution_count": 45,
     "metadata": {},
     "output_type": "execute_result"
    }
   ],
   "source": [
    "cluster.cat_rating.value_counts()\n",
    "#mostly high ratings"
   ]
  },
  {
   "cell_type": "code",
   "execution_count": 46,
   "id": "23b5b903",
   "metadata": {},
   "outputs": [
    {
     "data": {
      "text/plain": [
       "6.0     32\n",
       "25.0    16\n",
       "8.0     15\n",
       "38.0    14\n",
       "62.0    13\n",
       "        ..\n",
       "43.0     1\n",
       "80.0     1\n",
       "77.0     1\n",
       "40.0     1\n",
       "11.0     1\n",
       "Name: price, Length: 80, dtype: int64"
      ]
     },
     "execution_count": 46,
     "metadata": {},
     "output_type": "execute_result"
    }
   ],
   "source": [
    "cluster.price.value_counts()\n",
    "#moderately priced\n",
    "#lower end pricing is face masks"
   ]
  },
  {
   "cell_type": "code",
   "execution_count": 47,
   "id": "e98815f4",
   "metadata": {},
   "outputs": [
    {
     "data": {
      "text/plain": [
       "0    250\n",
       "1    152\n",
       "Name: exclusive, dtype: int64"
      ]
     },
     "execution_count": 47,
     "metadata": {},
     "output_type": "execute_result"
    }
   ],
   "source": [
    "cluster.exclusive.value_counts()\n",
    "#not entirely exclusive to sephora; 37.5% is exclusive"
   ]
  },
  {
   "cell_type": "code",
   "execution_count": 48,
   "id": "2247dd1d",
   "metadata": {},
   "outputs": [
    {
     "data": {
      "text/plain": [
       "0    385\n",
       "1     17\n",
       "Name: limited_edition, dtype: int64"
      ]
     },
     "execution_count": 48,
     "metadata": {},
     "output_type": "execute_result"
    }
   ],
   "source": [
    "cluster.limited_edition.value_counts()\n",
    "#mainly not limited edition"
   ]
  },
  {
   "cell_type": "code",
   "execution_count": 52,
   "id": "91b6ec74",
   "metadata": {},
   "outputs": [
    {
     "data": {
      "text/plain": [
       "1    402\n",
       "Name: mask, dtype: int64"
      ]
     },
     "execution_count": 52,
     "metadata": {},
     "output_type": "execute_result"
    }
   ],
   "source": [
    "cluster['mask'].value_counts()\n",
    "#all masks in the names for this cluster"
   ]
  },
  {
   "cell_type": "code",
   "execution_count": 54,
   "id": "9593494f",
   "metadata": {},
   "outputs": [
    {
     "data": {
      "text/plain": [
       "SEPHORA COLLECTION    56\n",
       "Dr. Jart+             17\n",
       "Kérastase             16\n",
       "Fresh                 16\n",
       "GLAMGLOW              14\n",
       "                      ..\n",
       "The INKEY List         1\n",
       "Indie Lee              1\n",
       "philosophy             1\n",
       "FARSÁLI                1\n",
       "Fable & Mane           1\n",
       "Name: brand, Length: 101, dtype: int64"
      ]
     },
     "execution_count": 54,
     "metadata": {},
     "output_type": "execute_result"
    }
   ],
   "source": [
    "cluster['brand'].value_counts()\n",
    "#mainly sephora collection or skincare brands"
   ]
  },
  {
   "cell_type": "markdown",
   "id": "329996b2",
   "metadata": {
    "id": "Fq2daBaFey5S"
   },
   "source": [
    "## <font color=purple>DBSCAN "
   ]
  },
  {
   "cell_type": "markdown",
   "id": "ea544e73",
   "metadata": {
    "id": "fybt1WSPey5T"
   },
   "source": [
    "#### Requires the use of an Epsilon value"
   ]
  },
  {
   "cell_type": "code",
   "execution_count": 55,
   "id": "1f25847c",
   "metadata": {
    "colab": {
     "base_uri": "https://localhost:8080/",
     "height": 354
    },
    "id": "mDyhlOBcey5T",
    "outputId": "60af48a4-db05-4760-8509-e1e91a02e8ff"
   },
   "outputs": [
    {
     "data": {
      "image/png": "[encoded data removed]",
      "text/plain": [
       "<Figure size 720x360 with 1 Axes>"
      ]
     },
     "metadata": {
      "needs_background": "light"
     },
     "output_type": "display_data"
    }
   ],
   "source": [
    "#But how to determine a good epsilon?\n",
    "#one method is to review the Avg. Distances to Nearest Neighbor graph and find its \"elbow point\"\n",
    "nn_avg_distance(X)"
   ]
  },
  {
   "cell_type": "code",
   "execution_count": 58,
   "id": "2fe159b4",
   "metadata": {
    "colab": {
     "base_uri": "https://localhost:8080/"
    },
    "id": "avUqbfs0ey5U",
    "outputId": "b22c26e1-eaa9-49e8-b456-74cb59a527d2",
    "tags": []
   },
   "outputs": [
    {
     "name": "stdout",
     "output_type": "stream",
     "text": [
      "2.0 - {0, 1, 2, 3, 4, 5, 6, 7, 8, 9, 10, 11, 12, 13, 14, 15, 16, 17, 18, 19, 20, 21, 22, 23, -1}\n",
      "2.5 - {0, 1, 2, 3, 4, 5, 6, 7, 8, 9, -1}\n",
      "3.0 - {0, 1, 2, 3, 4, 5, 6, 7, 8, 9, 10, -1}\n",
      "3.5 - {0, 1, 2, 3, 4, 5, 6, 7, 8, 9, 10, -1}\n",
      "4.0 - {0, 1, 2, 3, 4, 5, 6, 7, -1}\n",
      "4.5 - {0, 1, 2, 3, -1}\n",
      "5.0 - {0, -1}\n",
      "5.5 - {0, 1, -1}\n",
      "6.0 - {0, 1, -1}\n",
      "6.5 - {0, 1, -1}\n"
     ]
    }
   ],
   "source": [
    "#And then once you know the range for your epsilon, use a loop to try out a few values\n",
    "for epsilon in np.arange(2,7,.5):\n",
    "    dbscan = DBSCAN(eps=epsilon, min_samples=25)      #epsilon defines the neighborhood distance\n",
    "    dbscan.fit(X)\n",
    "    print(epsilon, \"-\", set(list(dbscan.labels_)))"
   ]
  },
  {
   "cell_type": "code",
   "execution_count": 61,
   "id": "b165a30c",
   "metadata": {
    "colab": {
     "base_uri": "https://localhost:8080/",
     "height": 75
    },
    "id": "dL1soGrNey5V",
    "outputId": "17f7f7f8-79ee-456c-d2ba-fe8c94a6a7a8"
   },
   "outputs": [
    {
     "data": {
      "text/plain": [
       "DBSCAN(eps=2.0, min_samples=25)"
      ]
     },
     "execution_count": 61,
     "metadata": {},
     "output_type": "execute_result"
    }
   ],
   "source": [
    "#create and fit the model\n",
    "dbscan = DBSCAN(eps=2.0, min_samples=25)      #epsilon defines the neighborhood distance\n",
    "dbscan.fit(X)"
   ]
  },
  {
   "cell_type": "code",
   "execution_count": 62,
   "id": "5841adca",
   "metadata": {
    "colab": {
     "base_uri": "https://localhost:8080/"
    },
    "id": "L-hZ1YhEey5V",
    "outputId": "782ebcce-deae-40ec-b164-96f6a9ac85f3"
   },
   "outputs": [
    {
     "data": {
      "text/plain": [
       "25"
      ]
     },
     "execution_count": 62,
     "metadata": {},
     "output_type": "execute_result"
    }
   ],
   "source": [
    "y_pred=dbscan.labels_\n",
    "clusters = set(list(y_pred))\n",
    "len(clusters)"
   ]
  },
  {
   "cell_type": "code",
   "execution_count": 63,
   "id": "815d5b04",
   "metadata": {
    "id": "BRltm42Vey5W"
   },
   "outputs": [],
   "source": [
    "#save the predictions of each instance to a column called DBSCAN\n",
    "df[ 'DBSCAN' ] = y_pred"
   ]
  },
  {
   "cell_type": "code",
   "execution_count": 64,
   "id": "89204575",
   "metadata": {
    "colab": {
     "base_uri": "https://localhost:8080/",
     "height": 265
    },
    "id": "7wVJCaLYey5W",
    "outputId": "6e762b9d-b75c-4156-b7e3-14d646647027"
   },
   "outputs": [
    {
     "data": {
      "image/png": "[encoded data removed]",
      "text/plain": [
       "<Figure size 432x288 with 1 Axes>"
      ]
     },
     "metadata": {
      "needs_background": "light"
     },
     "output_type": "display_data"
    }
   ],
   "source": [
    "#plot the number of instances in each of the created clusters\n",
    "plt.hist(y_pred, bins=range(-1,len(clusters)), align='left' )\n",
    "plt.show()"
   ]
  },
  {
   "cell_type": "code",
   "execution_count": 65,
   "id": "ab274d07",
   "metadata": {
    "colab": {
     "base_uri": "https://localhost:8080/",
     "height": 716
    },
    "id": "xzRUz6tcey5X",
    "outputId": "6f5393c6-2550-4b94-b232-88b22c088e2e"
   },
   "outputs": [
    {
     "data": {
      "image/png": "[encoded data removed]",
      "text/plain": [
       "<Figure size 720x864 with 1 Axes>"
      ]
     },
     "metadata": {},
     "output_type": "display_data"
    }
   ],
   "source": [
    "#plot DBSCAN results on a 2-dimensional tSNE of the same data set\n",
    "tsne_plot(X, y_pred)"
   ]
  },
  {
   "cell_type": "code",
   "execution_count": 67,
   "id": "9f942076",
   "metadata": {},
   "outputs": [
    {
     "data": {
      "text/html": [
       "<div>\n",
       "<style scoped>\n",
       "    .dataframe tbody tr th:only-of-type {\n",
       "        vertical-align: middle;\n",
       "    }\n",
       "\n",
       "    .dataframe tbody tr th {\n",
       "        vertical-align: top;\n",
       "    }\n",
       "\n",
       "    .dataframe thead th {\n",
       "        text-align: right;\n",
       "    }\n",
       "</style>\n",
       "<table border=\"1\" class=\"dataframe\">\n",
       "  <thead>\n",
       "    <tr style=\"text-align: right;\">\n",
       "      <th></th>\n",
       "      <th>brand</th>\n",
       "      <th>category</th>\n",
       "      <th>number_of_reviews</th>\n",
       "      <th>love</th>\n",
       "      <th>price</th>\n",
       "      <th>online_only</th>\n",
       "      <th>exclusive</th>\n",
       "      <th>limited_edition</th>\n",
       "      <th>limited_time_offer</th>\n",
       "      <th>cat_rating</th>\n",
       "      <th>...</th>\n",
       "      <th>brush</th>\n",
       "      <th>oil</th>\n",
       "      <th>extract</th>\n",
       "      <th>sodium</th>\n",
       "      <th>glycol</th>\n",
       "      <th>acid</th>\n",
       "      <th>seed</th>\n",
       "      <th>metha</th>\n",
       "      <th>KMeans</th>\n",
       "      <th>DBSCAN</th>\n",
       "    </tr>\n",
       "  </thead>\n",
       "  <tbody>\n",
       "    <tr>\n",
       "      <th>299</th>\n",
       "      <td>Anastasia Beverly Hills</td>\n",
       "      <td>Lipstick</td>\n",
       "      <td>818</td>\n",
       "      <td>112900</td>\n",
       "      <td>18.0</td>\n",
       "      <td>0</td>\n",
       "      <td>0</td>\n",
       "      <td>0</td>\n",
       "      <td>0</td>\n",
       "      <td>4.5</td>\n",
       "      <td>...</td>\n",
       "      <td>0</td>\n",
       "      <td>0</td>\n",
       "      <td>0</td>\n",
       "      <td>0</td>\n",
       "      <td>0</td>\n",
       "      <td>0</td>\n",
       "      <td>0</td>\n",
       "      <td>0</td>\n",
       "      <td>8</td>\n",
       "      <td>9</td>\n",
       "    </tr>\n",
       "    <tr>\n",
       "      <th>390</th>\n",
       "      <td>Armani Beauty</td>\n",
       "      <td>Lipstick</td>\n",
       "      <td>367</td>\n",
       "      <td>18600</td>\n",
       "      <td>38.0</td>\n",
       "      <td>0</td>\n",
       "      <td>0</td>\n",
       "      <td>0</td>\n",
       "      <td>0</td>\n",
       "      <td>4.5</td>\n",
       "      <td>...</td>\n",
       "      <td>0</td>\n",
       "      <td>0</td>\n",
       "      <td>0</td>\n",
       "      <td>0</td>\n",
       "      <td>0</td>\n",
       "      <td>0</td>\n",
       "      <td>0</td>\n",
       "      <td>0</td>\n",
       "      <td>8</td>\n",
       "      <td>9</td>\n",
       "    </tr>\n",
       "    <tr>\n",
       "      <th>397</th>\n",
       "      <td>Armani Beauty</td>\n",
       "      <td>Lip Gloss</td>\n",
       "      <td>128</td>\n",
       "      <td>47800</td>\n",
       "      <td>38.0</td>\n",
       "      <td>0</td>\n",
       "      <td>0</td>\n",
       "      <td>0</td>\n",
       "      <td>0</td>\n",
       "      <td>4.5</td>\n",
       "      <td>...</td>\n",
       "      <td>0</td>\n",
       "      <td>0</td>\n",
       "      <td>0</td>\n",
       "      <td>0</td>\n",
       "      <td>0</td>\n",
       "      <td>0</td>\n",
       "      <td>0</td>\n",
       "      <td>0</td>\n",
       "      <td>8</td>\n",
       "      <td>9</td>\n",
       "    </tr>\n",
       "    <tr>\n",
       "      <th>405</th>\n",
       "      <td>Armani Beauty</td>\n",
       "      <td>Lipstick</td>\n",
       "      <td>388</td>\n",
       "      <td>18800</td>\n",
       "      <td>38.0</td>\n",
       "      <td>0</td>\n",
       "      <td>0</td>\n",
       "      <td>0</td>\n",
       "      <td>0</td>\n",
       "      <td>4.5</td>\n",
       "      <td>...</td>\n",
       "      <td>0</td>\n",
       "      <td>0</td>\n",
       "      <td>0</td>\n",
       "      <td>0</td>\n",
       "      <td>0</td>\n",
       "      <td>0</td>\n",
       "      <td>0</td>\n",
       "      <td>0</td>\n",
       "      <td>8</td>\n",
       "      <td>9</td>\n",
       "    </tr>\n",
       "    <tr>\n",
       "      <th>411</th>\n",
       "      <td>Armani Beauty</td>\n",
       "      <td>Lipstick</td>\n",
       "      <td>357</td>\n",
       "      <td>58200</td>\n",
       "      <td>38.0</td>\n",
       "      <td>0</td>\n",
       "      <td>0</td>\n",
       "      <td>0</td>\n",
       "      <td>0</td>\n",
       "      <td>4.5</td>\n",
       "      <td>...</td>\n",
       "      <td>0</td>\n",
       "      <td>0</td>\n",
       "      <td>0</td>\n",
       "      <td>0</td>\n",
       "      <td>0</td>\n",
       "      <td>0</td>\n",
       "      <td>0</td>\n",
       "      <td>0</td>\n",
       "      <td>8</td>\n",
       "      <td>9</td>\n",
       "    </tr>\n",
       "    <tr>\n",
       "      <th>...</th>\n",
       "      <td>...</td>\n",
       "      <td>...</td>\n",
       "      <td>...</td>\n",
       "      <td>...</td>\n",
       "      <td>...</td>\n",
       "      <td>...</td>\n",
       "      <td>...</td>\n",
       "      <td>...</td>\n",
       "      <td>...</td>\n",
       "      <td>...</td>\n",
       "      <td>...</td>\n",
       "      <td>...</td>\n",
       "      <td>...</td>\n",
       "      <td>...</td>\n",
       "      <td>...</td>\n",
       "      <td>...</td>\n",
       "      <td>...</td>\n",
       "      <td>...</td>\n",
       "      <td>...</td>\n",
       "      <td>...</td>\n",
       "      <td>...</td>\n",
       "    </tr>\n",
       "    <tr>\n",
       "      <th>8500</th>\n",
       "      <td>trèStiQue</td>\n",
       "      <td>Lipstick</td>\n",
       "      <td>57</td>\n",
       "      <td>3600</td>\n",
       "      <td>25.0</td>\n",
       "      <td>0</td>\n",
       "      <td>0</td>\n",
       "      <td>0</td>\n",
       "      <td>0</td>\n",
       "      <td>3.5</td>\n",
       "      <td>...</td>\n",
       "      <td>0</td>\n",
       "      <td>0</td>\n",
       "      <td>0</td>\n",
       "      <td>0</td>\n",
       "      <td>0</td>\n",
       "      <td>0</td>\n",
       "      <td>0</td>\n",
       "      <td>0</td>\n",
       "      <td>8</td>\n",
       "      <td>9</td>\n",
       "    </tr>\n",
       "    <tr>\n",
       "      <th>8572</th>\n",
       "      <td>Urban Decay</td>\n",
       "      <td>Lip Gloss</td>\n",
       "      <td>461</td>\n",
       "      <td>37300</td>\n",
       "      <td>20.0</td>\n",
       "      <td>0</td>\n",
       "      <td>0</td>\n",
       "      <td>0</td>\n",
       "      <td>0</td>\n",
       "      <td>4.0</td>\n",
       "      <td>...</td>\n",
       "      <td>0</td>\n",
       "      <td>0</td>\n",
       "      <td>0</td>\n",
       "      <td>0</td>\n",
       "      <td>0</td>\n",
       "      <td>0</td>\n",
       "      <td>0</td>\n",
       "      <td>0</td>\n",
       "      <td>8</td>\n",
       "      <td>9</td>\n",
       "    </tr>\n",
       "    <tr>\n",
       "      <th>8932</th>\n",
       "      <td>Yves Saint Laurent</td>\n",
       "      <td>Lipstick</td>\n",
       "      <td>180</td>\n",
       "      <td>73600</td>\n",
       "      <td>39.0</td>\n",
       "      <td>0</td>\n",
       "      <td>0</td>\n",
       "      <td>0</td>\n",
       "      <td>0</td>\n",
       "      <td>4.0</td>\n",
       "      <td>...</td>\n",
       "      <td>0</td>\n",
       "      <td>0</td>\n",
       "      <td>0</td>\n",
       "      <td>0</td>\n",
       "      <td>0</td>\n",
       "      <td>0</td>\n",
       "      <td>0</td>\n",
       "      <td>0</td>\n",
       "      <td>8</td>\n",
       "      <td>9</td>\n",
       "    </tr>\n",
       "    <tr>\n",
       "      <th>8964</th>\n",
       "      <td>Yves Saint Laurent</td>\n",
       "      <td>Lipstick</td>\n",
       "      <td>163</td>\n",
       "      <td>21600</td>\n",
       "      <td>39.0</td>\n",
       "      <td>0</td>\n",
       "      <td>0</td>\n",
       "      <td>0</td>\n",
       "      <td>0</td>\n",
       "      <td>4.5</td>\n",
       "      <td>...</td>\n",
       "      <td>0</td>\n",
       "      <td>0</td>\n",
       "      <td>0</td>\n",
       "      <td>0</td>\n",
       "      <td>0</td>\n",
       "      <td>0</td>\n",
       "      <td>0</td>\n",
       "      <td>0</td>\n",
       "      <td>8</td>\n",
       "      <td>9</td>\n",
       "    </tr>\n",
       "    <tr>\n",
       "      <th>8981</th>\n",
       "      <td>Yves Saint Laurent</td>\n",
       "      <td>Lip Balm &amp; Treatment</td>\n",
       "      <td>217</td>\n",
       "      <td>18100</td>\n",
       "      <td>39.0</td>\n",
       "      <td>0</td>\n",
       "      <td>0</td>\n",
       "      <td>0</td>\n",
       "      <td>0</td>\n",
       "      <td>4.0</td>\n",
       "      <td>...</td>\n",
       "      <td>0</td>\n",
       "      <td>0</td>\n",
       "      <td>0</td>\n",
       "      <td>0</td>\n",
       "      <td>0</td>\n",
       "      <td>0</td>\n",
       "      <td>0</td>\n",
       "      <td>0</td>\n",
       "      <td>8</td>\n",
       "      <td>9</td>\n",
       "    </tr>\n",
       "  </tbody>\n",
       "</table>\n",
       "<p>168 rows × 27 columns</p>\n",
       "</div>"
      ],
      "text/plain": [
       "                        brand              category  number_of_reviews  \\\n",
       "299   Anastasia Beverly Hills              Lipstick                818   \n",
       "390             Armani Beauty              Lipstick                367   \n",
       "397             Armani Beauty             Lip Gloss                128   \n",
       "405             Armani Beauty              Lipstick                388   \n",
       "411             Armani Beauty              Lipstick                357   \n",
       "...                       ...                   ...                ...   \n",
       "8500                trèStiQue              Lipstick                 57   \n",
       "8572              Urban Decay             Lip Gloss                461   \n",
       "8932       Yves Saint Laurent              Lipstick                180   \n",
       "8964       Yves Saint Laurent              Lipstick                163   \n",
       "8981       Yves Saint Laurent  Lip Balm & Treatment                217   \n",
       "\n",
       "        love  price  online_only  exclusive  limited_edition  \\\n",
       "299   112900   18.0            0          0                0   \n",
       "390    18600   38.0            0          0                0   \n",
       "397    47800   38.0            0          0                0   \n",
       "405    18800   38.0            0          0                0   \n",
       "411    58200   38.0            0          0                0   \n",
       "...      ...    ...          ...        ...              ...   \n",
       "8500    3600   25.0            0          0                0   \n",
       "8572   37300   20.0            0          0                0   \n",
       "8932   73600   39.0            0          0                0   \n",
       "8964   21600   39.0            0          0                0   \n",
       "8981   18100   39.0            0          0                0   \n",
       "\n",
       "      limited_time_offer cat_rating  ... brush  oil  extract  sodium  glycol  \\\n",
       "299                    0        4.5  ...     0    0        0       0       0   \n",
       "390                    0        4.5  ...     0    0        0       0       0   \n",
       "397                    0        4.5  ...     0    0        0       0       0   \n",
       "405                    0        4.5  ...     0    0        0       0       0   \n",
       "411                    0        4.5  ...     0    0        0       0       0   \n",
       "...                  ...        ...  ...   ...  ...      ...     ...     ...   \n",
       "8500                   0        3.5  ...     0    0        0       0       0   \n",
       "8572                   0        4.0  ...     0    0        0       0       0   \n",
       "8932                   0        4.0  ...     0    0        0       0       0   \n",
       "8964                   0        4.5  ...     0    0        0       0       0   \n",
       "8981                   0        4.0  ...     0    0        0       0       0   \n",
       "\n",
       "      acid  seed  metha  KMeans  DBSCAN  \n",
       "299      0     0      0       8       9  \n",
       "390      0     0      0       8       9  \n",
       "397      0     0      0       8       9  \n",
       "405      0     0      0       8       9  \n",
       "411      0     0      0       8       9  \n",
       "...    ...   ...    ...     ...     ...  \n",
       "8500     0     0      0       8       9  \n",
       "8572     0     0      0       8       9  \n",
       "8932     0     0      0       8       9  \n",
       "8964     0     0      0       8       9  \n",
       "8981     0     0      0       8       9  \n",
       "\n",
       "[168 rows x 27 columns]"
      ]
     },
     "execution_count": 67,
     "metadata": {},
     "output_type": "execute_result"
    }
   ],
   "source": [
    "df[y_pred==9]\n",
    "#all lip products"
   ]
  },
  {
   "cell_type": "code",
   "execution_count": 70,
   "id": "c5838d22",
   "metadata": {},
   "outputs": [
    {
     "data": {
      "text/plain": [
       "TOM FORD                   13\n",
       "Charlotte Tilbury          13\n",
       "CLINIQUE                   11\n",
       "Givenchy                   11\n",
       "Bobbi Brown                 9\n",
       "bareMinerals                8\n",
       "Hourglass                   7\n",
       "Dior                        6\n",
       "Gucci                       6\n",
       "Shiseido                    5\n",
       "Marc Jacobs Beauty          5\n",
       "NARS                        5\n",
       "NUDESTIX                    5\n",
       "Guerlain                    5\n",
       "Smashbox                    4\n",
       "Natasha Denona              4\n",
       "Too Faced                   4\n",
       "Lancôme                     4\n",
       "Laura Mercier               4\n",
       "Armani Beauty               4\n",
       "lilah b.                    3\n",
       "Yves Saint Laurent          3\n",
       "Kosas                       3\n",
       "tarte                       2\n",
       "MILK MAKEUP                 2\n",
       "Kiehl's Since 1851          2\n",
       "KEVYN AUCOIN                2\n",
       "Jouer Cosmetics             2\n",
       "IT Cosmetics                2\n",
       "ILIA                        2\n",
       "BECCA                       2\n",
       "Urban Decay                 1\n",
       "trèStiQue                   1\n",
       "Tower 28 Beauty             1\n",
       "Anastasia Beverly Hills     1\n",
       "surratt beauty              1\n",
       "STELLAR                     1\n",
       "Perricone MD                1\n",
       "PAT McGRATH LABS            1\n",
       "MAKE UP FOR EVER            1\n",
       "LAWLESS                     1\n",
       "Name: brand, dtype: int64"
      ]
     },
     "execution_count": 70,
     "metadata": {},
     "output_type": "execute_result"
    }
   ],
   "source": [
    "df[ y_pred ==9].brand.value_counts()\n",
    "#mostly higher end products"
   ]
  },
  {
   "cell_type": "code",
   "execution_count": 71,
   "id": "995acf22",
   "metadata": {},
   "outputs": [
    {
     "data": {
      "text/plain": [
       "4.5    83\n",
       "4.0    59\n",
       "3.5    17\n",
       "5       6\n",
       "3.0     3\n",
       "Name: cat_rating, dtype: int64"
      ]
     },
     "execution_count": 71,
     "metadata": {},
     "output_type": "execute_result"
    }
   ],
   "source": [
    "df[ y_pred ==9].cat_rating.value_counts()\n",
    "#mostly 4-4.5 stars"
   ]
  },
  {
   "cell_type": "code",
   "execution_count": 73,
   "id": "2c5e58f6",
   "metadata": {},
   "outputs": [
    {
     "data": {
      "text/plain": [
       "26.0    15\n",
       "38.0    15\n",
       "34.0    14\n",
       "29.0    11\n",
       "55.0     9\n",
       "22.0     9\n",
       "20.0     8\n",
       "30.0     8\n",
       "25.0     7\n",
       "32.0     7\n",
       "28.0     7\n",
       "19.5     6\n",
       "24.0     5\n",
       "21.0     4\n",
       "37.0     4\n",
       "42.0     4\n",
       "18.0     3\n",
       "33.0     3\n",
       "39.0     3\n",
       "27.0     3\n",
       "16.0     3\n",
       "47.0     2\n",
       "18.5     2\n",
       "17.5     2\n",
       "36.0     2\n",
       "46.0     2\n",
       "45.0     1\n",
       "35.0     1\n",
       "17.0     1\n",
       "31.0     1\n",
       "15.0     1\n",
       "19.0     1\n",
       "57.0     1\n",
       "23.0     1\n",
       "14.0     1\n",
       "40.0     1\n",
       "Name: price, dtype: int64"
      ]
     },
     "execution_count": 73,
     "metadata": {},
     "output_type": "execute_result"
    }
   ],
   "source": [
    "df[ y_pred ==9].price.value_counts()\n",
    "#higher end products"
   ]
  },
  {
   "cell_type": "code",
   "execution_count": 75,
   "id": "87f4991f",
   "metadata": {},
   "outputs": [
    {
     "data": {
      "text/plain": [
       "0    168\n",
       "Name: exclusive, dtype: int64"
      ]
     },
     "execution_count": 75,
     "metadata": {},
     "output_type": "execute_result"
    }
   ],
   "source": [
    "df[ y_pred ==9].exclusive.value_counts()\n",
    "#none are exclusive to Sephora"
   ]
  },
  {
   "cell_type": "code",
   "execution_count": 77,
   "id": "68a38000",
   "metadata": {},
   "outputs": [
    {
     "data": {
      "text/plain": [
       "1    168\n",
       "Name: lip, dtype: int64"
      ]
     },
     "execution_count": 77,
     "metadata": {},
     "output_type": "execute_result"
    }
   ],
   "source": [
    "df[ y_pred ==9].lip.value_counts()\n",
    "#all have lip in the title"
   ]
  },
  {
   "cell_type": "code",
   "execution_count": 81,
   "id": "4f212db1",
   "metadata": {},
   "outputs": [
    {
     "data": {
      "text/plain": [
       "Lipstick                  97\n",
       "Lip Gloss                 29\n",
       "Lip Balm & Treatment      21\n",
       "Lip Liner                 12\n",
       "Lip Balms & Treatments     3\n",
       "Lip Stain                  2\n",
       "Blush                      1\n",
       "Face Wash & Cleansers      1\n",
       "Highlighter                1\n",
       "Liquid Lipstick            1\n",
       "Name: category, dtype: int64"
      ]
     },
     "execution_count": 81,
     "metadata": {},
     "output_type": "execute_result"
    }
   ],
   "source": [
    "df[ y_pred ==9].category.value_counts()"
   ]
  },
  {
   "cell_type": "markdown",
   "id": "9da3f5f0",
   "metadata": {
    "id": "DgLXA4Pfey5Y"
   },
   "source": [
    "## <font color=purple>Bayesian Guassian Mixture"
   ]
  },
  {
   "cell_type": "code",
   "execution_count": 82,
   "id": "971ffd67",
   "metadata": {
    "colab": {
     "base_uri": "https://localhost:8080/",
     "height": 75
    },
    "id": "xiXfLZfVey5Z",
    "outputId": "277367fc-f9e8-4940-d664-c334fde1e4f9"
   },
   "outputs": [
    {
     "data": {
      "text/plain": [
       "BayesianGaussianMixture(n_components=10, n_init=10)"
      ]
     },
     "execution_count": 82,
     "metadata": {},
     "output_type": "execute_result"
    }
   ],
   "source": [
    "# create a model and fit X\n",
    "\n",
    "#set the k value to your best guess (or higher)\n",
    "#n_init defines how many times to fit the model\n",
    "bgm = BayesianGaussianMixture(n_components=10, n_init=10)  \n",
    "bgm.fit(X)"
   ]
  },
  {
   "cell_type": "code",
   "execution_count": 83,
   "id": "0d417af5",
   "metadata": {
    "colab": {
     "base_uri": "https://localhost:8080/"
    },
    "id": "Z8ZXY6obey5Z",
    "outputId": "129a34e4-66c9-40bb-99db-dbc00ce56405"
   },
   "outputs": [
    {
     "data": {
      "text/plain": [
       "array([0.16, 0.15, 0.  , 0.09, 0.17, 0.  , 0.08, 0.16, 0.19, 0.  ])"
      ]
     },
     "execution_count": 83,
     "metadata": {},
     "output_type": "execute_result"
    }
   ],
   "source": [
    "#let's look at the weights to possible clusters and zero to all unneeded clusters\n",
    "weights = np.round(bgm.weights_,2)\n",
    "weights"
   ]
  },
  {
   "cell_type": "code",
   "execution_count": 84,
   "id": "ea5f19b3",
   "metadata": {
    "colab": {
     "base_uri": "https://localhost:8080/"
    },
    "id": "mmTu60Myey5a",
    "outputId": "2e095a2e-017b-4a90-ab97-7c6ece87992e"
   },
   "outputs": [
    {
     "data": {
      "text/plain": [
       "7"
      ]
     },
     "execution_count": 84,
     "metadata": {},
     "output_type": "execute_result"
    }
   ],
   "source": [
    "#calculate the ideal k value (or just count the values above)\n",
    "k = len(set(list(weights)))\n",
    "k"
   ]
  },
  {
   "cell_type": "markdown",
   "id": "79234e1a",
   "metadata": {
    "id": "99Ofn9Atey5a"
   },
   "source": [
    "## <font color=purple>Gaussian Mixture"
   ]
  },
  {
   "cell_type": "code",
   "execution_count": 85,
   "id": "8e89c6a7",
   "metadata": {
    "id": "L7mejcuFey5b"
   },
   "outputs": [],
   "source": [
    "#Let's train a Gaussian Mixture on this dataset. \n",
    "k = 7\n",
    "gauss = GaussianMixture(n_components=k, random_state=42)\n",
    "y_pred = gauss.fit_predict(X)"
   ]
  },
  {
   "cell_type": "code",
   "execution_count": 86,
   "id": "f00f38cc",
   "metadata": {
    "id": "G9zb3ydTey5b"
   },
   "outputs": [],
   "source": [
    "#save the predictions of each instance to a column called Gauss\n",
    "df['Gauss'] = y_pred"
   ]
  },
  {
   "cell_type": "code",
   "execution_count": 87,
   "id": "47e64af7",
   "metadata": {
    "colab": {
     "base_uri": "https://localhost:8080/",
     "height": 269
    },
    "id": "8K0toUX8ey5c",
    "outputId": "c24923ba-5e87-4e6a-857a-932b8dc0aead"
   },
   "outputs": [
    {
     "data": {
      "image/png": "[encoded data removed]",
      "text/plain": [
       "<Figure size 432x288 with 1 Axes>"
      ]
     },
     "metadata": {
      "needs_background": "light"
     },
     "output_type": "display_data"
    }
   ],
   "source": [
    "#plot the number of instances in each of the created clusters\n",
    "plt.hist(y_pred, bins=range(k+1), align='left')\n",
    "plt.show()"
   ]
  },
  {
   "cell_type": "code",
   "execution_count": 88,
   "id": "fe8b6f7f",
   "metadata": {},
   "outputs": [
    {
     "data": {
      "text/plain": [
       "5    4872\n",
       "1    2356\n",
       "3     634\n",
       "6     557\n",
       "2     393\n",
       "0     391\n",
       "4      29\n",
       "Name: Gauss, dtype: int64"
      ]
     },
     "execution_count": 88,
     "metadata": {},
     "output_type": "execute_result"
    }
   ],
   "source": [
    "df[ \"Gauss\"].value_counts()"
   ]
  },
  {
   "cell_type": "code",
   "execution_count": 89,
   "id": "ce753ec1",
   "metadata": {},
   "outputs": [
    {
     "data": {
      "image/png": "[encoded data removed]",
      "text/plain": [
       "<Figure size 720x864 with 1 Axes>"
      ]
     },
     "metadata": {},
     "output_type": "display_data"
    }
   ],
   "source": [
    "#plot Gaussian results on a 2-dimensional tSNE of the same data set\n",
    "tsne_plot(X, df.Gauss)"
   ]
  },
  {
   "cell_type": "code",
   "execution_count": 90,
   "id": "f7d191cb",
   "metadata": {},
   "outputs": [
    {
     "data": {
      "text/html": [
       "<div>\n",
       "<style scoped>\n",
       "    .dataframe tbody tr th:only-of-type {\n",
       "        vertical-align: middle;\n",
       "    }\n",
       "\n",
       "    .dataframe tbody tr th {\n",
       "        vertical-align: top;\n",
       "    }\n",
       "\n",
       "    .dataframe thead th {\n",
       "        text-align: right;\n",
       "    }\n",
       "</style>\n",
       "<table border=\"1\" class=\"dataframe\">\n",
       "  <thead>\n",
       "    <tr style=\"text-align: right;\">\n",
       "      <th></th>\n",
       "      <th>brand</th>\n",
       "      <th>category</th>\n",
       "      <th>number_of_reviews</th>\n",
       "      <th>love</th>\n",
       "      <th>price</th>\n",
       "      <th>online_only</th>\n",
       "      <th>exclusive</th>\n",
       "      <th>limited_edition</th>\n",
       "      <th>limited_time_offer</th>\n",
       "      <th>cat_rating</th>\n",
       "      <th>...</th>\n",
       "      <th>oil</th>\n",
       "      <th>extract</th>\n",
       "      <th>sodium</th>\n",
       "      <th>glycol</th>\n",
       "      <th>acid</th>\n",
       "      <th>seed</th>\n",
       "      <th>metha</th>\n",
       "      <th>KMeans</th>\n",
       "      <th>DBSCAN</th>\n",
       "      <th>Gauss</th>\n",
       "    </tr>\n",
       "  </thead>\n",
       "  <tbody>\n",
       "    <tr>\n",
       "      <th>601</th>\n",
       "      <td>BeautyBio</td>\n",
       "      <td>Face Oils</td>\n",
       "      <td>9</td>\n",
       "      <td>2000</td>\n",
       "      <td>70.0</td>\n",
       "      <td>1</td>\n",
       "      <td>0</td>\n",
       "      <td>0</td>\n",
       "      <td>0</td>\n",
       "      <td>4.5</td>\n",
       "      <td>...</td>\n",
       "      <td>0</td>\n",
       "      <td>0</td>\n",
       "      <td>0</td>\n",
       "      <td>0</td>\n",
       "      <td>0</td>\n",
       "      <td>1</td>\n",
       "      <td>0</td>\n",
       "      <td>4</td>\n",
       "      <td>-1</td>\n",
       "      <td>4</td>\n",
       "    </tr>\n",
       "    <tr>\n",
       "      <th>975</th>\n",
       "      <td>boscia</td>\n",
       "      <td>Moisturizers</td>\n",
       "      <td>23</td>\n",
       "      <td>2500</td>\n",
       "      <td>38.0</td>\n",
       "      <td>0</td>\n",
       "      <td>0</td>\n",
       "      <td>0</td>\n",
       "      <td>0</td>\n",
       "      <td>4.5</td>\n",
       "      <td>...</td>\n",
       "      <td>0</td>\n",
       "      <td>0</td>\n",
       "      <td>0</td>\n",
       "      <td>0</td>\n",
       "      <td>0</td>\n",
       "      <td>1</td>\n",
       "      <td>0</td>\n",
       "      <td>4</td>\n",
       "      <td>-1</td>\n",
       "      <td>4</td>\n",
       "    </tr>\n",
       "    <tr>\n",
       "      <th>1022</th>\n",
       "      <td>Briogeo</td>\n",
       "      <td>Hair Styling Products</td>\n",
       "      <td>58</td>\n",
       "      <td>3500</td>\n",
       "      <td>26.0</td>\n",
       "      <td>0</td>\n",
       "      <td>0</td>\n",
       "      <td>0</td>\n",
       "      <td>0</td>\n",
       "      <td>4.0</td>\n",
       "      <td>...</td>\n",
       "      <td>0</td>\n",
       "      <td>0</td>\n",
       "      <td>0</td>\n",
       "      <td>0</td>\n",
       "      <td>0</td>\n",
       "      <td>1</td>\n",
       "      <td>0</td>\n",
       "      <td>4</td>\n",
       "      <td>-1</td>\n",
       "      <td>4</td>\n",
       "    </tr>\n",
       "    <tr>\n",
       "      <th>1482</th>\n",
       "      <td>Christophe Robin</td>\n",
       "      <td>Hair Masks</td>\n",
       "      <td>448</td>\n",
       "      <td>11900</td>\n",
       "      <td>71.0</td>\n",
       "      <td>0</td>\n",
       "      <td>0</td>\n",
       "      <td>0</td>\n",
       "      <td>0</td>\n",
       "      <td>3.5</td>\n",
       "      <td>...</td>\n",
       "      <td>0</td>\n",
       "      <td>0</td>\n",
       "      <td>0</td>\n",
       "      <td>0</td>\n",
       "      <td>0</td>\n",
       "      <td>1</td>\n",
       "      <td>0</td>\n",
       "      <td>4</td>\n",
       "      <td>-1</td>\n",
       "      <td>4</td>\n",
       "    </tr>\n",
       "    <tr>\n",
       "      <th>1506</th>\n",
       "      <td>Christophe Robin</td>\n",
       "      <td>Shampoo</td>\n",
       "      <td>21</td>\n",
       "      <td>2600</td>\n",
       "      <td>40.0</td>\n",
       "      <td>0</td>\n",
       "      <td>0</td>\n",
       "      <td>0</td>\n",
       "      <td>0</td>\n",
       "      <td>4.0</td>\n",
       "      <td>...</td>\n",
       "      <td>0</td>\n",
       "      <td>0</td>\n",
       "      <td>0</td>\n",
       "      <td>0</td>\n",
       "      <td>0</td>\n",
       "      <td>1</td>\n",
       "      <td>0</td>\n",
       "      <td>4</td>\n",
       "      <td>-1</td>\n",
       "      <td>4</td>\n",
       "    </tr>\n",
       "    <tr>\n",
       "      <th>2942</th>\n",
       "      <td>First Aid Beauty</td>\n",
       "      <td>Face Oils</td>\n",
       "      <td>326</td>\n",
       "      <td>18700</td>\n",
       "      <td>30.0</td>\n",
       "      <td>0</td>\n",
       "      <td>0</td>\n",
       "      <td>0</td>\n",
       "      <td>0</td>\n",
       "      <td>4.5</td>\n",
       "      <td>...</td>\n",
       "      <td>0</td>\n",
       "      <td>0</td>\n",
       "      <td>0</td>\n",
       "      <td>0</td>\n",
       "      <td>0</td>\n",
       "      <td>1</td>\n",
       "      <td>0</td>\n",
       "      <td>4</td>\n",
       "      <td>-1</td>\n",
       "      <td>4</td>\n",
       "    </tr>\n",
       "    <tr>\n",
       "      <th>3475</th>\n",
       "      <td>Herbivore</td>\n",
       "      <td>Face Oils</td>\n",
       "      <td>360</td>\n",
       "      <td>36600</td>\n",
       "      <td>48.0</td>\n",
       "      <td>0</td>\n",
       "      <td>0</td>\n",
       "      <td>0</td>\n",
       "      <td>0</td>\n",
       "      <td>4.5</td>\n",
       "      <td>...</td>\n",
       "      <td>0</td>\n",
       "      <td>0</td>\n",
       "      <td>0</td>\n",
       "      <td>0</td>\n",
       "      <td>0</td>\n",
       "      <td>1</td>\n",
       "      <td>0</td>\n",
       "      <td>4</td>\n",
       "      <td>-1</td>\n",
       "      <td>4</td>\n",
       "    </tr>\n",
       "    <tr>\n",
       "      <th>3533</th>\n",
       "      <td>High Beauty</td>\n",
       "      <td>Face Oils</td>\n",
       "      <td>74</td>\n",
       "      <td>6500</td>\n",
       "      <td>54.0</td>\n",
       "      <td>1</td>\n",
       "      <td>1</td>\n",
       "      <td>0</td>\n",
       "      <td>0</td>\n",
       "      <td>4.5</td>\n",
       "      <td>...</td>\n",
       "      <td>0</td>\n",
       "      <td>0</td>\n",
       "      <td>0</td>\n",
       "      <td>0</td>\n",
       "      <td>0</td>\n",
       "      <td>1</td>\n",
       "      <td>0</td>\n",
       "      <td>4</td>\n",
       "      <td>-1</td>\n",
       "      <td>4</td>\n",
       "    </tr>\n",
       "    <tr>\n",
       "      <th>3819</th>\n",
       "      <td>innisfree</td>\n",
       "      <td>Face Serums</td>\n",
       "      <td>607</td>\n",
       "      <td>8800</td>\n",
       "      <td>27.0</td>\n",
       "      <td>0</td>\n",
       "      <td>1</td>\n",
       "      <td>0</td>\n",
       "      <td>0</td>\n",
       "      <td>4.5</td>\n",
       "      <td>...</td>\n",
       "      <td>0</td>\n",
       "      <td>0</td>\n",
       "      <td>0</td>\n",
       "      <td>0</td>\n",
       "      <td>0</td>\n",
       "      <td>1</td>\n",
       "      <td>0</td>\n",
       "      <td>4</td>\n",
       "      <td>-1</td>\n",
       "      <td>4</td>\n",
       "    </tr>\n",
       "    <tr>\n",
       "      <th>3820</th>\n",
       "      <td>innisfree</td>\n",
       "      <td>Moisturizers</td>\n",
       "      <td>26</td>\n",
       "      <td>4600</td>\n",
       "      <td>24.0</td>\n",
       "      <td>0</td>\n",
       "      <td>1</td>\n",
       "      <td>0</td>\n",
       "      <td>0</td>\n",
       "      <td>5</td>\n",
       "      <td>...</td>\n",
       "      <td>0</td>\n",
       "      <td>0</td>\n",
       "      <td>0</td>\n",
       "      <td>0</td>\n",
       "      <td>0</td>\n",
       "      <td>1</td>\n",
       "      <td>0</td>\n",
       "      <td>4</td>\n",
       "      <td>-1</td>\n",
       "      <td>4</td>\n",
       "    </tr>\n",
       "    <tr>\n",
       "      <th>3830</th>\n",
       "      <td>innisfree</td>\n",
       "      <td>Eye Creams &amp; Treatments</td>\n",
       "      <td>16</td>\n",
       "      <td>3300</td>\n",
       "      <td>24.0</td>\n",
       "      <td>0</td>\n",
       "      <td>1</td>\n",
       "      <td>0</td>\n",
       "      <td>0</td>\n",
       "      <td>4.5</td>\n",
       "      <td>...</td>\n",
       "      <td>0</td>\n",
       "      <td>0</td>\n",
       "      <td>0</td>\n",
       "      <td>0</td>\n",
       "      <td>0</td>\n",
       "      <td>1</td>\n",
       "      <td>0</td>\n",
       "      <td>4</td>\n",
       "      <td>-1</td>\n",
       "      <td>4</td>\n",
       "    </tr>\n",
       "    <tr>\n",
       "      <th>3838</th>\n",
       "      <td>innisfree</td>\n",
       "      <td>Toners</td>\n",
       "      <td>11</td>\n",
       "      <td>2300</td>\n",
       "      <td>19.0</td>\n",
       "      <td>0</td>\n",
       "      <td>1</td>\n",
       "      <td>0</td>\n",
       "      <td>0</td>\n",
       "      <td>4.5</td>\n",
       "      <td>...</td>\n",
       "      <td>0</td>\n",
       "      <td>0</td>\n",
       "      <td>0</td>\n",
       "      <td>0</td>\n",
       "      <td>0</td>\n",
       "      <td>1</td>\n",
       "      <td>0</td>\n",
       "      <td>4</td>\n",
       "      <td>-1</td>\n",
       "      <td>4</td>\n",
       "    </tr>\n",
       "    <tr>\n",
       "      <th>3839</th>\n",
       "      <td>innisfree</td>\n",
       "      <td>Eye Creams &amp; Treatments</td>\n",
       "      <td>21</td>\n",
       "      <td>3000</td>\n",
       "      <td>20.0</td>\n",
       "      <td>0</td>\n",
       "      <td>1</td>\n",
       "      <td>0</td>\n",
       "      <td>0</td>\n",
       "      <td>3.5</td>\n",
       "      <td>...</td>\n",
       "      <td>0</td>\n",
       "      <td>0</td>\n",
       "      <td>0</td>\n",
       "      <td>0</td>\n",
       "      <td>0</td>\n",
       "      <td>1</td>\n",
       "      <td>0</td>\n",
       "      <td>4</td>\n",
       "      <td>-1</td>\n",
       "      <td>4</td>\n",
       "    </tr>\n",
       "    <tr>\n",
       "      <th>3846</th>\n",
       "      <td>innisfree</td>\n",
       "      <td>Face Serums</td>\n",
       "      <td>11</td>\n",
       "      <td>1900</td>\n",
       "      <td>25.0</td>\n",
       "      <td>0</td>\n",
       "      <td>1</td>\n",
       "      <td>0</td>\n",
       "      <td>0</td>\n",
       "      <td>5</td>\n",
       "      <td>...</td>\n",
       "      <td>0</td>\n",
       "      <td>0</td>\n",
       "      <td>0</td>\n",
       "      <td>0</td>\n",
       "      <td>0</td>\n",
       "      <td>1</td>\n",
       "      <td>0</td>\n",
       "      <td>4</td>\n",
       "      <td>-1</td>\n",
       "      <td>4</td>\n",
       "    </tr>\n",
       "    <tr>\n",
       "      <th>4371</th>\n",
       "      <td>Kiehl's Since 1851</td>\n",
       "      <td>Face Masks</td>\n",
       "      <td>126</td>\n",
       "      <td>20100</td>\n",
       "      <td>45.0</td>\n",
       "      <td>0</td>\n",
       "      <td>0</td>\n",
       "      <td>0</td>\n",
       "      <td>0</td>\n",
       "      <td>4.5</td>\n",
       "      <td>...</td>\n",
       "      <td>0</td>\n",
       "      <td>0</td>\n",
       "      <td>0</td>\n",
       "      <td>0</td>\n",
       "      <td>0</td>\n",
       "      <td>1</td>\n",
       "      <td>0</td>\n",
       "      <td>4</td>\n",
       "      <td>-1</td>\n",
       "      <td>4</td>\n",
       "    </tr>\n",
       "    <tr>\n",
       "      <th>4389</th>\n",
       "      <td>Kiehl's Since 1851</td>\n",
       "      <td>Face Oils</td>\n",
       "      <td>166</td>\n",
       "      <td>14000</td>\n",
       "      <td>50.0</td>\n",
       "      <td>0</td>\n",
       "      <td>0</td>\n",
       "      <td>0</td>\n",
       "      <td>0</td>\n",
       "      <td>4.0</td>\n",
       "      <td>...</td>\n",
       "      <td>0</td>\n",
       "      <td>0</td>\n",
       "      <td>0</td>\n",
       "      <td>0</td>\n",
       "      <td>0</td>\n",
       "      <td>1</td>\n",
       "      <td>0</td>\n",
       "      <td>4</td>\n",
       "      <td>-1</td>\n",
       "      <td>4</td>\n",
       "    </tr>\n",
       "    <tr>\n",
       "      <th>5563</th>\n",
       "      <td>MILK MAKEUP</td>\n",
       "      <td>Face Masks</td>\n",
       "      <td>78</td>\n",
       "      <td>18600</td>\n",
       "      <td>26.0</td>\n",
       "      <td>1</td>\n",
       "      <td>1</td>\n",
       "      <td>0</td>\n",
       "      <td>0</td>\n",
       "      <td>4.0</td>\n",
       "      <td>...</td>\n",
       "      <td>0</td>\n",
       "      <td>0</td>\n",
       "      <td>0</td>\n",
       "      <td>0</td>\n",
       "      <td>0</td>\n",
       "      <td>1</td>\n",
       "      <td>0</td>\n",
       "      <td>4</td>\n",
       "      <td>-1</td>\n",
       "      <td>4</td>\n",
       "    </tr>\n",
       "    <tr>\n",
       "      <th>6221</th>\n",
       "      <td>The Ordinary</td>\n",
       "      <td>Face Oils</td>\n",
       "      <td>773</td>\n",
       "      <td>115800</td>\n",
       "      <td>9.8</td>\n",
       "      <td>1</td>\n",
       "      <td>0</td>\n",
       "      <td>0</td>\n",
       "      <td>0</td>\n",
       "      <td>4.5</td>\n",
       "      <td>...</td>\n",
       "      <td>0</td>\n",
       "      <td>0</td>\n",
       "      <td>0</td>\n",
       "      <td>0</td>\n",
       "      <td>0</td>\n",
       "      <td>1</td>\n",
       "      <td>0</td>\n",
       "      <td>4</td>\n",
       "      <td>-1</td>\n",
       "      <td>4</td>\n",
       "    </tr>\n",
       "    <tr>\n",
       "      <th>6251</th>\n",
       "      <td>The Ordinary</td>\n",
       "      <td>Face Oils</td>\n",
       "      <td>28</td>\n",
       "      <td>7900</td>\n",
       "      <td>7.7</td>\n",
       "      <td>1</td>\n",
       "      <td>0</td>\n",
       "      <td>0</td>\n",
       "      <td>0</td>\n",
       "      <td>4.5</td>\n",
       "      <td>...</td>\n",
       "      <td>0</td>\n",
       "      <td>0</td>\n",
       "      <td>0</td>\n",
       "      <td>0</td>\n",
       "      <td>0</td>\n",
       "      <td>1</td>\n",
       "      <td>0</td>\n",
       "      <td>4</td>\n",
       "      <td>-1</td>\n",
       "      <td>4</td>\n",
       "    </tr>\n",
       "    <tr>\n",
       "      <th>6273</th>\n",
       "      <td>Origins</td>\n",
       "      <td>Face Masks</td>\n",
       "      <td>257</td>\n",
       "      <td>25400</td>\n",
       "      <td>28.0</td>\n",
       "      <td>0</td>\n",
       "      <td>0</td>\n",
       "      <td>0</td>\n",
       "      <td>0</td>\n",
       "      <td>4.5</td>\n",
       "      <td>...</td>\n",
       "      <td>0</td>\n",
       "      <td>0</td>\n",
       "      <td>0</td>\n",
       "      <td>0</td>\n",
       "      <td>0</td>\n",
       "      <td>1</td>\n",
       "      <td>0</td>\n",
       "      <td>4</td>\n",
       "      <td>-1</td>\n",
       "      <td>4</td>\n",
       "    </tr>\n",
       "    <tr>\n",
       "      <th>6764</th>\n",
       "      <td>Primera</td>\n",
       "      <td>Mists &amp; Essences</td>\n",
       "      <td>196</td>\n",
       "      <td>10600</td>\n",
       "      <td>58.0</td>\n",
       "      <td>0</td>\n",
       "      <td>1</td>\n",
       "      <td>0</td>\n",
       "      <td>0</td>\n",
       "      <td>4.5</td>\n",
       "      <td>...</td>\n",
       "      <td>0</td>\n",
       "      <td>0</td>\n",
       "      <td>0</td>\n",
       "      <td>0</td>\n",
       "      <td>0</td>\n",
       "      <td>1</td>\n",
       "      <td>0</td>\n",
       "      <td>4</td>\n",
       "      <td>-1</td>\n",
       "      <td>4</td>\n",
       "    </tr>\n",
       "    <tr>\n",
       "      <th>6766</th>\n",
       "      <td>Primera</td>\n",
       "      <td>Face Serums</td>\n",
       "      <td>163</td>\n",
       "      <td>2700</td>\n",
       "      <td>74.0</td>\n",
       "      <td>0</td>\n",
       "      <td>1</td>\n",
       "      <td>0</td>\n",
       "      <td>0</td>\n",
       "      <td>4.5</td>\n",
       "      <td>...</td>\n",
       "      <td>0</td>\n",
       "      <td>0</td>\n",
       "      <td>0</td>\n",
       "      <td>0</td>\n",
       "      <td>0</td>\n",
       "      <td>1</td>\n",
       "      <td>0</td>\n",
       "      <td>4</td>\n",
       "      <td>-1</td>\n",
       "      <td>4</td>\n",
       "    </tr>\n",
       "    <tr>\n",
       "      <th>6769</th>\n",
       "      <td>Primera</td>\n",
       "      <td>Sheet Masks</td>\n",
       "      <td>9</td>\n",
       "      <td>2000</td>\n",
       "      <td>6.0</td>\n",
       "      <td>0</td>\n",
       "      <td>1</td>\n",
       "      <td>0</td>\n",
       "      <td>0</td>\n",
       "      <td>4.5</td>\n",
       "      <td>...</td>\n",
       "      <td>0</td>\n",
       "      <td>0</td>\n",
       "      <td>0</td>\n",
       "      <td>0</td>\n",
       "      <td>0</td>\n",
       "      <td>1</td>\n",
       "      <td>0</td>\n",
       "      <td>4</td>\n",
       "      <td>-1</td>\n",
       "      <td>4</td>\n",
       "    </tr>\n",
       "    <tr>\n",
       "      <th>6770</th>\n",
       "      <td>Primera</td>\n",
       "      <td>Value &amp; Gift Sets</td>\n",
       "      <td>6</td>\n",
       "      <td>2600</td>\n",
       "      <td>28.0</td>\n",
       "      <td>0</td>\n",
       "      <td>1</td>\n",
       "      <td>0</td>\n",
       "      <td>0</td>\n",
       "      <td>4.5</td>\n",
       "      <td>...</td>\n",
       "      <td>0</td>\n",
       "      <td>0</td>\n",
       "      <td>0</td>\n",
       "      <td>0</td>\n",
       "      <td>0</td>\n",
       "      <td>1</td>\n",
       "      <td>0</td>\n",
       "      <td>4</td>\n",
       "      <td>-1</td>\n",
       "      <td>4</td>\n",
       "    </tr>\n",
       "    <tr>\n",
       "      <th>6772</th>\n",
       "      <td>Primera</td>\n",
       "      <td>Face Masks</td>\n",
       "      <td>10</td>\n",
       "      <td>1400</td>\n",
       "      <td>22.0</td>\n",
       "      <td>0</td>\n",
       "      <td>1</td>\n",
       "      <td>0</td>\n",
       "      <td>0</td>\n",
       "      <td>5</td>\n",
       "      <td>...</td>\n",
       "      <td>0</td>\n",
       "      <td>0</td>\n",
       "      <td>0</td>\n",
       "      <td>0</td>\n",
       "      <td>0</td>\n",
       "      <td>1</td>\n",
       "      <td>0</td>\n",
       "      <td>4</td>\n",
       "      <td>-1</td>\n",
       "      <td>4</td>\n",
       "    </tr>\n",
       "    <tr>\n",
       "      <th>6775</th>\n",
       "      <td>Primera</td>\n",
       "      <td>Face Wash &amp; Cleansers</td>\n",
       "      <td>34</td>\n",
       "      <td>3400</td>\n",
       "      <td>30.0</td>\n",
       "      <td>0</td>\n",
       "      <td>1</td>\n",
       "      <td>0</td>\n",
       "      <td>0</td>\n",
       "      <td>4.5</td>\n",
       "      <td>...</td>\n",
       "      <td>0</td>\n",
       "      <td>0</td>\n",
       "      <td>0</td>\n",
       "      <td>0</td>\n",
       "      <td>0</td>\n",
       "      <td>1</td>\n",
       "      <td>0</td>\n",
       "      <td>4</td>\n",
       "      <td>-1</td>\n",
       "      <td>4</td>\n",
       "    </tr>\n",
       "    <tr>\n",
       "      <th>6780</th>\n",
       "      <td>Primera</td>\n",
       "      <td>Eye Creams &amp; Treatments</td>\n",
       "      <td>6</td>\n",
       "      <td>649</td>\n",
       "      <td>64.0</td>\n",
       "      <td>0</td>\n",
       "      <td>1</td>\n",
       "      <td>0</td>\n",
       "      <td>0</td>\n",
       "      <td>4.0</td>\n",
       "      <td>...</td>\n",
       "      <td>0</td>\n",
       "      <td>0</td>\n",
       "      <td>0</td>\n",
       "      <td>0</td>\n",
       "      <td>0</td>\n",
       "      <td>1</td>\n",
       "      <td>0</td>\n",
       "      <td>4</td>\n",
       "      <td>-1</td>\n",
       "      <td>4</td>\n",
       "    </tr>\n",
       "    <tr>\n",
       "      <th>6784</th>\n",
       "      <td>Primera</td>\n",
       "      <td>Sheet Masks</td>\n",
       "      <td>3</td>\n",
       "      <td>894</td>\n",
       "      <td>6.0</td>\n",
       "      <td>0</td>\n",
       "      <td>1</td>\n",
       "      <td>0</td>\n",
       "      <td>0</td>\n",
       "      <td>4.0</td>\n",
       "      <td>...</td>\n",
       "      <td>0</td>\n",
       "      <td>0</td>\n",
       "      <td>0</td>\n",
       "      <td>0</td>\n",
       "      <td>0</td>\n",
       "      <td>1</td>\n",
       "      <td>0</td>\n",
       "      <td>4</td>\n",
       "      <td>-1</td>\n",
       "      <td>4</td>\n",
       "    </tr>\n",
       "    <tr>\n",
       "      <th>6790</th>\n",
       "      <td>Primera</td>\n",
       "      <td>Sheet Masks</td>\n",
       "      <td>3</td>\n",
       "      <td>686</td>\n",
       "      <td>6.0</td>\n",
       "      <td>0</td>\n",
       "      <td>1</td>\n",
       "      <td>0</td>\n",
       "      <td>0</td>\n",
       "      <td>3.5</td>\n",
       "      <td>...</td>\n",
       "      <td>0</td>\n",
       "      <td>0</td>\n",
       "      <td>0</td>\n",
       "      <td>0</td>\n",
       "      <td>0</td>\n",
       "      <td>1</td>\n",
       "      <td>0</td>\n",
       "      <td>4</td>\n",
       "      <td>-1</td>\n",
       "      <td>4</td>\n",
       "    </tr>\n",
       "  </tbody>\n",
       "</table>\n",
       "<p>29 rows × 28 columns</p>\n",
       "</div>"
      ],
      "text/plain": [
       "                   brand                 category  number_of_reviews    love  \\\n",
       "601            BeautyBio                Face Oils                  9    2000   \n",
       "975               boscia             Moisturizers                 23    2500   \n",
       "1022             Briogeo    Hair Styling Products                 58    3500   \n",
       "1482    Christophe Robin               Hair Masks                448   11900   \n",
       "1506    Christophe Robin                  Shampoo                 21    2600   \n",
       "2942    First Aid Beauty                Face Oils                326   18700   \n",
       "3475           Herbivore                Face Oils                360   36600   \n",
       "3533         High Beauty                Face Oils                 74    6500   \n",
       "3819           innisfree              Face Serums                607    8800   \n",
       "3820           innisfree             Moisturizers                 26    4600   \n",
       "3830           innisfree  Eye Creams & Treatments                 16    3300   \n",
       "3838           innisfree                   Toners                 11    2300   \n",
       "3839           innisfree  Eye Creams & Treatments                 21    3000   \n",
       "3846           innisfree              Face Serums                 11    1900   \n",
       "4371  Kiehl's Since 1851               Face Masks                126   20100   \n",
       "4389  Kiehl's Since 1851                Face Oils                166   14000   \n",
       "5563         MILK MAKEUP               Face Masks                 78   18600   \n",
       "6221        The Ordinary                Face Oils                773  115800   \n",
       "6251        The Ordinary                Face Oils                 28    7900   \n",
       "6273             Origins               Face Masks                257   25400   \n",
       "6764             Primera         Mists & Essences                196   10600   \n",
       "6766             Primera              Face Serums                163    2700   \n",
       "6769             Primera              Sheet Masks                  9    2000   \n",
       "6770             Primera        Value & Gift Sets                  6    2600   \n",
       "6772             Primera               Face Masks                 10    1400   \n",
       "6775             Primera    Face Wash & Cleansers                 34    3400   \n",
       "6780             Primera  Eye Creams & Treatments                  6     649   \n",
       "6784             Primera              Sheet Masks                  3     894   \n",
       "6790             Primera              Sheet Masks                  3     686   \n",
       "\n",
       "      price  online_only  exclusive  limited_edition  limited_time_offer  \\\n",
       "601    70.0            1          0                0                   0   \n",
       "975    38.0            0          0                0                   0   \n",
       "1022   26.0            0          0                0                   0   \n",
       "1482   71.0            0          0                0                   0   \n",
       "1506   40.0            0          0                0                   0   \n",
       "2942   30.0            0          0                0                   0   \n",
       "3475   48.0            0          0                0                   0   \n",
       "3533   54.0            1          1                0                   0   \n",
       "3819   27.0            0          1                0                   0   \n",
       "3820   24.0            0          1                0                   0   \n",
       "3830   24.0            0          1                0                   0   \n",
       "3838   19.0            0          1                0                   0   \n",
       "3839   20.0            0          1                0                   0   \n",
       "3846   25.0            0          1                0                   0   \n",
       "4371   45.0            0          0                0                   0   \n",
       "4389   50.0            0          0                0                   0   \n",
       "5563   26.0            1          1                0                   0   \n",
       "6221    9.8            1          0                0                   0   \n",
       "6251    7.7            1          0                0                   0   \n",
       "6273   28.0            0          0                0                   0   \n",
       "6764   58.0            0          1                0                   0   \n",
       "6766   74.0            0          1                0                   0   \n",
       "6769    6.0            0          1                0                   0   \n",
       "6770   28.0            0          1                0                   0   \n",
       "6772   22.0            0          1                0                   0   \n",
       "6775   30.0            0          1                0                   0   \n",
       "6780   64.0            0          1                0                   0   \n",
       "6784    6.0            0          1                0                   0   \n",
       "6790    6.0            0          1                0                   0   \n",
       "\n",
       "     cat_rating  ... oil  extract  sodium  glycol  acid  seed  metha  KMeans  \\\n",
       "601         4.5  ...   0        0       0       0     0     1      0       4   \n",
       "975         4.5  ...   0        0       0       0     0     1      0       4   \n",
       "1022        4.0  ...   0        0       0       0     0     1      0       4   \n",
       "1482        3.5  ...   0        0       0       0     0     1      0       4   \n",
       "1506        4.0  ...   0        0       0       0     0     1      0       4   \n",
       "2942        4.5  ...   0        0       0       0     0     1      0       4   \n",
       "3475        4.5  ...   0        0       0       0     0     1      0       4   \n",
       "3533        4.5  ...   0        0       0       0     0     1      0       4   \n",
       "3819        4.5  ...   0        0       0       0     0     1      0       4   \n",
       "3820          5  ...   0        0       0       0     0     1      0       4   \n",
       "3830        4.5  ...   0        0       0       0     0     1      0       4   \n",
       "3838        4.5  ...   0        0       0       0     0     1      0       4   \n",
       "3839        3.5  ...   0        0       0       0     0     1      0       4   \n",
       "3846          5  ...   0        0       0       0     0     1      0       4   \n",
       "4371        4.5  ...   0        0       0       0     0     1      0       4   \n",
       "4389        4.0  ...   0        0       0       0     0     1      0       4   \n",
       "5563        4.0  ...   0        0       0       0     0     1      0       4   \n",
       "6221        4.5  ...   0        0       0       0     0     1      0       4   \n",
       "6251        4.5  ...   0        0       0       0     0     1      0       4   \n",
       "6273        4.5  ...   0        0       0       0     0     1      0       4   \n",
       "6764        4.5  ...   0        0       0       0     0     1      0       4   \n",
       "6766        4.5  ...   0        0       0       0     0     1      0       4   \n",
       "6769        4.5  ...   0        0       0       0     0     1      0       4   \n",
       "6770        4.5  ...   0        0       0       0     0     1      0       4   \n",
       "6772          5  ...   0        0       0       0     0     1      0       4   \n",
       "6775        4.5  ...   0        0       0       0     0     1      0       4   \n",
       "6780        4.0  ...   0        0       0       0     0     1      0       4   \n",
       "6784        4.0  ...   0        0       0       0     0     1      0       4   \n",
       "6790        3.5  ...   0        0       0       0     0     1      0       4   \n",
       "\n",
       "      DBSCAN  Gauss  \n",
       "601       -1      4  \n",
       "975       -1      4  \n",
       "1022      -1      4  \n",
       "1482      -1      4  \n",
       "1506      -1      4  \n",
       "2942      -1      4  \n",
       "3475      -1      4  \n",
       "3533      -1      4  \n",
       "3819      -1      4  \n",
       "3820      -1      4  \n",
       "3830      -1      4  \n",
       "3838      -1      4  \n",
       "3839      -1      4  \n",
       "3846      -1      4  \n",
       "4371      -1      4  \n",
       "4389      -1      4  \n",
       "5563      -1      4  \n",
       "6221      -1      4  \n",
       "6251      -1      4  \n",
       "6273      -1      4  \n",
       "6764      -1      4  \n",
       "6766      -1      4  \n",
       "6769      -1      4  \n",
       "6770      -1      4  \n",
       "6772      -1      4  \n",
       "6775      -1      4  \n",
       "6780      -1      4  \n",
       "6784      -1      4  \n",
       "6790      -1      4  \n",
       "\n",
       "[29 rows x 28 columns]"
      ]
     },
     "execution_count": 90,
     "metadata": {},
     "output_type": "execute_result"
    }
   ],
   "source": [
    "df[y_pred==4]"
   ]
  },
  {
   "cell_type": "code",
   "execution_count": 91,
   "id": "7dae8512",
   "metadata": {},
   "outputs": [
    {
     "data": {
      "text/plain": [
       "1    29\n",
       "Name: seed, dtype: int64"
      ]
     },
     "execution_count": 91,
     "metadata": {},
     "output_type": "execute_result"
    }
   ],
   "source": [
    "df[y_pred==4].seed.value_counts()\n",
    "#all of these products have \"seed\" in the name"
   ]
  },
  {
   "cell_type": "code",
   "execution_count": 92,
   "id": "d3666dc9",
   "metadata": {},
   "outputs": [
    {
     "data": {
      "text/plain": [
       "Primera               9\n",
       "innisfree             6\n",
       "Christophe Robin      2\n",
       "Kiehl's Since 1851    2\n",
       "The Ordinary          2\n",
       "BeautyBio             1\n",
       "boscia                1\n",
       "Briogeo               1\n",
       "First Aid Beauty      1\n",
       "Herbivore             1\n",
       "High Beauty           1\n",
       "MILK MAKEUP           1\n",
       "Origins               1\n",
       "Name: brand, dtype: int64"
      ]
     },
     "execution_count": 92,
     "metadata": {},
     "output_type": "execute_result"
    }
   ],
   "source": [
    "df[y_pred==4].brand.value_counts()\n",
    "#these are all brands that have \"clean\" products at sephora"
   ]
  },
  {
   "cell_type": "code",
   "execution_count": 93,
   "id": "24eb7dc8",
   "metadata": {},
   "outputs": [
    {
     "data": {
      "text/plain": [
       "Face Oils                  7\n",
       "Face Masks                 4\n",
       "Face Serums                3\n",
       "Eye Creams & Treatments    3\n",
       "Sheet Masks                3\n",
       "Moisturizers               2\n",
       "Hair Styling Products      1\n",
       "Hair Masks                 1\n",
       "Shampoo                    1\n",
       "Toners                     1\n",
       "Mists & Essences           1\n",
       "Value & Gift Sets          1\n",
       "Face Wash & Cleansers      1\n",
       "Name: category, dtype: int64"
      ]
     },
     "execution_count": 93,
     "metadata": {},
     "output_type": "execute_result"
    }
   ],
   "source": [
    "df[y_pred==4].category.value_counts()\n",
    "#mostly treatments for your face"
   ]
  },
  {
   "cell_type": "code",
   "execution_count": 94,
   "id": "ad9c6c7d",
   "metadata": {},
   "outputs": [
    {
     "data": {
      "text/plain": [
       "4.5    17\n",
       "4.0     6\n",
       "3.5     3\n",
       "5       3\n",
       "Name: cat_rating, dtype: int64"
      ]
     },
     "execution_count": 94,
     "metadata": {},
     "output_type": "execute_result"
    }
   ],
   "source": [
    "df[y_pred==4].cat_rating.value_counts()\n",
    "#mostly 4.5 rating"
   ]
  },
  {
   "cell_type": "code",
   "execution_count": 95,
   "id": "e6fbc8a3",
   "metadata": {},
   "outputs": [
    {
     "data": {
      "text/plain": [
       "1    17\n",
       "0    12\n",
       "Name: exclusive, dtype: int64"
      ]
     },
     "execution_count": 95,
     "metadata": {},
     "output_type": "execute_result"
    }
   ],
   "source": [
    "df[y_pred==4].exclusive.value_counts()\n",
    "#over half of these products are exclusive to sephora"
   ]
  },
  {
   "cell_type": "code",
   "execution_count": 96,
   "id": "5327436f",
   "metadata": {},
   "outputs": [
    {
     "data": {
      "text/plain": [
       "6.0     3\n",
       "26.0    2\n",
       "30.0    2\n",
       "28.0    2\n",
       "24.0    2\n",
       "70.0    1\n",
       "45.0    1\n",
       "22.0    1\n",
       "74.0    1\n",
       "58.0    1\n",
       "7.7     1\n",
       "9.8     1\n",
       "50.0    1\n",
       "20.0    1\n",
       "25.0    1\n",
       "38.0    1\n",
       "19.0    1\n",
       "27.0    1\n",
       "54.0    1\n",
       "48.0    1\n",
       "40.0    1\n",
       "71.0    1\n",
       "64.0    1\n",
       "Name: price, dtype: int64"
      ]
     },
     "execution_count": 96,
     "metadata": {},
     "output_type": "execute_result"
    }
   ],
   "source": [
    "df[y_pred==4].price.value_counts()"
   ]
  },
  {
   "cell_type": "code",
   "execution_count": null,
   "id": "d3393e42",
   "metadata": {},
   "outputs": [],
   "source": []
  }
 ],
 "metadata": {
  "kernelspec": {
   "display_name": "Python 3 (ipykernel)",
   "language": "python",
   "name": "python3"
  },
  "language_info": {
   "codemirror_mode": {
    "name": "ipython",
    "version": 3
   },
   "file_extension": ".py",
   "mimetype": "text/x-python",
   "name": "python",
   "nbconvert_exporter": "python",
   "pygments_lexer": "ipython3",
   "version": "3.9.12"
  }
 },
 "nbformat": 4,
 "nbformat_minor": 5
}
