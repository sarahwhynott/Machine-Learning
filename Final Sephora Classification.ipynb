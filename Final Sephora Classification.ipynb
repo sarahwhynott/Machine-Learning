{
 "cells": [
  {
   "cell_type": "markdown",
   "id": "8031ebb6",
   "metadata": {},
   "source": [
    "## <font color=purple>Import needed modules</font>"
   ]
  },
  {
   "cell_type": "code",
   "execution_count": 1,
   "id": "de1f5fc6",
   "metadata": {},
   "outputs": [],
   "source": [
    "#!pip install scikit-learn-intelex"
   ]
  },
  {
   "cell_type": "code",
   "execution_count": 2,
   "id": "b79563aa",
   "metadata": {},
   "outputs": [
    {
     "name": "stderr",
     "output_type": "stream",
     "text": [
      "Intel(R) Extension for Scikit-learn* enabled (https://github.com/intel/scikit-learn-intelex)\n"
     ]
    }
   ],
   "source": [
    "#NEW\n",
    "from sklearnex import patch_sklearn\n",
    "patch_sklearn()"
   ]
  },
  {
   "cell_type": "code",
   "execution_count": 3,
   "id": "b489d936",
   "metadata": {},
   "outputs": [],
   "source": [
    "#general libraries needed\n",
    "import pandas as pd\n",
    "import matplotlib.pyplot as plt\n",
    "import numpy as np\n",
    "import time\n",
    "\n",
    "#scikit learn imports\n",
    "from sklearn.linear_model import LogisticRegression, SGDClassifier\n",
    "from sklearn.model_selection import train_test_split, cross_val_score, GridSearchCV\n",
    "from sklearn.ensemble import RandomForestClassifier, GradientBoostingClassifier, HistGradientBoostingClassifier\n",
    "from sklearn.tree import DecisionTreeClassifier\n",
    "from sklearn.neighbors import KNeighborsClassifier\n",
    "from sklearn.impute import SimpleImputer\n",
    "from sklearn.preprocessing import PolynomialFeatures, OneHotEncoder, StandardScaler, OrdinalEncoder\n",
    "from sklearn.compose import ColumnTransformer\n",
    "from sklearn.pipeline import Pipeline\n",
    "from sklearn.metrics import accuracy_score, f1_score, precision_score, recall_score, classification_report\n",
    "\n",
    "#give yourself the opportunity to visualize the pipeline and models\n",
    "from sklearn import set_config\n",
    "set_config(display='diagram')"
   ]
  },
  {
   "cell_type": "markdown",
   "id": "75c79584",
   "metadata": {},
   "source": [
    "## <font color=purple>Function Definitions"
   ]
  },
  {
   "cell_type": "code",
   "execution_count": 4,
   "id": "be2111a9",
   "metadata": {},
   "outputs": [],
   "source": [
    "#function to verify the existence of a file in the current working directory and download it if not\n",
    "import os,urllib, urllib.request, sys, tarfile\n",
    "def downloadDataResource(file,sourcePath,compressed=None):\n",
    "    if not os.path.isfile(file):\n",
    "        try:\n",
    "            urllib.request.urlretrieve(sourcePath+(compressed if compressed else file),(compressed if compressed else file))\n",
    "            print(\"Downloaded\", (compressed if compressed else file) )\n",
    "            if compressed:\n",
    "                ucomp = tarfile.open(compressed)\n",
    "                ucomp.extractall()\n",
    "                ucomp.close()\n",
    "                print(\"File uncompressed.\")\n",
    "        except:\n",
    "            print(\"ERROR: File\", (compressed if compressed else file), \"not found. Data source missing.\")\n",
    "    else:\n",
    "        print(\"Data resource\", file, \"already downloaded.\")"
   ]
  },
  {
   "cell_type": "code",
   "execution_count": 5,
   "id": "dd264dc1",
   "metadata": {},
   "outputs": [],
   "source": [
    "#function that shows a learning curve for any model that has predict or fit methods\n",
    "from sklearn.model_selection import learning_curve\n",
    "\n",
    "def plot_learning_curve(estimator,X,y,ylim=None,cv=None,n_jobs=None,train_sizes=np.linspace(0.1, 1.0, 20),scoring = 'neg_root_mean_squared_error'):\n",
    "    \n",
    "    _, axes = plt.subplots(1, 1, figsize=(10, 5))    \n",
    "    axes.set_title('Learning Curve')\n",
    "    if ylim is not None:\n",
    "        axes.set_ylim(*ylim)\n",
    "    axes.set_xlabel(\"Training examples\")\n",
    "    axes.set_ylabel(scoring)\n",
    "\n",
    "    train_sizes, train_scores, test_scores= learning_curve(estimator,X,y,cv=cv,n_jobs=n_jobs,train_sizes=train_sizes,scoring = scoring)\n",
    "    train_scores_mean = np.mean(train_scores, axis=1)\n",
    "    train_scores_std = np.std(train_scores, axis=1)\n",
    "    test_scores_mean = np.mean(test_scores, axis=1)\n",
    "    test_scores_std = np.std(test_scores, axis=1)\n",
    "\n",
    "    # Plot learning curve\n",
    "    axes.grid()\n",
    "    axes.fill_between(train_sizes,train_scores_mean - train_scores_std,train_scores_mean + train_scores_std,alpha=0.1,color=\"r\")\n",
    "    axes.fill_between(train_sizes,test_scores_mean - test_scores_std,test_scores_mean + test_scores_std,alpha=0.1,color=\"g\")\n",
    "    axes.plot(train_sizes, train_scores_mean, \"o-\", color=\"r\", label=\"Training score\")\n",
    "    axes.plot(train_sizes, test_scores_mean, \"o-\", color=\"g\", label=\"Cross-validation score\")\n",
    "    axes.legend(loc=\"best\")\n",
    "    plt.show()\n",
    "    \n",
    "    return\n",
    "\n",
    "#code to prevent warnings that can occur as a result of this function\n",
    "from warnings import simplefilter\n",
    "from sklearn.exceptions import ConvergenceWarning\n",
    "simplefilter(\"ignore\", category=ConvergenceWarning)"
   ]
  },
  {
   "cell_type": "markdown",
   "id": "4a00c6b2",
   "metadata": {},
   "source": [
    "## <font color=purple>Source Data"
   ]
  },
  {
   "cell_type": "code",
   "execution_count": 6,
   "id": "ffec54e3",
   "metadata": {},
   "outputs": [
    {
     "name": "stdout",
     "output_type": "stream",
     "text": [
      "Data resource sephora_website_dataset.csv already downloaded.\n",
      "Data resource product_info.csv already downloaded.\n"
     ]
    }
   ],
   "source": [
    "#download data files if not currently downloaded into the current working directory\n",
    "path = \"https://raw.githubusercontent.com/sarahwhynott/Machine-Learning/main/\"\n",
    "filename = \"sephora_website_dataset.csv\"\n",
    "\n",
    "\n",
    "path2 = \"https://raw.githubusercontent.com/sarahwhynott/Machine-Learning/main/\"\n",
    "filename2 = \"product_info.csv\"\n",
    "\n",
    "\n",
    "downloadDataResource(filename, path)\n",
    "downloadDataResource(filename2, path2)"
   ]
  },
  {
   "cell_type": "code",
   "execution_count": 7,
   "id": "43701c03",
   "metadata": {},
   "outputs": [],
   "source": [
    "#create a dataframe with the data from the CSV file\n",
    "df = pd.read_csv(filename)\n",
    "df2 = pd.read_csv(filename2)"
   ]
  },
  {
   "cell_type": "markdown",
   "id": "fe25b7b0",
   "metadata": {},
   "source": [
    "## <font color=purple>Analyze the data set"
   ]
  },
  {
   "cell_type": "code",
   "execution_count": 8,
   "id": "5eb7fd48",
   "metadata": {},
   "outputs": [
    {
     "name": "stdout",
     "output_type": "stream",
     "text": [
      "<class 'pandas.core.frame.DataFrame'>\n",
      "RangeIndex: 9168 entries, 0 to 9167\n",
      "Data columns (total 21 columns):\n",
      " #   Column                  Non-Null Count  Dtype  \n",
      "---  ------                  --------------  -----  \n",
      " 0   id                      9168 non-null   int64  \n",
      " 1   brand                   9168 non-null   object \n",
      " 2   category                9168 non-null   object \n",
      " 3   name                    9168 non-null   object \n",
      " 4   size                    9168 non-null   object \n",
      " 5   rating                  9168 non-null   float64\n",
      " 6   number_of_reviews       9168 non-null   int64  \n",
      " 7   love                    9168 non-null   int64  \n",
      " 8   price                   9168 non-null   float64\n",
      " 9   value_price             9168 non-null   float64\n",
      " 10  URL                     9168 non-null   object \n",
      " 11  MarketingFlags          9168 non-null   bool   \n",
      " 12  MarketingFlags_content  9168 non-null   object \n",
      " 13  options                 9168 non-null   object \n",
      " 14  details                 9168 non-null   object \n",
      " 15  how_to_use              9168 non-null   object \n",
      " 16  ingredients             9168 non-null   object \n",
      " 17  online_only             9168 non-null   int64  \n",
      " 18  exclusive               9168 non-null   int64  \n",
      " 19  limited_edition         9168 non-null   int64  \n",
      " 20  limited_time_offer      9168 non-null   int64  \n",
      "dtypes: bool(1), float64(3), int64(7), object(10)\n",
      "memory usage: 1.4+ MB\n"
     ]
    }
   ],
   "source": [
    "df.info()"
   ]
  },
  {
   "cell_type": "code",
   "execution_count": 9,
   "id": "df776ae1",
   "metadata": {},
   "outputs": [
    {
     "data": {
      "text/html": [
       "<div>\n",
       "<style scoped>\n",
       "    .dataframe tbody tr th:only-of-type {\n",
       "        vertical-align: middle;\n",
       "    }\n",
       "\n",
       "    .dataframe tbody tr th {\n",
       "        vertical-align: top;\n",
       "    }\n",
       "\n",
       "    .dataframe thead th {\n",
       "        text-align: right;\n",
       "    }\n",
       "</style>\n",
       "<table border=\"1\" class=\"dataframe\">\n",
       "  <thead>\n",
       "    <tr style=\"text-align: right;\">\n",
       "      <th></th>\n",
       "      <th>id</th>\n",
       "      <th>rating</th>\n",
       "      <th>number_of_reviews</th>\n",
       "      <th>love</th>\n",
       "      <th>price</th>\n",
       "      <th>value_price</th>\n",
       "      <th>online_only</th>\n",
       "      <th>exclusive</th>\n",
       "      <th>limited_edition</th>\n",
       "      <th>limited_time_offer</th>\n",
       "    </tr>\n",
       "  </thead>\n",
       "  <tbody>\n",
       "    <tr>\n",
       "      <th>count</th>\n",
       "      <td>9.168000e+03</td>\n",
       "      <td>9168.000000</td>\n",
       "      <td>9168.000000</td>\n",
       "      <td>9.168000e+03</td>\n",
       "      <td>9168.000000</td>\n",
       "      <td>9168.00000</td>\n",
       "      <td>9168.000000</td>\n",
       "      <td>9168.000000</td>\n",
       "      <td>9168.000000</td>\n",
       "      <td>9168.000000</td>\n",
       "    </tr>\n",
       "    <tr>\n",
       "      <th>mean</th>\n",
       "      <td>1.962952e+06</td>\n",
       "      <td>3.990020</td>\n",
       "      <td>282.139180</td>\n",
       "      <td>1.627859e+04</td>\n",
       "      <td>50.063237</td>\n",
       "      <td>51.82359</td>\n",
       "      <td>0.234839</td>\n",
       "      <td>0.264725</td>\n",
       "      <td>0.091841</td>\n",
       "      <td>0.000327</td>\n",
       "    </tr>\n",
       "    <tr>\n",
       "      <th>std</th>\n",
       "      <td>3.859714e+05</td>\n",
       "      <td>1.007707</td>\n",
       "      <td>890.642028</td>\n",
       "      <td>4.260651e+04</td>\n",
       "      <td>47.164989</td>\n",
       "      <td>49.45902</td>\n",
       "      <td>0.423921</td>\n",
       "      <td>0.441211</td>\n",
       "      <td>0.288817</td>\n",
       "      <td>0.018087</td>\n",
       "    </tr>\n",
       "    <tr>\n",
       "      <th>min</th>\n",
       "      <td>5.000000e+01</td>\n",
       "      <td>0.000000</td>\n",
       "      <td>0.000000</td>\n",
       "      <td>0.000000e+00</td>\n",
       "      <td>2.000000</td>\n",
       "      <td>2.00000</td>\n",
       "      <td>0.000000</td>\n",
       "      <td>0.000000</td>\n",
       "      <td>0.000000</td>\n",
       "      <td>0.000000</td>\n",
       "    </tr>\n",
       "    <tr>\n",
       "      <th>25%</th>\n",
       "      <td>1.819453e+06</td>\n",
       "      <td>4.000000</td>\n",
       "      <td>10.000000</td>\n",
       "      <td>1.600000e+03</td>\n",
       "      <td>24.000000</td>\n",
       "      <td>25.00000</td>\n",
       "      <td>0.000000</td>\n",
       "      <td>0.000000</td>\n",
       "      <td>0.000000</td>\n",
       "      <td>0.000000</td>\n",
       "    </tr>\n",
       "    <tr>\n",
       "      <th>50%</th>\n",
       "      <td>2.072354e+06</td>\n",
       "      <td>4.000000</td>\n",
       "      <td>46.000000</td>\n",
       "      <td>4.800000e+03</td>\n",
       "      <td>35.000000</td>\n",
       "      <td>35.00000</td>\n",
       "      <td>0.000000</td>\n",
       "      <td>0.000000</td>\n",
       "      <td>0.000000</td>\n",
       "      <td>0.000000</td>\n",
       "    </tr>\n",
       "    <tr>\n",
       "      <th>75%</th>\n",
       "      <td>2.230591e+06</td>\n",
       "      <td>4.500000</td>\n",
       "      <td>210.000000</td>\n",
       "      <td>1.380000e+04</td>\n",
       "      <td>59.000000</td>\n",
       "      <td>60.00000</td>\n",
       "      <td>0.000000</td>\n",
       "      <td>1.000000</td>\n",
       "      <td>0.000000</td>\n",
       "      <td>0.000000</td>\n",
       "    </tr>\n",
       "    <tr>\n",
       "      <th>max</th>\n",
       "      <td>2.359685e+06</td>\n",
       "      <td>5.000000</td>\n",
       "      <td>19000.000000</td>\n",
       "      <td>1.300000e+06</td>\n",
       "      <td>549.000000</td>\n",
       "      <td>549.00000</td>\n",
       "      <td>1.000000</td>\n",
       "      <td>1.000000</td>\n",
       "      <td>1.000000</td>\n",
       "      <td>1.000000</td>\n",
       "    </tr>\n",
       "  </tbody>\n",
       "</table>\n",
       "</div>"
      ],
      "text/plain": [
       "                 id       rating  number_of_reviews          love  \\\n",
       "count  9.168000e+03  9168.000000        9168.000000  9.168000e+03   \n",
       "mean   1.962952e+06     3.990020         282.139180  1.627859e+04   \n",
       "std    3.859714e+05     1.007707         890.642028  4.260651e+04   \n",
       "min    5.000000e+01     0.000000           0.000000  0.000000e+00   \n",
       "25%    1.819453e+06     4.000000          10.000000  1.600000e+03   \n",
       "50%    2.072354e+06     4.000000          46.000000  4.800000e+03   \n",
       "75%    2.230591e+06     4.500000         210.000000  1.380000e+04   \n",
       "max    2.359685e+06     5.000000       19000.000000  1.300000e+06   \n",
       "\n",
       "             price  value_price  online_only    exclusive  limited_edition  \\\n",
       "count  9168.000000   9168.00000  9168.000000  9168.000000      9168.000000   \n",
       "mean     50.063237     51.82359     0.234839     0.264725         0.091841   \n",
       "std      47.164989     49.45902     0.423921     0.441211         0.288817   \n",
       "min       2.000000      2.00000     0.000000     0.000000         0.000000   \n",
       "25%      24.000000     25.00000     0.000000     0.000000         0.000000   \n",
       "50%      35.000000     35.00000     0.000000     0.000000         0.000000   \n",
       "75%      59.000000     60.00000     0.000000     1.000000         0.000000   \n",
       "max     549.000000    549.00000     1.000000     1.000000         1.000000   \n",
       "\n",
       "       limited_time_offer  \n",
       "count         9168.000000  \n",
       "mean             0.000327  \n",
       "std              0.018087  \n",
       "min              0.000000  \n",
       "25%              0.000000  \n",
       "50%              0.000000  \n",
       "75%              0.000000  \n",
       "max              1.000000  "
      ]
     },
     "execution_count": 9,
     "metadata": {},
     "output_type": "execute_result"
    }
   ],
   "source": [
    "df.describe()"
   ]
  },
  {
   "cell_type": "code",
   "execution_count": 10,
   "id": "e7432f0b",
   "metadata": {},
   "outputs": [
    {
     "data": {
      "text/html": [
       "<div>\n",
       "<style scoped>\n",
       "    .dataframe tbody tr th:only-of-type {\n",
       "        vertical-align: middle;\n",
       "    }\n",
       "\n",
       "    .dataframe tbody tr th {\n",
       "        vertical-align: top;\n",
       "    }\n",
       "\n",
       "    .dataframe thead th {\n",
       "        text-align: right;\n",
       "    }\n",
       "</style>\n",
       "<table border=\"1\" class=\"dataframe\">\n",
       "  <thead>\n",
       "    <tr style=\"text-align: right;\">\n",
       "      <th></th>\n",
       "      <th>id</th>\n",
       "      <th>rating</th>\n",
       "      <th>number_of_reviews</th>\n",
       "      <th>love</th>\n",
       "      <th>price</th>\n",
       "      <th>value_price</th>\n",
       "      <th>MarketingFlags</th>\n",
       "      <th>online_only</th>\n",
       "      <th>exclusive</th>\n",
       "      <th>limited_edition</th>\n",
       "      <th>limited_time_offer</th>\n",
       "    </tr>\n",
       "  </thead>\n",
       "  <tbody>\n",
       "    <tr>\n",
       "      <th>id</th>\n",
       "      <td>1.000000</td>\n",
       "      <td>-0.176684</td>\n",
       "      <td>-0.175482</td>\n",
       "      <td>-0.104208</td>\n",
       "      <td>-0.026661</td>\n",
       "      <td>-0.004168</td>\n",
       "      <td>0.283722</td>\n",
       "      <td>0.153745</td>\n",
       "      <td>0.199285</td>\n",
       "      <td>0.200357</td>\n",
       "      <td>-0.008607</td>\n",
       "    </tr>\n",
       "    <tr>\n",
       "      <th>rating</th>\n",
       "      <td>-0.176684</td>\n",
       "      <td>1.000000</td>\n",
       "      <td>0.081478</td>\n",
       "      <td>0.094788</td>\n",
       "      <td>0.019559</td>\n",
       "      <td>0.001941</td>\n",
       "      <td>-0.108410</td>\n",
       "      <td>-0.123342</td>\n",
       "      <td>-0.001908</td>\n",
       "      <td>-0.130471</td>\n",
       "      <td>0.006164</td>\n",
       "    </tr>\n",
       "    <tr>\n",
       "      <th>number_of_reviews</th>\n",
       "      <td>-0.175482</td>\n",
       "      <td>0.081478</td>\n",
       "      <td>1.000000</td>\n",
       "      <td>0.746099</td>\n",
       "      <td>-0.084001</td>\n",
       "      <td>-0.088855</td>\n",
       "      <td>-0.096984</td>\n",
       "      <td>-0.137082</td>\n",
       "      <td>0.003799</td>\n",
       "      <td>-0.066661</td>\n",
       "      <td>0.000742</td>\n",
       "    </tr>\n",
       "    <tr>\n",
       "      <th>love</th>\n",
       "      <td>-0.104208</td>\n",
       "      <td>0.094788</td>\n",
       "      <td>0.746099</td>\n",
       "      <td>1.000000</td>\n",
       "      <td>-0.088724</td>\n",
       "      <td>-0.091140</td>\n",
       "      <td>-0.057228</td>\n",
       "      <td>-0.138933</td>\n",
       "      <td>0.050957</td>\n",
       "      <td>-0.046750</td>\n",
       "      <td>-0.002879</td>\n",
       "    </tr>\n",
       "    <tr>\n",
       "      <th>price</th>\n",
       "      <td>-0.026661</td>\n",
       "      <td>0.019559</td>\n",
       "      <td>-0.084001</td>\n",
       "      <td>-0.088724</td>\n",
       "      <td>1.000000</td>\n",
       "      <td>0.983357</td>\n",
       "      <td>-0.056920</td>\n",
       "      <td>0.117250</td>\n",
       "      <td>-0.178809</td>\n",
       "      <td>0.015333</td>\n",
       "      <td>-0.009679</td>\n",
       "    </tr>\n",
       "    <tr>\n",
       "      <th>value_price</th>\n",
       "      <td>-0.004168</td>\n",
       "      <td>0.001941</td>\n",
       "      <td>-0.088855</td>\n",
       "      <td>-0.091140</td>\n",
       "      <td>0.983357</td>\n",
       "      <td>1.000000</td>\n",
       "      <td>-0.028660</td>\n",
       "      <td>0.130658</td>\n",
       "      <td>-0.159005</td>\n",
       "      <td>0.079754</td>\n",
       "      <td>-0.009874</td>\n",
       "    </tr>\n",
       "    <tr>\n",
       "      <th>MarketingFlags</th>\n",
       "      <td>0.283722</td>\n",
       "      <td>-0.108410</td>\n",
       "      <td>-0.096984</td>\n",
       "      <td>-0.057228</td>\n",
       "      <td>-0.056920</td>\n",
       "      <td>-0.028660</td>\n",
       "      <td>1.000000</td>\n",
       "      <td>0.578973</td>\n",
       "      <td>0.627080</td>\n",
       "      <td>0.332344</td>\n",
       "      <td>0.018908</td>\n",
       "    </tr>\n",
       "    <tr>\n",
       "      <th>online_only</th>\n",
       "      <td>0.153745</td>\n",
       "      <td>-0.123342</td>\n",
       "      <td>-0.137082</td>\n",
       "      <td>-0.138933</td>\n",
       "      <td>0.117250</td>\n",
       "      <td>0.130658</td>\n",
       "      <td>0.578973</td>\n",
       "      <td>1.000000</td>\n",
       "      <td>-0.077543</td>\n",
       "      <td>0.097353</td>\n",
       "      <td>-0.010023</td>\n",
       "    </tr>\n",
       "    <tr>\n",
       "      <th>exclusive</th>\n",
       "      <td>0.199285</td>\n",
       "      <td>-0.001908</td>\n",
       "      <td>0.003799</td>\n",
       "      <td>0.050957</td>\n",
       "      <td>-0.178809</td>\n",
       "      <td>-0.159005</td>\n",
       "      <td>0.627080</td>\n",
       "      <td>-0.077543</td>\n",
       "      <td>1.000000</td>\n",
       "      <td>0.166162</td>\n",
       "      <td>0.002814</td>\n",
       "    </tr>\n",
       "    <tr>\n",
       "      <th>limited_edition</th>\n",
       "      <td>0.200357</td>\n",
       "      <td>-0.130471</td>\n",
       "      <td>-0.066661</td>\n",
       "      <td>-0.046750</td>\n",
       "      <td>0.015333</td>\n",
       "      <td>0.079754</td>\n",
       "      <td>0.332344</td>\n",
       "      <td>0.097353</td>\n",
       "      <td>0.166162</td>\n",
       "      <td>1.000000</td>\n",
       "      <td>0.015129</td>\n",
       "    </tr>\n",
       "    <tr>\n",
       "      <th>limited_time_offer</th>\n",
       "      <td>-0.008607</td>\n",
       "      <td>0.006164</td>\n",
       "      <td>0.000742</td>\n",
       "      <td>-0.002879</td>\n",
       "      <td>-0.009679</td>\n",
       "      <td>-0.009874</td>\n",
       "      <td>0.018908</td>\n",
       "      <td>-0.010023</td>\n",
       "      <td>0.002814</td>\n",
       "      <td>0.015129</td>\n",
       "      <td>1.000000</td>\n",
       "    </tr>\n",
       "  </tbody>\n",
       "</table>\n",
       "</div>"
      ],
      "text/plain": [
       "                          id    rating  number_of_reviews      love     price  \\\n",
       "id                  1.000000 -0.176684          -0.175482 -0.104208 -0.026661   \n",
       "rating             -0.176684  1.000000           0.081478  0.094788  0.019559   \n",
       "number_of_reviews  -0.175482  0.081478           1.000000  0.746099 -0.084001   \n",
       "love               -0.104208  0.094788           0.746099  1.000000 -0.088724   \n",
       "price              -0.026661  0.019559          -0.084001 -0.088724  1.000000   \n",
       "value_price        -0.004168  0.001941          -0.088855 -0.091140  0.983357   \n",
       "MarketingFlags      0.283722 -0.108410          -0.096984 -0.057228 -0.056920   \n",
       "online_only         0.153745 -0.123342          -0.137082 -0.138933  0.117250   \n",
       "exclusive           0.199285 -0.001908           0.003799  0.050957 -0.178809   \n",
       "limited_edition     0.200357 -0.130471          -0.066661 -0.046750  0.015333   \n",
       "limited_time_offer -0.008607  0.006164           0.000742 -0.002879 -0.009679   \n",
       "\n",
       "                    value_price  MarketingFlags  online_only  exclusive  \\\n",
       "id                    -0.004168        0.283722     0.153745   0.199285   \n",
       "rating                 0.001941       -0.108410    -0.123342  -0.001908   \n",
       "number_of_reviews     -0.088855       -0.096984    -0.137082   0.003799   \n",
       "love                  -0.091140       -0.057228    -0.138933   0.050957   \n",
       "price                  0.983357       -0.056920     0.117250  -0.178809   \n",
       "value_price            1.000000       -0.028660     0.130658  -0.159005   \n",
       "MarketingFlags        -0.028660        1.000000     0.578973   0.627080   \n",
       "online_only            0.130658        0.578973     1.000000  -0.077543   \n",
       "exclusive             -0.159005        0.627080    -0.077543   1.000000   \n",
       "limited_edition        0.079754        0.332344     0.097353   0.166162   \n",
       "limited_time_offer    -0.009874        0.018908    -0.010023   0.002814   \n",
       "\n",
       "                    limited_edition  limited_time_offer  \n",
       "id                         0.200357           -0.008607  \n",
       "rating                    -0.130471            0.006164  \n",
       "number_of_reviews         -0.066661            0.000742  \n",
       "love                      -0.046750           -0.002879  \n",
       "price                      0.015333           -0.009679  \n",
       "value_price                0.079754           -0.009874  \n",
       "MarketingFlags             0.332344            0.018908  \n",
       "online_only                0.097353           -0.010023  \n",
       "exclusive                  0.166162            0.002814  \n",
       "limited_edition            1.000000            0.015129  \n",
       "limited_time_offer         0.015129            1.000000  "
      ]
     },
     "execution_count": 10,
     "metadata": {},
     "output_type": "execute_result"
    }
   ],
   "source": [
    "df.corr()"
   ]
  },
  {
   "cell_type": "code",
   "execution_count": 11,
   "id": "87dd6763",
   "metadata": {},
   "outputs": [
    {
     "data": {
      "image/png": "[encoded data removed]",
      "text/plain": [
       "<Figure size 432x288 with 1 Axes>"
      ]
     },
     "metadata": {
      "needs_background": "light"
     },
     "output_type": "display_data"
    }
   ],
   "source": [
    "df[\"rating\"].hist()\n",
    "plt.show()"
   ]
  },
  {
   "cell_type": "code",
   "execution_count": 12,
   "id": "18b8d15f",
   "metadata": {},
   "outputs": [
    {
     "data": {
      "image/png": "[encoded data removed]",
      "text/plain": [
       "<Figure size 432x288 with 1 Axes>"
      ]
     },
     "metadata": {
      "needs_background": "light"
     },
     "output_type": "display_data"
    }
   ],
   "source": [
    "df[\"price\"].hist()\n",
    "plt.show()"
   ]
  },
  {
   "cell_type": "code",
   "execution_count": 13,
   "id": "5e84940f",
   "metadata": {},
   "outputs": [
    {
     "data": {
      "image/png": "[encoded data removed]",
      "text/plain": [
       "<Figure size 432x288 with 1 Axes>"
      ]
     },
     "metadata": {
      "needs_background": "light"
     },
     "output_type": "display_data"
    }
   ],
   "source": [
    "df[\"number_of_reviews\"].hist()\n",
    "plt.show()"
   ]
  },
  {
   "cell_type": "markdown",
   "id": "aae0dc47",
   "metadata": {},
   "source": [
    "## <font color=purple>Transform Data"
   ]
  },
  {
   "cell_type": "code",
   "execution_count": 14,
   "id": "0b5ee6cd",
   "metadata": {
    "scrolled": true
   },
   "outputs": [
    {
     "name": "stdout",
     "output_type": "stream",
     "text": [
      "<class 'pandas.core.frame.DataFrame'>\n",
      "RangeIndex: 9168 entries, 0 to 9167\n",
      "Data columns (total 21 columns):\n",
      " #   Column                  Non-Null Count  Dtype  \n",
      "---  ------                  --------------  -----  \n",
      " 0   id                      9168 non-null   int64  \n",
      " 1   brand                   9168 non-null   object \n",
      " 2   category                9168 non-null   object \n",
      " 3   name                    9168 non-null   object \n",
      " 4   size                    9168 non-null   object \n",
      " 5   rating                  9168 non-null   float64\n",
      " 6   number_of_reviews       9168 non-null   int64  \n",
      " 7   love                    9168 non-null   int64  \n",
      " 8   price                   9168 non-null   float64\n",
      " 9   value_price             9168 non-null   float64\n",
      " 10  URL                     9168 non-null   object \n",
      " 11  MarketingFlags          9168 non-null   bool   \n",
      " 12  MarketingFlags_content  9168 non-null   object \n",
      " 13  options                 9168 non-null   object \n",
      " 14  details                 9168 non-null   object \n",
      " 15  how_to_use              9168 non-null   object \n",
      " 16  ingredients             9168 non-null   object \n",
      " 17  online_only             9168 non-null   int64  \n",
      " 18  exclusive               9168 non-null   int64  \n",
      " 19  limited_edition         9168 non-null   int64  \n",
      " 20  limited_time_offer      9168 non-null   int64  \n",
      "dtypes: bool(1), float64(3), int64(7), object(10)\n",
      "memory usage: 1.4+ MB\n"
     ]
    }
   ],
   "source": [
    "df.info()"
   ]
  },
  {
   "cell_type": "code",
   "execution_count": 15,
   "id": "0527d4e9",
   "metadata": {},
   "outputs": [
    {
     "name": "stdout",
     "output_type": "stream",
     "text": [
      "<class 'pandas.core.frame.DataFrame'>\n",
      "RangeIndex: 8494 entries, 0 to 8493\n",
      "Data columns (total 27 columns):\n",
      " #   Column              Non-Null Count  Dtype  \n",
      "---  ------              --------------  -----  \n",
      " 0   product_id          8494 non-null   object \n",
      " 1   product_name        8494 non-null   object \n",
      " 2   brand_id            8494 non-null   int64  \n",
      " 3   brand_name          8494 non-null   object \n",
      " 4   loves_count         8494 non-null   int64  \n",
      " 5   rating              8216 non-null   float64\n",
      " 6   reviews             8216 non-null   float64\n",
      " 7   size                6863 non-null   object \n",
      " 8   variation_type      7050 non-null   object \n",
      " 9   variation_value     6896 non-null   object \n",
      " 10  variation_desc      1250 non-null   object \n",
      " 11  ingredients         7549 non-null   object \n",
      " 12  price_usd           8494 non-null   float64\n",
      " 13  value_price_usd     451 non-null    float64\n",
      " 14  sale_price_usd      270 non-null    float64\n",
      " 15  limited_edition     8494 non-null   int64  \n",
      " 16  new                 8494 non-null   int64  \n",
      " 17  online_only         8494 non-null   int64  \n",
      " 18  out_of_stock        8494 non-null   int64  \n",
      " 19  sephora_exclusive   8494 non-null   int64  \n",
      " 20  highlights          6287 non-null   object \n",
      " 21  primary_category    8494 non-null   object \n",
      " 22  secondary_category  8486 non-null   object \n",
      " 23  tertiary_category   7504 non-null   object \n",
      " 24  child_count         8494 non-null   int64  \n",
      " 25  child_max_price     2754 non-null   float64\n",
      " 26  child_min_price     2754 non-null   float64\n",
      "dtypes: float64(7), int64(8), object(12)\n",
      "memory usage: 1.7+ MB\n"
     ]
    }
   ],
   "source": [
    "df2.info()"
   ]
  },
  {
   "cell_type": "code",
   "execution_count": 16,
   "id": "246cbe70",
   "metadata": {},
   "outputs": [],
   "source": [
    "df2.rename(columns = {'product_name':'name'}, inplace = True)\n",
    "#df2.rename(columns = {'rating':'2023ratings'}, inplace = True)"
   ]
  },
  {
   "cell_type": "code",
   "execution_count": 17,
   "id": "a76af3bf",
   "metadata": {},
   "outputs": [],
   "source": [
    "df[\"cat_rating\"] = [\"3.5\" if x < 4.0 else \"4.0\" if x == 4.0 else \"4.5\" if x == 4.5 else \"5\" for x in df[\"rating\"]]"
   ]
  },
  {
   "cell_type": "code",
   "execution_count": 18,
   "id": "0a21f81f",
   "metadata": {},
   "outputs": [],
   "source": [
    "df = pd.merge(df,df2[['name',\"secondary_category\"]],on='name', how='left')"
   ]
  },
  {
   "cell_type": "code",
   "execution_count": 19,
   "id": "9819db5b",
   "metadata": {},
   "outputs": [
    {
     "name": "stdout",
     "output_type": "stream",
     "text": [
      "<class 'pandas.core.frame.DataFrame'>\n",
      "Int64Index: 9232 entries, 0 to 9231\n",
      "Data columns (total 23 columns):\n",
      " #   Column                  Non-Null Count  Dtype  \n",
      "---  ------                  --------------  -----  \n",
      " 0   id                      9232 non-null   int64  \n",
      " 1   brand                   9232 non-null   object \n",
      " 2   category                9232 non-null   object \n",
      " 3   name                    9232 non-null   object \n",
      " 4   size                    9232 non-null   object \n",
      " 5   rating                  9232 non-null   float64\n",
      " 6   number_of_reviews       9232 non-null   int64  \n",
      " 7   love                    9232 non-null   int64  \n",
      " 8   price                   9232 non-null   float64\n",
      " 9   value_price             9232 non-null   float64\n",
      " 10  URL                     9232 non-null   object \n",
      " 11  MarketingFlags          9232 non-null   bool   \n",
      " 12  MarketingFlags_content  9232 non-null   object \n",
      " 13  options                 9232 non-null   object \n",
      " 14  details                 9232 non-null   object \n",
      " 15  how_to_use              9232 non-null   object \n",
      " 16  ingredients             9232 non-null   object \n",
      " 17  online_only             9232 non-null   int64  \n",
      " 18  exclusive               9232 non-null   int64  \n",
      " 19  limited_edition         9232 non-null   int64  \n",
      " 20  limited_time_offer      9232 non-null   int64  \n",
      " 21  cat_rating              9232 non-null   object \n",
      " 22  secondary_category      2468 non-null   object \n",
      "dtypes: bool(1), float64(3), int64(7), object(12)\n",
      "memory usage: 1.6+ MB\n"
     ]
    }
   ],
   "source": [
    "df.info()"
   ]
  },
  {
   "cell_type": "code",
   "execution_count": 20,
   "id": "b50fbe1d",
   "metadata": {},
   "outputs": [
    {
     "data": {
      "text/html": [
       "<div>\n",
       "<style scoped>\n",
       "    .dataframe tbody tr th:only-of-type {\n",
       "        vertical-align: middle;\n",
       "    }\n",
       "\n",
       "    .dataframe tbody tr th {\n",
       "        vertical-align: top;\n",
       "    }\n",
       "\n",
       "    .dataframe thead th {\n",
       "        text-align: right;\n",
       "    }\n",
       "</style>\n",
       "<table border=\"1\" class=\"dataframe\">\n",
       "  <thead>\n",
       "    <tr style=\"text-align: right;\">\n",
       "      <th></th>\n",
       "      <th>id</th>\n",
       "      <th>brand</th>\n",
       "      <th>category</th>\n",
       "      <th>name</th>\n",
       "      <th>size</th>\n",
       "      <th>rating</th>\n",
       "      <th>number_of_reviews</th>\n",
       "      <th>love</th>\n",
       "      <th>price</th>\n",
       "      <th>value_price</th>\n",
       "      <th>...</th>\n",
       "      <th>options</th>\n",
       "      <th>details</th>\n",
       "      <th>how_to_use</th>\n",
       "      <th>ingredients</th>\n",
       "      <th>online_only</th>\n",
       "      <th>exclusive</th>\n",
       "      <th>limited_edition</th>\n",
       "      <th>limited_time_offer</th>\n",
       "      <th>cat_rating</th>\n",
       "      <th>secondary_category</th>\n",
       "    </tr>\n",
       "  </thead>\n",
       "  <tbody>\n",
       "    <tr>\n",
       "      <th>0</th>\n",
       "      <td>2218774</td>\n",
       "      <td>Acqua Di Parma</td>\n",
       "      <td>Fragrance</td>\n",
       "      <td>Blu Mediterraneo MINIATURE Set</td>\n",
       "      <td>5 x 0.16oz/5mL</td>\n",
       "      <td>4.0</td>\n",
       "      <td>4</td>\n",
       "      <td>3002</td>\n",
       "      <td>66.0</td>\n",
       "      <td>75.0</td>\n",
       "      <td>...</td>\n",
       "      <td>no options</td>\n",
       "      <td>This enchanting set comes in a specially handc...</td>\n",
       "      <td>Suggested Usage:-Fragrance is intensified by t...</td>\n",
       "      <td>Arancia di Capri Eau de Toilette: Alcohol Dena...</td>\n",
       "      <td>1</td>\n",
       "      <td>0</td>\n",
       "      <td>0</td>\n",
       "      <td>0</td>\n",
       "      <td>4.0</td>\n",
       "      <td>NaN</td>\n",
       "    </tr>\n",
       "    <tr>\n",
       "      <th>1</th>\n",
       "      <td>2044816</td>\n",
       "      <td>Acqua Di Parma</td>\n",
       "      <td>Cologne</td>\n",
       "      <td>Colonia</td>\n",
       "      <td>0.7 oz/ 20 mL</td>\n",
       "      <td>4.5</td>\n",
       "      <td>76</td>\n",
       "      <td>2700</td>\n",
       "      <td>66.0</td>\n",
       "      <td>66.0</td>\n",
       "      <td>...</td>\n",
       "      <td>- 0.7 oz/ 20 mL  Spray  - 1.7 oz/ 50 mL Eau d...</td>\n",
       "      <td>An elegant timeless scent filled with a fresh-...</td>\n",
       "      <td>no instructions</td>\n",
       "      <td>unknown</td>\n",
       "      <td>1</td>\n",
       "      <td>0</td>\n",
       "      <td>0</td>\n",
       "      <td>0</td>\n",
       "      <td>4.5</td>\n",
       "      <td>Men</td>\n",
       "    </tr>\n",
       "    <tr>\n",
       "      <th>2</th>\n",
       "      <td>1417567</td>\n",
       "      <td>Acqua Di Parma</td>\n",
       "      <td>Perfume</td>\n",
       "      <td>Arancia di Capri</td>\n",
       "      <td>5 oz/ 148 mL</td>\n",
       "      <td>4.5</td>\n",
       "      <td>26</td>\n",
       "      <td>2600</td>\n",
       "      <td>180.0</td>\n",
       "      <td>180.0</td>\n",
       "      <td>...</td>\n",
       "      <td>- 1oz/30mL Eau de Toilette  - 2.5 oz/ 74 mL E...</td>\n",
       "      <td>Fragrance Family: Fresh Scent Type: Fresh Citr...</td>\n",
       "      <td>no instructions</td>\n",
       "      <td>Alcohol Denat.- Water- Fragrance- Limonene- Li...</td>\n",
       "      <td>1</td>\n",
       "      <td>0</td>\n",
       "      <td>0</td>\n",
       "      <td>0</td>\n",
       "      <td>4.5</td>\n",
       "      <td>Women</td>\n",
       "    </tr>\n",
       "    <tr>\n",
       "      <th>3</th>\n",
       "      <td>1417617</td>\n",
       "      <td>Acqua Di Parma</td>\n",
       "      <td>Perfume</td>\n",
       "      <td>Mirto di Panarea</td>\n",
       "      <td>2.5 oz/ 74 mL</td>\n",
       "      <td>4.5</td>\n",
       "      <td>23</td>\n",
       "      <td>2900</td>\n",
       "      <td>120.0</td>\n",
       "      <td>120.0</td>\n",
       "      <td>...</td>\n",
       "      <td>- 1 oz/ 30 mL Eau de Toilette Spray - 2.5 oz/...</td>\n",
       "      <td>Panarea near Sicily is an an island suspended ...</td>\n",
       "      <td>no instructions</td>\n",
       "      <td>unknown</td>\n",
       "      <td>1</td>\n",
       "      <td>0</td>\n",
       "      <td>0</td>\n",
       "      <td>0</td>\n",
       "      <td>4.5</td>\n",
       "      <td>Women</td>\n",
       "    </tr>\n",
       "    <tr>\n",
       "      <th>4</th>\n",
       "      <td>2218766</td>\n",
       "      <td>Acqua Di Parma</td>\n",
       "      <td>Fragrance</td>\n",
       "      <td>Colonia Miniature Set</td>\n",
       "      <td>5 x 0.16oz/5mL</td>\n",
       "      <td>3.5</td>\n",
       "      <td>2</td>\n",
       "      <td>943</td>\n",
       "      <td>72.0</td>\n",
       "      <td>80.0</td>\n",
       "      <td>...</td>\n",
       "      <td>no options</td>\n",
       "      <td>The Colonia Miniature Set comes in an iconic A...</td>\n",
       "      <td>Suggested Usage:-Fragrance is intensified by t...</td>\n",
       "      <td>Colonia: Alcohol Denat.- Water- Fragrance- Lim...</td>\n",
       "      <td>1</td>\n",
       "      <td>0</td>\n",
       "      <td>0</td>\n",
       "      <td>0</td>\n",
       "      <td>3.5</td>\n",
       "      <td>NaN</td>\n",
       "    </tr>\n",
       "  </tbody>\n",
       "</table>\n",
       "<p>5 rows × 23 columns</p>\n",
       "</div>"
      ],
      "text/plain": [
       "        id           brand   category                            name  \\\n",
       "0  2218774  Acqua Di Parma  Fragrance  Blu Mediterraneo MINIATURE Set   \n",
       "1  2044816  Acqua Di Parma    Cologne                         Colonia   \n",
       "2  1417567  Acqua Di Parma    Perfume                Arancia di Capri   \n",
       "3  1417617  Acqua Di Parma    Perfume                Mirto di Panarea   \n",
       "4  2218766  Acqua Di Parma  Fragrance           Colonia Miniature Set   \n",
       "\n",
       "             size  rating  number_of_reviews  love  price  value_price  ...  \\\n",
       "0  5 x 0.16oz/5mL     4.0                  4  3002   66.0         75.0  ...   \n",
       "1   0.7 oz/ 20 mL     4.5                 76  2700   66.0         66.0  ...   \n",
       "2    5 oz/ 148 mL     4.5                 26  2600  180.0        180.0  ...   \n",
       "3   2.5 oz/ 74 mL     4.5                 23  2900  120.0        120.0  ...   \n",
       "4  5 x 0.16oz/5mL     3.5                  2   943   72.0         80.0  ...   \n",
       "\n",
       "                                             options  \\\n",
       "0                                         no options   \n",
       "1   - 0.7 oz/ 20 mL  Spray  - 1.7 oz/ 50 mL Eau d...   \n",
       "2   - 1oz/30mL Eau de Toilette  - 2.5 oz/ 74 mL E...   \n",
       "3   - 1 oz/ 30 mL Eau de Toilette Spray - 2.5 oz/...   \n",
       "4                                         no options   \n",
       "\n",
       "                                             details  \\\n",
       "0  This enchanting set comes in a specially handc...   \n",
       "1  An elegant timeless scent filled with a fresh-...   \n",
       "2  Fragrance Family: Fresh Scent Type: Fresh Citr...   \n",
       "3  Panarea near Sicily is an an island suspended ...   \n",
       "4  The Colonia Miniature Set comes in an iconic A...   \n",
       "\n",
       "                                          how_to_use  \\\n",
       "0  Suggested Usage:-Fragrance is intensified by t...   \n",
       "1                                    no instructions   \n",
       "2                                    no instructions   \n",
       "3                                    no instructions   \n",
       "4  Suggested Usage:-Fragrance is intensified by t...   \n",
       "\n",
       "                                         ingredients online_only exclusive  \\\n",
       "0  Arancia di Capri Eau de Toilette: Alcohol Dena...           1         0   \n",
       "1                                            unknown           1         0   \n",
       "2  Alcohol Denat.- Water- Fragrance- Limonene- Li...           1         0   \n",
       "3                                            unknown           1         0   \n",
       "4  Colonia: Alcohol Denat.- Water- Fragrance- Lim...           1         0   \n",
       "\n",
       "  limited_edition  limited_time_offer  cat_rating  secondary_category  \n",
       "0               0                   0         4.0                 NaN  \n",
       "1               0                   0         4.5                 Men  \n",
       "2               0                   0         4.5               Women  \n",
       "3               0                   0         4.5               Women  \n",
       "4               0                   0         3.5                 NaN  \n",
       "\n",
       "[5 rows x 23 columns]"
      ]
     },
     "execution_count": 20,
     "metadata": {},
     "output_type": "execute_result"
    }
   ],
   "source": [
    "df.head()"
   ]
  },
  {
   "cell_type": "code",
   "execution_count": 21,
   "id": "b1418b08",
   "metadata": {},
   "outputs": [
    {
     "data": {
      "text/plain": [
       "Mini     665\n",
       "&        629\n",
       "Cream    530\n",
       "Set      464\n",
       "Lip      404\n",
       "Mask     402\n",
       "de       400\n",
       "Eau      400\n",
       "Brush    393\n",
       "Oil      387\n",
       "Name: name, dtype: int64"
      ]
     },
     "execution_count": 21,
     "metadata": {},
     "output_type": "execute_result"
    }
   ],
   "source": [
    "df.name.str.split().explode().value_counts().head(10)"
   ]
  },
  {
   "cell_type": "code",
   "execution_count": 22,
   "id": "92593bb2",
   "metadata": {},
   "outputs": [],
   "source": [
    "df[\"mini\"] = [1 if \"Mini\" in x else 0 for x in df[\"name\"]]\n",
    "df[\"cream\"] = [1 if \"Cream\" in x else 0 for x in df[\"name\"]]\n",
    "df[\"set\"] = [1 if \"Set\" in x else 0 for x in df[\"name\"]]\n",
    "df[\"mask\"] = [1 if \"Mask\" in x else 0 for x in df[\"name\"]]\n",
    "df[\"eau\"] = [1 if \"Eau\" in x else 0 for x in df[\"name\"]]\n",
    "df[\"lip\"] = [1 if \"Lip\" in x else 0 for x in df[\"name\"]]\n",
    "df[\"brush\"] = [1 if \"Brush\" in x else 0 for x in df[\"name\"]]\n",
    "df[\"oil\"] = [1 if \"Oil\" in x else 0 for x in df[\"name\"]]"
   ]
  },
  {
   "cell_type": "code",
   "execution_count": 23,
   "id": "7bd65a7e",
   "metadata": {
    "scrolled": true
   },
   "outputs": [
    {
     "data": {
      "text/plain": [
       "Extract-         17337\n",
       "the              17179\n",
       "that             14600\n",
       "of               14080\n",
       "and              13214\n",
       "Oil-             12294\n",
       "Sodium           11416\n",
       "(Ci              11147\n",
       "-                10386\n",
       "to               10238\n",
       "Glycol-           7869\n",
       "Acid-             7759\n",
       "Seed              7295\n",
       "or                7005\n",
       "are               6973\n",
       "is                6933\n",
       "methacrylate-     6591\n",
       "Ci                5710\n",
       "be                5522\n",
       "products          5429\n",
       "Name: ingredients, dtype: int64"
      ]
     },
     "execution_count": 23,
     "metadata": {},
     "output_type": "execute_result"
    }
   ],
   "source": [
    "df.ingredients.str.split().explode().value_counts().head(20)"
   ]
  },
  {
   "cell_type": "code",
   "execution_count": 24,
   "id": "af8af279",
   "metadata": {},
   "outputs": [],
   "source": [
    "df[\"extract\"] = [1 if \"Extract-\" in x else 0 for x in df[\"ingredients\"]]\n",
    "df[\"oil\"] = [1 if \"Oil- \" in x else 0 for x in df[\"ingredients\"]]\n",
    "df[\"sodium\"] = [1 if \"Sodium\" in x else 0 for x in df[\"ingredients\"]]\n",
    "df[\"glycol\"] = [1 if \"Glycol-\" in x else 0 for x in df[\"ingredients\"]]\n",
    "df[\"acid\"] = [1 if \"Acid-\" in x else 0 for x in df[\"ingredients\"]]\n",
    "df[\"seed\"] = [1 if \"Seed\" in x else 0 for x in df[\"ingredients\"]]\n",
    "df[\"metha\"] = [1 if \"methacrylate- \" in x else 0 for x in df[\"ingredients\"]]"
   ]
  },
  {
   "cell_type": "code",
   "execution_count": 25,
   "id": "b3e5dbd0",
   "metadata": {},
   "outputs": [],
   "source": [
    "toPredict = df.loc[(df['name'] == 'Green Clean Makeup Removing Cleansing Balm') \n",
    "                   | (df['name'] == 'Glowscreen Sunscreen SPF 40')\n",
    "                  | (df['name'] == 'Wisteria & Lavender Cologne')]"
   ]
  },
  {
   "cell_type": "code",
   "execution_count": 26,
   "id": "bc2e3bd0",
   "metadata": {},
   "outputs": [],
   "source": [
    "df = df[df.name != 'Green Clean Makeup Removing Cleansing Balm']\n",
    "df = df[df.name != 'Glowscreen Sunscreen SPF 40']\n",
    "df = df[df.name != 'Wisteria & Lavender Cologne']"
   ]
  },
  {
   "cell_type": "code",
   "execution_count": 27,
   "id": "3a0ac1f8",
   "metadata": {},
   "outputs": [],
   "source": [
    "df = df.drop(columns = [\"id\",\"rating\",\"name\",\"size\",\"value_price\",\"URL\",\"MarketingFlags\",\"MarketingFlags_content\",\"options\",\"details\",\"how_to_use\",\"ingredients\"])"
   ]
  },
  {
   "cell_type": "code",
   "execution_count": 28,
   "id": "c3d24682",
   "metadata": {},
   "outputs": [],
   "source": [
    "toPredict=toPredict.drop(columns=[\"id\",\"rating\",\"name\",\"size\",\"value_price\",\"URL\",\"MarketingFlags\",\"MarketingFlags_content\",\"options\",\"details\",\"how_to_use\",\"ingredients\"])"
   ]
  },
  {
   "cell_type": "code",
   "execution_count": 29,
   "id": "74877de9",
   "metadata": {},
   "outputs": [
    {
     "name": "stdout",
     "output_type": "stream",
     "text": [
      "<class 'pandas.core.frame.DataFrame'>\n",
      "Int64Index: 9229 entries, 0 to 9231\n",
      "Data columns (total 25 columns):\n",
      " #   Column              Non-Null Count  Dtype  \n",
      "---  ------              --------------  -----  \n",
      " 0   brand               9229 non-null   object \n",
      " 1   category            9229 non-null   object \n",
      " 2   number_of_reviews   9229 non-null   int64  \n",
      " 3   love                9229 non-null   int64  \n",
      " 4   price               9229 non-null   float64\n",
      " 5   online_only         9229 non-null   int64  \n",
      " 6   exclusive           9229 non-null   int64  \n",
      " 7   limited_edition     9229 non-null   int64  \n",
      " 8   limited_time_offer  9229 non-null   int64  \n",
      " 9   cat_rating          9229 non-null   object \n",
      " 10  secondary_category  2467 non-null   object \n",
      " 11  mini                9229 non-null   int64  \n",
      " 12  cream               9229 non-null   int64  \n",
      " 13  set                 9229 non-null   int64  \n",
      " 14  mask                9229 non-null   int64  \n",
      " 15  eau                 9229 non-null   int64  \n",
      " 16  lip                 9229 non-null   int64  \n",
      " 17  brush               9229 non-null   int64  \n",
      " 18  oil                 9229 non-null   int64  \n",
      " 19  extract             9229 non-null   int64  \n",
      " 20  sodium              9229 non-null   int64  \n",
      " 21  glycol              9229 non-null   int64  \n",
      " 22  acid                9229 non-null   int64  \n",
      " 23  seed                9229 non-null   int64  \n",
      " 24  metha               9229 non-null   int64  \n",
      "dtypes: float64(1), int64(20), object(4)\n",
      "memory usage: 1.8+ MB\n"
     ]
    }
   ],
   "source": [
    "df.info()"
   ]
  },
  {
   "cell_type": "markdown",
   "id": "356c1516",
   "metadata": {},
   "source": [
    "##  <font color=purple>  Baseline Performance"
   ]
  },
  {
   "cell_type": "code",
   "execution_count": 30,
   "id": "589adcfd",
   "metadata": {},
   "outputs": [
    {
     "data": {
      "text/plain": [
       "4.5    0.384657\n",
       "4.0    0.311626\n",
       "3.5    0.208690\n",
       "5      0.095027\n",
       "Name: cat_rating, dtype: float64"
      ]
     },
     "execution_count": 30,
     "metadata": {},
     "output_type": "execute_result"
    }
   ],
   "source": [
    "df.cat_rating.value_counts(normalize = True)"
   ]
  },
  {
   "cell_type": "markdown",
   "id": "fda4c07f",
   "metadata": {},
   "source": [
    "### Create Training and Test data sets"
   ]
  },
  {
   "cell_type": "code",
   "execution_count": 31,
   "id": "0afe5ffe",
   "metadata": {
    "scrolled": true
   },
   "outputs": [
    {
     "data": {
      "text/plain": [
       "((7383, 24), (1846, 24), (7383,), (1846,))"
      ]
     },
     "execution_count": 31,
     "metadata": {},
     "output_type": "execute_result"
    }
   ],
   "source": [
    "X_train_pre, X_test_pre, y_train, y_test = train_test_split(\n",
    "    df.drop(columns=['cat_rating']),\n",
    "    df['cat_rating'],\n",
    "    test_size=0.2,\n",
    "    random_state=34\n",
    ")    \n",
    "X_train_pre.shape,X_test_pre.shape,y_train.shape, y_test.shape "
   ]
  },
  {
   "cell_type": "markdown",
   "id": "44c111ce",
   "metadata": {},
   "source": [
    "### Prepare Data"
   ]
  },
  {
   "cell_type": "code",
   "execution_count": 32,
   "id": "82be6f37",
   "metadata": {},
   "outputs": [],
   "source": [
    "cat_attribs = [\"brand\", \"category\",\"secondary_category\"]\n",
    "\n",
    "#set the numerical attributes\n",
    "num_attribs = list( X_train_pre.drop(cat_attribs,axis=1) )\n",
    "\n",
    "num_pipeline = Pipeline( [\n",
    " ('imputer', SimpleImputer(strategy=\"median\")), #because no missing values, not used\n",
    " ('std_scaler', StandardScaler()),   \n",
    "])\n",
    "\n",
    "#define the column transformation process for the data set\n",
    "full_pipeline = ColumnTransformer( [\n",
    "    ('num', num_pipeline, num_attribs),\n",
    "    ('cat', OneHotEncoder(sparse = False), cat_attribs)      #because no categorical attributes, not used \n",
    "])"
   ]
  },
  {
   "cell_type": "code",
   "execution_count": 33,
   "id": "b55358b4",
   "metadata": {},
   "outputs": [
    {
     "data": {
      "text/html": [
       "<style>#sk-0b161e52-5c4f-47b4-b3b6-276254f6bd76 {color: black;background-color: white;}#sk-0b161e52-5c4f-47b4-b3b6-276254f6bd76 pre{padding: 0;}#sk-0b161e52-5c4f-47b4-b3b6-276254f6bd76 div.sk-toggleable {background-color: white;}#sk-0b161e52-5c4f-47b4-b3b6-276254f6bd76 label.sk-toggleable__label {cursor: pointer;display: block;width: 100%;margin-bottom: 0;padding: 0.3em;box-sizing: border-box;text-align: center;}#sk-0b161e52-5c4f-47b4-b3b6-276254f6bd76 label.sk-toggleable__label-arrow:before {content: \"▸\";float: left;margin-right: 0.25em;color: #696969;}#sk-0b161e52-5c4f-47b4-b3b6-276254f6bd76 label.sk-toggleable__label-arrow:hover:before {color: black;}#sk-0b161e52-5c4f-47b4-b3b6-276254f6bd76 div.sk-estimator:hover label.sk-toggleable__label-arrow:before {color: black;}#sk-0b161e52-5c4f-47b4-b3b6-276254f6bd76 div.sk-toggleable__content {max-height: 0;max-width: 0;overflow: hidden;text-align: left;background-color: #f0f8ff;}#sk-0b161e52-5c4f-47b4-b3b6-276254f6bd76 div.sk-toggleable__content pre {margin: 0.2em;color: black;border-radius: 0.25em;background-color: #f0f8ff;}#sk-0b161e52-5c4f-47b4-b3b6-276254f6bd76 input.sk-toggleable__control:checked~div.sk-toggleable__content {max-height: 200px;max-width: 100%;overflow: auto;}#sk-0b161e52-5c4f-47b4-b3b6-276254f6bd76 input.sk-toggleable__control:checked~label.sk-toggleable__label-arrow:before {content: \"▾\";}#sk-0b161e52-5c4f-47b4-b3b6-276254f6bd76 div.sk-estimator input.sk-toggleable__control:checked~label.sk-toggleable__label {background-color: #d4ebff;}#sk-0b161e52-5c4f-47b4-b3b6-276254f6bd76 div.sk-label input.sk-toggleable__control:checked~label.sk-toggleable__label {background-color: #d4ebff;}#sk-0b161e52-5c4f-47b4-b3b6-276254f6bd76 input.sk-hidden--visually {border: 0;clip: rect(1px 1px 1px 1px);clip: rect(1px, 1px, 1px, 1px);height: 1px;margin: -1px;overflow: hidden;padding: 0;position: absolute;width: 1px;}#sk-0b161e52-5c4f-47b4-b3b6-276254f6bd76 div.sk-estimator {font-family: monospace;background-color: #f0f8ff;border: 1px dotted black;border-radius: 0.25em;box-sizing: border-box;margin-bottom: 0.5em;}#sk-0b161e52-5c4f-47b4-b3b6-276254f6bd76 div.sk-estimator:hover {background-color: #d4ebff;}#sk-0b161e52-5c4f-47b4-b3b6-276254f6bd76 div.sk-parallel-item::after {content: \"\";width: 100%;border-bottom: 1px solid gray;flex-grow: 1;}#sk-0b161e52-5c4f-47b4-b3b6-276254f6bd76 div.sk-label:hover label.sk-toggleable__label {background-color: #d4ebff;}#sk-0b161e52-5c4f-47b4-b3b6-276254f6bd76 div.sk-serial::before {content: \"\";position: absolute;border-left: 1px solid gray;box-sizing: border-box;top: 2em;bottom: 0;left: 50%;}#sk-0b161e52-5c4f-47b4-b3b6-276254f6bd76 div.sk-serial {display: flex;flex-direction: column;align-items: center;background-color: white;padding-right: 0.2em;padding-left: 0.2em;}#sk-0b161e52-5c4f-47b4-b3b6-276254f6bd76 div.sk-item {z-index: 1;}#sk-0b161e52-5c4f-47b4-b3b6-276254f6bd76 div.sk-parallel {display: flex;align-items: stretch;justify-content: center;background-color: white;}#sk-0b161e52-5c4f-47b4-b3b6-276254f6bd76 div.sk-parallel::before {content: \"\";position: absolute;border-left: 1px solid gray;box-sizing: border-box;top: 2em;bottom: 0;left: 50%;}#sk-0b161e52-5c4f-47b4-b3b6-276254f6bd76 div.sk-parallel-item {display: flex;flex-direction: column;position: relative;background-color: white;}#sk-0b161e52-5c4f-47b4-b3b6-276254f6bd76 div.sk-parallel-item:first-child::after {align-self: flex-end;width: 50%;}#sk-0b161e52-5c4f-47b4-b3b6-276254f6bd76 div.sk-parallel-item:last-child::after {align-self: flex-start;width: 50%;}#sk-0b161e52-5c4f-47b4-b3b6-276254f6bd76 div.sk-parallel-item:only-child::after {width: 0;}#sk-0b161e52-5c4f-47b4-b3b6-276254f6bd76 div.sk-dashed-wrapped {border: 1px dashed gray;margin: 0 0.4em 0.5em 0.4em;box-sizing: border-box;padding-bottom: 0.4em;background-color: white;position: relative;}#sk-0b161e52-5c4f-47b4-b3b6-276254f6bd76 div.sk-label label {font-family: monospace;font-weight: bold;background-color: white;display: inline-block;line-height: 1.2em;}#sk-0b161e52-5c4f-47b4-b3b6-276254f6bd76 div.sk-label-container {position: relative;z-index: 2;text-align: center;}#sk-0b161e52-5c4f-47b4-b3b6-276254f6bd76 div.sk-container {/* jupyter's `normalize.less` sets `[hidden] { display: none; }` but bootstrap.min.css set `[hidden] { display: none !important; }` so we also need the `!important` here to be able to override the default hidden behavior on the sphinx rendered scikit-learn.org. See: https://github.com/scikit-learn/scikit-learn/issues/21755 */display: inline-block !important;position: relative;}#sk-0b161e52-5c4f-47b4-b3b6-276254f6bd76 div.sk-text-repr-fallback {display: none;}</style><div id=\"sk-0b161e52-5c4f-47b4-b3b6-276254f6bd76\" class=\"sk-top-container\"><div class=\"sk-text-repr-fallback\"><pre>ColumnTransformer(transformers=[(&#x27;num&#x27;,\n",
       "                                 Pipeline(steps=[(&#x27;imputer&#x27;,\n",
       "                                                  SimpleImputer(strategy=&#x27;median&#x27;)),\n",
       "                                                 (&#x27;std_scaler&#x27;,\n",
       "                                                  StandardScaler())]),\n",
       "                                 [&#x27;number_of_reviews&#x27;, &#x27;love&#x27;, &#x27;price&#x27;,\n",
       "                                  &#x27;online_only&#x27;, &#x27;exclusive&#x27;, &#x27;limited_edition&#x27;,\n",
       "                                  &#x27;limited_time_offer&#x27;, &#x27;mini&#x27;, &#x27;cream&#x27;, &#x27;set&#x27;,\n",
       "                                  &#x27;mask&#x27;, &#x27;eau&#x27;, &#x27;lip&#x27;, &#x27;brush&#x27;, &#x27;oil&#x27;,\n",
       "                                  &#x27;extract&#x27;, &#x27;sodium&#x27;, &#x27;glycol&#x27;, &#x27;acid&#x27;, &#x27;seed&#x27;,\n",
       "                                  &#x27;metha&#x27;]),\n",
       "                                (&#x27;cat&#x27;, OneHotEncoder(sparse=False),\n",
       "                                 [&#x27;brand&#x27;, &#x27;category&#x27;, &#x27;secondary_category&#x27;])])</pre><b>Please rerun this cell to show the HTML repr or trust the notebook.</b></div><div class=\"sk-container\" hidden><div class=\"sk-item sk-dashed-wrapped\"><div class=\"sk-label-container\"><div class=\"sk-label sk-toggleable\"><input class=\"sk-toggleable__control sk-hidden--visually\" id=\"1add6e17-06db-47e6-a8c3-a205105a145e\" type=\"checkbox\" ><label for=\"1add6e17-06db-47e6-a8c3-a205105a145e\" class=\"sk-toggleable__label sk-toggleable__label-arrow\">ColumnTransformer</label><div class=\"sk-toggleable__content\"><pre>ColumnTransformer(transformers=[(&#x27;num&#x27;,\n",
       "                                 Pipeline(steps=[(&#x27;imputer&#x27;,\n",
       "                                                  SimpleImputer(strategy=&#x27;median&#x27;)),\n",
       "                                                 (&#x27;std_scaler&#x27;,\n",
       "                                                  StandardScaler())]),\n",
       "                                 [&#x27;number_of_reviews&#x27;, &#x27;love&#x27;, &#x27;price&#x27;,\n",
       "                                  &#x27;online_only&#x27;, &#x27;exclusive&#x27;, &#x27;limited_edition&#x27;,\n",
       "                                  &#x27;limited_time_offer&#x27;, &#x27;mini&#x27;, &#x27;cream&#x27;, &#x27;set&#x27;,\n",
       "                                  &#x27;mask&#x27;, &#x27;eau&#x27;, &#x27;lip&#x27;, &#x27;brush&#x27;, &#x27;oil&#x27;,\n",
       "                                  &#x27;extract&#x27;, &#x27;sodium&#x27;, &#x27;glycol&#x27;, &#x27;acid&#x27;, &#x27;seed&#x27;,\n",
       "                                  &#x27;metha&#x27;]),\n",
       "                                (&#x27;cat&#x27;, OneHotEncoder(sparse=False),\n",
       "                                 [&#x27;brand&#x27;, &#x27;category&#x27;, &#x27;secondary_category&#x27;])])</pre></div></div></div><div class=\"sk-parallel\"><div class=\"sk-parallel-item\"><div class=\"sk-item\"><div class=\"sk-label-container\"><div class=\"sk-label sk-toggleable\"><input class=\"sk-toggleable__control sk-hidden--visually\" id=\"08358f7d-724e-460e-9f67-5a18e3576de7\" type=\"checkbox\" ><label for=\"08358f7d-724e-460e-9f67-5a18e3576de7\" class=\"sk-toggleable__label sk-toggleable__label-arrow\">num</label><div class=\"sk-toggleable__content\"><pre>[&#x27;number_of_reviews&#x27;, &#x27;love&#x27;, &#x27;price&#x27;, &#x27;online_only&#x27;, &#x27;exclusive&#x27;, &#x27;limited_edition&#x27;, &#x27;limited_time_offer&#x27;, &#x27;mini&#x27;, &#x27;cream&#x27;, &#x27;set&#x27;, &#x27;mask&#x27;, &#x27;eau&#x27;, &#x27;lip&#x27;, &#x27;brush&#x27;, &#x27;oil&#x27;, &#x27;extract&#x27;, &#x27;sodium&#x27;, &#x27;glycol&#x27;, &#x27;acid&#x27;, &#x27;seed&#x27;, &#x27;metha&#x27;]</pre></div></div></div><div class=\"sk-serial\"><div class=\"sk-item\"><div class=\"sk-serial\"><div class=\"sk-item\"><div class=\"sk-estimator sk-toggleable\"><input class=\"sk-toggleable__control sk-hidden--visually\" id=\"280e8783-0219-4008-a8c7-147a26c6a6ea\" type=\"checkbox\" ><label for=\"280e8783-0219-4008-a8c7-147a26c6a6ea\" class=\"sk-toggleable__label sk-toggleable__label-arrow\">SimpleImputer</label><div class=\"sk-toggleable__content\"><pre>SimpleImputer(strategy=&#x27;median&#x27;)</pre></div></div></div><div class=\"sk-item\"><div class=\"sk-estimator sk-toggleable\"><input class=\"sk-toggleable__control sk-hidden--visually\" id=\"770651b7-7748-44aa-924f-257fd04fa8da\" type=\"checkbox\" ><label for=\"770651b7-7748-44aa-924f-257fd04fa8da\" class=\"sk-toggleable__label sk-toggleable__label-arrow\">StandardScaler</label><div class=\"sk-toggleable__content\"><pre>StandardScaler()</pre></div></div></div></div></div></div></div></div><div class=\"sk-parallel-item\"><div class=\"sk-item\"><div class=\"sk-label-container\"><div class=\"sk-label sk-toggleable\"><input class=\"sk-toggleable__control sk-hidden--visually\" id=\"89b3b9f6-c361-4dd3-9482-df295697e984\" type=\"checkbox\" ><label for=\"89b3b9f6-c361-4dd3-9482-df295697e984\" class=\"sk-toggleable__label sk-toggleable__label-arrow\">cat</label><div class=\"sk-toggleable__content\"><pre>[&#x27;brand&#x27;, &#x27;category&#x27;, &#x27;secondary_category&#x27;]</pre></div></div></div><div class=\"sk-serial\"><div class=\"sk-item\"><div class=\"sk-estimator sk-toggleable\"><input class=\"sk-toggleable__control sk-hidden--visually\" id=\"82670ec4-e810-4e66-a2a6-8eb7d901b7eb\" type=\"checkbox\" ><label for=\"82670ec4-e810-4e66-a2a6-8eb7d901b7eb\" class=\"sk-toggleable__label sk-toggleable__label-arrow\">OneHotEncoder</label><div class=\"sk-toggleable__content\"><pre>OneHotEncoder(sparse=False)</pre></div></div></div></div></div></div></div></div></div></div>"
      ],
      "text/plain": [
       "ColumnTransformer(transformers=[('num',\n",
       "                                 Pipeline(steps=[('imputer',\n",
       "                                                  SimpleImputer(strategy='median')),\n",
       "                                                 ('std_scaler',\n",
       "                                                  StandardScaler())]),\n",
       "                                 ['number_of_reviews', 'love', 'price',\n",
       "                                  'online_only', 'exclusive', 'limited_edition',\n",
       "                                  'limited_time_offer', 'mini', 'cream', 'set',\n",
       "                                  'mask', 'eau', 'lip', 'brush', 'oil',\n",
       "                                  'extract', 'sodium', 'glycol', 'acid', 'seed',\n",
       "                                  'metha']),\n",
       "                                ('cat', OneHotEncoder(sparse=False),\n",
       "                                 ['brand', 'category', 'secondary_category'])])"
      ]
     },
     "execution_count": 33,
     "metadata": {},
     "output_type": "execute_result"
    }
   ],
   "source": [
    "#diagram pipeline process (NOTE this only works because of the import and set statement at the top)\n",
    "full_pipeline"
   ]
  },
  {
   "cell_type": "code",
   "execution_count": 34,
   "id": "ceeb37a1",
   "metadata": {},
   "outputs": [
    {
     "data": {
      "text/html": [
       "<style>#sk-9e41714c-6378-4b63-8a12-d1ccdaaf843d {color: black;background-color: white;}#sk-9e41714c-6378-4b63-8a12-d1ccdaaf843d pre{padding: 0;}#sk-9e41714c-6378-4b63-8a12-d1ccdaaf843d div.sk-toggleable {background-color: white;}#sk-9e41714c-6378-4b63-8a12-d1ccdaaf843d label.sk-toggleable__label {cursor: pointer;display: block;width: 100%;margin-bottom: 0;padding: 0.3em;box-sizing: border-box;text-align: center;}#sk-9e41714c-6378-4b63-8a12-d1ccdaaf843d label.sk-toggleable__label-arrow:before {content: \"▸\";float: left;margin-right: 0.25em;color: #696969;}#sk-9e41714c-6378-4b63-8a12-d1ccdaaf843d label.sk-toggleable__label-arrow:hover:before {color: black;}#sk-9e41714c-6378-4b63-8a12-d1ccdaaf843d div.sk-estimator:hover label.sk-toggleable__label-arrow:before {color: black;}#sk-9e41714c-6378-4b63-8a12-d1ccdaaf843d div.sk-toggleable__content {max-height: 0;max-width: 0;overflow: hidden;text-align: left;background-color: #f0f8ff;}#sk-9e41714c-6378-4b63-8a12-d1ccdaaf843d div.sk-toggleable__content pre {margin: 0.2em;color: black;border-radius: 0.25em;background-color: #f0f8ff;}#sk-9e41714c-6378-4b63-8a12-d1ccdaaf843d input.sk-toggleable__control:checked~div.sk-toggleable__content {max-height: 200px;max-width: 100%;overflow: auto;}#sk-9e41714c-6378-4b63-8a12-d1ccdaaf843d input.sk-toggleable__control:checked~label.sk-toggleable__label-arrow:before {content: \"▾\";}#sk-9e41714c-6378-4b63-8a12-d1ccdaaf843d div.sk-estimator input.sk-toggleable__control:checked~label.sk-toggleable__label {background-color: #d4ebff;}#sk-9e41714c-6378-4b63-8a12-d1ccdaaf843d div.sk-label input.sk-toggleable__control:checked~label.sk-toggleable__label {background-color: #d4ebff;}#sk-9e41714c-6378-4b63-8a12-d1ccdaaf843d input.sk-hidden--visually {border: 0;clip: rect(1px 1px 1px 1px);clip: rect(1px, 1px, 1px, 1px);height: 1px;margin: -1px;overflow: hidden;padding: 0;position: absolute;width: 1px;}#sk-9e41714c-6378-4b63-8a12-d1ccdaaf843d div.sk-estimator {font-family: monospace;background-color: #f0f8ff;border: 1px dotted black;border-radius: 0.25em;box-sizing: border-box;margin-bottom: 0.5em;}#sk-9e41714c-6378-4b63-8a12-d1ccdaaf843d div.sk-estimator:hover {background-color: #d4ebff;}#sk-9e41714c-6378-4b63-8a12-d1ccdaaf843d div.sk-parallel-item::after {content: \"\";width: 100%;border-bottom: 1px solid gray;flex-grow: 1;}#sk-9e41714c-6378-4b63-8a12-d1ccdaaf843d div.sk-label:hover label.sk-toggleable__label {background-color: #d4ebff;}#sk-9e41714c-6378-4b63-8a12-d1ccdaaf843d div.sk-serial::before {content: \"\";position: absolute;border-left: 1px solid gray;box-sizing: border-box;top: 2em;bottom: 0;left: 50%;}#sk-9e41714c-6378-4b63-8a12-d1ccdaaf843d div.sk-serial {display: flex;flex-direction: column;align-items: center;background-color: white;padding-right: 0.2em;padding-left: 0.2em;}#sk-9e41714c-6378-4b63-8a12-d1ccdaaf843d div.sk-item {z-index: 1;}#sk-9e41714c-6378-4b63-8a12-d1ccdaaf843d div.sk-parallel {display: flex;align-items: stretch;justify-content: center;background-color: white;}#sk-9e41714c-6378-4b63-8a12-d1ccdaaf843d div.sk-parallel::before {content: \"\";position: absolute;border-left: 1px solid gray;box-sizing: border-box;top: 2em;bottom: 0;left: 50%;}#sk-9e41714c-6378-4b63-8a12-d1ccdaaf843d div.sk-parallel-item {display: flex;flex-direction: column;position: relative;background-color: white;}#sk-9e41714c-6378-4b63-8a12-d1ccdaaf843d div.sk-parallel-item:first-child::after {align-self: flex-end;width: 50%;}#sk-9e41714c-6378-4b63-8a12-d1ccdaaf843d div.sk-parallel-item:last-child::after {align-self: flex-start;width: 50%;}#sk-9e41714c-6378-4b63-8a12-d1ccdaaf843d div.sk-parallel-item:only-child::after {width: 0;}#sk-9e41714c-6378-4b63-8a12-d1ccdaaf843d div.sk-dashed-wrapped {border: 1px dashed gray;margin: 0 0.4em 0.5em 0.4em;box-sizing: border-box;padding-bottom: 0.4em;background-color: white;position: relative;}#sk-9e41714c-6378-4b63-8a12-d1ccdaaf843d div.sk-label label {font-family: monospace;font-weight: bold;background-color: white;display: inline-block;line-height: 1.2em;}#sk-9e41714c-6378-4b63-8a12-d1ccdaaf843d div.sk-label-container {position: relative;z-index: 2;text-align: center;}#sk-9e41714c-6378-4b63-8a12-d1ccdaaf843d div.sk-container {/* jupyter's `normalize.less` sets `[hidden] { display: none; }` but bootstrap.min.css set `[hidden] { display: none !important; }` so we also need the `!important` here to be able to override the default hidden behavior on the sphinx rendered scikit-learn.org. See: https://github.com/scikit-learn/scikit-learn/issues/21755 */display: inline-block !important;position: relative;}#sk-9e41714c-6378-4b63-8a12-d1ccdaaf843d div.sk-text-repr-fallback {display: none;}</style><div id=\"sk-9e41714c-6378-4b63-8a12-d1ccdaaf843d\" class=\"sk-top-container\"><div class=\"sk-text-repr-fallback\"><pre>ColumnTransformer(transformers=[(&#x27;num&#x27;,\n",
       "                                 Pipeline(steps=[(&#x27;imputer&#x27;,\n",
       "                                                  SimpleImputer(strategy=&#x27;median&#x27;)),\n",
       "                                                 (&#x27;std_scaler&#x27;,\n",
       "                                                  StandardScaler())]),\n",
       "                                 [&#x27;number_of_reviews&#x27;, &#x27;love&#x27;, &#x27;price&#x27;,\n",
       "                                  &#x27;online_only&#x27;, &#x27;exclusive&#x27;, &#x27;limited_edition&#x27;,\n",
       "                                  &#x27;limited_time_offer&#x27;, &#x27;mini&#x27;, &#x27;cream&#x27;, &#x27;set&#x27;,\n",
       "                                  &#x27;mask&#x27;, &#x27;eau&#x27;, &#x27;lip&#x27;, &#x27;brush&#x27;, &#x27;oil&#x27;,\n",
       "                                  &#x27;extract&#x27;, &#x27;sodium&#x27;, &#x27;glycol&#x27;, &#x27;acid&#x27;, &#x27;seed&#x27;,\n",
       "                                  &#x27;metha&#x27;]),\n",
       "                                (&#x27;cat&#x27;, OneHotEncoder(sparse=False),\n",
       "                                 [&#x27;brand&#x27;, &#x27;category&#x27;, &#x27;secondary_category&#x27;])])</pre><b>Please rerun this cell to show the HTML repr or trust the notebook.</b></div><div class=\"sk-container\" hidden><div class=\"sk-item sk-dashed-wrapped\"><div class=\"sk-label-container\"><div class=\"sk-label sk-toggleable\"><input class=\"sk-toggleable__control sk-hidden--visually\" id=\"de1f7299-3003-4086-aeb6-872b46000d93\" type=\"checkbox\" ><label for=\"de1f7299-3003-4086-aeb6-872b46000d93\" class=\"sk-toggleable__label sk-toggleable__label-arrow\">ColumnTransformer</label><div class=\"sk-toggleable__content\"><pre>ColumnTransformer(transformers=[(&#x27;num&#x27;,\n",
       "                                 Pipeline(steps=[(&#x27;imputer&#x27;,\n",
       "                                                  SimpleImputer(strategy=&#x27;median&#x27;)),\n",
       "                                                 (&#x27;std_scaler&#x27;,\n",
       "                                                  StandardScaler())]),\n",
       "                                 [&#x27;number_of_reviews&#x27;, &#x27;love&#x27;, &#x27;price&#x27;,\n",
       "                                  &#x27;online_only&#x27;, &#x27;exclusive&#x27;, &#x27;limited_edition&#x27;,\n",
       "                                  &#x27;limited_time_offer&#x27;, &#x27;mini&#x27;, &#x27;cream&#x27;, &#x27;set&#x27;,\n",
       "                                  &#x27;mask&#x27;, &#x27;eau&#x27;, &#x27;lip&#x27;, &#x27;brush&#x27;, &#x27;oil&#x27;,\n",
       "                                  &#x27;extract&#x27;, &#x27;sodium&#x27;, &#x27;glycol&#x27;, &#x27;acid&#x27;, &#x27;seed&#x27;,\n",
       "                                  &#x27;metha&#x27;]),\n",
       "                                (&#x27;cat&#x27;, OneHotEncoder(sparse=False),\n",
       "                                 [&#x27;brand&#x27;, &#x27;category&#x27;, &#x27;secondary_category&#x27;])])</pre></div></div></div><div class=\"sk-parallel\"><div class=\"sk-parallel-item\"><div class=\"sk-item\"><div class=\"sk-label-container\"><div class=\"sk-label sk-toggleable\"><input class=\"sk-toggleable__control sk-hidden--visually\" id=\"42b9902f-3270-43e1-a4b9-f88ce150ad42\" type=\"checkbox\" ><label for=\"42b9902f-3270-43e1-a4b9-f88ce150ad42\" class=\"sk-toggleable__label sk-toggleable__label-arrow\">num</label><div class=\"sk-toggleable__content\"><pre>[&#x27;number_of_reviews&#x27;, &#x27;love&#x27;, &#x27;price&#x27;, &#x27;online_only&#x27;, &#x27;exclusive&#x27;, &#x27;limited_edition&#x27;, &#x27;limited_time_offer&#x27;, &#x27;mini&#x27;, &#x27;cream&#x27;, &#x27;set&#x27;, &#x27;mask&#x27;, &#x27;eau&#x27;, &#x27;lip&#x27;, &#x27;brush&#x27;, &#x27;oil&#x27;, &#x27;extract&#x27;, &#x27;sodium&#x27;, &#x27;glycol&#x27;, &#x27;acid&#x27;, &#x27;seed&#x27;, &#x27;metha&#x27;]</pre></div></div></div><div class=\"sk-serial\"><div class=\"sk-item\"><div class=\"sk-serial\"><div class=\"sk-item\"><div class=\"sk-estimator sk-toggleable\"><input class=\"sk-toggleable__control sk-hidden--visually\" id=\"1d1c65f5-6e6b-4c35-a5b7-3708c8ae446d\" type=\"checkbox\" ><label for=\"1d1c65f5-6e6b-4c35-a5b7-3708c8ae446d\" class=\"sk-toggleable__label sk-toggleable__label-arrow\">SimpleImputer</label><div class=\"sk-toggleable__content\"><pre>SimpleImputer(strategy=&#x27;median&#x27;)</pre></div></div></div><div class=\"sk-item\"><div class=\"sk-estimator sk-toggleable\"><input class=\"sk-toggleable__control sk-hidden--visually\" id=\"bc75cc34-8f57-48be-ac65-441314e4628c\" type=\"checkbox\" ><label for=\"bc75cc34-8f57-48be-ac65-441314e4628c\" class=\"sk-toggleable__label sk-toggleable__label-arrow\">StandardScaler</label><div class=\"sk-toggleable__content\"><pre>StandardScaler()</pre></div></div></div></div></div></div></div></div><div class=\"sk-parallel-item\"><div class=\"sk-item\"><div class=\"sk-label-container\"><div class=\"sk-label sk-toggleable\"><input class=\"sk-toggleable__control sk-hidden--visually\" id=\"c07406a4-badf-4a2c-a89c-999771c72a37\" type=\"checkbox\" ><label for=\"c07406a4-badf-4a2c-a89c-999771c72a37\" class=\"sk-toggleable__label sk-toggleable__label-arrow\">cat</label><div class=\"sk-toggleable__content\"><pre>[&#x27;brand&#x27;, &#x27;category&#x27;, &#x27;secondary_category&#x27;]</pre></div></div></div><div class=\"sk-serial\"><div class=\"sk-item\"><div class=\"sk-estimator sk-toggleable\"><input class=\"sk-toggleable__control sk-hidden--visually\" id=\"ef943b52-bc54-46d9-8ad8-5a963598aa99\" type=\"checkbox\" ><label for=\"ef943b52-bc54-46d9-8ad8-5a963598aa99\" class=\"sk-toggleable__label sk-toggleable__label-arrow\">OneHotEncoder</label><div class=\"sk-toggleable__content\"><pre>OneHotEncoder(sparse=False)</pre></div></div></div></div></div></div></div></div></div></div>"
      ],
      "text/plain": [
       "ColumnTransformer(transformers=[('num',\n",
       "                                 Pipeline(steps=[('imputer',\n",
       "                                                  SimpleImputer(strategy='median')),\n",
       "                                                 ('std_scaler',\n",
       "                                                  StandardScaler())]),\n",
       "                                 ['number_of_reviews', 'love', 'price',\n",
       "                                  'online_only', 'exclusive', 'limited_edition',\n",
       "                                  'limited_time_offer', 'mini', 'cream', 'set',\n",
       "                                  'mask', 'eau', 'lip', 'brush', 'oil',\n",
       "                                  'extract', 'sodium', 'glycol', 'acid', 'seed',\n",
       "                                  'metha']),\n",
       "                                ('cat', OneHotEncoder(sparse=False),\n",
       "                                 ['brand', 'category', 'secondary_category'])])"
      ]
     },
     "execution_count": 34,
     "metadata": {},
     "output_type": "execute_result"
    }
   ],
   "source": [
    "full_pipeline.fit(df)"
   ]
  },
  {
   "cell_type": "code",
   "execution_count": 35,
   "id": "aae9bff9",
   "metadata": {},
   "outputs": [
    {
     "data": {
      "text/plain": [
       "(7383, 529)"
      ]
     },
     "execution_count": 35,
     "metadata": {},
     "output_type": "execute_result"
    }
   ],
   "source": [
    "#create an array of prepared data based on the training data set\n",
    "X_train = full_pipeline.transform( X_train_pre )\n",
    "X_train.shape"
   ]
  },
  {
   "cell_type": "code",
   "execution_count": 36,
   "id": "76d643e3",
   "metadata": {},
   "outputs": [
    {
     "data": {
      "text/plain": [
       "(1846, 529)"
      ]
     },
     "execution_count": 36,
     "metadata": {},
     "output_type": "execute_result"
    }
   ],
   "source": [
    "#create an array of prepared data based on the test data set\n",
    "X_test = full_pipeline.transform( X_test_pre)\n",
    "X_test.shape"
   ]
  },
  {
   "cell_type": "markdown",
   "id": "a0d95051",
   "metadata": {},
   "source": [
    "### Create a list of Model Features (i.e. attributes)"
   ]
  },
  {
   "cell_type": "code",
   "execution_count": 37,
   "id": "e11f44dc",
   "metadata": {},
   "outputs": [
    {
     "data": {
      "text/plain": [
       "['number_of_reviews',\n",
       " 'love',\n",
       " 'price',\n",
       " 'online_only',\n",
       " 'exclusive',\n",
       " 'limited_edition',\n",
       " 'limited_time_offer',\n",
       " 'mini',\n",
       " 'cream',\n",
       " 'set',\n",
       " 'mask',\n",
       " 'eau',\n",
       " 'lip',\n",
       " 'brush',\n",
       " 'oil',\n",
       " 'extract',\n",
       " 'sodium',\n",
       " 'glycol',\n",
       " 'acid',\n",
       " 'seed',\n",
       " 'metha',\n",
       " '8Greens',\n",
       " 'AERIN',\n",
       " 'ALTERNA Haircare',\n",
       " 'AMOREPACIFIC',\n",
       " 'Acqua Di Parma',\n",
       " 'Aether Beauty',\n",
       " 'Algenist',\n",
       " 'Alpha-H',\n",
       " 'Anastasia Beverly Hills',\n",
       " 'Anthony',\n",
       " 'Antonym',\n",
       " 'Aquis',\n",
       " 'Armani Beauty',\n",
       " 'Artis',\n",
       " 'Artist Couture',\n",
       " 'Atelier Cologne',\n",
       " 'BALENCIAGA',\n",
       " 'BECCA',\n",
       " 'BERDOUES',\n",
       " 'BURBERRY',\n",
       " 'BVLGARI',\n",
       " 'Beachwaver',\n",
       " 'BeautyBio',\n",
       " 'Benefit Cosmetics',\n",
       " 'Better Not Younger',\n",
       " 'Bio Ionic',\n",
       " 'Biossance',\n",
       " 'Bite Beauty',\n",
       " 'Black Up',\n",
       " 'Blinc',\n",
       " 'Bobbi Brown',\n",
       " 'Briogeo',\n",
       " 'Bumble and bumble',\n",
       " 'Buxom',\n",
       " 'By Rosie Jane',\n",
       " 'Bésame Cosmetics',\n",
       " 'CHANEL',\n",
       " 'CLEAN RESERVE',\n",
       " 'CLINIQUE',\n",
       " 'COOLA',\n",
       " 'COVER FX',\n",
       " 'Calvin Klein',\n",
       " 'Capri Blue',\n",
       " 'Carolina Herrera',\n",
       " 'Caudalie',\n",
       " 'Cellu-cup',\n",
       " 'Charlotte Tilbury',\n",
       " 'Chloé',\n",
       " 'Christian Louboutin',\n",
       " 'Christophe Robin',\n",
       " 'Ciaté London',\n",
       " 'Cinema Secrets',\n",
       " 'Clarins',\n",
       " 'Clarisonic Skincare',\n",
       " 'Coal and Canary',\n",
       " 'Cocofloss',\n",
       " 'Commodity',\n",
       " 'Comptoir Sud Pacifique',\n",
       " 'Conture',\n",
       " 'Crushed Tonic',\n",
       " 'DEREK LAM 10 CROSBY',\n",
       " 'DERMAFLASH',\n",
       " 'DL.MD',\n",
       " 'DOLCE&GABBANA',\n",
       " 'DOMINIQUE COSMETICS',\n",
       " 'DUO',\n",
       " 'Deborah Lippmann',\n",
       " 'Dermalogica',\n",
       " 'DevaCurl',\n",
       " 'Dior',\n",
       " 'Donna Karan',\n",
       " \"Dr Roebuck's\",\n",
       " 'Dr. Barbara Sturm',\n",
       " 'Dr. Brandt Skincare',\n",
       " 'Dr. Dennis Gross Skincare',\n",
       " 'Dr. Jart+',\n",
       " 'Drunk Elephant',\n",
       " 'Drybar',\n",
       " 'ELLIS BROOKLYN',\n",
       " 'Earth’s Nectar',\n",
       " 'Edible Beauty',\n",
       " 'Eight & Bob',\n",
       " 'Elizabeth and James',\n",
       " 'Erborian',\n",
       " 'Erno Laszlo',\n",
       " 'Estée Lauder',\n",
       " \"Etat Libre d'Orange\",\n",
       " 'Eve Lom',\n",
       " 'Evian',\n",
       " 'FARSÁLI',\n",
       " 'FENTY BEAUTY by Rihanna',\n",
       " 'FOREO',\n",
       " 'FORM ',\n",
       " 'Fable & Mane',\n",
       " 'Farmacy',\n",
       " 'First Aid Beauty',\n",
       " 'Flora + Bast',\n",
       " 'Floral Street',\n",
       " 'Four Sigmatic',\n",
       " 'Fresh',\n",
       " 'GLAMGLOW',\n",
       " 'GLO Science',\n",
       " 'Givenchy',\n",
       " 'Glow Recipe',\n",
       " 'Golde',\n",
       " 'Good Dye Young',\n",
       " 'Google',\n",
       " 'Grande Cosmetics',\n",
       " 'Gucci',\n",
       " 'Guerlain',\n",
       " 'HERMÈS',\n",
       " 'HUDA BEAUTY',\n",
       " 'HUM Nutrition',\n",
       " 'Herbivore',\n",
       " 'High Beauty',\n",
       " 'Hourglass',\n",
       " 'IGK',\n",
       " 'ILIA',\n",
       " 'INC.redible',\n",
       " 'IT Cosmetics',\n",
       " 'Indie Lee',\n",
       " 'Isle of Paradise',\n",
       " 'JIMMY CHOO',\n",
       " 'Jack Black',\n",
       " 'Jillian Dempsey',\n",
       " 'Jo Malone London',\n",
       " 'John Varvatos',\n",
       " 'Josie Maran',\n",
       " 'Jouer Cosmetics',\n",
       " 'Juicy Couture',\n",
       " 'Juliette Has a Gun',\n",
       " 'KENZOKI',\n",
       " 'KEVYN AUCOIN',\n",
       " 'KNC Beauty',\n",
       " 'KORA Organics',\n",
       " 'KORRES',\n",
       " 'KVD Vegan Beauty',\n",
       " 'Kaja',\n",
       " 'Kate Somerville',\n",
       " 'Kenzo',\n",
       " \"Kiehl's Since 1851\",\n",
       " 'Kilian',\n",
       " 'Kitsch',\n",
       " 'Klorane',\n",
       " 'Koh Gen Do',\n",
       " 'Kopari',\n",
       " 'Kosas',\n",
       " 'Kérastase',\n",
       " \"L'Occitane\",\n",
       " 'LANCER Skincare',\n",
       " 'LANEIGE',\n",
       " 'LASHFOOD',\n",
       " 'LAVANILA',\n",
       " 'LAWLESS',\n",
       " 'LXMI',\n",
       " 'La Mer',\n",
       " 'Lab Series For Men',\n",
       " 'Lancôme',\n",
       " 'Laura Mercier',\n",
       " 'LightStim ',\n",
       " 'Lilly Lashes',\n",
       " 'Living Proof',\n",
       " 'Lord Jones',\n",
       " 'Lunar Beauty',\n",
       " 'MAELYS Cosmetics',\n",
       " 'MAKE UP FOR EVER',\n",
       " 'MDSolarSciences',\n",
       " 'MILK MAKEUP',\n",
       " 'Madam C.J. Walker Beauty Culture',\n",
       " 'Maison Louis Marie',\n",
       " 'Maison Margiela',\n",
       " 'Makeup Eraser',\n",
       " 'Marc Jacobs Beauty',\n",
       " 'Marc Jacobs Fragrances',\n",
       " 'Mario Badescu',\n",
       " 'Marvis',\n",
       " 'Melt Cosmetics',\n",
       " 'Michael Kors',\n",
       " 'Miu Miu',\n",
       " 'Mizani',\n",
       " 'Montblanc',\n",
       " 'Moon Juice',\n",
       " 'Moroccanoil',\n",
       " 'Moschino',\n",
       " 'Mount Lai',\n",
       " 'Mugler',\n",
       " 'Murad',\n",
       " 'NAILS INC.',\n",
       " 'NARS',\n",
       " 'NEST New York',\n",
       " 'NUDESTIX',\n",
       " 'Narciso Rodriguez',\n",
       " 'Natasha Denona',\n",
       " 'Naturally Serious',\n",
       " 'NuFACE',\n",
       " 'Nurse Jamie',\n",
       " 'O&M',\n",
       " 'OLEHENRIKSEN',\n",
       " 'OUAI',\n",
       " 'Obagi Clinical',\n",
       " 'Olaplex',\n",
       " 'Omorovicza',\n",
       " 'Origins',\n",
       " 'Overose',\n",
       " 'PAT McGRATH LABS',\n",
       " 'PATRICK TA',\n",
       " 'PHLUR',\n",
       " 'PINROSE',\n",
       " 'PLAY! by SEPHORA',\n",
       " 'PMD',\n",
       " 'Paco Rabanne',\n",
       " 'Peace Out',\n",
       " 'Perricone MD',\n",
       " 'Peter Thomas Roth',\n",
       " 'Pink Sugar',\n",
       " 'Playa',\n",
       " 'Prada',\n",
       " 'Pretty Vulgar',\n",
       " 'Prima',\n",
       " 'Primera',\n",
       " 'Proactiv',\n",
       " 'Qhemet Biologics',\n",
       " 'REN Clean Skincare',\n",
       " 'RODIN olio lusso ',\n",
       " 'ROEN BEAUTY',\n",
       " 'Rahua',\n",
       " 'Ralph Lauren',\n",
       " 'ReFa',\n",
       " 'Reverie',\n",
       " 'Rita Hazan',\n",
       " 'Rosebud Perfume Co.',\n",
       " 'Rossano Ferretti Parma',\n",
       " 'SEPHORA COLLECTION',\n",
       " 'SHHHOWERCAP',\n",
       " 'SK-II',\n",
       " 'SKYLAR',\n",
       " 'SOBEL SKIN Rx',\n",
       " 'STELLAR',\n",
       " 'SUNDAY RILEY',\n",
       " 'Sachajuan',\n",
       " 'Saint Jane Beauty',\n",
       " 'Sakara Life',\n",
       " 'Saturday Skin',\n",
       " 'Seed Phytonutrients',\n",
       " 'Sephora Favorites',\n",
       " 'Shani Darden Skin Care',\n",
       " 'Shaveworks',\n",
       " 'Shiseido',\n",
       " 'Skin Inc Supplement Bar',\n",
       " 'Skin Laundry',\n",
       " 'Skinfix',\n",
       " 'Slip',\n",
       " 'Smashbox',\n",
       " 'Sol de Janeiro',\n",
       " 'St. Tropez',\n",
       " 'StackedSkincare',\n",
       " 'Sulwhasoo',\n",
       " 'Summer Fridays',\n",
       " 'Supergoop!',\n",
       " 'T3',\n",
       " 'TAN-LUXE',\n",
       " 'TOCCA',\n",
       " 'TOM FORD',\n",
       " 'TWEEZERMAN',\n",
       " 'Taste Beauty',\n",
       " 'Tata Harper',\n",
       " 'Tatcha',\n",
       " 'The 7 Virtues',\n",
       " 'The Art of Shaving',\n",
       " 'The Beauty Chef',\n",
       " 'The INKEY List',\n",
       " 'The Ordinary',\n",
       " 'Together Beauty',\n",
       " 'TokyoMilk',\n",
       " 'Too Cool For School',\n",
       " 'Too Faced',\n",
       " 'Tory Burch',\n",
       " 'Touch In Sol',\n",
       " 'Tower 28 Beauty',\n",
       " 'Urban Decay',\n",
       " 'VOLUSPA',\n",
       " 'Valentino',\n",
       " 'Velour Lashes',\n",
       " 'Verb',\n",
       " 'Versace',\n",
       " 'Viktor&Rolf',\n",
       " 'Violet Voss',\n",
       " 'Virtue',\n",
       " 'Viseart',\n",
       " 'Vital Proteins',\n",
       " 'Vitruvi',\n",
       " 'Volition Beauty',\n",
       " 'Wander Beauty',\n",
       " 'WelleCo',\n",
       " 'Winky Lux',\n",
       " 'Wishful',\n",
       " 'YUNI',\n",
       " 'Youth To The People',\n",
       " 'Yves Saint Laurent',\n",
       " 'alpyn beauty',\n",
       " 'amika',\n",
       " 'bareMinerals',\n",
       " 'beautyblender',\n",
       " 'belif',\n",
       " 'bkr',\n",
       " 'boscia',\n",
       " 'dae',\n",
       " 'dpHUE',\n",
       " 'dyson',\n",
       " 'ghd',\n",
       " 'goop',\n",
       " 'innisfree',\n",
       " 'invisibobble',\n",
       " 'kate spade new york',\n",
       " 'lilah b.',\n",
       " 'lululemon selfcare',\n",
       " 'philosophy',\n",
       " 'rag & bone',\n",
       " 'rms beauty',\n",
       " 'shu uemura',\n",
       " 'stila',\n",
       " 'surratt beauty',\n",
       " 'tarte',\n",
       " 'trèStiQue',\n",
       " 'Accessories',\n",
       " 'After Sun Care',\n",
       " 'Aftershave',\n",
       " 'Anti-Aging',\n",
       " 'BB & CC Cream',\n",
       " 'BB & CC Creams',\n",
       " 'Bath & Body',\n",
       " 'Bath & Shower',\n",
       " 'Bath Soaks & Bubble Bath',\n",
       " 'Beauty Supplements',\n",
       " 'Blemish & Acne Treatments',\n",
       " 'Blotting Papers',\n",
       " 'Blush',\n",
       " 'Body Lotions & Body Oils',\n",
       " 'Body Mist & Hair Mist',\n",
       " 'Body Moisturizers',\n",
       " 'Body Products',\n",
       " 'Body Sprays & Deodorant',\n",
       " 'Body Sunscreen',\n",
       " 'Body Wash & Shower Gel',\n",
       " 'Bronzer',\n",
       " 'Brush Cleaners',\n",
       " 'Brush Sets',\n",
       " 'Candles',\n",
       " 'Candles & Home Scents',\n",
       " 'Cellulite & Stretch Marks',\n",
       " 'Cheek Palettes',\n",
       " 'Cleansing Brushes',\n",
       " 'Cologne',\n",
       " 'Cologne Gift Sets',\n",
       " 'Color Care',\n",
       " 'Color Correct',\n",
       " 'Concealer',\n",
       " 'Conditioner',\n",
       " 'Contour',\n",
       " 'Curling Irons',\n",
       " 'Curls & Coils',\n",
       " 'Decollete & Neck Creams',\n",
       " 'Deodorant & Antiperspirant',\n",
       " 'Deodorant for Men',\n",
       " 'Diffusers',\n",
       " 'Dry Shampoo',\n",
       " 'Exfoliators',\n",
       " 'Eye Brushes',\n",
       " 'Eye Cream',\n",
       " 'Eye Creams & Treatments',\n",
       " 'Eye Masks',\n",
       " 'Eye Palettes',\n",
       " 'Eye Primer',\n",
       " 'Eye Sets',\n",
       " 'Eyebrow',\n",
       " 'Eyelash Curlers',\n",
       " 'Eyeliner',\n",
       " 'Eyeshadow',\n",
       " 'Face Brushes',\n",
       " 'Face Masks',\n",
       " 'Face Oils',\n",
       " 'Face Primer',\n",
       " 'Face Serums',\n",
       " 'Face Sets',\n",
       " 'Face Sunscreen',\n",
       " 'Face Wash',\n",
       " 'Face Wash & Cleansers',\n",
       " 'Face Wipes',\n",
       " 'Facial Cleansing Brushes',\n",
       " 'Facial Peels',\n",
       " 'Facial Rollers',\n",
       " 'False Eyelashes',\n",
       " 'For Body',\n",
       " 'For Face',\n",
       " 'Foundation',\n",
       " 'Fragrance',\n",
       " 'Hair',\n",
       " 'Hair Accessories',\n",
       " 'Hair Brushes & Combs',\n",
       " 'Hair Dryers',\n",
       " 'Hair Masks',\n",
       " 'Hair Oil',\n",
       " 'Hair Primers',\n",
       " 'Hair Products',\n",
       " 'Hair Removal',\n",
       " 'Hair Removal & Shaving',\n",
       " 'Hair Spray',\n",
       " 'Hair Straighteners & Flat Irons',\n",
       " 'Hair Styling & Treatments',\n",
       " 'Hair Styling Products',\n",
       " 'Hair Thinning & Hair Loss',\n",
       " 'Hand Cream & Foot Cream',\n",
       " 'High Tech Tools',\n",
       " 'Highlighter',\n",
       " 'Holistic Wellness',\n",
       " 'Leave-In Conditioner',\n",
       " 'Lid Shadow Brush',\n",
       " 'Lip Balm & Treatment',\n",
       " 'Lip Balms & Treatments',\n",
       " 'Lip Brushes',\n",
       " 'Lip Gloss',\n",
       " 'Lip Liner',\n",
       " 'Lip Plumper',\n",
       " 'Lip Sets',\n",
       " 'Lip Stain',\n",
       " 'Lip Sunscreen',\n",
       " 'Lip Treatments',\n",
       " 'Lipstick',\n",
       " 'Liquid Lipstick',\n",
       " 'Lotions & Oils',\n",
       " 'Makeup',\n",
       " 'Makeup & Travel Cases',\n",
       " 'Makeup Bags & Travel Cases',\n",
       " 'Makeup Palettes',\n",
       " 'Makeup Removers',\n",
       " 'Mascara',\n",
       " 'Mini Size',\n",
       " 'Mirrors & Sharpeners',\n",
       " 'Mists & Essences',\n",
       " 'Moisturizer & Treatments',\n",
       " 'Moisturizers',\n",
       " 'Nail',\n",
       " 'Night Creams',\n",
       " 'Perfume',\n",
       " 'Perfume Gift Sets',\n",
       " 'Powder Brush',\n",
       " 'Rollerballs & Travel Size',\n",
       " 'Scalp & Hair Treatments',\n",
       " 'Scrub & Exfoliants',\n",
       " 'Self Tanners',\n",
       " 'Setting Spray & Powder',\n",
       " 'Shampoo',\n",
       " 'Shampoo & Conditioner',\n",
       " 'Shaving',\n",
       " 'Sheet Masks',\n",
       " 'Skincare',\n",
       " 'Skincare Sets',\n",
       " 'Spa Tools',\n",
       " 'Sponges & Applicators',\n",
       " 'Sunscreen',\n",
       " 'Teeth Whitening',\n",
       " 'Tinted Moisturizer',\n",
       " 'Toners',\n",
       " 'Tweezers & Eyebrow Tools',\n",
       " 'Value & Gift Sets',\n",
       " 'Wellness',\n",
       " 'no category',\n",
       " 'Accessories',\n",
       " 'Bath & Body',\n",
       " 'Bath & Shower',\n",
       " 'Beauty Accessories',\n",
       " 'Beauty Tools',\n",
       " 'Body Care',\n",
       " 'Body Moisturizers',\n",
       " 'Brushes & Applicators',\n",
       " 'Candles & Home Scents',\n",
       " 'Cheek',\n",
       " 'Cleansers',\n",
       " 'Eye',\n",
       " 'Eye Care',\n",
       " 'Face',\n",
       " 'Fragrance',\n",
       " 'Hair',\n",
       " 'Hair Styling & Treatments',\n",
       " 'Hair Tools',\n",
       " 'High Tech Tools',\n",
       " 'Lip',\n",
       " 'Lip Balms & Treatments',\n",
       " 'Makeup',\n",
       " 'Makeup Palettes',\n",
       " 'Masks',\n",
       " 'Men',\n",
       " 'Mini Size',\n",
       " 'Moisturizers',\n",
       " 'Nail',\n",
       " 'Other Needs',\n",
       " 'Self Tanners',\n",
       " 'Shampoo & Conditioner',\n",
       " 'Shaving',\n",
       " 'Shop by Concern',\n",
       " 'Skincare',\n",
       " 'Sunscreen',\n",
       " 'Tools',\n",
       " 'Treatments',\n",
       " 'Value & Gift Sets',\n",
       " 'Wellness',\n",
       " 'Women',\n",
       " nan]"
      ]
     },
     "execution_count": 37,
     "metadata": {},
     "output_type": "execute_result"
    }
   ],
   "source": [
    "#capture a list of all the features used in the model\n",
    "#helpful later when you want to analyze feature importance\n",
    "\n",
    "#gets the order of encoded categories (if any)\n",
    "cat_encoder = full_pipeline.named_transformers_[\"cat\"]\n",
    "cat_one_hot_attribs = []\n",
    "if hasattr(cat_encoder, 'categories_'):\n",
    "    for i in cat_encoder.categories_:\n",
    "        cat_one_hot_attribs += list(i)\n",
    "        \n",
    "#combines the numeric and encoded features\n",
    "attributes = list(num_attribs) + list(cat_one_hot_attribs)\n",
    "attributes"
   ]
  },
  {
   "cell_type": "markdown",
   "id": "b1d92891",
   "metadata": {},
   "source": [
    "## <font color=purple>Multinomial Classification"
   ]
  },
  {
   "cell_type": "markdown",
   "id": "de382a70",
   "metadata": {},
   "source": [
    "### Train and Evaluate Model"
   ]
  },
  {
   "cell_type": "code",
   "execution_count": 38,
   "id": "07d15cfe",
   "metadata": {},
   "outputs": [
    {
     "name": "stdout",
     "output_type": "stream",
     "text": [
      "   Accuracy: 53.89%\n",
      "CV Accuracy: 44.77%\n"
     ]
    }
   ],
   "source": [
    "#create a linear regression model that allows for \n",
    "model=LogisticRegression()\n",
    "\n",
    "#fit the model to the training data set\n",
    "model.fit(X_train, y_train)\n",
    "\n",
    "#calculated the accuracy (i.e. predicted vs. actual for the training data set)\n",
    "acc = model.score(X_train, y_train)\n",
    "print('   Accuracy: {:.2f}%'.format(acc*100))\n",
    "\n",
    "#use cross valudation to process the data 5 different ways using linear regression model generated above\n",
    "scores = cross_val_score(model, X_train, y_train, cv=5)\n",
    "\n",
    "# look at average across all folds\n",
    "print('CV Accuracy: {:.2f}%'.format( scores.mean()*100 ) )"
   ]
  },
  {
   "cell_type": "code",
   "execution_count": 39,
   "id": "cb393e03",
   "metadata": {},
   "outputs": [
    {
     "data": {
      "image/png": "[encoded data removed]",
      "text/plain": [
       "<Figure size 720x360 with 1 Axes>"
      ]
     },
     "metadata": {
      "needs_background": "light"
     },
     "output_type": "display_data"
    }
   ],
   "source": [
    "#plot learning curve\n",
    "plot_learning_curve(model, X_train, y_train, scoring='accuracy')"
   ]
  },
  {
   "cell_type": "markdown",
   "id": "d82bb252",
   "metadata": {
    "tags": []
   },
   "source": [
    "### Evaluate Model on Test Set"
   ]
  },
  {
   "cell_type": "code",
   "execution_count": 40,
   "id": "502a9014",
   "metadata": {
    "tags": []
   },
   "outputs": [
    {
     "name": "stdout",
     "output_type": "stream",
     "text": [
      "   Accuracy: 46.10%\n"
     ]
    }
   ],
   "source": [
    "#calculated the accuracy (i.e. predicted vs. actual for the test data set)\n",
    "acc = model.score(X_test, y_test)\n",
    "print('   Accuracy: {:.2f}%'.format(acc*100))"
   ]
  },
  {
   "cell_type": "code",
   "execution_count": 41,
   "id": "5c54e078",
   "metadata": {},
   "outputs": [
    {
     "name": "stdout",
     "output_type": "stream",
     "text": [
      "              precision    recall  f1-score   support\n",
      "\n",
      "         3.5       0.40      0.33      0.36       380\n",
      "         4.0       0.45      0.39      0.41       574\n",
      "         4.5       0.50      0.67      0.57       712\n",
      "           5       0.30      0.14      0.20       180\n",
      "\n",
      "    accuracy                           0.46      1846\n",
      "   macro avg       0.41      0.38      0.39      1846\n",
      "weighted avg       0.44      0.46      0.44      1846\n",
      "\n"
     ]
    }
   ],
   "source": [
    "y_pred = model.predict(X_test)\n",
    "print( classification_report( y_test, y_pred) )"
   ]
  },
  {
   "cell_type": "markdown",
   "id": "7c8fd3e7",
   "metadata": {},
   "source": [
    "## <font color=purple>Try Other Classifiers</font>"
   ]
  },
  {
   "cell_type": "code",
   "execution_count": 42,
   "id": "fdc8804e",
   "metadata": {},
   "outputs": [
    {
     "name": "stdout",
     "output_type": "stream",
     "text": [
      "-------------------------\n",
      "HistGradientBoostingClassifier(random_state=42)\n",
      "   Accuracy: 78.59%\n",
      "CV Accuracy: 49.38%\n",
      "---> 279.23 seconds\n"
     ]
    }
   ],
   "source": [
    "# feel free to comment out any models you do not wish to run (particularly the decision tree & random forest regressors)\n",
    "modelList = [#LogisticRegression(multi_class=\"multinomial\", random_state=42),\n",
    "             #SGDClassifier(random_state=42),\n",
    "            # DecisionTreeClassifier(random_state=42), \n",
    "             #RandomForestClassifier(random_state=42),     # most time consuming so may want to skip\n",
    "             #GradientBoostingClassifier(random_state=42), # also one of the most time consuming algorithms \n",
    "             HistGradientBoostingClassifier(random_state=42), \n",
    "             #KNeighborsClassifier()\n",
    "            ]\n",
    "\n",
    "for model in modelList: \n",
    "\n",
    "    #time how long a model needs \"roughly\" to learn\n",
    "    print(\"-\"*25)\n",
    "    print(model)\n",
    "    start_time = time.time()\n",
    "    \n",
    "    #fit the model to the prepared test data\n",
    "    model.fit(X_train,y_train)\n",
    "\n",
    "    #see how well the model fits\n",
    "    #calculate the predicted values\n",
    "    acc = model.score(X_train, y_train)\n",
    "    print('   Accuracy: {:.2f}%'.format(acc*100))\n",
    "\n",
    "    #use cross validation to process the data 5 different ways using linear regression model generated above\n",
    "    scores = cross_val_score(model, X_train, y_train, cv=5)\n",
    "    print('CV Accuracy: {:.2f}%'.format( scores.mean()*100 ) ) \n",
    "\n",
    "    print(\"---> {:,.2f} seconds\".format(time.time() - start_time))"
   ]
  },
  {
   "cell_type": "markdown",
   "id": "16019836",
   "metadata": {},
   "source": [
    "## <font color=purple>Tune the Best Model</font>"
   ]
  },
  {
   "cell_type": "code",
   "execution_count": 43,
   "id": "1d9f67f5",
   "metadata": {},
   "outputs": [
    {
     "data": {
      "text/html": [
       "<style>#sk-03838ab5-ccf1-4f55-a5cb-d4f6bd811157 {color: black;background-color: white;}#sk-03838ab5-ccf1-4f55-a5cb-d4f6bd811157 pre{padding: 0;}#sk-03838ab5-ccf1-4f55-a5cb-d4f6bd811157 div.sk-toggleable {background-color: white;}#sk-03838ab5-ccf1-4f55-a5cb-d4f6bd811157 label.sk-toggleable__label {cursor: pointer;display: block;width: 100%;margin-bottom: 0;padding: 0.3em;box-sizing: border-box;text-align: center;}#sk-03838ab5-ccf1-4f55-a5cb-d4f6bd811157 label.sk-toggleable__label-arrow:before {content: \"▸\";float: left;margin-right: 0.25em;color: #696969;}#sk-03838ab5-ccf1-4f55-a5cb-d4f6bd811157 label.sk-toggleable__label-arrow:hover:before {color: black;}#sk-03838ab5-ccf1-4f55-a5cb-d4f6bd811157 div.sk-estimator:hover label.sk-toggleable__label-arrow:before {color: black;}#sk-03838ab5-ccf1-4f55-a5cb-d4f6bd811157 div.sk-toggleable__content {max-height: 0;max-width: 0;overflow: hidden;text-align: left;background-color: #f0f8ff;}#sk-03838ab5-ccf1-4f55-a5cb-d4f6bd811157 div.sk-toggleable__content pre {margin: 0.2em;color: black;border-radius: 0.25em;background-color: #f0f8ff;}#sk-03838ab5-ccf1-4f55-a5cb-d4f6bd811157 input.sk-toggleable__control:checked~div.sk-toggleable__content {max-height: 200px;max-width: 100%;overflow: auto;}#sk-03838ab5-ccf1-4f55-a5cb-d4f6bd811157 input.sk-toggleable__control:checked~label.sk-toggleable__label-arrow:before {content: \"▾\";}#sk-03838ab5-ccf1-4f55-a5cb-d4f6bd811157 div.sk-estimator input.sk-toggleable__control:checked~label.sk-toggleable__label {background-color: #d4ebff;}#sk-03838ab5-ccf1-4f55-a5cb-d4f6bd811157 div.sk-label input.sk-toggleable__control:checked~label.sk-toggleable__label {background-color: #d4ebff;}#sk-03838ab5-ccf1-4f55-a5cb-d4f6bd811157 input.sk-hidden--visually {border: 0;clip: rect(1px 1px 1px 1px);clip: rect(1px, 1px, 1px, 1px);height: 1px;margin: -1px;overflow: hidden;padding: 0;position: absolute;width: 1px;}#sk-03838ab5-ccf1-4f55-a5cb-d4f6bd811157 div.sk-estimator {font-family: monospace;background-color: #f0f8ff;border: 1px dotted black;border-radius: 0.25em;box-sizing: border-box;margin-bottom: 0.5em;}#sk-03838ab5-ccf1-4f55-a5cb-d4f6bd811157 div.sk-estimator:hover {background-color: #d4ebff;}#sk-03838ab5-ccf1-4f55-a5cb-d4f6bd811157 div.sk-parallel-item::after {content: \"\";width: 100%;border-bottom: 1px solid gray;flex-grow: 1;}#sk-03838ab5-ccf1-4f55-a5cb-d4f6bd811157 div.sk-label:hover label.sk-toggleable__label {background-color: #d4ebff;}#sk-03838ab5-ccf1-4f55-a5cb-d4f6bd811157 div.sk-serial::before {content: \"\";position: absolute;border-left: 1px solid gray;box-sizing: border-box;top: 2em;bottom: 0;left: 50%;}#sk-03838ab5-ccf1-4f55-a5cb-d4f6bd811157 div.sk-serial {display: flex;flex-direction: column;align-items: center;background-color: white;padding-right: 0.2em;padding-left: 0.2em;}#sk-03838ab5-ccf1-4f55-a5cb-d4f6bd811157 div.sk-item {z-index: 1;}#sk-03838ab5-ccf1-4f55-a5cb-d4f6bd811157 div.sk-parallel {display: flex;align-items: stretch;justify-content: center;background-color: white;}#sk-03838ab5-ccf1-4f55-a5cb-d4f6bd811157 div.sk-parallel::before {content: \"\";position: absolute;border-left: 1px solid gray;box-sizing: border-box;top: 2em;bottom: 0;left: 50%;}#sk-03838ab5-ccf1-4f55-a5cb-d4f6bd811157 div.sk-parallel-item {display: flex;flex-direction: column;position: relative;background-color: white;}#sk-03838ab5-ccf1-4f55-a5cb-d4f6bd811157 div.sk-parallel-item:first-child::after {align-self: flex-end;width: 50%;}#sk-03838ab5-ccf1-4f55-a5cb-d4f6bd811157 div.sk-parallel-item:last-child::after {align-self: flex-start;width: 50%;}#sk-03838ab5-ccf1-4f55-a5cb-d4f6bd811157 div.sk-parallel-item:only-child::after {width: 0;}#sk-03838ab5-ccf1-4f55-a5cb-d4f6bd811157 div.sk-dashed-wrapped {border: 1px dashed gray;margin: 0 0.4em 0.5em 0.4em;box-sizing: border-box;padding-bottom: 0.4em;background-color: white;position: relative;}#sk-03838ab5-ccf1-4f55-a5cb-d4f6bd811157 div.sk-label label {font-family: monospace;font-weight: bold;background-color: white;display: inline-block;line-height: 1.2em;}#sk-03838ab5-ccf1-4f55-a5cb-d4f6bd811157 div.sk-label-container {position: relative;z-index: 2;text-align: center;}#sk-03838ab5-ccf1-4f55-a5cb-d4f6bd811157 div.sk-container {/* jupyter's `normalize.less` sets `[hidden] { display: none; }` but bootstrap.min.css set `[hidden] { display: none !important; }` so we also need the `!important` here to be able to override the default hidden behavior on the sphinx rendered scikit-learn.org. See: https://github.com/scikit-learn/scikit-learn/issues/21755 */display: inline-block !important;position: relative;}#sk-03838ab5-ccf1-4f55-a5cb-d4f6bd811157 div.sk-text-repr-fallback {display: none;}</style><div id=\"sk-03838ab5-ccf1-4f55-a5cb-d4f6bd811157\" class=\"sk-top-container\"><div class=\"sk-text-repr-fallback\"><pre>GridSearchCV(cv=5, estimator=HistGradientBoostingClassifier(random_state=42),\n",
       "             param_grid=[{&#x27;learning_rate&#x27;: [0.1, 0.01, 0.001],\n",
       "                          &#x27;max_iter&#x27;: [100]}],\n",
       "             return_train_score=True, scoring=&#x27;accuracy&#x27;)</pre><b>Please rerun this cell to show the HTML repr or trust the notebook.</b></div><div class=\"sk-container\" hidden><div class=\"sk-item sk-dashed-wrapped\"><div class=\"sk-label-container\"><div class=\"sk-label sk-toggleable\"><input class=\"sk-toggleable__control sk-hidden--visually\" id=\"c43531bf-f99e-465b-9814-302346a81c1e\" type=\"checkbox\" ><label for=\"c43531bf-f99e-465b-9814-302346a81c1e\" class=\"sk-toggleable__label sk-toggleable__label-arrow\">GridSearchCV</label><div class=\"sk-toggleable__content\"><pre>GridSearchCV(cv=5, estimator=HistGradientBoostingClassifier(random_state=42),\n",
       "             param_grid=[{&#x27;learning_rate&#x27;: [0.1, 0.01, 0.001],\n",
       "                          &#x27;max_iter&#x27;: [100]}],\n",
       "             return_train_score=True, scoring=&#x27;accuracy&#x27;)</pre></div></div></div><div class=\"sk-parallel\"><div class=\"sk-parallel-item\"><div class=\"sk-item\"><div class=\"sk-serial\"><div class=\"sk-item\"><div class=\"sk-estimator sk-toggleable\"><input class=\"sk-toggleable__control sk-hidden--visually\" id=\"ff9ae0cf-dcac-4ad1-9ad4-18ad14f75e6d\" type=\"checkbox\" ><label for=\"ff9ae0cf-dcac-4ad1-9ad4-18ad14f75e6d\" class=\"sk-toggleable__label sk-toggleable__label-arrow\">HistGradientBoostingClassifier</label><div class=\"sk-toggleable__content\"><pre>HistGradientBoostingClassifier(random_state=42)</pre></div></div></div></div></div></div></div></div></div></div>"
      ],
      "text/plain": [
       "GridSearchCV(cv=5, estimator=HistGradientBoostingClassifier(random_state=42),\n",
       "             param_grid=[{'learning_rate': [0.1, 0.01, 0.001],\n",
       "                          'max_iter': [100]}],\n",
       "             return_train_score=True, scoring='accuracy')"
      ]
     },
     "execution_count": 43,
     "metadata": {},
     "output_type": "execute_result"
    }
   ],
   "source": [
    "model = HistGradientBoostingClassifier(random_state=42)\n",
    "\n",
    "param_grid = [\n",
    "    {'max_iter':[100],                   #large max_iter will take a long time\n",
    "     'learning_rate': [.1, .01,.001]\n",
    "    }\n",
    "]\n",
    "\n",
    "# train across 5 folds\n",
    "grid_search = GridSearchCV(model, param_grid, cv=5,\n",
    "                           scoring='accuracy',\n",
    "                           return_train_score=True)\n",
    "\n",
    "#fit the data to the model\n",
    "grid_search.fit(X_train, y_train)"
   ]
  },
  {
   "cell_type": "code",
   "execution_count": 44,
   "id": "e6f5b868",
   "metadata": {},
   "outputs": [
    {
     "name": "stdout",
     "output_type": "stream",
     "text": [
      "CV Accuracy: 49.38% - {'learning_rate': 0.1, 'max_iter': 100}\n",
      "CV Accuracy: 49.10% - {'learning_rate': 0.01, 'max_iter': 100}\n",
      "CV Accuracy: 38.51% - {'learning_rate': 0.001, 'max_iter': 100}\n"
     ]
    }
   ],
   "source": [
    "#print the RMSE results from the CV and the paramaters used during each run \n",
    "cvres = grid_search.cv_results_\n",
    "for mean_score, params in zip(cvres[\"mean_test_score\"], cvres[\"params\"]):\n",
    "    print(\"CV Accuracy: {:,.2f}% - {}\".format( mean_score*100, params) )"
   ]
  },
  {
   "cell_type": "code",
   "execution_count": 45,
   "id": "82c9bd4a",
   "metadata": {},
   "outputs": [
    {
     "data": {
      "text/plain": [
       "{'learning_rate': 0.1, 'max_iter': 100}"
      ]
     },
     "execution_count": 45,
     "metadata": {},
     "output_type": "execute_result"
    }
   ],
   "source": [
    "#display the best soluiton\n",
    "grid_search.best_params_"
   ]
  },
  {
   "cell_type": "markdown",
   "id": "162ce2c6",
   "metadata": {},
   "source": [
    "### Create the Best Classifier"
   ]
  },
  {
   "cell_type": "code",
   "execution_count": 46,
   "id": "e300d2a1",
   "metadata": {},
   "outputs": [
    {
     "name": "stdout",
     "output_type": "stream",
     "text": [
      "   Accuracy: 78.59%\n",
      "CV Accuracy: 49.38%\n"
     ]
    }
   ],
   "source": [
    "#use the parameters found above to create the model\n",
    "model = HistGradientBoostingClassifier(**grid_search.best_params_)\n",
    "\n",
    "#fit the model to the training data set\n",
    "model.fit(X_train, y_train)\n",
    "\n",
    "#compare the predicted to the actuals\n",
    "acc = model.score(X_train, y_train)\n",
    "print('   Accuracy: {:.2f}%'.format(acc*100))\n",
    "\n",
    "#use cross validation to process the data 5 different ways using linear regression model generated above\n",
    "scores = cross_val_score(model, X_train, y_train, cv=5)\n",
    "print('CV Accuracy: {:.2f}%'.format( scores.mean()*100 ) ) "
   ]
  },
  {
   "cell_type": "markdown",
   "id": "7b544fdc",
   "metadata": {},
   "source": [
    "### Evaluate Best Classifier on Test Set"
   ]
  },
  {
   "cell_type": "code",
   "execution_count": 47,
   "id": "31baba00",
   "metadata": {},
   "outputs": [
    {
     "name": "stdout",
     "output_type": "stream",
     "text": [
      " Test Accuracy: 51.68%\n"
     ]
    }
   ],
   "source": [
    "#see how well the model performs on the test data set\n",
    "y_pred = model.predict(X_test)\n",
    "\n",
    "print(\" Test Accuracy: {:.2f}%\".format( accuracy_score(y_test, y_pred )*100 ))"
   ]
  },
  {
   "cell_type": "markdown",
   "id": "36ee5f60",
   "metadata": {},
   "source": [
    "# Predictions"
   ]
  },
  {
   "cell_type": "code",
   "execution_count": 50,
   "id": "73582020",
   "metadata": {},
   "outputs": [
    {
     "data": {
      "text/plain": [
       "array(['4.0', '4.0', '4.0'], dtype=object)"
      ]
     },
     "execution_count": 50,
     "metadata": {},
     "output_type": "execute_result"
    }
   ],
   "source": [
    "X_prepared=full_pipeline.transform(toPredict)\n",
    "model.predict(X_prepared)"
   ]
  },
  {
   "cell_type": "markdown",
   "id": "0e63d778",
   "metadata": {
    "tags": []
   },
   "source": [
    "## <font color=purple>Add Complexity using PolynomialFeatures"
   ]
  },
  {
   "cell_type": "code",
   "execution_count": null,
   "id": "6a2a1170",
   "metadata": {},
   "outputs": [],
   "source": [
    "#try making a linear model fit data that is more likely non-linear\n",
    "DEGREE = 2\n",
    "\n",
    "#create a polynomial feature with degree based on variable DEGREE\n",
    "poly_features=PolynomialFeatures(degree=DEGREE)\n",
    "\n",
    "#transform our X by adding the square of each feature to the training set\n",
    "X_train_poly = poly_features.fit_transform(X_train)\n",
    "X_test_poly = poly_features.transform(X_test)\n",
    "\n",
    "X_train_poly.shape, X_test_poly.shape"
   ]
  },
  {
   "cell_type": "code",
   "execution_count": null,
   "id": "99840e0b",
   "metadata": {},
   "outputs": [],
   "source": [
    "modelList = [LogisticRegression(random_state=42),\n",
    "             #SGDClassifier(random_state=42),\n",
    "            ]\n",
    "\n",
    "for model in modelList: \n",
    "\n",
    "    #time how long a model needs \"roughly\" to learn\n",
    "    print(\"-\"*25)\n",
    "    print(model)\n",
    "    start_time = time.time()\n",
    "    \n",
    "    #fit the model to the prepared test data\n",
    "    model.fit(X_train_poly,y_train)\n",
    "\n",
    "    #compare the predicted to the actuals\n",
    "    acc = model.score(X_train_poly, y_train)\n",
    "    print('   Accuracy: {:.2f}%'.format(acc*100))\n",
    "\n",
    "    #use cross validation to process the data 5 different ways using linear regression model generated above\n",
    "    scores = cross_val_score(model, X_train_poly, y_train, cv=5)\n",
    "    print('CV Accuracy: {:.2f}%'.format( scores.mean()*100 ) ) \n",
    "\n",
    "    print(\"---> {:,.2f} seconds\".format(time.time() - start_time))"
   ]
  },
  {
   "cell_type": "markdown",
   "id": "8843a7bb",
   "metadata": {},
   "source": [
    "### Create the Best Poly Classifier"
   ]
  },
  {
   "cell_type": "code",
   "execution_count": null,
   "id": "2ee3a7d6",
   "metadata": {},
   "outputs": [],
   "source": [
    "#use the parameters found above to create the model\n",
    "model_poly = LogisticRegression(multi_class=\"multinomial\", random_state=42)\n",
    "\n",
    "#fit the model to the training data set\n",
    "model_poly.fit(X_train_poly, y_train)\n",
    "\n",
    "#compare the predicted to the actuals\n",
    "acc = model.score(X_train_poly, y_train)\n",
    "print('   Accuracy: {:.2f}%'.format(acc*100))\n",
    "\n",
    "#use cross validation to process the data 5 different ways using linear regression model generated above\n",
    "scores = cross_val_score(model_poly, X_train_poly, y_train, cv=5)\n",
    "print('CV Accuracy: {:.2f}%'.format( scores.mean()*100 ) ) "
   ]
  },
  {
   "cell_type": "code",
   "execution_count": null,
   "id": "8c6bdfe3",
   "metadata": {},
   "outputs": [],
   "source": [
    "plot_learning_curve(model_poly, X_train_poly, y_train,scoring=\"accuracy\")"
   ]
  },
  {
   "cell_type": "markdown",
   "id": "00124d4d",
   "metadata": {},
   "source": [
    "### Evaluate Best Poly Classifier on Test Set"
   ]
  },
  {
   "cell_type": "code",
   "execution_count": null,
   "id": "dff820db",
   "metadata": {},
   "outputs": [],
   "source": [
    "#see how well the model performs on the test data set\n",
    "y_pred = model_poly.predict(X_test_poly)\n",
    "\n",
    "print(\" Accuracy Score: {:.2f}%\".format( accuracy_score(y_test, y_pred )*100 ))"
   ]
  },
  {
   "cell_type": "code",
   "execution_count": null,
   "id": "44af5596",
   "metadata": {},
   "outputs": [],
   "source": [
    "#NEW Classification Report of Test Data\n",
    "y_pred = model.predict(X_test_poly)\n",
    "print( classification_report( y_test, y_pred) )"
   ]
  },
  {
   "cell_type": "code",
   "execution_count": null,
   "id": "ffe90061",
   "metadata": {},
   "outputs": [],
   "source": []
  }
 ],
 "metadata": {
  "kernelspec": {
   "display_name": "Python 3 (ipykernel)",
   "language": "python",
   "name": "python3"
  },
  "language_info": {
   "codemirror_mode": {
    "name": "ipython",
    "version": 3
   },
   "file_extension": ".py",
   "mimetype": "text/x-python",
   "name": "python",
   "nbconvert_exporter": "python",
   "pygments_lexer": "ipython3",
   "version": "3.9.12"
  }
 },
 "nbformat": 4,
 "nbformat_minor": 5
}
