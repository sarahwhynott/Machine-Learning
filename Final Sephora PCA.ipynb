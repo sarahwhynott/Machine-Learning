{
 "cells": [
  {
   "cell_type": "markdown",
   "id": "a7812281",
   "metadata": {},
   "source": [
    "## <font color=purple>Import needed modules</font>"
   ]
  },
  {
   "cell_type": "code",
   "execution_count": 1,
   "id": "c884cef6",
   "metadata": {},
   "outputs": [],
   "source": [
    "#general libraries needed\n",
    "import pandas as pd\n",
    "import numpy as np\n",
    "\n",
    "# for plotting \n",
    "import matplotlib.pyplot as plt\n",
    "from matplotlib import cm\n",
    "\n",
    "#scikit learn modules\n",
    "from sklearn.linear_model import LogisticRegression\n",
    "from sklearn.preprocessing import OrdinalEncoder, OneHotEncoder, StandardScaler, PowerTransformer, PolynomialFeatures\n",
    "from sklearn.impute import SimpleImputer\n",
    "from sklearn.compose import ColumnTransformer\n",
    "from sklearn.pipeline import Pipeline\n",
    "from sklearn.model_selection import train_test_split, cross_val_score, GridSearchCV\n",
    "from sklearn.decomposition import PCA\n",
    "from sklearn.manifold import TSNE"
   ]
  },
  {
   "cell_type": "markdown",
   "id": "9e329ed6",
   "metadata": {},
   "source": [
    "## <font color=purple>Function Definitions</font>"
   ]
  },
  {
   "cell_type": "code",
   "execution_count": 2,
   "id": "279f216f",
   "metadata": {},
   "outputs": [],
   "source": [
    "#function to verify the existence of a file in the current working directory and download it if not\n",
    "import os,urllib, urllib.request, sys, tarfile\n",
    "def downloadDataResource(file,sourcePath,compressed=None):\n",
    "    if not os.path.isfile(file):\n",
    "        try:\n",
    "            urllib.request.urlretrieve(sourcePath+(compressed if compressed else file),(compressed if compressed else file))\n",
    "            print(\"Downloaded\", (compressed if compressed else file) )\n",
    "            if compressed:\n",
    "                ucomp = tarfile.open(compressed)\n",
    "                ucomp.extractall()\n",
    "                ucomp.close()\n",
    "                print(\"File uncompressed.\")\n",
    "        except:\n",
    "            print(\"ERROR: File\", (compressed if compressed else file), \"not found. Data source missing.\")\n",
    "    else:\n",
    "        print(\"Data resource\", file, \"already downloaded.\")"
   ]
  },
  {
   "cell_type": "code",
   "execution_count": 3,
   "id": "cc71049d",
   "metadata": {},
   "outputs": [],
   "source": [
    "#function that shows a learning curve for any model that has predict or fit methods\n",
    "from sklearn.model_selection import learning_curve\n",
    "\n",
    "def plot_learning_curve(estimator,X,y,ylim=None,cv=None,n_jobs=None,train_sizes=np.linspace(0.1, 1.0, 20),scoring = 'neg_root_mean_squared_error'):\n",
    "    \n",
    "    _, axes = plt.subplots(1, 1, figsize=(10, 5))    \n",
    "    axes.set_title('Learning Curve')\n",
    "    if ylim is not None:\n",
    "        axes.set_ylim(*ylim)\n",
    "    axes.set_xlabel(\"Training examples\")\n",
    "    axes.set_ylabel(scoring)\n",
    "\n",
    "    train_sizes, train_scores, test_scores= learning_curve(estimator,X,y,cv=cv,n_jobs=n_jobs,train_sizes=train_sizes,scoring = scoring)\n",
    "    train_scores_mean = np.mean(train_scores, axis=1)\n",
    "    train_scores_std = np.std(train_scores, axis=1)\n",
    "    test_scores_mean = np.mean(test_scores, axis=1)\n",
    "    test_scores_std = np.std(test_scores, axis=1)\n",
    "\n",
    "    # Plot learning curve\n",
    "    axes.grid()\n",
    "    axes.fill_between(train_sizes,train_scores_mean - train_scores_std,train_scores_mean + train_scores_std,alpha=0.1,color=\"r\")\n",
    "    axes.fill_between(train_sizes,test_scores_mean - test_scores_std,test_scores_mean + test_scores_std,alpha=0.1,color=\"g\")\n",
    "    axes.plot(train_sizes, train_scores_mean, \"o-\", color=\"r\", label=\"Training score\")\n",
    "    axes.plot(train_sizes, test_scores_mean, \"o-\", color=\"g\", label=\"Cross-validation score\")\n",
    "    axes.legend(loc=\"best\")\n",
    "    plt.show()\n",
    "    \n",
    "    return\n",
    "\n",
    "#code to prevent warnings that can occur as a result of this function\n",
    "from warnings import simplefilter\n",
    "from sklearn.exceptions import ConvergenceWarning\n",
    "simplefilter(\"ignore\", category=ConvergenceWarning)"
   ]
  },
  {
   "cell_type": "code",
   "execution_count": 4,
   "id": "e9ba0c86",
   "metadata": {},
   "outputs": [],
   "source": [
    "#function to create a 2 dimmensional representation of data using tSNE\n",
    "def tsne_plot(X, y):\n",
    "    X_tsne = TSNE(learning_rate=1000, perplexity=25, init=\"random\").fit_transform(X)\n",
    "    plt.figure(1, facecolor='white', figsize=(10, 12))\n",
    "    a=plt.scatter(\n",
    "        X_tsne[(y!=-1), 0],\n",
    "        X_tsne[(y!=-1), 1],\n",
    "        s=100,\n",
    "        alpha=0.90,\n",
    "        c=y[y!=-1],\n",
    "        cmap=cm.Paired\n",
    "    )\n",
    "    plt.legend(handles=a.legend_elements()[0],labels=a.legend_elements()[1])\n",
    "    plt.scatter(\n",
    "        X_tsne[(y==-1), 0],\n",
    "        X_tsne[(y==-1), 1],\n",
    "        s=100,\n",
    "        alpha=0.05\n",
    "    )\n",
    "    plt.title('T-SNE Plot')\n",
    "    plt.show()"
   ]
  },
  {
   "cell_type": "markdown",
   "id": "b7c263f1",
   "metadata": {},
   "source": [
    "## <font color=purple>Source Data"
   ]
  },
  {
   "cell_type": "code",
   "execution_count": 5,
   "id": "ffec54e3",
   "metadata": {},
   "outputs": [
    {
     "name": "stdout",
     "output_type": "stream",
     "text": [
      "Data resource sephora_website_dataset.csv already downloaded.\n",
      "Data resource product_info.csv already downloaded.\n"
     ]
    }
   ],
   "source": [
    "#download data files if not currently downloaded into the current working directory\n",
    "path = \"https://raw.githubusercontent.com/sarahwhynott/Machine-Learning/main/\"\n",
    "filename = \"sephora_website_dataset.csv\"\n",
    "\n",
    "\n",
    "path2 = \"https://raw.githubusercontent.com/sarahwhynott/Machine-Learning/main/\"\n",
    "filename2 = \"product_info.csv\"\n",
    "\n",
    "\n",
    "downloadDataResource(filename, path)\n",
    "downloadDataResource(filename2, path2)"
   ]
  },
  {
   "cell_type": "code",
   "execution_count": 6,
   "id": "43701c03",
   "metadata": {},
   "outputs": [],
   "source": [
    "#create a dataframe with the data from the CSV file\n",
    "df = pd.read_csv(filename)\n",
    "df2 = pd.read_csv(filename2)"
   ]
  },
  {
   "cell_type": "markdown",
   "id": "aae0dc47",
   "metadata": {},
   "source": [
    "## <font color=purple>Transform Data"
   ]
  },
  {
   "cell_type": "code",
   "execution_count": 7,
   "id": "0b5ee6cd",
   "metadata": {
    "scrolled": true
   },
   "outputs": [
    {
     "name": "stdout",
     "output_type": "stream",
     "text": [
      "<class 'pandas.core.frame.DataFrame'>\n",
      "RangeIndex: 9168 entries, 0 to 9167\n",
      "Data columns (total 21 columns):\n",
      " #   Column                  Non-Null Count  Dtype  \n",
      "---  ------                  --------------  -----  \n",
      " 0   id                      9168 non-null   int64  \n",
      " 1   brand                   9168 non-null   object \n",
      " 2   category                9168 non-null   object \n",
      " 3   name                    9168 non-null   object \n",
      " 4   size                    9168 non-null   object \n",
      " 5   rating                  9168 non-null   float64\n",
      " 6   number_of_reviews       9168 non-null   int64  \n",
      " 7   love                    9168 non-null   int64  \n",
      " 8   price                   9168 non-null   float64\n",
      " 9   value_price             9168 non-null   float64\n",
      " 10  URL                     9168 non-null   object \n",
      " 11  MarketingFlags          9168 non-null   bool   \n",
      " 12  MarketingFlags_content  9168 non-null   object \n",
      " 13  options                 9168 non-null   object \n",
      " 14  details                 9168 non-null   object \n",
      " 15  how_to_use              9168 non-null   object \n",
      " 16  ingredients             9168 non-null   object \n",
      " 17  online_only             9168 non-null   int64  \n",
      " 18  exclusive               9168 non-null   int64  \n",
      " 19  limited_edition         9168 non-null   int64  \n",
      " 20  limited_time_offer      9168 non-null   int64  \n",
      "dtypes: bool(1), float64(3), int64(7), object(10)\n",
      "memory usage: 1.4+ MB\n"
     ]
    }
   ],
   "source": [
    "df.info()"
   ]
  },
  {
   "cell_type": "code",
   "execution_count": 8,
   "id": "0527d4e9",
   "metadata": {},
   "outputs": [
    {
     "name": "stdout",
     "output_type": "stream",
     "text": [
      "<class 'pandas.core.frame.DataFrame'>\n",
      "RangeIndex: 8494 entries, 0 to 8493\n",
      "Data columns (total 27 columns):\n",
      " #   Column              Non-Null Count  Dtype  \n",
      "---  ------              --------------  -----  \n",
      " 0   product_id          8494 non-null   object \n",
      " 1   product_name        8494 non-null   object \n",
      " 2   brand_id            8494 non-null   int64  \n",
      " 3   brand_name          8494 non-null   object \n",
      " 4   loves_count         8494 non-null   int64  \n",
      " 5   rating              8216 non-null   float64\n",
      " 6   reviews             8216 non-null   float64\n",
      " 7   size                6863 non-null   object \n",
      " 8   variation_type      7050 non-null   object \n",
      " 9   variation_value     6896 non-null   object \n",
      " 10  variation_desc      1250 non-null   object \n",
      " 11  ingredients         7549 non-null   object \n",
      " 12  price_usd           8494 non-null   float64\n",
      " 13  value_price_usd     451 non-null    float64\n",
      " 14  sale_price_usd      270 non-null    float64\n",
      " 15  limited_edition     8494 non-null   int64  \n",
      " 16  new                 8494 non-null   int64  \n",
      " 17  online_only         8494 non-null   int64  \n",
      " 18  out_of_stock        8494 non-null   int64  \n",
      " 19  sephora_exclusive   8494 non-null   int64  \n",
      " 20  highlights          6287 non-null   object \n",
      " 21  primary_category    8494 non-null   object \n",
      " 22  secondary_category  8486 non-null   object \n",
      " 23  tertiary_category   7504 non-null   object \n",
      " 24  child_count         8494 non-null   int64  \n",
      " 25  child_max_price     2754 non-null   float64\n",
      " 26  child_min_price     2754 non-null   float64\n",
      "dtypes: float64(7), int64(8), object(12)\n",
      "memory usage: 1.7+ MB\n"
     ]
    }
   ],
   "source": [
    "df2.info()"
   ]
  },
  {
   "cell_type": "code",
   "execution_count": 9,
   "id": "246cbe70",
   "metadata": {},
   "outputs": [],
   "source": [
    "df2.rename(columns = {'product_name':'name'}, inplace = True)\n",
    "#df2.rename(columns = {'rating':'2023ratings'}, inplace = True)"
   ]
  },
  {
   "cell_type": "code",
   "execution_count": 10,
   "id": "a76af3bf",
   "metadata": {},
   "outputs": [],
   "source": [
    "df[\"cat_rating\"] = [\"3.5\" if x < 4.0 else \"4.0\" if x == 4.0 else \"4.5\" if x == 4.5 else \"5\" for x in df[\"rating\"]]"
   ]
  },
  {
   "cell_type": "code",
   "execution_count": 11,
   "id": "0a21f81f",
   "metadata": {},
   "outputs": [],
   "source": [
    "df = pd.merge(df,df2[['name',\"secondary_category\"]],on='name', how='left')"
   ]
  },
  {
   "cell_type": "code",
   "execution_count": 12,
   "id": "9819db5b",
   "metadata": {},
   "outputs": [
    {
     "name": "stdout",
     "output_type": "stream",
     "text": [
      "<class 'pandas.core.frame.DataFrame'>\n",
      "Int64Index: 9232 entries, 0 to 9231\n",
      "Data columns (total 23 columns):\n",
      " #   Column                  Non-Null Count  Dtype  \n",
      "---  ------                  --------------  -----  \n",
      " 0   id                      9232 non-null   int64  \n",
      " 1   brand                   9232 non-null   object \n",
      " 2   category                9232 non-null   object \n",
      " 3   name                    9232 non-null   object \n",
      " 4   size                    9232 non-null   object \n",
      " 5   rating                  9232 non-null   float64\n",
      " 6   number_of_reviews       9232 non-null   int64  \n",
      " 7   love                    9232 non-null   int64  \n",
      " 8   price                   9232 non-null   float64\n",
      " 9   value_price             9232 non-null   float64\n",
      " 10  URL                     9232 non-null   object \n",
      " 11  MarketingFlags          9232 non-null   bool   \n",
      " 12  MarketingFlags_content  9232 non-null   object \n",
      " 13  options                 9232 non-null   object \n",
      " 14  details                 9232 non-null   object \n",
      " 15  how_to_use              9232 non-null   object \n",
      " 16  ingredients             9232 non-null   object \n",
      " 17  online_only             9232 non-null   int64  \n",
      " 18  exclusive               9232 non-null   int64  \n",
      " 19  limited_edition         9232 non-null   int64  \n",
      " 20  limited_time_offer      9232 non-null   int64  \n",
      " 21  cat_rating              9232 non-null   object \n",
      " 22  secondary_category      2468 non-null   object \n",
      "dtypes: bool(1), float64(3), int64(7), object(12)\n",
      "memory usage: 1.6+ MB\n"
     ]
    }
   ],
   "source": [
    "df.info()"
   ]
  },
  {
   "cell_type": "code",
   "execution_count": 13,
   "id": "b50fbe1d",
   "metadata": {},
   "outputs": [
    {
     "data": {
      "text/html": [
       "<div>\n",
       "<style scoped>\n",
       "    .dataframe tbody tr th:only-of-type {\n",
       "        vertical-align: middle;\n",
       "    }\n",
       "\n",
       "    .dataframe tbody tr th {\n",
       "        vertical-align: top;\n",
       "    }\n",
       "\n",
       "    .dataframe thead th {\n",
       "        text-align: right;\n",
       "    }\n",
       "</style>\n",
       "<table border=\"1\" class=\"dataframe\">\n",
       "  <thead>\n",
       "    <tr style=\"text-align: right;\">\n",
       "      <th></th>\n",
       "      <th>id</th>\n",
       "      <th>brand</th>\n",
       "      <th>category</th>\n",
       "      <th>name</th>\n",
       "      <th>size</th>\n",
       "      <th>rating</th>\n",
       "      <th>number_of_reviews</th>\n",
       "      <th>love</th>\n",
       "      <th>price</th>\n",
       "      <th>value_price</th>\n",
       "      <th>...</th>\n",
       "      <th>options</th>\n",
       "      <th>details</th>\n",
       "      <th>how_to_use</th>\n",
       "      <th>ingredients</th>\n",
       "      <th>online_only</th>\n",
       "      <th>exclusive</th>\n",
       "      <th>limited_edition</th>\n",
       "      <th>limited_time_offer</th>\n",
       "      <th>cat_rating</th>\n",
       "      <th>secondary_category</th>\n",
       "    </tr>\n",
       "  </thead>\n",
       "  <tbody>\n",
       "    <tr>\n",
       "      <th>0</th>\n",
       "      <td>2218774</td>\n",
       "      <td>Acqua Di Parma</td>\n",
       "      <td>Fragrance</td>\n",
       "      <td>Blu Mediterraneo MINIATURE Set</td>\n",
       "      <td>5 x 0.16oz/5mL</td>\n",
       "      <td>4.0</td>\n",
       "      <td>4</td>\n",
       "      <td>3002</td>\n",
       "      <td>66.0</td>\n",
       "      <td>75.0</td>\n",
       "      <td>...</td>\n",
       "      <td>no options</td>\n",
       "      <td>This enchanting set comes in a specially handc...</td>\n",
       "      <td>Suggested Usage:-Fragrance is intensified by t...</td>\n",
       "      <td>Arancia di Capri Eau de Toilette: Alcohol Dena...</td>\n",
       "      <td>1</td>\n",
       "      <td>0</td>\n",
       "      <td>0</td>\n",
       "      <td>0</td>\n",
       "      <td>4.0</td>\n",
       "      <td>NaN</td>\n",
       "    </tr>\n",
       "    <tr>\n",
       "      <th>1</th>\n",
       "      <td>2044816</td>\n",
       "      <td>Acqua Di Parma</td>\n",
       "      <td>Cologne</td>\n",
       "      <td>Colonia</td>\n",
       "      <td>0.7 oz/ 20 mL</td>\n",
       "      <td>4.5</td>\n",
       "      <td>76</td>\n",
       "      <td>2700</td>\n",
       "      <td>66.0</td>\n",
       "      <td>66.0</td>\n",
       "      <td>...</td>\n",
       "      <td>- 0.7 oz/ 20 mL  Spray  - 1.7 oz/ 50 mL Eau d...</td>\n",
       "      <td>An elegant timeless scent filled with a fresh-...</td>\n",
       "      <td>no instructions</td>\n",
       "      <td>unknown</td>\n",
       "      <td>1</td>\n",
       "      <td>0</td>\n",
       "      <td>0</td>\n",
       "      <td>0</td>\n",
       "      <td>4.5</td>\n",
       "      <td>Men</td>\n",
       "    </tr>\n",
       "    <tr>\n",
       "      <th>2</th>\n",
       "      <td>1417567</td>\n",
       "      <td>Acqua Di Parma</td>\n",
       "      <td>Perfume</td>\n",
       "      <td>Arancia di Capri</td>\n",
       "      <td>5 oz/ 148 mL</td>\n",
       "      <td>4.5</td>\n",
       "      <td>26</td>\n",
       "      <td>2600</td>\n",
       "      <td>180.0</td>\n",
       "      <td>180.0</td>\n",
       "      <td>...</td>\n",
       "      <td>- 1oz/30mL Eau de Toilette  - 2.5 oz/ 74 mL E...</td>\n",
       "      <td>Fragrance Family: Fresh Scent Type: Fresh Citr...</td>\n",
       "      <td>no instructions</td>\n",
       "      <td>Alcohol Denat.- Water- Fragrance- Limonene- Li...</td>\n",
       "      <td>1</td>\n",
       "      <td>0</td>\n",
       "      <td>0</td>\n",
       "      <td>0</td>\n",
       "      <td>4.5</td>\n",
       "      <td>Women</td>\n",
       "    </tr>\n",
       "    <tr>\n",
       "      <th>3</th>\n",
       "      <td>1417617</td>\n",
       "      <td>Acqua Di Parma</td>\n",
       "      <td>Perfume</td>\n",
       "      <td>Mirto di Panarea</td>\n",
       "      <td>2.5 oz/ 74 mL</td>\n",
       "      <td>4.5</td>\n",
       "      <td>23</td>\n",
       "      <td>2900</td>\n",
       "      <td>120.0</td>\n",
       "      <td>120.0</td>\n",
       "      <td>...</td>\n",
       "      <td>- 1 oz/ 30 mL Eau de Toilette Spray - 2.5 oz/...</td>\n",
       "      <td>Panarea near Sicily is an an island suspended ...</td>\n",
       "      <td>no instructions</td>\n",
       "      <td>unknown</td>\n",
       "      <td>1</td>\n",
       "      <td>0</td>\n",
       "      <td>0</td>\n",
       "      <td>0</td>\n",
       "      <td>4.5</td>\n",
       "      <td>Women</td>\n",
       "    </tr>\n",
       "    <tr>\n",
       "      <th>4</th>\n",
       "      <td>2218766</td>\n",
       "      <td>Acqua Di Parma</td>\n",
       "      <td>Fragrance</td>\n",
       "      <td>Colonia Miniature Set</td>\n",
       "      <td>5 x 0.16oz/5mL</td>\n",
       "      <td>3.5</td>\n",
       "      <td>2</td>\n",
       "      <td>943</td>\n",
       "      <td>72.0</td>\n",
       "      <td>80.0</td>\n",
       "      <td>...</td>\n",
       "      <td>no options</td>\n",
       "      <td>The Colonia Miniature Set comes in an iconic A...</td>\n",
       "      <td>Suggested Usage:-Fragrance is intensified by t...</td>\n",
       "      <td>Colonia: Alcohol Denat.- Water- Fragrance- Lim...</td>\n",
       "      <td>1</td>\n",
       "      <td>0</td>\n",
       "      <td>0</td>\n",
       "      <td>0</td>\n",
       "      <td>3.5</td>\n",
       "      <td>NaN</td>\n",
       "    </tr>\n",
       "  </tbody>\n",
       "</table>\n",
       "<p>5 rows × 23 columns</p>\n",
       "</div>"
      ],
      "text/plain": [
       "        id           brand   category                            name  \\\n",
       "0  2218774  Acqua Di Parma  Fragrance  Blu Mediterraneo MINIATURE Set   \n",
       "1  2044816  Acqua Di Parma    Cologne                         Colonia   \n",
       "2  1417567  Acqua Di Parma    Perfume                Arancia di Capri   \n",
       "3  1417617  Acqua Di Parma    Perfume                Mirto di Panarea   \n",
       "4  2218766  Acqua Di Parma  Fragrance           Colonia Miniature Set   \n",
       "\n",
       "             size  rating  number_of_reviews  love  price  value_price  ...  \\\n",
       "0  5 x 0.16oz/5mL     4.0                  4  3002   66.0         75.0  ...   \n",
       "1   0.7 oz/ 20 mL     4.5                 76  2700   66.0         66.0  ...   \n",
       "2    5 oz/ 148 mL     4.5                 26  2600  180.0        180.0  ...   \n",
       "3   2.5 oz/ 74 mL     4.5                 23  2900  120.0        120.0  ...   \n",
       "4  5 x 0.16oz/5mL     3.5                  2   943   72.0         80.0  ...   \n",
       "\n",
       "                                             options  \\\n",
       "0                                         no options   \n",
       "1   - 0.7 oz/ 20 mL  Spray  - 1.7 oz/ 50 mL Eau d...   \n",
       "2   - 1oz/30mL Eau de Toilette  - 2.5 oz/ 74 mL E...   \n",
       "3   - 1 oz/ 30 mL Eau de Toilette Spray - 2.5 oz/...   \n",
       "4                                         no options   \n",
       "\n",
       "                                             details  \\\n",
       "0  This enchanting set comes in a specially handc...   \n",
       "1  An elegant timeless scent filled with a fresh-...   \n",
       "2  Fragrance Family: Fresh Scent Type: Fresh Citr...   \n",
       "3  Panarea near Sicily is an an island suspended ...   \n",
       "4  The Colonia Miniature Set comes in an iconic A...   \n",
       "\n",
       "                                          how_to_use  \\\n",
       "0  Suggested Usage:-Fragrance is intensified by t...   \n",
       "1                                    no instructions   \n",
       "2                                    no instructions   \n",
       "3                                    no instructions   \n",
       "4  Suggested Usage:-Fragrance is intensified by t...   \n",
       "\n",
       "                                         ingredients online_only exclusive  \\\n",
       "0  Arancia di Capri Eau de Toilette: Alcohol Dena...           1         0   \n",
       "1                                            unknown           1         0   \n",
       "2  Alcohol Denat.- Water- Fragrance- Limonene- Li...           1         0   \n",
       "3                                            unknown           1         0   \n",
       "4  Colonia: Alcohol Denat.- Water- Fragrance- Lim...           1         0   \n",
       "\n",
       "  limited_edition  limited_time_offer  cat_rating  secondary_category  \n",
       "0               0                   0         4.0                 NaN  \n",
       "1               0                   0         4.5                 Men  \n",
       "2               0                   0         4.5               Women  \n",
       "3               0                   0         4.5               Women  \n",
       "4               0                   0         3.5                 NaN  \n",
       "\n",
       "[5 rows x 23 columns]"
      ]
     },
     "execution_count": 13,
     "metadata": {},
     "output_type": "execute_result"
    }
   ],
   "source": [
    "df.head()"
   ]
  },
  {
   "cell_type": "code",
   "execution_count": 14,
   "id": "b1418b08",
   "metadata": {},
   "outputs": [
    {
     "data": {
      "text/plain": [
       "Mini     665\n",
       "&        629\n",
       "Cream    530\n",
       "Set      464\n",
       "Lip      404\n",
       "Mask     402\n",
       "de       400\n",
       "Eau      400\n",
       "Brush    393\n",
       "Oil      387\n",
       "Name: name, dtype: int64"
      ]
     },
     "execution_count": 14,
     "metadata": {},
     "output_type": "execute_result"
    }
   ],
   "source": [
    "df.name.str.split().explode().value_counts().head(10)"
   ]
  },
  {
   "cell_type": "code",
   "execution_count": 15,
   "id": "92593bb2",
   "metadata": {},
   "outputs": [],
   "source": [
    "df[\"mini\"] = [1 if \"Mini\" in x else 0 for x in df[\"name\"]]\n",
    "df[\"cream\"] = [1 if \"Cream\" in x else 0 for x in df[\"name\"]]\n",
    "df[\"set\"] = [1 if \"Set\" in x else 0 for x in df[\"name\"]]\n",
    "df[\"mask\"] = [1 if \"Mask\" in x else 0 for x in df[\"name\"]]\n",
    "df[\"eau\"] = [1 if \"Eau\" in x else 0 for x in df[\"name\"]]\n",
    "df[\"lip\"] = [1 if \"Lip\" in x else 0 for x in df[\"name\"]]\n",
    "df[\"brush\"] = [1 if \"Brush\" in x else 0 for x in df[\"name\"]]\n",
    "df[\"oil\"] = [1 if \"Oil\" in x else 0 for x in df[\"name\"]]"
   ]
  },
  {
   "cell_type": "code",
   "execution_count": 16,
   "id": "7bd65a7e",
   "metadata": {
    "scrolled": true
   },
   "outputs": [
    {
     "data": {
      "text/plain": [
       "Extract-         17337\n",
       "the              17179\n",
       "that             14600\n",
       "of               14080\n",
       "and              13214\n",
       "Oil-             12294\n",
       "Sodium           11416\n",
       "(Ci              11147\n",
       "-                10386\n",
       "to               10238\n",
       "Glycol-           7869\n",
       "Acid-             7759\n",
       "Seed              7295\n",
       "or                7005\n",
       "are               6973\n",
       "is                6933\n",
       "methacrylate-     6591\n",
       "Ci                5710\n",
       "be                5522\n",
       "products          5429\n",
       "Name: ingredients, dtype: int64"
      ]
     },
     "execution_count": 16,
     "metadata": {},
     "output_type": "execute_result"
    }
   ],
   "source": [
    "df.ingredients.str.split().explode().value_counts().head(20)"
   ]
  },
  {
   "cell_type": "code",
   "execution_count": 17,
   "id": "af8af279",
   "metadata": {},
   "outputs": [],
   "source": [
    "df[\"extract\"] = [1 if \"Extract-\" in x else 0 for x in df[\"ingredients\"]]\n",
    "df[\"oil\"] = [1 if \"Oil- \" in x else 0 for x in df[\"ingredients\"]]\n",
    "df[\"sodium\"] = [1 if \"Sodium\" in x else 0 for x in df[\"ingredients\"]]\n",
    "df[\"glycol\"] = [1 if \"Glycol-\" in x else 0 for x in df[\"ingredients\"]]\n",
    "df[\"acid\"] = [1 if \"Acid-\" in x else 0 for x in df[\"ingredients\"]]\n",
    "df[\"seed\"] = [1 if \"Seed\" in x else 0 for x in df[\"ingredients\"]]\n",
    "df[\"metha\"] = [1 if \"methacrylate- \" in x else 0 for x in df[\"ingredients\"]]"
   ]
  },
  {
   "cell_type": "code",
   "execution_count": 18,
   "id": "0b52b5c1",
   "metadata": {},
   "outputs": [],
   "source": [
    "toPredict = df.loc[(df['name'] == 'Green Clean Makeup Removing Cleansing Balm') \n",
    "                   | (df['name'] == 'Glowscreen Sunscreen SPF 40')\n",
    "                  | (df['name'] == 'Wisteria & Lavender Cologne')]"
   ]
  },
  {
   "cell_type": "code",
   "execution_count": 19,
   "id": "2200bd2a",
   "metadata": {},
   "outputs": [],
   "source": [
    "df = df[df.name != 'Green Clean Makeup Removing Cleansing Balm']\n",
    "df = df[df.name != 'Glowscreen Sunscreen SPF 40']\n",
    "df = df[df.name != 'Wisteria & Lavender Cologne']"
   ]
  },
  {
   "cell_type": "code",
   "execution_count": 20,
   "id": "3a0ac1f8",
   "metadata": {},
   "outputs": [],
   "source": [
    "df = df.drop(columns = [\"id\",\"rating\",\"name\",\"size\",\"value_price\",\"URL\",\"MarketingFlags\",\"MarketingFlags_content\",\"options\",\"details\",\"how_to_use\",\"ingredients\"])"
   ]
  },
  {
   "cell_type": "code",
   "execution_count": 21,
   "id": "315bb731",
   "metadata": {},
   "outputs": [],
   "source": [
    "toPredict=toPredict.drop(columns=[\"id\",\"rating\",\"name\",\"size\",\"value_price\",\"URL\",\"MarketingFlags\",\"MarketingFlags_content\",\"options\",\"details\",\"how_to_use\",\"ingredients\",\"cat_rating\"])"
   ]
  },
  {
   "cell_type": "code",
   "execution_count": 22,
   "id": "74877de9",
   "metadata": {},
   "outputs": [
    {
     "name": "stdout",
     "output_type": "stream",
     "text": [
      "<class 'pandas.core.frame.DataFrame'>\n",
      "Int64Index: 9229 entries, 0 to 9231\n",
      "Data columns (total 25 columns):\n",
      " #   Column              Non-Null Count  Dtype  \n",
      "---  ------              --------------  -----  \n",
      " 0   brand               9229 non-null   object \n",
      " 1   category            9229 non-null   object \n",
      " 2   number_of_reviews   9229 non-null   int64  \n",
      " 3   love                9229 non-null   int64  \n",
      " 4   price               9229 non-null   float64\n",
      " 5   online_only         9229 non-null   int64  \n",
      " 6   exclusive           9229 non-null   int64  \n",
      " 7   limited_edition     9229 non-null   int64  \n",
      " 8   limited_time_offer  9229 non-null   int64  \n",
      " 9   cat_rating          9229 non-null   object \n",
      " 10  secondary_category  2467 non-null   object \n",
      " 11  mini                9229 non-null   int64  \n",
      " 12  cream               9229 non-null   int64  \n",
      " 13  set                 9229 non-null   int64  \n",
      " 14  mask                9229 non-null   int64  \n",
      " 15  eau                 9229 non-null   int64  \n",
      " 16  lip                 9229 non-null   int64  \n",
      " 17  brush               9229 non-null   int64  \n",
      " 18  oil                 9229 non-null   int64  \n",
      " 19  extract             9229 non-null   int64  \n",
      " 20  sodium              9229 non-null   int64  \n",
      " 21  glycol              9229 non-null   int64  \n",
      " 22  acid                9229 non-null   int64  \n",
      " 23  seed                9229 non-null   int64  \n",
      " 24  metha               9229 non-null   int64  \n",
      "dtypes: float64(1), int64(20), object(4)\n",
      "memory usage: 1.8+ MB\n"
     ]
    }
   ],
   "source": [
    "df.info()"
   ]
  },
  {
   "cell_type": "markdown",
   "id": "fda4c07f",
   "metadata": {},
   "source": [
    "### Create Training and Test data sets"
   ]
  },
  {
   "cell_type": "code",
   "execution_count": 23,
   "id": "0afe5ffe",
   "metadata": {
    "scrolled": true
   },
   "outputs": [
    {
     "data": {
      "text/plain": [
       "((7383, 24), (1846, 24), (7383,), (1846,))"
      ]
     },
     "execution_count": 23,
     "metadata": {},
     "output_type": "execute_result"
    }
   ],
   "source": [
    "X_train_pre, X_test_pre, y_train, y_test = train_test_split(\n",
    "    df.drop(columns=['cat_rating']),\n",
    "    df['cat_rating'],\n",
    "    test_size=0.2,\n",
    "    random_state=34\n",
    ")    \n",
    "X_train_pre.shape,X_test_pre.shape,y_train.shape, y_test.shape "
   ]
  },
  {
   "cell_type": "markdown",
   "id": "44c111ce",
   "metadata": {},
   "source": [
    "### Prepare Data"
   ]
  },
  {
   "cell_type": "code",
   "execution_count": 24,
   "id": "82be6f37",
   "metadata": {},
   "outputs": [],
   "source": [
    "cat_attribs = [\"brand\", \"category\",\"secondary_category\"]\n",
    "\n",
    "#set the numerical attributes\n",
    "num_attribs = list( X_train_pre.drop(cat_attribs,axis=1) )\n",
    "\n",
    "num_pipeline = Pipeline( [\n",
    " ('imputer', SimpleImputer(strategy=\"median\")), #because no missing values, not used\n",
    " ('std_scaler', StandardScaler()),   \n",
    "])\n",
    "\n",
    "#define the column transformation process for the data set\n",
    "full_pipeline = ColumnTransformer( [\n",
    "    ('num', num_pipeline, num_attribs),\n",
    "    ('cat', OneHotEncoder(sparse = False), cat_attribs)      #because no categorical attributes, not used \n",
    "])"
   ]
  },
  {
   "cell_type": "code",
   "execution_count": 25,
   "id": "b55358b4",
   "metadata": {},
   "outputs": [
    {
     "data": {
      "text/plain": [
       "ColumnTransformer(transformers=[('num',\n",
       "                                 Pipeline(steps=[('imputer',\n",
       "                                                  SimpleImputer(strategy='median')),\n",
       "                                                 ('std_scaler',\n",
       "                                                  StandardScaler())]),\n",
       "                                 ['number_of_reviews', 'love', 'price',\n",
       "                                  'online_only', 'exclusive', 'limited_edition',\n",
       "                                  'limited_time_offer', 'mini', 'cream', 'set',\n",
       "                                  'mask', 'eau', 'lip', 'brush', 'oil',\n",
       "                                  'extract', 'sodium', 'glycol', 'acid', 'seed',\n",
       "                                  'metha']),\n",
       "                                ('cat', OneHotEncoder(sparse=False),\n",
       "                                 ['brand', 'category', 'secondary_category'])])"
      ]
     },
     "execution_count": 25,
     "metadata": {},
     "output_type": "execute_result"
    }
   ],
   "source": [
    "#diagram pipeline process (NOTE this only works because of the import and set statement at the top)\n",
    "full_pipeline"
   ]
  },
  {
   "cell_type": "code",
   "execution_count": 26,
   "id": "ceeb37a1",
   "metadata": {},
   "outputs": [
    {
     "data": {
      "text/plain": [
       "ColumnTransformer(transformers=[('num',\n",
       "                                 Pipeline(steps=[('imputer',\n",
       "                                                  SimpleImputer(strategy='median')),\n",
       "                                                 ('std_scaler',\n",
       "                                                  StandardScaler())]),\n",
       "                                 ['number_of_reviews', 'love', 'price',\n",
       "                                  'online_only', 'exclusive', 'limited_edition',\n",
       "                                  'limited_time_offer', 'mini', 'cream', 'set',\n",
       "                                  'mask', 'eau', 'lip', 'brush', 'oil',\n",
       "                                  'extract', 'sodium', 'glycol', 'acid', 'seed',\n",
       "                                  'metha']),\n",
       "                                ('cat', OneHotEncoder(sparse=False),\n",
       "                                 ['brand', 'category', 'secondary_category'])])"
      ]
     },
     "execution_count": 26,
     "metadata": {},
     "output_type": "execute_result"
    }
   ],
   "source": [
    "full_pipeline.fit(df)"
   ]
  },
  {
   "cell_type": "code",
   "execution_count": 27,
   "id": "aae9bff9",
   "metadata": {},
   "outputs": [
    {
     "data": {
      "text/plain": [
       "(7383, 529)"
      ]
     },
     "execution_count": 27,
     "metadata": {},
     "output_type": "execute_result"
    }
   ],
   "source": [
    "#create an array of prepared data based on the training data set\n",
    "X_train = full_pipeline.transform( X_train_pre )\n",
    "X_train.shape"
   ]
  },
  {
   "cell_type": "code",
   "execution_count": 28,
   "id": "76d643e3",
   "metadata": {},
   "outputs": [
    {
     "data": {
      "text/plain": [
       "(1846, 529)"
      ]
     },
     "execution_count": 28,
     "metadata": {},
     "output_type": "execute_result"
    }
   ],
   "source": [
    "#create an array of prepared data based on the test data set\n",
    "X_test = full_pipeline.transform( X_test_pre)\n",
    "X_test.shape"
   ]
  },
  {
   "cell_type": "markdown",
   "id": "1bec22f3",
   "metadata": {},
   "source": [
    "## <font color=purple>Logistic Regression Model"
   ]
  },
  {
   "cell_type": "code",
   "execution_count": 29,
   "id": "9461bbfe",
   "metadata": {},
   "outputs": [
    {
     "data": {
      "text/plain": [
       "LogisticRegression(multi_class='multinomial')"
      ]
     },
     "execution_count": 29,
     "metadata": {},
     "output_type": "execute_result"
    }
   ],
   "source": [
    "# Train the logistic regression model\n",
    "log_reg = LogisticRegression(multi_class='multinomial')\n",
    "\n",
    "#fit the model to the training data\n",
    "log_reg.fit(X_train, y_train)"
   ]
  },
  {
   "cell_type": "code",
   "execution_count": 30,
   "id": "6d2f24fb",
   "metadata": {},
   "outputs": [
    {
     "name": "stdout",
     "output_type": "stream",
     "text": [
      "Accuracy: 53.89%\n"
     ]
    }
   ],
   "source": [
    "#calculated the accuracy (i.e. predicted vs. actual for the test data set)\n",
    "acc = log_reg.score(X_train, y_train)\n",
    "print('Accuracy: {:.2f}%'.format(acc*100))"
   ]
  },
  {
   "cell_type": "code",
   "execution_count": 31,
   "id": "a298e3ad",
   "metadata": {},
   "outputs": [
    {
     "name": "stdout",
     "output_type": "stream",
     "text": [
      "Accuracy: 45.39%\n"
     ]
    }
   ],
   "source": [
    "scores = cross_val_score(log_reg, X_train, y_train, cv=10)\n",
    "scores.mean()\n",
    "print('Accuracy: {:.2f}%'.format(scores.mean()*100))"
   ]
  },
  {
   "cell_type": "code",
   "execution_count": 32,
   "id": "fcd9308d",
   "metadata": {},
   "outputs": [
    {
     "name": "stdout",
     "output_type": "stream",
     "text": [
      "Accuracy: 46.10%\n"
     ]
    }
   ],
   "source": [
    "#calculated the accuracy (i.e. predicted vs. actual for the test data set)\n",
    "acc = log_reg.score(X_test, y_test)\n",
    "print('Accuracy: {:.2f}%'.format(acc*100))"
   ]
  },
  {
   "cell_type": "code",
   "execution_count": 33,
   "id": "ea95eff6",
   "metadata": {},
   "outputs": [
    {
     "data": {
      "image/png": "[encoded data removed]",
      "text/plain": [
       "<Figure size 720x360 with 1 Axes>"
      ]
     },
     "metadata": {
      "needs_background": "light"
     },
     "output_type": "display_data"
    }
   ],
   "source": [
    "plot_learning_curve(log_reg, X_train, y_train, scoring='accuracy')"
   ]
  },
  {
   "cell_type": "markdown",
   "id": "a39585ee",
   "metadata": {},
   "source": [
    "## <font color=purple>PCA Analysis"
   ]
  },
  {
   "cell_type": "code",
   "execution_count": 34,
   "id": "142a56a2",
   "metadata": {},
   "outputs": [
    {
     "data": {
      "text/plain": [
       "(7383, 529)"
      ]
     },
     "execution_count": 34,
     "metadata": {},
     "output_type": "execute_result"
    }
   ],
   "source": [
    "X_train.shape"
   ]
  },
  {
   "cell_type": "code",
   "execution_count": 35,
   "id": "c9d881f7",
   "metadata": {
    "scrolled": true
   },
   "outputs": [
    {
     "data": {
      "text/plain": [
       "(7383, 70)"
      ]
     },
     "execution_count": 35,
     "metadata": {},
     "output_type": "execute_result"
    }
   ],
   "source": [
    "pca = PCA(n_components=.95)\n",
    "X_train_reduced = pca.fit_transform(X_train)\n",
    "X_train_reduced.shape"
   ]
  },
  {
   "cell_type": "code",
   "execution_count": 36,
   "id": "d3cee779",
   "metadata": {},
   "outputs": [],
   "source": [
    "X_test_reduced = pca.transform(X_test)"
   ]
  },
  {
   "cell_type": "code",
   "execution_count": 37,
   "id": "ef755dce",
   "metadata": {},
   "outputs": [
    {
     "data": {
      "text/plain": [
       "(1846, 70)"
      ]
     },
     "execution_count": 37,
     "metadata": {},
     "output_type": "execute_result"
    }
   ],
   "source": [
    "X_test_reduced.shape"
   ]
  },
  {
   "cell_type": "markdown",
   "id": "cafe1be2",
   "metadata": {},
   "source": [
    "# Predictions"
   ]
  },
  {
   "cell_type": "code",
   "execution_count": 38,
   "id": "bade296d",
   "metadata": {},
   "outputs": [
    {
     "data": {
      "text/plain": [
       "array(['4.5', '4.0', '4.0'], dtype=object)"
      ]
     },
     "execution_count": 38,
     "metadata": {},
     "output_type": "execute_result"
    }
   ],
   "source": [
    "X_prepared=full_pipeline.transform(toPredict)\n",
    "log_reg.predict(X_prepared)"
   ]
  },
  {
   "cell_type": "markdown",
   "id": "0f46a2dc",
   "metadata": {},
   "source": [
    "## <font color=purple>Logistic Regression Model with PCA"
   ]
  },
  {
   "cell_type": "code",
   "execution_count": 39,
   "id": "6809e1f4",
   "metadata": {},
   "outputs": [
    {
     "data": {
      "text/plain": [
       "LogisticRegression(multi_class='multinomial')"
      ]
     },
     "execution_count": 39,
     "metadata": {},
     "output_type": "execute_result"
    }
   ],
   "source": [
    "# Train the logistic regression model\n",
    "log_reg = LogisticRegression(multi_class='multinomial')\n",
    "\n",
    "log_reg.fit(X_train_reduced, y_train)"
   ]
  },
  {
   "cell_type": "code",
   "execution_count": 40,
   "id": "0f3b226a",
   "metadata": {},
   "outputs": [
    {
     "name": "stdout",
     "output_type": "stream",
     "text": [
      "Accuracy: 46.34%\n"
     ]
    }
   ],
   "source": [
    "#calculated the accuracy (i.e. predicted vs. actual for the training data set)\n",
    "acc = log_reg.score(X_train_reduced, y_train)\n",
    "print('Accuracy: {:.2f}%'.format(acc*100))"
   ]
  },
  {
   "cell_type": "code",
   "execution_count": 41,
   "id": "dcaa5b2c",
   "metadata": {},
   "outputs": [
    {
     "name": "stdout",
     "output_type": "stream",
     "text": [
      "Accuracy: 44.10%\n"
     ]
    }
   ],
   "source": [
    "scores = cross_val_score(log_reg, X_train_reduced, y_train, cv=10)\n",
    "scores.mean()\n",
    "print('Accuracy: {:.2f}%'.format(scores.mean()*100))"
   ]
  },
  {
   "cell_type": "code",
   "execution_count": 42,
   "id": "ffce8073",
   "metadata": {
    "scrolled": true
   },
   "outputs": [
    {
     "name": "stdout",
     "output_type": "stream",
     "text": [
      "Accuracy: 45.67%\n"
     ]
    }
   ],
   "source": [
    "#calculated the accuracy (i.e. predicted vs. actual for the test data set)\n",
    "acc = log_reg.score(X_test_reduced, y_test)\n",
    "print('Accuracy: {:.2f}%'.format(acc*100))"
   ]
  },
  {
   "cell_type": "code",
   "execution_count": 43,
   "id": "5c7d70b2",
   "metadata": {},
   "outputs": [
    {
     "data": {
      "image/png": "[encoded data removed]",
      "text/plain": [
       "<Figure size 720x360 with 1 Axes>"
      ]
     },
     "metadata": {
      "needs_background": "light"
     },
     "output_type": "display_data"
    }
   ],
   "source": [
    "plot_learning_curve(log_reg, X_train_reduced, y_train, scoring=\"accuracy\")"
   ]
  },
  {
   "cell_type": "code",
   "execution_count": 44,
   "id": "6ba1fddc",
   "metadata": {},
   "outputs": [
    {
     "data": {
      "text/html": [
       "<div>\n",
       "<style scoped>\n",
       "    .dataframe tbody tr th:only-of-type {\n",
       "        vertical-align: middle;\n",
       "    }\n",
       "\n",
       "    .dataframe tbody tr th {\n",
       "        vertical-align: top;\n",
       "    }\n",
       "\n",
       "    .dataframe thead th {\n",
       "        text-align: right;\n",
       "    }\n",
       "</style>\n",
       "<table border=\"1\" class=\"dataframe\">\n",
       "  <thead>\n",
       "    <tr style=\"text-align: right;\">\n",
       "      <th></th>\n",
       "      <th>brand</th>\n",
       "      <th>category</th>\n",
       "      <th>number_of_reviews</th>\n",
       "      <th>love</th>\n",
       "      <th>price</th>\n",
       "      <th>online_only</th>\n",
       "      <th>exclusive</th>\n",
       "      <th>limited_edition</th>\n",
       "      <th>limited_time_offer</th>\n",
       "      <th>secondary_category</th>\n",
       "      <th>...</th>\n",
       "      <th>eau</th>\n",
       "      <th>lip</th>\n",
       "      <th>brush</th>\n",
       "      <th>oil</th>\n",
       "      <th>extract</th>\n",
       "      <th>sodium</th>\n",
       "      <th>glycol</th>\n",
       "      <th>acid</th>\n",
       "      <th>seed</th>\n",
       "      <th>metha</th>\n",
       "    </tr>\n",
       "  </thead>\n",
       "  <tbody>\n",
       "    <tr>\n",
       "      <th>2801</th>\n",
       "      <td>Farmacy</td>\n",
       "      <td>Face Wash &amp; Cleansers</td>\n",
       "      <td>3000</td>\n",
       "      <td>195000</td>\n",
       "      <td>34.0</td>\n",
       "      <td>0</td>\n",
       "      <td>1</td>\n",
       "      <td>0</td>\n",
       "      <td>0</td>\n",
       "      <td>Cleansers</td>\n",
       "      <td>...</td>\n",
       "      <td>0</td>\n",
       "      <td>0</td>\n",
       "      <td>0</td>\n",
       "      <td>1</td>\n",
       "      <td>1</td>\n",
       "      <td>0</td>\n",
       "      <td>1</td>\n",
       "      <td>1</td>\n",
       "      <td>1</td>\n",
       "      <td>1</td>\n",
       "    </tr>\n",
       "    <tr>\n",
       "      <th>4053</th>\n",
       "      <td>Jo Malone London</td>\n",
       "      <td>Perfume</td>\n",
       "      <td>6</td>\n",
       "      <td>2300</td>\n",
       "      <td>72.0</td>\n",
       "      <td>0</td>\n",
       "      <td>0</td>\n",
       "      <td>1</td>\n",
       "      <td>0</td>\n",
       "      <td>NaN</td>\n",
       "      <td>...</td>\n",
       "      <td>0</td>\n",
       "      <td>0</td>\n",
       "      <td>0</td>\n",
       "      <td>0</td>\n",
       "      <td>0</td>\n",
       "      <td>0</td>\n",
       "      <td>0</td>\n",
       "      <td>0</td>\n",
       "      <td>0</td>\n",
       "      <td>0</td>\n",
       "    </tr>\n",
       "    <tr>\n",
       "      <th>7828</th>\n",
       "      <td>Supergoop!</td>\n",
       "      <td>Face Sunscreen</td>\n",
       "      <td>158</td>\n",
       "      <td>25400</td>\n",
       "      <td>36.0</td>\n",
       "      <td>0</td>\n",
       "      <td>0</td>\n",
       "      <td>0</td>\n",
       "      <td>0</td>\n",
       "      <td>NaN</td>\n",
       "      <td>...</td>\n",
       "      <td>0</td>\n",
       "      <td>0</td>\n",
       "      <td>0</td>\n",
       "      <td>1</td>\n",
       "      <td>1</td>\n",
       "      <td>1</td>\n",
       "      <td>1</td>\n",
       "      <td>1</td>\n",
       "      <td>1</td>\n",
       "      <td>1</td>\n",
       "    </tr>\n",
       "  </tbody>\n",
       "</table>\n",
       "<p>3 rows × 24 columns</p>\n",
       "</div>"
      ],
      "text/plain": [
       "                 brand               category  number_of_reviews    love  \\\n",
       "2801           Farmacy  Face Wash & Cleansers               3000  195000   \n",
       "4053  Jo Malone London                Perfume                  6    2300   \n",
       "7828        Supergoop!         Face Sunscreen                158   25400   \n",
       "\n",
       "      price  online_only  exclusive  limited_edition  limited_time_offer  \\\n",
       "2801   34.0            0          1                0                   0   \n",
       "4053   72.0            0          0                1                   0   \n",
       "7828   36.0            0          0                0                   0   \n",
       "\n",
       "     secondary_category  ...  eau  lip  brush  oil  extract  sodium  glycol  \\\n",
       "2801          Cleansers  ...    0    0      0    1        1       0       1   \n",
       "4053                NaN  ...    0    0      0    0        0       0       0   \n",
       "7828                NaN  ...    0    0      0    1        1       1       1   \n",
       "\n",
       "      acid  seed  metha  \n",
       "2801     1     1      1  \n",
       "4053     0     0      0  \n",
       "7828     1     1      1  \n",
       "\n",
       "[3 rows x 24 columns]"
      ]
     },
     "execution_count": 44,
     "metadata": {},
     "output_type": "execute_result"
    }
   ],
   "source": [
    "toPredict.head()"
   ]
  },
  {
   "cell_type": "code",
   "execution_count": null,
   "id": "fb57f90f",
   "metadata": {},
   "outputs": [],
   "source": []
  }
 ],
 "metadata": {
  "kernelspec": {
   "display_name": "Python 3 (ipykernel)",
   "language": "python",
   "name": "python3"
  },
  "language_info": {
   "codemirror_mode": {
    "name": "ipython",
    "version": 3
   },
   "file_extension": ".py",
   "mimetype": "text/x-python",
   "name": "python",
   "nbconvert_exporter": "python",
   "pygments_lexer": "ipython3",
   "version": "3.9.12"
  }
 },
 "nbformat": 4,
 "nbformat_minor": 5
}
