{
 "cells": [
  {
   "cell_type": "markdown",
   "id": "e5e40cec",
   "metadata": {
    "tags": []
   },
   "source": [
    "## <font color=purple>Import needed modules</font>"
   ]
  },
  {
   "cell_type": "code",
   "execution_count": 1,
   "id": "6fa53969",
   "metadata": {
    "tags": []
   },
   "outputs": [],
   "source": [
    "#general libraries needed\n",
    "import pandas as pd\n",
    "import matplotlib.pyplot as plt\n",
    "import numpy as np\n",
    "import time\n",
    "from scipy import stats\n",
    "\n",
    "#scikit learn imports\n",
    "from sklearn.linear_model import SGDRegressor, LinearRegression, Ridge, Lasso, ElasticNet\n",
    "from sklearn.impute import SimpleImputer\n",
    "from sklearn.preprocessing import PolynomialFeatures, OneHotEncoder, StandardScaler\n",
    "from sklearn.compose import ColumnTransformer\n",
    "from sklearn.pipeline import Pipeline\n",
    "from sklearn.metrics import mean_squared_error\n",
    "from sklearn.model_selection import train_test_split, GridSearchCV, RandomizedSearchCV, cross_val_score\n",
    "from sklearn.tree import DecisionTreeRegressor\n",
    "from sklearn.ensemble import RandomForestRegressor, GradientBoostingRegressor, HistGradientBoostingRegressor\n",
    "from sklearn.neighbors import KNeighborsRegressor\n",
    "\n",
    "#give yourself the opportunity to visualize the pipeline and models\n",
    "from sklearn import set_config\n",
    "set_config(display='diagram')"
   ]
  },
  {
   "cell_type": "markdown",
   "id": "ac358df5",
   "metadata": {},
   "source": [
    "## <font color=purple>Function Definitions</font>"
   ]
  },
  {
   "cell_type": "code",
   "execution_count": 2,
   "id": "9a00b15b",
   "metadata": {
    "tags": []
   },
   "outputs": [],
   "source": [
    "#function that shows a learning curve for any model that has predict or fit methods\n",
    "from sklearn.model_selection import learning_curve\n",
    "\n",
    "def plot_learning_curve(estimator,X,y,ylim=None,cv=None,n_jobs=None,train_sizes=np.linspace(0.1, 1.0, 20),scoring = 'neg_root_mean_squared_error'):\n",
    "    \n",
    "    _, axes = plt.subplots(1, 1, figsize=(10, 5))    \n",
    "    axes.set_title('Learning Curve')\n",
    "    if ylim is not None:\n",
    "        axes.set_ylim(*ylim)\n",
    "    axes.set_xlabel(\"Training examples\")\n",
    "    axes.set_ylabel(scoring)\n",
    "\n",
    "    train_sizes, train_scores, test_scores= learning_curve(estimator,X,y,cv=cv,n_jobs=n_jobs,train_sizes=train_sizes,scoring = scoring)\n",
    "    train_scores_mean = np.mean(train_scores, axis=1)\n",
    "    train_scores_std = np.std(train_scores, axis=1)\n",
    "    test_scores_mean = np.mean(test_scores, axis=1)\n",
    "    test_scores_std = np.std(test_scores, axis=1)\n",
    "\n",
    "    # Plot learning curve\n",
    "    axes.grid()\n",
    "    axes.fill_between(train_sizes,train_scores_mean - train_scores_std,train_scores_mean + train_scores_std,alpha=0.1,color=\"r\")\n",
    "    axes.fill_between(train_sizes,test_scores_mean - test_scores_std,test_scores_mean + test_scores_std,alpha=0.1,color=\"g\")\n",
    "    axes.plot(train_sizes, train_scores_mean, \"o-\", color=\"r\", label=\"Training score\")\n",
    "    axes.plot(train_sizes, test_scores_mean, \"o-\", color=\"g\", label=\"Cross-validation score\")\n",
    "    axes.legend(loc=\"best\")\n",
    "    plt.show()\n",
    "    \n",
    "    return\n",
    "\n",
    "#code to prevent warnings that can occur as a result of this function\n",
    "from warnings import simplefilter\n",
    "from sklearn.exceptions import ConvergenceWarning\n",
    "simplefilter(\"ignore\", category=ConvergenceWarning)"
   ]
  },
  {
   "cell_type": "code",
   "execution_count": 3,
   "id": "69b2c570",
   "metadata": {
    "tags": []
   },
   "outputs": [],
   "source": [
    "#function to verify the existence of a file in the current working directory and download it if not\n",
    "import os,urllib, urllib.request, sys, tarfile\n",
    "def downloadDataResource(file,sourcePath,compressed=None):\n",
    "    if not os.path.isfile(file):\n",
    "        try:\n",
    "            urllib.request.urlretrieve(sourcePath+(compressed if compressed else file),(compressed if compressed else file))\n",
    "            print(\"Downloaded\", (compressed if compressed else file) )\n",
    "            if compressed:\n",
    "                ucomp = tarfile.open(compressed)\n",
    "                ucomp.extractall()\n",
    "                ucomp.close()\n",
    "                print(\"File uncompressed.\")\n",
    "        except:\n",
    "            print(\"ERROR: File\", (compressed if compressed else file), \"not found. Data source missing.\")\n",
    "    else:\n",
    "        print(\"Data resource\", file, \"already downloaded.\")"
   ]
  },
  {
   "cell_type": "markdown",
   "id": "b7c263f1",
   "metadata": {},
   "source": [
    "## <font color=purple>Source Data"
   ]
  },
  {
   "cell_type": "code",
   "execution_count": 4,
   "id": "ffec54e3",
   "metadata": {},
   "outputs": [
    {
     "name": "stdout",
     "output_type": "stream",
     "text": [
      "Data resource sephora_website_dataset.csv already downloaded.\n",
      "Data resource product_info.csv already downloaded.\n"
     ]
    }
   ],
   "source": [
    "#download data files if not currently downloaded into the current working directory\n",
    "path = \"https://raw.githubusercontent.com/sarahwhynott/Machine-Learning/main/\"\n",
    "filename = \"sephora_website_dataset.csv\"\n",
    "\n",
    "\n",
    "path2 = \"https://raw.githubusercontent.com/sarahwhynott/Machine-Learning/main/\"\n",
    "filename2 = \"product_info.csv\"\n",
    "\n",
    "\n",
    "downloadDataResource(filename, path)\n",
    "downloadDataResource(filename2, path2)"
   ]
  },
  {
   "cell_type": "code",
   "execution_count": 5,
   "id": "43701c03",
   "metadata": {},
   "outputs": [],
   "source": [
    "#create a dataframe with the data from the CSV file\n",
    "df = pd.read_csv(filename)\n",
    "df2 = pd.read_csv(filename2)"
   ]
  },
  {
   "cell_type": "markdown",
   "id": "aae0dc47",
   "metadata": {},
   "source": [
    "## <font color=purple>Transform Data"
   ]
  },
  {
   "cell_type": "code",
   "execution_count": 6,
   "id": "0b5ee6cd",
   "metadata": {
    "scrolled": true
   },
   "outputs": [
    {
     "name": "stdout",
     "output_type": "stream",
     "text": [
      "<class 'pandas.core.frame.DataFrame'>\n",
      "RangeIndex: 9168 entries, 0 to 9167\n",
      "Data columns (total 21 columns):\n",
      " #   Column                  Non-Null Count  Dtype  \n",
      "---  ------                  --------------  -----  \n",
      " 0   id                      9168 non-null   int64  \n",
      " 1   brand                   9168 non-null   object \n",
      " 2   category                9168 non-null   object \n",
      " 3   name                    9168 non-null   object \n",
      " 4   size                    9168 non-null   object \n",
      " 5   rating                  9168 non-null   float64\n",
      " 6   number_of_reviews       9168 non-null   int64  \n",
      " 7   love                    9168 non-null   int64  \n",
      " 8   price                   9168 non-null   float64\n",
      " 9   value_price             9168 non-null   float64\n",
      " 10  URL                     9168 non-null   object \n",
      " 11  MarketingFlags          9168 non-null   bool   \n",
      " 12  MarketingFlags_content  9168 non-null   object \n",
      " 13  options                 9168 non-null   object \n",
      " 14  details                 9168 non-null   object \n",
      " 15  how_to_use              9168 non-null   object \n",
      " 16  ingredients             9168 non-null   object \n",
      " 17  online_only             9168 non-null   int64  \n",
      " 18  exclusive               9168 non-null   int64  \n",
      " 19  limited_edition         9168 non-null   int64  \n",
      " 20  limited_time_offer      9168 non-null   int64  \n",
      "dtypes: bool(1), float64(3), int64(7), object(10)\n",
      "memory usage: 1.4+ MB\n"
     ]
    }
   ],
   "source": [
    "df.info()"
   ]
  },
  {
   "cell_type": "code",
   "execution_count": 7,
   "id": "0527d4e9",
   "metadata": {},
   "outputs": [
    {
     "name": "stdout",
     "output_type": "stream",
     "text": [
      "<class 'pandas.core.frame.DataFrame'>\n",
      "RangeIndex: 8494 entries, 0 to 8493\n",
      "Data columns (total 27 columns):\n",
      " #   Column              Non-Null Count  Dtype  \n",
      "---  ------              --------------  -----  \n",
      " 0   product_id          8494 non-null   object \n",
      " 1   product_name        8494 non-null   object \n",
      " 2   brand_id            8494 non-null   int64  \n",
      " 3   brand_name          8494 non-null   object \n",
      " 4   loves_count         8494 non-null   int64  \n",
      " 5   rating              8216 non-null   float64\n",
      " 6   reviews             8216 non-null   float64\n",
      " 7   size                6863 non-null   object \n",
      " 8   variation_type      7050 non-null   object \n",
      " 9   variation_value     6896 non-null   object \n",
      " 10  variation_desc      1250 non-null   object \n",
      " 11  ingredients         7549 non-null   object \n",
      " 12  price_usd           8494 non-null   float64\n",
      " 13  value_price_usd     451 non-null    float64\n",
      " 14  sale_price_usd      270 non-null    float64\n",
      " 15  limited_edition     8494 non-null   int64  \n",
      " 16  new                 8494 non-null   int64  \n",
      " 17  online_only         8494 non-null   int64  \n",
      " 18  out_of_stock        8494 non-null   int64  \n",
      " 19  sephora_exclusive   8494 non-null   int64  \n",
      " 20  highlights          6287 non-null   object \n",
      " 21  primary_category    8494 non-null   object \n",
      " 22  secondary_category  8486 non-null   object \n",
      " 23  tertiary_category   7504 non-null   object \n",
      " 24  child_count         8494 non-null   int64  \n",
      " 25  child_max_price     2754 non-null   float64\n",
      " 26  child_min_price     2754 non-null   float64\n",
      "dtypes: float64(7), int64(8), object(12)\n",
      "memory usage: 1.7+ MB\n"
     ]
    }
   ],
   "source": [
    "df2.info()"
   ]
  },
  {
   "cell_type": "code",
   "execution_count": 8,
   "id": "246cbe70",
   "metadata": {},
   "outputs": [],
   "source": [
    "df2.rename(columns = {'product_name':'name'}, inplace = True)\n",
    "#df2.rename(columns = {'rating':'2023ratings'}, inplace = True)"
   ]
  },
  {
   "cell_type": "code",
   "execution_count": 9,
   "id": "0a21f81f",
   "metadata": {},
   "outputs": [],
   "source": [
    "df = pd.merge(df,df2[['name',\"secondary_category\"]],on='name', how='left')"
   ]
  },
  {
   "cell_type": "code",
   "execution_count": 10,
   "id": "b1418b08",
   "metadata": {
    "scrolled": true
   },
   "outputs": [
    {
     "data": {
      "text/plain": [
       "Mini     665\n",
       "&        629\n",
       "Cream    530\n",
       "Set      464\n",
       "Lip      404\n",
       "Mask     402\n",
       "de       400\n",
       "Eau      400\n",
       "Brush    393\n",
       "Oil      387\n",
       "Name: name, dtype: int64"
      ]
     },
     "execution_count": 10,
     "metadata": {},
     "output_type": "execute_result"
    }
   ],
   "source": [
    "df.name.str.split().explode().value_counts().head(10)"
   ]
  },
  {
   "cell_type": "code",
   "execution_count": 11,
   "id": "92593bb2",
   "metadata": {},
   "outputs": [],
   "source": [
    "df[\"mini\"] = [1 if \"Mini\" in x else 0 for x in df[\"name\"]]\n",
    "df[\"cream\"] = [1 if \"Cream\" in x else 0 for x in df[\"name\"]]\n",
    "df[\"set\"] = [1 if \"Set\" in x else 0 for x in df[\"name\"]]\n",
    "df[\"mask\"] = [1 if \"Mask\" in x else 0 for x in df[\"name\"]]\n",
    "df[\"eau\"] = [1 if \"Eau\" in x else 0 for x in df[\"name\"]]\n",
    "df[\"lip\"] = [1 if \"Lip\" in x else 0 for x in df[\"name\"]]\n",
    "df[\"brush\"] = [1 if \"Brush\" in x else 0 for x in df[\"name\"]]\n",
    "df[\"oil\"] = [1 if \"Oil\" in x else 0 for x in df[\"name\"]]"
   ]
  },
  {
   "cell_type": "code",
   "execution_count": 12,
   "id": "7bd65a7e",
   "metadata": {
    "scrolled": true
   },
   "outputs": [
    {
     "data": {
      "text/plain": [
       "Extract-         17337\n",
       "the              17179\n",
       "that             14600\n",
       "of               14080\n",
       "and              13214\n",
       "Oil-             12294\n",
       "Sodium           11416\n",
       "(Ci              11147\n",
       "-                10386\n",
       "to               10238\n",
       "Glycol-           7869\n",
       "Acid-             7759\n",
       "Seed              7295\n",
       "or                7005\n",
       "are               6973\n",
       "is                6933\n",
       "methacrylate-     6591\n",
       "Ci                5710\n",
       "be                5522\n",
       "products          5429\n",
       "Name: ingredients, dtype: int64"
      ]
     },
     "execution_count": 12,
     "metadata": {},
     "output_type": "execute_result"
    }
   ],
   "source": [
    "df.ingredients.str.split().explode().value_counts().head(20)"
   ]
  },
  {
   "cell_type": "code",
   "execution_count": 13,
   "id": "af8af279",
   "metadata": {},
   "outputs": [],
   "source": [
    "df[\"extract\"] = [1 if \"Extract-\" in x else 0 for x in df[\"ingredients\"]]\n",
    "df[\"oil\"] = [1 if \"Oil- \" in x else 0 for x in df[\"ingredients\"]]\n",
    "df[\"sodium\"] = [1 if \"Sodium\" in x else 0 for x in df[\"ingredients\"]]\n",
    "df[\"glycol\"] = [1 if \"Glycol-\" in x else 0 for x in df[\"ingredients\"]]\n",
    "df[\"acid\"] = [1 if \"Acid-\" in x else 0 for x in df[\"ingredients\"]]\n",
    "df[\"seed\"] = [1 if \"Seed\" in x else 0 for x in df[\"ingredients\"]]\n",
    "df[\"metha\"] = [1 if \"methacrylate- \" in x else 0 for x in df[\"ingredients\"]]"
   ]
  },
  {
   "cell_type": "code",
   "execution_count": 14,
   "id": "6e63f473",
   "metadata": {},
   "outputs": [],
   "source": [
    "toPredict = df.loc[(df['name'] == 'Green Clean Makeup Removing Cleansing Balm') \n",
    "                   | (df['name'] == 'Glowscreen Sunscreen SPF 40')\n",
    "                  | (df['name'] == 'Wisteria & Lavender Cologne')]"
   ]
  },
  {
   "cell_type": "code",
   "execution_count": 15,
   "id": "9b91cec5",
   "metadata": {},
   "outputs": [],
   "source": [
    "df = df[df.name != 'Green Clean Makeup Removing Cleansing Balm']\n",
    "df = df[df.name != 'Glowscreen Sunscreen SPF 40']\n",
    "df = df[df.name != 'Wisteria & Lavender Cologne']"
   ]
  },
  {
   "cell_type": "code",
   "execution_count": 16,
   "id": "d78bcdd5",
   "metadata": {},
   "outputs": [],
   "source": [
    "df = df.drop(columns = [\"id\",\"name\",\"size\",\"category\",\"secondary_category\",\"brand\",\"value_price\",\"URL\",\"MarketingFlags\",\"MarketingFlags_content\",\"options\",\"details\",\"how_to_use\",\"ingredients\"])"
   ]
  },
  {
   "cell_type": "code",
   "execution_count": 17,
   "id": "aa3b5a07",
   "metadata": {},
   "outputs": [],
   "source": [
    "toPredict=toPredict.drop(columns=[\"id\",\"name\",\"size\",\"category\",\"secondary_category\",\"brand\",\"value_price\",\"URL\",\"MarketingFlags\",\"MarketingFlags_content\",\"options\",\"details\",\"how_to_use\",\"ingredients\"])"
   ]
  },
  {
   "cell_type": "code",
   "execution_count": 18,
   "id": "9819db5b",
   "metadata": {},
   "outputs": [
    {
     "name": "stdout",
     "output_type": "stream",
     "text": [
      "<class 'pandas.core.frame.DataFrame'>\n",
      "Int64Index: 9229 entries, 0 to 9231\n",
      "Data columns (total 22 columns):\n",
      " #   Column              Non-Null Count  Dtype  \n",
      "---  ------              --------------  -----  \n",
      " 0   rating              9229 non-null   float64\n",
      " 1   number_of_reviews   9229 non-null   int64  \n",
      " 2   love                9229 non-null   int64  \n",
      " 3   price               9229 non-null   float64\n",
      " 4   online_only         9229 non-null   int64  \n",
      " 5   exclusive           9229 non-null   int64  \n",
      " 6   limited_edition     9229 non-null   int64  \n",
      " 7   limited_time_offer  9229 non-null   int64  \n",
      " 8   mini                9229 non-null   int64  \n",
      " 9   cream               9229 non-null   int64  \n",
      " 10  set                 9229 non-null   int64  \n",
      " 11  mask                9229 non-null   int64  \n",
      " 12  eau                 9229 non-null   int64  \n",
      " 13  lip                 9229 non-null   int64  \n",
      " 14  brush               9229 non-null   int64  \n",
      " 15  oil                 9229 non-null   int64  \n",
      " 16  extract             9229 non-null   int64  \n",
      " 17  sodium              9229 non-null   int64  \n",
      " 18  glycol              9229 non-null   int64  \n",
      " 19  acid                9229 non-null   int64  \n",
      " 20  seed                9229 non-null   int64  \n",
      " 21  metha               9229 non-null   int64  \n",
      "dtypes: float64(2), int64(20)\n",
      "memory usage: 1.6 MB\n"
     ]
    }
   ],
   "source": [
    "df.info()"
   ]
  },
  {
   "cell_type": "code",
   "execution_count": 19,
   "id": "b50fbe1d",
   "metadata": {},
   "outputs": [
    {
     "data": {
      "text/html": [
       "<div>\n",
       "<style scoped>\n",
       "    .dataframe tbody tr th:only-of-type {\n",
       "        vertical-align: middle;\n",
       "    }\n",
       "\n",
       "    .dataframe tbody tr th {\n",
       "        vertical-align: top;\n",
       "    }\n",
       "\n",
       "    .dataframe thead th {\n",
       "        text-align: right;\n",
       "    }\n",
       "</style>\n",
       "<table border=\"1\" class=\"dataframe\">\n",
       "  <thead>\n",
       "    <tr style=\"text-align: right;\">\n",
       "      <th></th>\n",
       "      <th>rating</th>\n",
       "      <th>number_of_reviews</th>\n",
       "      <th>love</th>\n",
       "      <th>price</th>\n",
       "      <th>online_only</th>\n",
       "      <th>exclusive</th>\n",
       "      <th>limited_edition</th>\n",
       "      <th>limited_time_offer</th>\n",
       "      <th>mini</th>\n",
       "      <th>cream</th>\n",
       "      <th>...</th>\n",
       "      <th>eau</th>\n",
       "      <th>lip</th>\n",
       "      <th>brush</th>\n",
       "      <th>oil</th>\n",
       "      <th>extract</th>\n",
       "      <th>sodium</th>\n",
       "      <th>glycol</th>\n",
       "      <th>acid</th>\n",
       "      <th>seed</th>\n",
       "      <th>metha</th>\n",
       "    </tr>\n",
       "  </thead>\n",
       "  <tbody>\n",
       "    <tr>\n",
       "      <th>0</th>\n",
       "      <td>4.0</td>\n",
       "      <td>4</td>\n",
       "      <td>3002</td>\n",
       "      <td>66.0</td>\n",
       "      <td>1</td>\n",
       "      <td>0</td>\n",
       "      <td>0</td>\n",
       "      <td>0</td>\n",
       "      <td>0</td>\n",
       "      <td>0</td>\n",
       "      <td>...</td>\n",
       "      <td>0</td>\n",
       "      <td>0</td>\n",
       "      <td>0</td>\n",
       "      <td>0</td>\n",
       "      <td>0</td>\n",
       "      <td>0</td>\n",
       "      <td>0</td>\n",
       "      <td>0</td>\n",
       "      <td>0</td>\n",
       "      <td>0</td>\n",
       "    </tr>\n",
       "    <tr>\n",
       "      <th>1</th>\n",
       "      <td>4.5</td>\n",
       "      <td>76</td>\n",
       "      <td>2700</td>\n",
       "      <td>66.0</td>\n",
       "      <td>1</td>\n",
       "      <td>0</td>\n",
       "      <td>0</td>\n",
       "      <td>0</td>\n",
       "      <td>0</td>\n",
       "      <td>0</td>\n",
       "      <td>...</td>\n",
       "      <td>0</td>\n",
       "      <td>0</td>\n",
       "      <td>0</td>\n",
       "      <td>0</td>\n",
       "      <td>0</td>\n",
       "      <td>0</td>\n",
       "      <td>0</td>\n",
       "      <td>0</td>\n",
       "      <td>0</td>\n",
       "      <td>0</td>\n",
       "    </tr>\n",
       "    <tr>\n",
       "      <th>2</th>\n",
       "      <td>4.5</td>\n",
       "      <td>26</td>\n",
       "      <td>2600</td>\n",
       "      <td>180.0</td>\n",
       "      <td>1</td>\n",
       "      <td>0</td>\n",
       "      <td>0</td>\n",
       "      <td>0</td>\n",
       "      <td>0</td>\n",
       "      <td>0</td>\n",
       "      <td>...</td>\n",
       "      <td>0</td>\n",
       "      <td>0</td>\n",
       "      <td>0</td>\n",
       "      <td>0</td>\n",
       "      <td>0</td>\n",
       "      <td>0</td>\n",
       "      <td>0</td>\n",
       "      <td>0</td>\n",
       "      <td>0</td>\n",
       "      <td>0</td>\n",
       "    </tr>\n",
       "    <tr>\n",
       "      <th>3</th>\n",
       "      <td>4.5</td>\n",
       "      <td>23</td>\n",
       "      <td>2900</td>\n",
       "      <td>120.0</td>\n",
       "      <td>1</td>\n",
       "      <td>0</td>\n",
       "      <td>0</td>\n",
       "      <td>0</td>\n",
       "      <td>0</td>\n",
       "      <td>0</td>\n",
       "      <td>...</td>\n",
       "      <td>0</td>\n",
       "      <td>0</td>\n",
       "      <td>0</td>\n",
       "      <td>0</td>\n",
       "      <td>0</td>\n",
       "      <td>0</td>\n",
       "      <td>0</td>\n",
       "      <td>0</td>\n",
       "      <td>0</td>\n",
       "      <td>0</td>\n",
       "    </tr>\n",
       "    <tr>\n",
       "      <th>4</th>\n",
       "      <td>3.5</td>\n",
       "      <td>2</td>\n",
       "      <td>943</td>\n",
       "      <td>72.0</td>\n",
       "      <td>1</td>\n",
       "      <td>0</td>\n",
       "      <td>0</td>\n",
       "      <td>0</td>\n",
       "      <td>1</td>\n",
       "      <td>0</td>\n",
       "      <td>...</td>\n",
       "      <td>0</td>\n",
       "      <td>0</td>\n",
       "      <td>0</td>\n",
       "      <td>0</td>\n",
       "      <td>1</td>\n",
       "      <td>0</td>\n",
       "      <td>0</td>\n",
       "      <td>0</td>\n",
       "      <td>0</td>\n",
       "      <td>0</td>\n",
       "    </tr>\n",
       "  </tbody>\n",
       "</table>\n",
       "<p>5 rows × 22 columns</p>\n",
       "</div>"
      ],
      "text/plain": [
       "   rating  number_of_reviews  love  price  online_only  exclusive  \\\n",
       "0     4.0                  4  3002   66.0            1          0   \n",
       "1     4.5                 76  2700   66.0            1          0   \n",
       "2     4.5                 26  2600  180.0            1          0   \n",
       "3     4.5                 23  2900  120.0            1          0   \n",
       "4     3.5                  2   943   72.0            1          0   \n",
       "\n",
       "   limited_edition  limited_time_offer  mini  cream  ...  eau  lip  brush  \\\n",
       "0                0                   0     0      0  ...    0    0      0   \n",
       "1                0                   0     0      0  ...    0    0      0   \n",
       "2                0                   0     0      0  ...    0    0      0   \n",
       "3                0                   0     0      0  ...    0    0      0   \n",
       "4                0                   0     1      0  ...    0    0      0   \n",
       "\n",
       "   oil  extract  sodium  glycol  acid  seed  metha  \n",
       "0    0        0       0       0     0     0      0  \n",
       "1    0        0       0       0     0     0      0  \n",
       "2    0        0       0       0     0     0      0  \n",
       "3    0        0       0       0     0     0      0  \n",
       "4    0        1       0       0     0     0      0  \n",
       "\n",
       "[5 rows x 22 columns]"
      ]
     },
     "execution_count": 19,
     "metadata": {},
     "output_type": "execute_result"
    }
   ],
   "source": [
    "df.head()"
   ]
  },
  {
   "cell_type": "code",
   "execution_count": null,
   "id": "e821b7b6",
   "metadata": {},
   "outputs": [],
   "source": []
  },
  {
   "cell_type": "markdown",
   "id": "fda4c07f",
   "metadata": {},
   "source": [
    "### Create Training and Test data sets"
   ]
  },
  {
   "cell_type": "code",
   "execution_count": 20,
   "id": "0afe5ffe",
   "metadata": {
    "scrolled": true
   },
   "outputs": [
    {
     "data": {
      "text/plain": [
       "((7383, 21), (1846, 21), (7383,), (1846,))"
      ]
     },
     "execution_count": 20,
     "metadata": {},
     "output_type": "execute_result"
    }
   ],
   "source": [
    "X_train_pre, X_test_pre, y_train, y_test = train_test_split(\n",
    "    df.drop(columns=['price']),\n",
    "    df['price'],\n",
    "    test_size=0.2,\n",
    "    random_state=34\n",
    ")    \n",
    "X_train_pre.shape,X_test_pre.shape,y_train.shape, y_test.shape "
   ]
  },
  {
   "cell_type": "markdown",
   "id": "44c111ce",
   "metadata": {},
   "source": [
    "### Prepare Data"
   ]
  },
  {
   "cell_type": "code",
   "execution_count": 21,
   "id": "82be6f37",
   "metadata": {},
   "outputs": [],
   "source": [
    "cat_attribs = []#[\"category\",\"secondary_category\"]\n",
    "\n",
    "#set the numerical attributes\n",
    "num_attribs = list( X_train_pre.drop(cat_attribs,axis=1) )\n",
    "\n",
    "num_pipeline = Pipeline( [\n",
    " ('imputer', SimpleImputer(strategy=\"median\")), #because no missing values, not used\n",
    " ('std_scaler', StandardScaler()),   \n",
    "])\n",
    "\n",
    "#define the column transformation process for the data set\n",
    "full_pipeline = ColumnTransformer( [\n",
    "    ('num', num_pipeline, num_attribs),\n",
    "    ('cat', OneHotEncoder(sparse = False), cat_attribs)      #because no categorical attributes, not used \n",
    "])"
   ]
  },
  {
   "cell_type": "code",
   "execution_count": 22,
   "id": "b55358b4",
   "metadata": {},
   "outputs": [
    {
     "data": {
      "text/html": [
       "<style>#sk-c00a7bfe-fdbe-4cc7-8e83-57510c8a5d7c {color: black;background-color: white;}#sk-c00a7bfe-fdbe-4cc7-8e83-57510c8a5d7c pre{padding: 0;}#sk-c00a7bfe-fdbe-4cc7-8e83-57510c8a5d7c div.sk-toggleable {background-color: white;}#sk-c00a7bfe-fdbe-4cc7-8e83-57510c8a5d7c label.sk-toggleable__label {cursor: pointer;display: block;width: 100%;margin-bottom: 0;padding: 0.3em;box-sizing: border-box;text-align: center;}#sk-c00a7bfe-fdbe-4cc7-8e83-57510c8a5d7c label.sk-toggleable__label-arrow:before {content: \"▸\";float: left;margin-right: 0.25em;color: #696969;}#sk-c00a7bfe-fdbe-4cc7-8e83-57510c8a5d7c label.sk-toggleable__label-arrow:hover:before {color: black;}#sk-c00a7bfe-fdbe-4cc7-8e83-57510c8a5d7c div.sk-estimator:hover label.sk-toggleable__label-arrow:before {color: black;}#sk-c00a7bfe-fdbe-4cc7-8e83-57510c8a5d7c div.sk-toggleable__content {max-height: 0;max-width: 0;overflow: hidden;text-align: left;background-color: #f0f8ff;}#sk-c00a7bfe-fdbe-4cc7-8e83-57510c8a5d7c div.sk-toggleable__content pre {margin: 0.2em;color: black;border-radius: 0.25em;background-color: #f0f8ff;}#sk-c00a7bfe-fdbe-4cc7-8e83-57510c8a5d7c input.sk-toggleable__control:checked~div.sk-toggleable__content {max-height: 200px;max-width: 100%;overflow: auto;}#sk-c00a7bfe-fdbe-4cc7-8e83-57510c8a5d7c input.sk-toggleable__control:checked~label.sk-toggleable__label-arrow:before {content: \"▾\";}#sk-c00a7bfe-fdbe-4cc7-8e83-57510c8a5d7c div.sk-estimator input.sk-toggleable__control:checked~label.sk-toggleable__label {background-color: #d4ebff;}#sk-c00a7bfe-fdbe-4cc7-8e83-57510c8a5d7c div.sk-label input.sk-toggleable__control:checked~label.sk-toggleable__label {background-color: #d4ebff;}#sk-c00a7bfe-fdbe-4cc7-8e83-57510c8a5d7c input.sk-hidden--visually {border: 0;clip: rect(1px 1px 1px 1px);clip: rect(1px, 1px, 1px, 1px);height: 1px;margin: -1px;overflow: hidden;padding: 0;position: absolute;width: 1px;}#sk-c00a7bfe-fdbe-4cc7-8e83-57510c8a5d7c div.sk-estimator {font-family: monospace;background-color: #f0f8ff;border: 1px dotted black;border-radius: 0.25em;box-sizing: border-box;margin-bottom: 0.5em;}#sk-c00a7bfe-fdbe-4cc7-8e83-57510c8a5d7c div.sk-estimator:hover {background-color: #d4ebff;}#sk-c00a7bfe-fdbe-4cc7-8e83-57510c8a5d7c div.sk-parallel-item::after {content: \"\";width: 100%;border-bottom: 1px solid gray;flex-grow: 1;}#sk-c00a7bfe-fdbe-4cc7-8e83-57510c8a5d7c div.sk-label:hover label.sk-toggleable__label {background-color: #d4ebff;}#sk-c00a7bfe-fdbe-4cc7-8e83-57510c8a5d7c div.sk-serial::before {content: \"\";position: absolute;border-left: 1px solid gray;box-sizing: border-box;top: 2em;bottom: 0;left: 50%;}#sk-c00a7bfe-fdbe-4cc7-8e83-57510c8a5d7c div.sk-serial {display: flex;flex-direction: column;align-items: center;background-color: white;padding-right: 0.2em;padding-left: 0.2em;}#sk-c00a7bfe-fdbe-4cc7-8e83-57510c8a5d7c div.sk-item {z-index: 1;}#sk-c00a7bfe-fdbe-4cc7-8e83-57510c8a5d7c div.sk-parallel {display: flex;align-items: stretch;justify-content: center;background-color: white;}#sk-c00a7bfe-fdbe-4cc7-8e83-57510c8a5d7c div.sk-parallel::before {content: \"\";position: absolute;border-left: 1px solid gray;box-sizing: border-box;top: 2em;bottom: 0;left: 50%;}#sk-c00a7bfe-fdbe-4cc7-8e83-57510c8a5d7c div.sk-parallel-item {display: flex;flex-direction: column;position: relative;background-color: white;}#sk-c00a7bfe-fdbe-4cc7-8e83-57510c8a5d7c div.sk-parallel-item:first-child::after {align-self: flex-end;width: 50%;}#sk-c00a7bfe-fdbe-4cc7-8e83-57510c8a5d7c div.sk-parallel-item:last-child::after {align-self: flex-start;width: 50%;}#sk-c00a7bfe-fdbe-4cc7-8e83-57510c8a5d7c div.sk-parallel-item:only-child::after {width: 0;}#sk-c00a7bfe-fdbe-4cc7-8e83-57510c8a5d7c div.sk-dashed-wrapped {border: 1px dashed gray;margin: 0 0.4em 0.5em 0.4em;box-sizing: border-box;padding-bottom: 0.4em;background-color: white;position: relative;}#sk-c00a7bfe-fdbe-4cc7-8e83-57510c8a5d7c div.sk-label label {font-family: monospace;font-weight: bold;background-color: white;display: inline-block;line-height: 1.2em;}#sk-c00a7bfe-fdbe-4cc7-8e83-57510c8a5d7c div.sk-label-container {position: relative;z-index: 2;text-align: center;}#sk-c00a7bfe-fdbe-4cc7-8e83-57510c8a5d7c div.sk-container {/* jupyter's `normalize.less` sets `[hidden] { display: none; }` but bootstrap.min.css set `[hidden] { display: none !important; }` so we also need the `!important` here to be able to override the default hidden behavior on the sphinx rendered scikit-learn.org. See: https://github.com/scikit-learn/scikit-learn/issues/21755 */display: inline-block !important;position: relative;}#sk-c00a7bfe-fdbe-4cc7-8e83-57510c8a5d7c div.sk-text-repr-fallback {display: none;}</style><div id=\"sk-c00a7bfe-fdbe-4cc7-8e83-57510c8a5d7c\" class=\"sk-top-container\"><div class=\"sk-text-repr-fallback\"><pre>ColumnTransformer(transformers=[(&#x27;num&#x27;,\n",
       "                                 Pipeline(steps=[(&#x27;imputer&#x27;,\n",
       "                                                  SimpleImputer(strategy=&#x27;median&#x27;)),\n",
       "                                                 (&#x27;std_scaler&#x27;,\n",
       "                                                  StandardScaler())]),\n",
       "                                 [&#x27;rating&#x27;, &#x27;number_of_reviews&#x27;, &#x27;love&#x27;,\n",
       "                                  &#x27;online_only&#x27;, &#x27;exclusive&#x27;, &#x27;limited_edition&#x27;,\n",
       "                                  &#x27;limited_time_offer&#x27;, &#x27;mini&#x27;, &#x27;cream&#x27;, &#x27;set&#x27;,\n",
       "                                  &#x27;mask&#x27;, &#x27;eau&#x27;, &#x27;lip&#x27;, &#x27;brush&#x27;, &#x27;oil&#x27;,\n",
       "                                  &#x27;extract&#x27;, &#x27;sodium&#x27;, &#x27;glycol&#x27;, &#x27;acid&#x27;, &#x27;seed&#x27;,\n",
       "                                  &#x27;metha&#x27;]),\n",
       "                                (&#x27;cat&#x27;, OneHotEncoder(sparse=False), [])])</pre><b>Please rerun this cell to show the HTML repr or trust the notebook.</b></div><div class=\"sk-container\" hidden><div class=\"sk-item sk-dashed-wrapped\"><div class=\"sk-label-container\"><div class=\"sk-label sk-toggleable\"><input class=\"sk-toggleable__control sk-hidden--visually\" id=\"c2b2ea9c-2dff-4eab-a28b-59c631950587\" type=\"checkbox\" ><label for=\"c2b2ea9c-2dff-4eab-a28b-59c631950587\" class=\"sk-toggleable__label sk-toggleable__label-arrow\">ColumnTransformer</label><div class=\"sk-toggleable__content\"><pre>ColumnTransformer(transformers=[(&#x27;num&#x27;,\n",
       "                                 Pipeline(steps=[(&#x27;imputer&#x27;,\n",
       "                                                  SimpleImputer(strategy=&#x27;median&#x27;)),\n",
       "                                                 (&#x27;std_scaler&#x27;,\n",
       "                                                  StandardScaler())]),\n",
       "                                 [&#x27;rating&#x27;, &#x27;number_of_reviews&#x27;, &#x27;love&#x27;,\n",
       "                                  &#x27;online_only&#x27;, &#x27;exclusive&#x27;, &#x27;limited_edition&#x27;,\n",
       "                                  &#x27;limited_time_offer&#x27;, &#x27;mini&#x27;, &#x27;cream&#x27;, &#x27;set&#x27;,\n",
       "                                  &#x27;mask&#x27;, &#x27;eau&#x27;, &#x27;lip&#x27;, &#x27;brush&#x27;, &#x27;oil&#x27;,\n",
       "                                  &#x27;extract&#x27;, &#x27;sodium&#x27;, &#x27;glycol&#x27;, &#x27;acid&#x27;, &#x27;seed&#x27;,\n",
       "                                  &#x27;metha&#x27;]),\n",
       "                                (&#x27;cat&#x27;, OneHotEncoder(sparse=False), [])])</pre></div></div></div><div class=\"sk-parallel\"><div class=\"sk-parallel-item\"><div class=\"sk-item\"><div class=\"sk-label-container\"><div class=\"sk-label sk-toggleable\"><input class=\"sk-toggleable__control sk-hidden--visually\" id=\"de0b731d-d032-4cd6-be7b-f5094567809a\" type=\"checkbox\" ><label for=\"de0b731d-d032-4cd6-be7b-f5094567809a\" class=\"sk-toggleable__label sk-toggleable__label-arrow\">num</label><div class=\"sk-toggleable__content\"><pre>[&#x27;rating&#x27;, &#x27;number_of_reviews&#x27;, &#x27;love&#x27;, &#x27;online_only&#x27;, &#x27;exclusive&#x27;, &#x27;limited_edition&#x27;, &#x27;limited_time_offer&#x27;, &#x27;mini&#x27;, &#x27;cream&#x27;, &#x27;set&#x27;, &#x27;mask&#x27;, &#x27;eau&#x27;, &#x27;lip&#x27;, &#x27;brush&#x27;, &#x27;oil&#x27;, &#x27;extract&#x27;, &#x27;sodium&#x27;, &#x27;glycol&#x27;, &#x27;acid&#x27;, &#x27;seed&#x27;, &#x27;metha&#x27;]</pre></div></div></div><div class=\"sk-serial\"><div class=\"sk-item\"><div class=\"sk-serial\"><div class=\"sk-item\"><div class=\"sk-estimator sk-toggleable\"><input class=\"sk-toggleable__control sk-hidden--visually\" id=\"7ff5ed66-741b-4806-b8e3-9db9d05d93f7\" type=\"checkbox\" ><label for=\"7ff5ed66-741b-4806-b8e3-9db9d05d93f7\" class=\"sk-toggleable__label sk-toggleable__label-arrow\">SimpleImputer</label><div class=\"sk-toggleable__content\"><pre>SimpleImputer(strategy=&#x27;median&#x27;)</pre></div></div></div><div class=\"sk-item\"><div class=\"sk-estimator sk-toggleable\"><input class=\"sk-toggleable__control sk-hidden--visually\" id=\"7d26cf84-089d-4629-b2be-bdec864b1836\" type=\"checkbox\" ><label for=\"7d26cf84-089d-4629-b2be-bdec864b1836\" class=\"sk-toggleable__label sk-toggleable__label-arrow\">StandardScaler</label><div class=\"sk-toggleable__content\"><pre>StandardScaler()</pre></div></div></div></div></div></div></div></div><div class=\"sk-parallel-item\"><div class=\"sk-item\"><div class=\"sk-label-container\"><div class=\"sk-label sk-toggleable\"><input class=\"sk-toggleable__control sk-hidden--visually\" id=\"86a08d78-3331-4d47-a6b5-2979262f9ea1\" type=\"checkbox\" ><label for=\"86a08d78-3331-4d47-a6b5-2979262f9ea1\" class=\"sk-toggleable__label sk-toggleable__label-arrow\">cat</label><div class=\"sk-toggleable__content\"><pre>[]</pre></div></div></div><div class=\"sk-serial\"><div class=\"sk-item\"><div class=\"sk-estimator sk-toggleable\"><input class=\"sk-toggleable__control sk-hidden--visually\" id=\"265465a5-dcf4-4dee-883b-d909579ff2f3\" type=\"checkbox\" ><label for=\"265465a5-dcf4-4dee-883b-d909579ff2f3\" class=\"sk-toggleable__label sk-toggleable__label-arrow\">OneHotEncoder</label><div class=\"sk-toggleable__content\"><pre>OneHotEncoder(sparse=False)</pre></div></div></div></div></div></div></div></div></div></div>"
      ],
      "text/plain": [
       "ColumnTransformer(transformers=[('num',\n",
       "                                 Pipeline(steps=[('imputer',\n",
       "                                                  SimpleImputer(strategy='median')),\n",
       "                                                 ('std_scaler',\n",
       "                                                  StandardScaler())]),\n",
       "                                 ['rating', 'number_of_reviews', 'love',\n",
       "                                  'online_only', 'exclusive', 'limited_edition',\n",
       "                                  'limited_time_offer', 'mini', 'cream', 'set',\n",
       "                                  'mask', 'eau', 'lip', 'brush', 'oil',\n",
       "                                  'extract', 'sodium', 'glycol', 'acid', 'seed',\n",
       "                                  'metha']),\n",
       "                                ('cat', OneHotEncoder(sparse=False), [])])"
      ]
     },
     "execution_count": 22,
     "metadata": {},
     "output_type": "execute_result"
    }
   ],
   "source": [
    "#diagram pipeline process (NOTE this only works because of the import and set statement at the top)\n",
    "full_pipeline"
   ]
  },
  {
   "cell_type": "code",
   "execution_count": 23,
   "id": "ceeb37a1",
   "metadata": {},
   "outputs": [
    {
     "data": {
      "text/html": [
       "<style>#sk-7cc136b7-b470-4e3a-b1ab-a02f9a327719 {color: black;background-color: white;}#sk-7cc136b7-b470-4e3a-b1ab-a02f9a327719 pre{padding: 0;}#sk-7cc136b7-b470-4e3a-b1ab-a02f9a327719 div.sk-toggleable {background-color: white;}#sk-7cc136b7-b470-4e3a-b1ab-a02f9a327719 label.sk-toggleable__label {cursor: pointer;display: block;width: 100%;margin-bottom: 0;padding: 0.3em;box-sizing: border-box;text-align: center;}#sk-7cc136b7-b470-4e3a-b1ab-a02f9a327719 label.sk-toggleable__label-arrow:before {content: \"▸\";float: left;margin-right: 0.25em;color: #696969;}#sk-7cc136b7-b470-4e3a-b1ab-a02f9a327719 label.sk-toggleable__label-arrow:hover:before {color: black;}#sk-7cc136b7-b470-4e3a-b1ab-a02f9a327719 div.sk-estimator:hover label.sk-toggleable__label-arrow:before {color: black;}#sk-7cc136b7-b470-4e3a-b1ab-a02f9a327719 div.sk-toggleable__content {max-height: 0;max-width: 0;overflow: hidden;text-align: left;background-color: #f0f8ff;}#sk-7cc136b7-b470-4e3a-b1ab-a02f9a327719 div.sk-toggleable__content pre {margin: 0.2em;color: black;border-radius: 0.25em;background-color: #f0f8ff;}#sk-7cc136b7-b470-4e3a-b1ab-a02f9a327719 input.sk-toggleable__control:checked~div.sk-toggleable__content {max-height: 200px;max-width: 100%;overflow: auto;}#sk-7cc136b7-b470-4e3a-b1ab-a02f9a327719 input.sk-toggleable__control:checked~label.sk-toggleable__label-arrow:before {content: \"▾\";}#sk-7cc136b7-b470-4e3a-b1ab-a02f9a327719 div.sk-estimator input.sk-toggleable__control:checked~label.sk-toggleable__label {background-color: #d4ebff;}#sk-7cc136b7-b470-4e3a-b1ab-a02f9a327719 div.sk-label input.sk-toggleable__control:checked~label.sk-toggleable__label {background-color: #d4ebff;}#sk-7cc136b7-b470-4e3a-b1ab-a02f9a327719 input.sk-hidden--visually {border: 0;clip: rect(1px 1px 1px 1px);clip: rect(1px, 1px, 1px, 1px);height: 1px;margin: -1px;overflow: hidden;padding: 0;position: absolute;width: 1px;}#sk-7cc136b7-b470-4e3a-b1ab-a02f9a327719 div.sk-estimator {font-family: monospace;background-color: #f0f8ff;border: 1px dotted black;border-radius: 0.25em;box-sizing: border-box;margin-bottom: 0.5em;}#sk-7cc136b7-b470-4e3a-b1ab-a02f9a327719 div.sk-estimator:hover {background-color: #d4ebff;}#sk-7cc136b7-b470-4e3a-b1ab-a02f9a327719 div.sk-parallel-item::after {content: \"\";width: 100%;border-bottom: 1px solid gray;flex-grow: 1;}#sk-7cc136b7-b470-4e3a-b1ab-a02f9a327719 div.sk-label:hover label.sk-toggleable__label {background-color: #d4ebff;}#sk-7cc136b7-b470-4e3a-b1ab-a02f9a327719 div.sk-serial::before {content: \"\";position: absolute;border-left: 1px solid gray;box-sizing: border-box;top: 2em;bottom: 0;left: 50%;}#sk-7cc136b7-b470-4e3a-b1ab-a02f9a327719 div.sk-serial {display: flex;flex-direction: column;align-items: center;background-color: white;padding-right: 0.2em;padding-left: 0.2em;}#sk-7cc136b7-b470-4e3a-b1ab-a02f9a327719 div.sk-item {z-index: 1;}#sk-7cc136b7-b470-4e3a-b1ab-a02f9a327719 div.sk-parallel {display: flex;align-items: stretch;justify-content: center;background-color: white;}#sk-7cc136b7-b470-4e3a-b1ab-a02f9a327719 div.sk-parallel::before {content: \"\";position: absolute;border-left: 1px solid gray;box-sizing: border-box;top: 2em;bottom: 0;left: 50%;}#sk-7cc136b7-b470-4e3a-b1ab-a02f9a327719 div.sk-parallel-item {display: flex;flex-direction: column;position: relative;background-color: white;}#sk-7cc136b7-b470-4e3a-b1ab-a02f9a327719 div.sk-parallel-item:first-child::after {align-self: flex-end;width: 50%;}#sk-7cc136b7-b470-4e3a-b1ab-a02f9a327719 div.sk-parallel-item:last-child::after {align-self: flex-start;width: 50%;}#sk-7cc136b7-b470-4e3a-b1ab-a02f9a327719 div.sk-parallel-item:only-child::after {width: 0;}#sk-7cc136b7-b470-4e3a-b1ab-a02f9a327719 div.sk-dashed-wrapped {border: 1px dashed gray;margin: 0 0.4em 0.5em 0.4em;box-sizing: border-box;padding-bottom: 0.4em;background-color: white;position: relative;}#sk-7cc136b7-b470-4e3a-b1ab-a02f9a327719 div.sk-label label {font-family: monospace;font-weight: bold;background-color: white;display: inline-block;line-height: 1.2em;}#sk-7cc136b7-b470-4e3a-b1ab-a02f9a327719 div.sk-label-container {position: relative;z-index: 2;text-align: center;}#sk-7cc136b7-b470-4e3a-b1ab-a02f9a327719 div.sk-container {/* jupyter's `normalize.less` sets `[hidden] { display: none; }` but bootstrap.min.css set `[hidden] { display: none !important; }` so we also need the `!important` here to be able to override the default hidden behavior on the sphinx rendered scikit-learn.org. See: https://github.com/scikit-learn/scikit-learn/issues/21755 */display: inline-block !important;position: relative;}#sk-7cc136b7-b470-4e3a-b1ab-a02f9a327719 div.sk-text-repr-fallback {display: none;}</style><div id=\"sk-7cc136b7-b470-4e3a-b1ab-a02f9a327719\" class=\"sk-top-container\"><div class=\"sk-text-repr-fallback\"><pre>ColumnTransformer(transformers=[(&#x27;num&#x27;,\n",
       "                                 Pipeline(steps=[(&#x27;imputer&#x27;,\n",
       "                                                  SimpleImputer(strategy=&#x27;median&#x27;)),\n",
       "                                                 (&#x27;std_scaler&#x27;,\n",
       "                                                  StandardScaler())]),\n",
       "                                 [&#x27;rating&#x27;, &#x27;number_of_reviews&#x27;, &#x27;love&#x27;,\n",
       "                                  &#x27;online_only&#x27;, &#x27;exclusive&#x27;, &#x27;limited_edition&#x27;,\n",
       "                                  &#x27;limited_time_offer&#x27;, &#x27;mini&#x27;, &#x27;cream&#x27;, &#x27;set&#x27;,\n",
       "                                  &#x27;mask&#x27;, &#x27;eau&#x27;, &#x27;lip&#x27;, &#x27;brush&#x27;, &#x27;oil&#x27;,\n",
       "                                  &#x27;extract&#x27;, &#x27;sodium&#x27;, &#x27;glycol&#x27;, &#x27;acid&#x27;, &#x27;seed&#x27;,\n",
       "                                  &#x27;metha&#x27;]),\n",
       "                                (&#x27;cat&#x27;, OneHotEncoder(sparse=False), [])])</pre><b>Please rerun this cell to show the HTML repr or trust the notebook.</b></div><div class=\"sk-container\" hidden><div class=\"sk-item sk-dashed-wrapped\"><div class=\"sk-label-container\"><div class=\"sk-label sk-toggleable\"><input class=\"sk-toggleable__control sk-hidden--visually\" id=\"a4f8a743-0510-4de1-8d67-04ef3f795ba3\" type=\"checkbox\" ><label for=\"a4f8a743-0510-4de1-8d67-04ef3f795ba3\" class=\"sk-toggleable__label sk-toggleable__label-arrow\">ColumnTransformer</label><div class=\"sk-toggleable__content\"><pre>ColumnTransformer(transformers=[(&#x27;num&#x27;,\n",
       "                                 Pipeline(steps=[(&#x27;imputer&#x27;,\n",
       "                                                  SimpleImputer(strategy=&#x27;median&#x27;)),\n",
       "                                                 (&#x27;std_scaler&#x27;,\n",
       "                                                  StandardScaler())]),\n",
       "                                 [&#x27;rating&#x27;, &#x27;number_of_reviews&#x27;, &#x27;love&#x27;,\n",
       "                                  &#x27;online_only&#x27;, &#x27;exclusive&#x27;, &#x27;limited_edition&#x27;,\n",
       "                                  &#x27;limited_time_offer&#x27;, &#x27;mini&#x27;, &#x27;cream&#x27;, &#x27;set&#x27;,\n",
       "                                  &#x27;mask&#x27;, &#x27;eau&#x27;, &#x27;lip&#x27;, &#x27;brush&#x27;, &#x27;oil&#x27;,\n",
       "                                  &#x27;extract&#x27;, &#x27;sodium&#x27;, &#x27;glycol&#x27;, &#x27;acid&#x27;, &#x27;seed&#x27;,\n",
       "                                  &#x27;metha&#x27;]),\n",
       "                                (&#x27;cat&#x27;, OneHotEncoder(sparse=False), [])])</pre></div></div></div><div class=\"sk-parallel\"><div class=\"sk-parallel-item\"><div class=\"sk-item\"><div class=\"sk-label-container\"><div class=\"sk-label sk-toggleable\"><input class=\"sk-toggleable__control sk-hidden--visually\" id=\"eb885fb9-0fbd-46ad-ba8d-877726edeb5b\" type=\"checkbox\" ><label for=\"eb885fb9-0fbd-46ad-ba8d-877726edeb5b\" class=\"sk-toggleable__label sk-toggleable__label-arrow\">num</label><div class=\"sk-toggleable__content\"><pre>[&#x27;rating&#x27;, &#x27;number_of_reviews&#x27;, &#x27;love&#x27;, &#x27;online_only&#x27;, &#x27;exclusive&#x27;, &#x27;limited_edition&#x27;, &#x27;limited_time_offer&#x27;, &#x27;mini&#x27;, &#x27;cream&#x27;, &#x27;set&#x27;, &#x27;mask&#x27;, &#x27;eau&#x27;, &#x27;lip&#x27;, &#x27;brush&#x27;, &#x27;oil&#x27;, &#x27;extract&#x27;, &#x27;sodium&#x27;, &#x27;glycol&#x27;, &#x27;acid&#x27;, &#x27;seed&#x27;, &#x27;metha&#x27;]</pre></div></div></div><div class=\"sk-serial\"><div class=\"sk-item\"><div class=\"sk-serial\"><div class=\"sk-item\"><div class=\"sk-estimator sk-toggleable\"><input class=\"sk-toggleable__control sk-hidden--visually\" id=\"b31f77a6-77e3-4611-9556-9556d5beb9df\" type=\"checkbox\" ><label for=\"b31f77a6-77e3-4611-9556-9556d5beb9df\" class=\"sk-toggleable__label sk-toggleable__label-arrow\">SimpleImputer</label><div class=\"sk-toggleable__content\"><pre>SimpleImputer(strategy=&#x27;median&#x27;)</pre></div></div></div><div class=\"sk-item\"><div class=\"sk-estimator sk-toggleable\"><input class=\"sk-toggleable__control sk-hidden--visually\" id=\"fca65182-89cf-45c4-a9b9-d61f9a5e2ffa\" type=\"checkbox\" ><label for=\"fca65182-89cf-45c4-a9b9-d61f9a5e2ffa\" class=\"sk-toggleable__label sk-toggleable__label-arrow\">StandardScaler</label><div class=\"sk-toggleable__content\"><pre>StandardScaler()</pre></div></div></div></div></div></div></div></div><div class=\"sk-parallel-item\"><div class=\"sk-item\"><div class=\"sk-label-container\"><div class=\"sk-label sk-toggleable\"><input class=\"sk-toggleable__control sk-hidden--visually\" id=\"ef42eb1f-0848-4d04-8ed5-cc4f2603482b\" type=\"checkbox\" ><label for=\"ef42eb1f-0848-4d04-8ed5-cc4f2603482b\" class=\"sk-toggleable__label sk-toggleable__label-arrow\">cat</label><div class=\"sk-toggleable__content\"><pre>[]</pre></div></div></div><div class=\"sk-serial\"><div class=\"sk-item\"><div class=\"sk-estimator sk-toggleable\"><input class=\"sk-toggleable__control sk-hidden--visually\" id=\"6f999adb-2f97-4a6e-bde6-0ae7207e9241\" type=\"checkbox\" ><label for=\"6f999adb-2f97-4a6e-bde6-0ae7207e9241\" class=\"sk-toggleable__label sk-toggleable__label-arrow\">OneHotEncoder</label><div class=\"sk-toggleable__content\"><pre>OneHotEncoder(sparse=False)</pre></div></div></div></div></div></div></div></div></div></div>"
      ],
      "text/plain": [
       "ColumnTransformer(transformers=[('num',\n",
       "                                 Pipeline(steps=[('imputer',\n",
       "                                                  SimpleImputer(strategy='median')),\n",
       "                                                 ('std_scaler',\n",
       "                                                  StandardScaler())]),\n",
       "                                 ['rating', 'number_of_reviews', 'love',\n",
       "                                  'online_only', 'exclusive', 'limited_edition',\n",
       "                                  'limited_time_offer', 'mini', 'cream', 'set',\n",
       "                                  'mask', 'eau', 'lip', 'brush', 'oil',\n",
       "                                  'extract', 'sodium', 'glycol', 'acid', 'seed',\n",
       "                                  'metha']),\n",
       "                                ('cat', OneHotEncoder(sparse=False), [])])"
      ]
     },
     "execution_count": 23,
     "metadata": {},
     "output_type": "execute_result"
    }
   ],
   "source": [
    "full_pipeline.fit(df)"
   ]
  },
  {
   "cell_type": "code",
   "execution_count": 24,
   "id": "aae9bff9",
   "metadata": {},
   "outputs": [
    {
     "data": {
      "text/plain": [
       "(7383, 21)"
      ]
     },
     "execution_count": 24,
     "metadata": {},
     "output_type": "execute_result"
    }
   ],
   "source": [
    "#create an array of prepared data based on the training data set\n",
    "X_train = full_pipeline.transform( X_train_pre )\n",
    "X_train.shape"
   ]
  },
  {
   "cell_type": "code",
   "execution_count": 25,
   "id": "76d643e3",
   "metadata": {},
   "outputs": [
    {
     "data": {
      "text/plain": [
       "(1846, 21)"
      ]
     },
     "execution_count": 25,
     "metadata": {},
     "output_type": "execute_result"
    }
   ],
   "source": [
    "#create an array of prepared data based on the test data set\n",
    "X_test = full_pipeline.transform( X_test_pre)\n",
    "X_test.shape"
   ]
  },
  {
   "cell_type": "markdown",
   "id": "bdf0efa9",
   "metadata": {},
   "source": [
    "### Create a list of Model Features (i.e. attributes)"
   ]
  },
  {
   "cell_type": "code",
   "execution_count": 26,
   "id": "a567fce2",
   "metadata": {},
   "outputs": [
    {
     "data": {
      "text/plain": [
       "['rating',\n",
       " 'number_of_reviews',\n",
       " 'love',\n",
       " 'online_only',\n",
       " 'exclusive',\n",
       " 'limited_edition',\n",
       " 'limited_time_offer',\n",
       " 'mini',\n",
       " 'cream',\n",
       " 'set',\n",
       " 'mask',\n",
       " 'eau',\n",
       " 'lip',\n",
       " 'brush',\n",
       " 'oil',\n",
       " 'extract',\n",
       " 'sodium',\n",
       " 'glycol',\n",
       " 'acid',\n",
       " 'seed',\n",
       " 'metha']"
      ]
     },
     "execution_count": 26,
     "metadata": {},
     "output_type": "execute_result"
    }
   ],
   "source": [
    "#capture a list of all the features used in the model\n",
    "#helpful later when you want to analyze feature importance\n",
    "\n",
    "#gets the order of encoded categories (if any)\n",
    "cat_encoder = full_pipeline.named_transformers_[\"cat\"]\n",
    "cat_one_hot_attribs = []\n",
    "if hasattr(cat_encoder, 'categories_'):\n",
    "    for i in cat_encoder.categories_:\n",
    "        cat_one_hot_attribs += list(i)\n",
    "        \n",
    "#combines the numeric and encoded features\n",
    "attributes = list(num_attribs) + list(cat_one_hot_attribs)\n",
    "attributes"
   ]
  },
  {
   "cell_type": "markdown",
   "id": "5ffbccc0",
   "metadata": {},
   "source": [
    "## <font color=purple>Determine a Baseline"
   ]
  },
  {
   "cell_type": "code",
   "execution_count": 27,
   "id": "812cb4b9",
   "metadata": {},
   "outputs": [
    {
     "name": "stdout",
     "output_type": "stream",
     "text": [
      "Baseline guess is: 35\n",
      "Baseline Performance (of this guess): RMSE 50\n"
     ]
    }
   ],
   "source": [
    "#calculate the average review\n",
    "baseline_prediction = df['price'].median()\n",
    "\n",
    "#populate an array with the baseline prediction value\n",
    "predictions = np.full(shape=df.shape[0], fill_value = baseline_prediction)\n",
    "\n",
    "#determine the Root Mean Squared Error based on the actual vs. the baseline prediction\n",
    "baseline_rmse = mean_squared_error(df['price'], predictions, squared=False)\n",
    "print(\"Baseline guess is: {:,.0f}\".format(baseline_prediction))\n",
    "print(\"Baseline Performance (of this guess): RMSE {:,.0f}\".format(baseline_rmse))"
   ]
  },
  {
   "cell_type": "markdown",
   "id": "32a5b586",
   "metadata": {},
   "source": [
    "#### To be viable, a model has to do better than the baseline on both the training & test data sets"
   ]
  },
  {
   "cell_type": "markdown",
   "id": "aa4c6601",
   "metadata": {},
   "source": [
    "## <font color=blue>Linear Regression"
   ]
  },
  {
   "cell_type": "markdown",
   "id": "c9d64a15",
   "metadata": {},
   "source": [
    "### Train the Model"
   ]
  },
  {
   "cell_type": "code",
   "execution_count": 28,
   "id": "47598833",
   "metadata": {},
   "outputs": [
    {
     "name": "stdout",
     "output_type": "stream",
     "text": [
      "Predition Error (RMSE): 44\n"
     ]
    }
   ],
   "source": [
    "#create a linear regression model\n",
    "model=LinearRegression()\n",
    "\n",
    "#fit the model to the training data set\n",
    "model.fit(X_train, y_train)\n",
    "\n",
    "#calculated the predicted values for the training data set\n",
    "predictions = model.predict(X_train)\n",
    "\n",
    "#compare the predicted to the actuals\n",
    "rmse = mean_squared_error(y_train, predictions, squared=False)\n",
    "print(\"Predition Error (RMSE): {:,.0f}\".format(rmse))"
   ]
  },
  {
   "cell_type": "markdown",
   "id": "bc3f274c",
   "metadata": {},
   "source": [
    "### Use Cross Validation to Evaluate Model"
   ]
  },
  {
   "cell_type": "code",
   "execution_count": 29,
   "id": "238846e2",
   "metadata": {},
   "outputs": [
    {
     "name": "stdout",
     "output_type": "stream",
     "text": [
      "Cross Validation RMSE: 44\n"
     ]
    }
   ],
   "source": [
    "#run cross validation\n",
    "scores = cross_val_score(model, X_train, y_train, scoring=\"neg_root_mean_squared_error\", cv=5)\n",
    "\n",
    "#report the results\n",
    "print(\"Cross Validation RMSE: {:,.0f}\".format( -scores.mean() ) )"
   ]
  },
  {
   "cell_type": "markdown",
   "id": "da635bd8",
   "metadata": {},
   "source": [
    "### Review this model's Learning Curve"
   ]
  },
  {
   "cell_type": "code",
   "execution_count": 30,
   "id": "d7de6fc6",
   "metadata": {},
   "outputs": [
    {
     "data": {
      "image/png": "[encoded data removed]",
      "text/plain": [
       "<Figure size 720x360 with 1 Axes>"
      ]
     },
     "metadata": {
      "needs_background": "light"
     },
     "output_type": "display_data"
    }
   ],
   "source": [
    "# uses the function to plot the performance of differnt training data set sizes (x axis)\n",
    "# the training performance is typically ok to start because limited data easier to predict but harder with more data)\n",
    "# cross validataion is usually not as good to start because model learned on so little it can't handle new data \n",
    "# but over time stabilizes\n",
    "plot_learning_curve(model, X_train, y_train)"
   ]
  },
  {
   "cell_type": "markdown",
   "id": "cb5d1d8a",
   "metadata": {},
   "source": [
    "### Evaluate Model on Test Set"
   ]
  },
  {
   "cell_type": "code",
   "execution_count": 31,
   "id": "5c3be58d",
   "metadata": {},
   "outputs": [
    {
     "name": "stdout",
     "output_type": "stream",
     "text": [
      "Predition Error (RMSE): 45\n"
     ]
    }
   ],
   "source": [
    "#use the linear regression model and evaluate the test data set\n",
    "predictions = model.predict(X_test)\n",
    "\n",
    "#compare the predicted to the actuals\n",
    "rmse = mean_squared_error(y_test,predictions, squared=False)\n",
    "print(\"Predition Error (RMSE): {:,.0f}\".format(rmse))"
   ]
  },
  {
   "cell_type": "markdown",
   "id": "0c922e86",
   "metadata": {},
   "source": [
    "### Look at Feature Importance for this Model"
   ]
  },
  {
   "cell_type": "code",
   "execution_count": 32,
   "id": "78b5fdbe",
   "metadata": {
    "scrolled": true
   },
   "outputs": [
    {
     "data": {
      "text/plain": [
       "[(6.407901170186109, 'eau'),\n",
       " (4.328066423262834, 'online_only'),\n",
       " (3.468489324812353, 'cream'),\n",
       " (3.0056717230627727, 'set'),\n",
       " (2.302320496744032, 'extract'),\n",
       " (1.3756955050274706, 'rating'),\n",
       " (1.3617108317510178, 'limited_edition'),\n",
       " (1.2864470565283346, 'metha'),\n",
       " (0.5205054762271496, 'seed'),\n",
       " (0.20226435401570358, 'glycol'),\n",
       " (-1.7763568394002505e-15, 'limited_time_offer'),\n",
       " (-0.4480289333033949, 'love'),\n",
       " (-1.176924974534533, 'mask'),\n",
       " (-1.8281265912079978, 'sodium'),\n",
       " (-2.443462304696125, 'number_of_reviews'),\n",
       " (-2.5112987802307054, 'acid'),\n",
       " (-2.760334606211397, 'brush'),\n",
       " (-4.3981195801752655, 'lip'),\n",
       " (-4.781938523785883, 'oil'),\n",
       " (-6.785083037869634, 'mini'),\n",
       " (-7.509394131390888, 'exclusive')]"
      ]
     },
     "execution_count": 32,
     "metadata": {},
     "output_type": "execute_result"
    }
   ],
   "source": [
    "# for linear regression models, the coeffient of each attribute signifies its importance\n",
    "# attributes was a variable created above; model.coef_ is a detail provided by the model\n",
    "\n",
    "sorted(zip(model.coef_, attributes), reverse=True)"
   ]
  },
  {
   "cell_type": "markdown",
   "id": "bfe4f252",
   "metadata": {},
   "source": [
    "## <font color=purple>Train & Evaluate A List of Regression Model</font>"
   ]
  },
  {
   "cell_type": "code",
   "execution_count": 33,
   "id": "d2d0abc2",
   "metadata": {},
   "outputs": [
    {
     "name": "stdout",
     "output_type": "stream",
     "text": [
      "-------------------------\n",
      "LinearRegression()\n",
      " Training Error (RMSE): 44\n",
      "Average CV Error (RMSE): 44\n",
      "Standard deviation: 3\n",
      "---> 0.09 seconds\n",
      "-------------------------\n",
      "Ridge(random_state=42)\n",
      " Training Error (RMSE): 44\n",
      "Average CV Error (RMSE): 44\n",
      "Standard deviation: 3\n",
      "---> 0.05 seconds\n",
      "-------------------------\n",
      "Lasso(random_state=42)\n",
      " Training Error (RMSE): 44\n",
      "Average CV Error (RMSE): 44\n",
      "Standard deviation: 3\n",
      "---> 0.16 seconds\n",
      "-------------------------\n",
      "ElasticNet(random_state=42)\n",
      " Training Error (RMSE): 45\n",
      "Average CV Error (RMSE): 45\n",
      "Standard deviation: 3\n",
      "---> 0.12 seconds\n",
      "-------------------------\n",
      "SGDRegressor(random_state=42)\n",
      " Training Error (RMSE): 44\n",
      "Average CV Error (RMSE): 44\n",
      "Standard deviation: 3\n",
      "---> 0.21 seconds\n",
      "-------------------------\n",
      "HistGradientBoostingRegressor(random_state=42)\n",
      " Training Error (RMSE): 37\n",
      "Average CV Error (RMSE): 43\n",
      "Standard deviation: 3\n",
      "---> 27.66 seconds\n",
      "-------------------------\n",
      "KNeighborsRegressor()\n",
      " Training Error (RMSE): 37\n",
      "Average CV Error (RMSE): 45\n",
      "Standard deviation: 2\n",
      "---> 3.03 seconds\n"
     ]
    }
   ],
   "source": [
    "# feel free to comment out any models you do not wish to run (particularly the decision tree & random forest regressors)\n",
    "modelList = [LinearRegression(),\n",
    "             Ridge(random_state=42),\n",
    "             Lasso(random_state=42),\n",
    "             ElasticNet(random_state=42),\n",
    "             SGDRegressor(random_state=42),              # needs at least 10K rows\n",
    "             #ecisionTreeRegressor(random_state=42), \n",
    "             #RandomForestRegressor(random_state=42),     # most time consuming so may want to skip\n",
    "             #GradientBoostingRegressor(random_state=42), # also one of the most time consuming algorithms \n",
    "             HistGradientBoostingRegressor(random_state=42), \n",
    "             KNeighborsRegressor()\n",
    "            ]\n",
    "\n",
    "for model in modelList: \n",
    "\n",
    "    #time how long a model needs \"roughly\" to learn\n",
    "    print(\"-\"*25)\n",
    "    print(model)\n",
    "    start_time = time.time()\n",
    "    \n",
    "    #fit the model to the prepared test data\n",
    "    model.fit(X_train,y_train)\n",
    "\n",
    "    #see how well the model fits\n",
    "    #calculate the predicted values\n",
    "    predictions = model.predict(X_train)\n",
    "\n",
    "    #compare the predicted to the actuals\n",
    "    rmse = mean_squared_error(y_train, predictions, squared=False)\n",
    "    print(\" Training Error (RMSE): {:,.0f}\".format(rmse))\n",
    "    \n",
    "    #use cross valudation to process the data 5 different ways \n",
    "    scores = cross_val_score(model, X_train, y_train,\n",
    "                         scoring=\"neg_root_mean_squared_error\", cv=5)\n",
    "      \n",
    "    #calculate the average score over the 10 different cross validations\n",
    "    print(\"Average CV Error (RMSE): {:,.0f}\".format(-scores.mean()))\n",
    "    print(\"Standard deviation: {:,.0f}\".format( scores.std() ) )\n",
    "    \n",
    "    print(\"---> {:,.2f} seconds\".format(time.time() - start_time))"
   ]
  },
  {
   "cell_type": "markdown",
   "id": "63da3098",
   "metadata": {
    "tags": []
   },
   "source": [
    "## <font color=purple>Take Best Model and Tune using GridSearch</font> "
   ]
  },
  {
   "cell_type": "code",
   "execution_count": 41,
   "id": "f854fa7d",
   "metadata": {},
   "outputs": [
    {
     "data": {
      "text/html": [
       "<style>#sk-770c742d-300e-4136-8906-829eb0ff4463 {color: black;background-color: white;}#sk-770c742d-300e-4136-8906-829eb0ff4463 pre{padding: 0;}#sk-770c742d-300e-4136-8906-829eb0ff4463 div.sk-toggleable {background-color: white;}#sk-770c742d-300e-4136-8906-829eb0ff4463 label.sk-toggleable__label {cursor: pointer;display: block;width: 100%;margin-bottom: 0;padding: 0.3em;box-sizing: border-box;text-align: center;}#sk-770c742d-300e-4136-8906-829eb0ff4463 label.sk-toggleable__label-arrow:before {content: \"▸\";float: left;margin-right: 0.25em;color: #696969;}#sk-770c742d-300e-4136-8906-829eb0ff4463 label.sk-toggleable__label-arrow:hover:before {color: black;}#sk-770c742d-300e-4136-8906-829eb0ff4463 div.sk-estimator:hover label.sk-toggleable__label-arrow:before {color: black;}#sk-770c742d-300e-4136-8906-829eb0ff4463 div.sk-toggleable__content {max-height: 0;max-width: 0;overflow: hidden;text-align: left;background-color: #f0f8ff;}#sk-770c742d-300e-4136-8906-829eb0ff4463 div.sk-toggleable__content pre {margin: 0.2em;color: black;border-radius: 0.25em;background-color: #f0f8ff;}#sk-770c742d-300e-4136-8906-829eb0ff4463 input.sk-toggleable__control:checked~div.sk-toggleable__content {max-height: 200px;max-width: 100%;overflow: auto;}#sk-770c742d-300e-4136-8906-829eb0ff4463 input.sk-toggleable__control:checked~label.sk-toggleable__label-arrow:before {content: \"▾\";}#sk-770c742d-300e-4136-8906-829eb0ff4463 div.sk-estimator input.sk-toggleable__control:checked~label.sk-toggleable__label {background-color: #d4ebff;}#sk-770c742d-300e-4136-8906-829eb0ff4463 div.sk-label input.sk-toggleable__control:checked~label.sk-toggleable__label {background-color: #d4ebff;}#sk-770c742d-300e-4136-8906-829eb0ff4463 input.sk-hidden--visually {border: 0;clip: rect(1px 1px 1px 1px);clip: rect(1px, 1px, 1px, 1px);height: 1px;margin: -1px;overflow: hidden;padding: 0;position: absolute;width: 1px;}#sk-770c742d-300e-4136-8906-829eb0ff4463 div.sk-estimator {font-family: monospace;background-color: #f0f8ff;border: 1px dotted black;border-radius: 0.25em;box-sizing: border-box;margin-bottom: 0.5em;}#sk-770c742d-300e-4136-8906-829eb0ff4463 div.sk-estimator:hover {background-color: #d4ebff;}#sk-770c742d-300e-4136-8906-829eb0ff4463 div.sk-parallel-item::after {content: \"\";width: 100%;border-bottom: 1px solid gray;flex-grow: 1;}#sk-770c742d-300e-4136-8906-829eb0ff4463 div.sk-label:hover label.sk-toggleable__label {background-color: #d4ebff;}#sk-770c742d-300e-4136-8906-829eb0ff4463 div.sk-serial::before {content: \"\";position: absolute;border-left: 1px solid gray;box-sizing: border-box;top: 2em;bottom: 0;left: 50%;}#sk-770c742d-300e-4136-8906-829eb0ff4463 div.sk-serial {display: flex;flex-direction: column;align-items: center;background-color: white;padding-right: 0.2em;padding-left: 0.2em;}#sk-770c742d-300e-4136-8906-829eb0ff4463 div.sk-item {z-index: 1;}#sk-770c742d-300e-4136-8906-829eb0ff4463 div.sk-parallel {display: flex;align-items: stretch;justify-content: center;background-color: white;}#sk-770c742d-300e-4136-8906-829eb0ff4463 div.sk-parallel::before {content: \"\";position: absolute;border-left: 1px solid gray;box-sizing: border-box;top: 2em;bottom: 0;left: 50%;}#sk-770c742d-300e-4136-8906-829eb0ff4463 div.sk-parallel-item {display: flex;flex-direction: column;position: relative;background-color: white;}#sk-770c742d-300e-4136-8906-829eb0ff4463 div.sk-parallel-item:first-child::after {align-self: flex-end;width: 50%;}#sk-770c742d-300e-4136-8906-829eb0ff4463 div.sk-parallel-item:last-child::after {align-self: flex-start;width: 50%;}#sk-770c742d-300e-4136-8906-829eb0ff4463 div.sk-parallel-item:only-child::after {width: 0;}#sk-770c742d-300e-4136-8906-829eb0ff4463 div.sk-dashed-wrapped {border: 1px dashed gray;margin: 0 0.4em 0.5em 0.4em;box-sizing: border-box;padding-bottom: 0.4em;background-color: white;position: relative;}#sk-770c742d-300e-4136-8906-829eb0ff4463 div.sk-label label {font-family: monospace;font-weight: bold;background-color: white;display: inline-block;line-height: 1.2em;}#sk-770c742d-300e-4136-8906-829eb0ff4463 div.sk-label-container {position: relative;z-index: 2;text-align: center;}#sk-770c742d-300e-4136-8906-829eb0ff4463 div.sk-container {/* jupyter's `normalize.less` sets `[hidden] { display: none; }` but bootstrap.min.css set `[hidden] { display: none !important; }` so we also need the `!important` here to be able to override the default hidden behavior on the sphinx rendered scikit-learn.org. See: https://github.com/scikit-learn/scikit-learn/issues/21755 */display: inline-block !important;position: relative;}#sk-770c742d-300e-4136-8906-829eb0ff4463 div.sk-text-repr-fallback {display: none;}</style><div id=\"sk-770c742d-300e-4136-8906-829eb0ff4463\" class=\"sk-top-container\"><div class=\"sk-text-repr-fallback\"><pre>GridSearchCV(cv=5, estimator=HistGradientBoostingRegressor(random_state=42),\n",
       "             param_grid=[{&#x27;l2_regularization&#x27;: [0], &#x27;learning_rate&#x27;: [0.05],\n",
       "                          &#x27;max_iter&#x27;: [100]}],\n",
       "             return_train_score=True, scoring=&#x27;neg_root_mean_squared_error&#x27;)</pre><b>Please rerun this cell to show the HTML repr or trust the notebook.</b></div><div class=\"sk-container\" hidden><div class=\"sk-item sk-dashed-wrapped\"><div class=\"sk-label-container\"><div class=\"sk-label sk-toggleable\"><input class=\"sk-toggleable__control sk-hidden--visually\" id=\"96b93bf5-1c4c-4534-8e57-020f884146a1\" type=\"checkbox\" ><label for=\"96b93bf5-1c4c-4534-8e57-020f884146a1\" class=\"sk-toggleable__label sk-toggleable__label-arrow\">GridSearchCV</label><div class=\"sk-toggleable__content\"><pre>GridSearchCV(cv=5, estimator=HistGradientBoostingRegressor(random_state=42),\n",
       "             param_grid=[{&#x27;l2_regularization&#x27;: [0], &#x27;learning_rate&#x27;: [0.05],\n",
       "                          &#x27;max_iter&#x27;: [100]}],\n",
       "             return_train_score=True, scoring=&#x27;neg_root_mean_squared_error&#x27;)</pre></div></div></div><div class=\"sk-parallel\"><div class=\"sk-parallel-item\"><div class=\"sk-item\"><div class=\"sk-serial\"><div class=\"sk-item\"><div class=\"sk-estimator sk-toggleable\"><input class=\"sk-toggleable__control sk-hidden--visually\" id=\"ccf64236-4120-41df-b35a-8b5e55b59794\" type=\"checkbox\" ><label for=\"ccf64236-4120-41df-b35a-8b5e55b59794\" class=\"sk-toggleable__label sk-toggleable__label-arrow\">HistGradientBoostingRegressor</label><div class=\"sk-toggleable__content\"><pre>HistGradientBoostingRegressor(random_state=42)</pre></div></div></div></div></div></div></div></div></div></div>"
      ],
      "text/plain": [
       "GridSearchCV(cv=5, estimator=HistGradientBoostingRegressor(random_state=42),\n",
       "             param_grid=[{'l2_regularization': [0], 'learning_rate': [0.05],\n",
       "                          'max_iter': [100]}],\n",
       "             return_train_score=True, scoring='neg_root_mean_squared_error')"
      ]
     },
     "execution_count": 41,
     "metadata": {},
     "output_type": "execute_result"
    }
   ],
   "source": [
    "# create a new Random Forest Regressor \n",
    "model = HistGradientBoostingRegressor( random_state=42 )\n",
    "\n",
    "#create a parameter grid that determines the variable hyperparameters\n",
    "param_grid = [   \n",
    "    {'learning_rate': [.05], \n",
    "     'max_iter': [100],         #will add to processing time if allowing for more than normal iterations\n",
    "     'l2_regularization': [0]\n",
    "    }\n",
    "]\n",
    "\n",
    "# train across 5 folds\n",
    "grid_search = GridSearchCV(model, param_grid, cv=5,\n",
    "                           scoring='neg_root_mean_squared_error',\n",
    "                           return_train_score=True)\n",
    "\n",
    "#fit the model to the data\n",
    "grid_search.fit(X_train, y_train)"
   ]
  },
  {
   "cell_type": "code",
   "execution_count": 42,
   "id": "c3dae76a",
   "metadata": {},
   "outputs": [
    {
     "name": "stdout",
     "output_type": "stream",
     "text": [
      "          42.55 - {'l2_regularization': 0, 'learning_rate': 0.05, 'max_iter': 100}\n"
     ]
    }
   ],
   "source": [
    "#let's look at the score of each hyperparameter combination tested during the grid search\n",
    "cvres = grid_search.cv_results_\n",
    "for mean_score, params in zip(cvres[\"mean_test_score\"], cvres[\"params\"]):\n",
    "    print('{:15,.2f} - {}'.format(-mean_score, params))"
   ]
  },
  {
   "cell_type": "code",
   "execution_count": 43,
   "id": "58feed89",
   "metadata": {},
   "outputs": [
    {
     "data": {
      "text/plain": [
       "{'l2_regularization': 0, 'learning_rate': 0.05, 'max_iter': 100}"
      ]
     },
     "execution_count": 43,
     "metadata": {},
     "output_type": "execute_result"
    }
   ],
   "source": [
    "#display the parameters with the best solution (lowest score)\n",
    "grid_search.best_params_"
   ]
  },
  {
   "cell_type": "code",
   "execution_count": 44,
   "id": "970dec3e",
   "metadata": {},
   "outputs": [
    {
     "data": {
      "text/html": [
       "<style>#sk-bd394e33-e7d3-4e57-a26e-c5732e9aff70 {color: black;background-color: white;}#sk-bd394e33-e7d3-4e57-a26e-c5732e9aff70 pre{padding: 0;}#sk-bd394e33-e7d3-4e57-a26e-c5732e9aff70 div.sk-toggleable {background-color: white;}#sk-bd394e33-e7d3-4e57-a26e-c5732e9aff70 label.sk-toggleable__label {cursor: pointer;display: block;width: 100%;margin-bottom: 0;padding: 0.3em;box-sizing: border-box;text-align: center;}#sk-bd394e33-e7d3-4e57-a26e-c5732e9aff70 label.sk-toggleable__label-arrow:before {content: \"▸\";float: left;margin-right: 0.25em;color: #696969;}#sk-bd394e33-e7d3-4e57-a26e-c5732e9aff70 label.sk-toggleable__label-arrow:hover:before {color: black;}#sk-bd394e33-e7d3-4e57-a26e-c5732e9aff70 div.sk-estimator:hover label.sk-toggleable__label-arrow:before {color: black;}#sk-bd394e33-e7d3-4e57-a26e-c5732e9aff70 div.sk-toggleable__content {max-height: 0;max-width: 0;overflow: hidden;text-align: left;background-color: #f0f8ff;}#sk-bd394e33-e7d3-4e57-a26e-c5732e9aff70 div.sk-toggleable__content pre {margin: 0.2em;color: black;border-radius: 0.25em;background-color: #f0f8ff;}#sk-bd394e33-e7d3-4e57-a26e-c5732e9aff70 input.sk-toggleable__control:checked~div.sk-toggleable__content {max-height: 200px;max-width: 100%;overflow: auto;}#sk-bd394e33-e7d3-4e57-a26e-c5732e9aff70 input.sk-toggleable__control:checked~label.sk-toggleable__label-arrow:before {content: \"▾\";}#sk-bd394e33-e7d3-4e57-a26e-c5732e9aff70 div.sk-estimator input.sk-toggleable__control:checked~label.sk-toggleable__label {background-color: #d4ebff;}#sk-bd394e33-e7d3-4e57-a26e-c5732e9aff70 div.sk-label input.sk-toggleable__control:checked~label.sk-toggleable__label {background-color: #d4ebff;}#sk-bd394e33-e7d3-4e57-a26e-c5732e9aff70 input.sk-hidden--visually {border: 0;clip: rect(1px 1px 1px 1px);clip: rect(1px, 1px, 1px, 1px);height: 1px;margin: -1px;overflow: hidden;padding: 0;position: absolute;width: 1px;}#sk-bd394e33-e7d3-4e57-a26e-c5732e9aff70 div.sk-estimator {font-family: monospace;background-color: #f0f8ff;border: 1px dotted black;border-radius: 0.25em;box-sizing: border-box;margin-bottom: 0.5em;}#sk-bd394e33-e7d3-4e57-a26e-c5732e9aff70 div.sk-estimator:hover {background-color: #d4ebff;}#sk-bd394e33-e7d3-4e57-a26e-c5732e9aff70 div.sk-parallel-item::after {content: \"\";width: 100%;border-bottom: 1px solid gray;flex-grow: 1;}#sk-bd394e33-e7d3-4e57-a26e-c5732e9aff70 div.sk-label:hover label.sk-toggleable__label {background-color: #d4ebff;}#sk-bd394e33-e7d3-4e57-a26e-c5732e9aff70 div.sk-serial::before {content: \"\";position: absolute;border-left: 1px solid gray;box-sizing: border-box;top: 2em;bottom: 0;left: 50%;}#sk-bd394e33-e7d3-4e57-a26e-c5732e9aff70 div.sk-serial {display: flex;flex-direction: column;align-items: center;background-color: white;padding-right: 0.2em;padding-left: 0.2em;}#sk-bd394e33-e7d3-4e57-a26e-c5732e9aff70 div.sk-item {z-index: 1;}#sk-bd394e33-e7d3-4e57-a26e-c5732e9aff70 div.sk-parallel {display: flex;align-items: stretch;justify-content: center;background-color: white;}#sk-bd394e33-e7d3-4e57-a26e-c5732e9aff70 div.sk-parallel::before {content: \"\";position: absolute;border-left: 1px solid gray;box-sizing: border-box;top: 2em;bottom: 0;left: 50%;}#sk-bd394e33-e7d3-4e57-a26e-c5732e9aff70 div.sk-parallel-item {display: flex;flex-direction: column;position: relative;background-color: white;}#sk-bd394e33-e7d3-4e57-a26e-c5732e9aff70 div.sk-parallel-item:first-child::after {align-self: flex-end;width: 50%;}#sk-bd394e33-e7d3-4e57-a26e-c5732e9aff70 div.sk-parallel-item:last-child::after {align-self: flex-start;width: 50%;}#sk-bd394e33-e7d3-4e57-a26e-c5732e9aff70 div.sk-parallel-item:only-child::after {width: 0;}#sk-bd394e33-e7d3-4e57-a26e-c5732e9aff70 div.sk-dashed-wrapped {border: 1px dashed gray;margin: 0 0.4em 0.5em 0.4em;box-sizing: border-box;padding-bottom: 0.4em;background-color: white;position: relative;}#sk-bd394e33-e7d3-4e57-a26e-c5732e9aff70 div.sk-label label {font-family: monospace;font-weight: bold;background-color: white;display: inline-block;line-height: 1.2em;}#sk-bd394e33-e7d3-4e57-a26e-c5732e9aff70 div.sk-label-container {position: relative;z-index: 2;text-align: center;}#sk-bd394e33-e7d3-4e57-a26e-c5732e9aff70 div.sk-container {/* jupyter's `normalize.less` sets `[hidden] { display: none; }` but bootstrap.min.css set `[hidden] { display: none !important; }` so we also need the `!important` here to be able to override the default hidden behavior on the sphinx rendered scikit-learn.org. See: https://github.com/scikit-learn/scikit-learn/issues/21755 */display: inline-block !important;position: relative;}#sk-bd394e33-e7d3-4e57-a26e-c5732e9aff70 div.sk-text-repr-fallback {display: none;}</style><div id=\"sk-bd394e33-e7d3-4e57-a26e-c5732e9aff70\" class=\"sk-top-container\"><div class=\"sk-text-repr-fallback\"><pre>HistGradientBoostingRegressor(l2_regularization=0, learning_rate=0.05,\n",
       "                              random_state=42)</pre><b>Please rerun this cell to show the HTML repr or trust the notebook.</b></div><div class=\"sk-container\" hidden><div class=\"sk-item\"><div class=\"sk-estimator sk-toggleable\"><input class=\"sk-toggleable__control sk-hidden--visually\" id=\"6c362cdc-97dc-4c18-b6fc-147f69f22ee8\" type=\"checkbox\" checked><label for=\"6c362cdc-97dc-4c18-b6fc-147f69f22ee8\" class=\"sk-toggleable__label sk-toggleable__label-arrow\">HistGradientBoostingRegressor</label><div class=\"sk-toggleable__content\"><pre>HistGradientBoostingRegressor(l2_regularization=0, learning_rate=0.05,\n",
       "                              random_state=42)</pre></div></div></div></div></div>"
      ],
      "text/plain": [
       "HistGradientBoostingRegressor(l2_regularization=0, learning_rate=0.05,\n",
       "                              random_state=42)"
      ]
     },
     "execution_count": 44,
     "metadata": {},
     "output_type": "execute_result"
    }
   ],
   "source": [
    "#display the best model and its parameters (similar to above but not in dictionary format)\n",
    "grid_search.best_estimator_"
   ]
  },
  {
   "cell_type": "markdown",
   "id": "3f82fc96",
   "metadata": {},
   "source": [
    "### Confirm that Tuning Produces a Better Result"
   ]
  },
  {
   "cell_type": "code",
   "execution_count": 45,
   "id": "1d324179",
   "metadata": {},
   "outputs": [
    {
     "data": {
      "text/plain": [
       "array([-41.28776776, -43.16678994, -39.49615506, -47.6362129 ,\n",
       "       -41.13971942])"
      ]
     },
     "execution_count": 45,
     "metadata": {},
     "output_type": "execute_result"
    }
   ],
   "source": [
    "#taking the best model so far and making it our final model\n",
    "model = grid_search.best_estimator_\n",
    "\n",
    "scores = cross_val_score(model, X_train, y_train,\n",
    "                         scoring=\"neg_root_mean_squared_error\", cv=5)\n",
    "\n",
    "# look at the results of each fold\n",
    "scores"
   ]
  },
  {
   "cell_type": "code",
   "execution_count": 46,
   "id": "046e5c58",
   "metadata": {},
   "outputs": [
    {
     "name": "stdout",
     "output_type": "stream",
     "text": [
      "Average of RMSE across folds: 43\n",
      "Standard deviation: 3\n"
     ]
    }
   ],
   "source": [
    "print(\"Average of RMSE across folds: {:,.0f}\".format(-scores.mean()))\n",
    "print(\"Standard deviation: {:,.0f}\".format( scores.std() ) )"
   ]
  },
  {
   "cell_type": "markdown",
   "id": "d571b557",
   "metadata": {},
   "source": [
    "### Review Learning Curve"
   ]
  },
  {
   "cell_type": "code",
   "execution_count": 47,
   "id": "23df9e40",
   "metadata": {},
   "outputs": [
    {
     "data": {
      "image/png": "[encoded data removed]",
      "text/plain": [
       "<Figure size 720x360 with 1 Axes>"
      ]
     },
     "metadata": {
      "needs_background": "light"
     },
     "output_type": "display_data"
    }
   ],
   "source": [
    "plot_learning_curve(model, X_train, y_train)"
   ]
  },
  {
   "cell_type": "markdown",
   "id": "038ddc15",
   "metadata": {
    "tags": []
   },
   "source": [
    "### Evaluate on the Test Set"
   ]
  },
  {
   "cell_type": "code",
   "execution_count": 48,
   "id": "f799a34c",
   "metadata": {},
   "outputs": [
    {
     "name": "stdout",
     "output_type": "stream",
     "text": [
      "TEST Predition Error (RMSE): 42\n"
     ]
    }
   ],
   "source": [
    "#predict the test data set\n",
    "predictions = model.predict(X_test)\n",
    "\n",
    "#measure performance\n",
    "rmse = mean_squared_error(y_test, predictions, squared=False)\n",
    "print(\"TEST Predition Error (RMSE): {:,.0f}\".format(rmse))"
   ]
  },
  {
   "cell_type": "code",
   "execution_count": 49,
   "id": "fd7e827f",
   "metadata": {},
   "outputs": [
    {
     "name": "stdout",
     "output_type": "stream",
     "text": [
      "95% Confidence Intervals: 37.64 -- 46.69\n"
     ]
    }
   ],
   "source": [
    "#We can compute a 95% confidence interval for the test RMSE\n",
    "confidence = 0.95\n",
    "squared_errors = (predictions - y_test) ** 2\n",
    "confidence_interval = np.sqrt(stats.t.interval(confidence, len(squared_errors) - 1, \n",
    "                                               loc=squared_errors.mean(), scale=stats.sem(squared_errors)))\n",
    "print( \"{:.0f}% Confidence Intervals: {:,.2f} -- {:,.2f}\".format(confidence*100, confidence_interval[0], confidence_interval[1]) )"
   ]
  },
  {
   "cell_type": "markdown",
   "id": "3e90a3dc",
   "metadata": {},
   "source": [
    "# Predictions"
   ]
  },
  {
   "cell_type": "code",
   "execution_count": 51,
   "id": "215f2e74",
   "metadata": {},
   "outputs": [
    {
     "data": {
      "text/plain": [
       "array([37.79395161, 61.52776331, 45.89496927])"
      ]
     },
     "execution_count": 51,
     "metadata": {},
     "output_type": "execute_result"
    }
   ],
   "source": [
    "X_prepared=full_pipeline.transform(toPredict)\n",
    "model.predict(X_prepared)"
   ]
  },
  {
   "cell_type": "markdown",
   "id": "51460f5b",
   "metadata": {
    "tags": []
   },
   "source": [
    "# <font color=purple>Add Complexity using PolynomialFeatures"
   ]
  },
  {
   "cell_type": "code",
   "execution_count": null,
   "id": "02d08208",
   "metadata": {},
   "outputs": [],
   "source": [
    "#review the current shape of our training set\n",
    "X_train.shape"
   ]
  },
  {
   "cell_type": "markdown",
   "id": "7f0e0d53",
   "metadata": {},
   "source": [
    "### Add Complexity using Polynomial Features"
   ]
  },
  {
   "cell_type": "code",
   "execution_count": null,
   "id": "a3072650",
   "metadata": {},
   "outputs": [],
   "source": [
    "#try making a linear model fit data that is more likely non-linear\n",
    "DEGREE = 2\n",
    "\n",
    "#create a polynomial feature with degree based on variable DEGREE\n",
    "poly_features=PolynomialFeatures(degree=DEGREE)\n",
    "\n",
    "#transform our X by adding the square of each feature to the training set\n",
    "X_train_poly = poly_features.fit_transform(X_train)\n",
    "X_test_poly = poly_features.transform(X_test)\n",
    "\n",
    "X_train_poly.shape, X_test_poly.shape"
   ]
  },
  {
   "cell_type": "markdown",
   "id": "c1f905cb",
   "metadata": {},
   "source": [
    "## <font color=purple>Evaluate A List of Models with Polynomial Features~ "
   ]
  },
  {
   "cell_type": "code",
   "execution_count": null,
   "id": "b01975be",
   "metadata": {},
   "outputs": [],
   "source": [
    "# feel free to comment out any models you do not wish to run \n",
    "modelList = [LinearRegression(),\n",
    "             Ridge(random_state=42),\n",
    "             Lasso(random_state=42),\n",
    "             ElasticNet(random_state=42),\n",
    "             SGDRegressor(random_state=42)\n",
    "            ]\n",
    "\n",
    "for model in modelList: \n",
    "\n",
    "    #time how long a model needs \"roughly\" to learn\n",
    "    print(\"-\"*25)\n",
    "    print(model)\n",
    "    start_time = time.time()\n",
    "    \n",
    "    #fit the model to the prepared test data\n",
    "    model.fit(X_train_poly,y_train)\n",
    "\n",
    "    #see how well the model fits\n",
    "    #calculate the predicted values\n",
    "    predictions = model.predict(X_train_poly)\n",
    "\n",
    "    #compare the predicted to the actuals\n",
    "    rmse = mean_squared_error(y_train, predictions, squared=False)\n",
    "    print(\"Prediction Error (RMSE): {:,.0f}\".format(rmse))\n",
    "    \n",
    "    #use cross valudation to process the data 5 different ways \n",
    "    scores = cross_val_score(model, X_train_poly, y_train,\n",
    "                         scoring=\"neg_root_mean_squared_error\", cv=5)\n",
    "    \n",
    "    #calculate the average score over the 10 different cross validations\n",
    "    print(\"Average CV Error (RMSE): {:,.0f}\".format(-scores.mean()))\n",
    "    print(\"Standard deviation: {:,.0f}\".format( scores.std() ) )\n",
    "    \n",
    "    print(\"---> {:,.2f} seconds\".format(time.time() - start_time))"
   ]
  },
  {
   "cell_type": "markdown",
   "id": "38e0ddff",
   "metadata": {
    "tags": []
   },
   "source": [
    "## <font color=purple>Take Best Model and Tune using GridSearch</font>"
   ]
  },
  {
   "cell_type": "code",
   "execution_count": null,
   "id": "d568b84a",
   "metadata": {},
   "outputs": [],
   "source": [
    "# create a new Random Forest Regressor \n",
    "model = Ridge( random_state=42 )\n",
    "\n",
    "#create a parameter grid that determines the variable hyperparameters\n",
    "param_grid = [   \n",
    "    {'alpha': [1, 1.5, 2], \n",
    "     'tol': [.01, .001], \n",
    "     'solver': ['auto', 'svd', 'cholesky', 'lsqr', 'sparse_cg', 'sag', 'saga'] \n",
    "    }]\n",
    "\n",
    "# train across 5 folds\n",
    "grid_search = GridSearchCV(model, param_grid, cv=5,\n",
    "                           scoring='neg_root_mean_squared_error',\n",
    "                           return_train_score=True)\n",
    "\n",
    "#fit the model to the data\n",
    "grid_search.fit(X_train_poly, y_train)"
   ]
  },
  {
   "cell_type": "code",
   "execution_count": null,
   "id": "1a8edcb2",
   "metadata": {},
   "outputs": [],
   "source": [
    "#let's look at the score of each hyperparameter combination tested during the grid search\n",
    "cvres = grid_search.cv_results_\n",
    "for mean_score, params in zip(cvres[\"mean_test_score\"], cvres[\"params\"]):\n",
    "    print('{:,.2f} - {}'.format(-mean_score, params))"
   ]
  },
  {
   "cell_type": "code",
   "execution_count": null,
   "id": "0f2b44b6",
   "metadata": {},
   "outputs": [],
   "source": [
    "#display the parameters with the best solution (lowest score)\n",
    "grid_search.best_params_"
   ]
  },
  {
   "cell_type": "code",
   "execution_count": null,
   "id": "350df227",
   "metadata": {},
   "outputs": [],
   "source": [
    "#display the best model and its parameters (similar to above but not in dictionary format)\n",
    "grid_search.best_estimator_"
   ]
  },
  {
   "cell_type": "markdown",
   "id": "92185586",
   "metadata": {},
   "source": [
    "### Confirm that Tuning Produces a Better Result"
   ]
  },
  {
   "cell_type": "code",
   "execution_count": null,
   "id": "a7bbf0db",
   "metadata": {},
   "outputs": [],
   "source": [
    "#taking the best model so far and making it our final model\n",
    "model = grid_search.best_estimator_\n",
    "scores = cross_val_score(model, X_train_poly, y_train,\n",
    "                         scoring=\"neg_root_mean_squared_error\", cv=5)\n",
    "\n",
    "# look at the results of each fold\n",
    "scores"
   ]
  },
  {
   "cell_type": "code",
   "execution_count": null,
   "id": "775120a8",
   "metadata": {},
   "outputs": [],
   "source": [
    "print(\"Average of RMSE across folds: {:,.0f}\".format(-scores.mean()))\n",
    "print(\"Standard deviation: {:,.0f}\".format( scores.std() ) )"
   ]
  },
  {
   "cell_type": "markdown",
   "id": "07fbba91",
   "metadata": {
    "tags": []
   },
   "source": [
    "### Evaluate on the Test Set"
   ]
  },
  {
   "cell_type": "code",
   "execution_count": null,
   "id": "4da61e37",
   "metadata": {},
   "outputs": [],
   "source": [
    "#predict the test data set\n",
    "predictions = model.predict(X_test_poly)\n",
    "\n",
    "#measure performance\n",
    "rmse = mean_squared_error(y_test, predictions, squared=False)\n",
    "print(\"TEST Predition Error (RMSE): {:,.0f}\".format(rmse))"
   ]
  },
  {
   "cell_type": "code",
   "execution_count": null,
   "id": "3a6825e5",
   "metadata": {},
   "outputs": [],
   "source": [
    "#We can compute a 95% confidence interval for the test RMSE\n",
    "confidence = 0.95\n",
    "squared_errors = (predictions - y_test) ** 2\n",
    "confidence_interval = np.sqrt(stats.t.interval(confidence, len(squared_errors) - 1, \n",
    "                                               loc=squared_errors.mean(), scale=stats.sem(squared_errors)))\n",
    "print( \"{:.0f}% Confidence Intervals: {:,.2f} -- {:,.2f}\".format(confidence*100, confidence_interval[0], confidence_interval[1]) )"
   ]
  },
  {
   "cell_type": "markdown",
   "id": "8c90b49a",
   "metadata": {},
   "source": [
    "### Review Learning Curve"
   ]
  },
  {
   "cell_type": "code",
   "execution_count": null,
   "id": "c93904ca",
   "metadata": {},
   "outputs": [],
   "source": [
    "plot_learning_curve(model, X_train_poly, y_train)"
   ]
  }
 ],
 "metadata": {
  "kernelspec": {
   "display_name": "Python 3 (ipykernel)",
   "language": "python",
   "name": "python3"
  },
  "language_info": {
   "codemirror_mode": {
    "name": "ipython",
    "version": 3
   },
   "file_extension": ".py",
   "mimetype": "text/x-python",
   "name": "python",
   "nbconvert_exporter": "python",
   "pygments_lexer": "ipython3",
   "version": "3.9.12"
  }
 },
 "nbformat": 4,
 "nbformat_minor": 5
}
